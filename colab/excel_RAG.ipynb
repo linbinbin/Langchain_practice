{
  "nbformat": 4,
  "nbformat_minor": 0,
  "metadata": {
    "colab": {
      "provenance": []
    },
    "kernelspec": {
      "name": "python3",
      "display_name": "Python 3"
    },
    "language_info": {
      "name": "python"
    }
  },
  "cells": [
    {
      "cell_type": "markdown",
      "source": [
        "- このノートブックの内容は2024年5月時点の [LangChain 公式ドキュメント](https://python.langchain.com/v0.1/docs/get_started/introduction)に依拠しています。\n",
        "- 事前に社内規定PDFを概要欄リンクからダウンロードし、動画内の説明に従ってアップロードしておいてください。"
      ],
      "metadata": {
        "id": "8nqG8pJV5yVP"
      }
    },
    {
      "cell_type": "markdown",
      "source": [
        "## 準備：API キーの設定"
      ],
      "metadata": {
        "id": "gL0NPf97v8i3"
      }
    },
    {
      "cell_type": "code",
      "source": [
        "!pip install -q openai\n",
        "!pip install -q pypdf\n",
        "!pip install -q langchain\n",
        "!pip install -q langchain-openai\n",
        "!pip install -q langchain-chroma\n",
        "!pip install -q docx2txt\n",
        "!pip install -q langchain_community\n",
        "!pip install unstructured"
      ],
      "metadata": {
        "id": "ywggm4O7BvxP",
        "colab": {
          "base_uri": "https://localhost:8080/"
        },
        "outputId": "e4cc86bb-bcf9-4273-8085-70c9f6ea5475"
      },
      "execution_count": 6,
      "outputs": [
        {
          "output_type": "stream",
          "name": "stdout",
          "text": [
            "\u001b[2K     \u001b[90m━━━━━━━━━━━━━━━━━━━━━━━━━━━━━━━━━━━━━━━━\u001b[0m \u001b[32m2.2/2.2 MB\u001b[0m \u001b[31m11.3 MB/s\u001b[0m eta \u001b[36m0:00:00\u001b[0m\n",
            "\u001b[2K     \u001b[90m━━━━━━━━━━━━━━━━━━━━━━━━━━━━━━━━━━━━━━━━\u001b[0m \u001b[32m49.2/49.2 kB\u001b[0m \u001b[31m6.1 MB/s\u001b[0m eta \u001b[36m0:00:00\u001b[0m\n",
            "\u001b[?25h"
          ]
        }
      ]
    },
    {
      "cell_type": "code",
      "source": [
        "\n",
        "from google.colab import userdata\n",
        "import openai\n",
        "\n",
        "# OPENAI_API_KEY を取得\n",
        "openai.api_key = userdata.get('OPENAI_API_KEY')"
      ],
      "metadata": {
        "id": "IsWGZ4D_v_-T"
      },
      "execution_count": null,
      "outputs": []
    },
    {
      "cell_type": "code",
      "source": [
        "import os\n",
        "\n",
        "os.environ['OPENAI_API_KEY'] = openai.api_key"
      ],
      "metadata": {
        "id": "Wge3R3gh0G3p"
      },
      "execution_count": null,
      "outputs": []
    },
    {
      "cell_type": "markdown",
      "source": [
        "# RAG（LLM の知識拡張）\n",
        "RAG を活用することで、LLM は学習データに含まれない知識を得ることができます。\n",
        "\n",
        "参照用データとしては、現在 LangChain は以下に対応しています：\n",
        "- .txt\n",
        "- .csv\n",
        "- .html\n",
        "- .json\n",
        "- .md\n",
        "- .pdf\n",
        "- MS Office ファイル\n",
        "\n",
        "今回は PDF からの知識抽出を試してみましょう。"
      ],
      "metadata": {
        "id": "oOPYy7ZF4ecR"
      }
    },
    {
      "cell_type": "code",
      "source": [
        "#from langchain_community.document_loaders import PyPDFDirectoryLoader\n",
        "#from langchain_community.document_loaders import UnstructuredWordDocumentLoader\n",
        "#from langchain_community.document_loaders import Docx2txtLoader\n",
        "from langchain_community.document_loaders import UnstructuredExcelLoader\n",
        "#loader = Docx2txtLoader(\"docx/example.docx\")\n",
        "loader = UnstructuredExcelLoader(\"excel/example.xlsx\", mode=\"elements\")\n",
        "data = loader.load()\n",
        "data[0]\n"
      ],
      "metadata": {
        "id": "MtbYvExb4eFF"
      },
      "execution_count": null,
      "outputs": []
    },
    {
      "cell_type": "code",
      "source": [
        "data"
      ],
      "metadata": {
        "id": "wNtjSwV26Mp9"
      },
      "execution_count": null,
      "outputs": []
    },
    {
      "cell_type": "markdown",
      "source": [
        "## 文埋め込みと類似文書検索"
      ],
      "metadata": {
        "id": "NLmZnZxe7Ok4"
      }
    },
    {
      "cell_type": "code",
      "source": [
        "from langchain_openai import OpenAIEmbeddings"
      ],
      "metadata": {
        "id": "XWZhha6C681D"
      },
      "execution_count": 10,
      "outputs": []
    },
    {
      "cell_type": "code",
      "source": [
        "embeddings_model = OpenAIEmbeddings(model=\"text-embedding-3-small\")"
      ],
      "metadata": {
        "id": "bYX0gWez8QPW"
      },
      "execution_count": 11,
      "outputs": []
    },
    {
      "cell_type": "code",
      "source": [
        "from langchain_chroma import Chroma"
      ],
      "metadata": {
        "id": "PjGafeoL7YzJ"
      },
      "execution_count": 12,
      "outputs": []
    },
    {
      "cell_type": "code",
      "source": [
        "from langchain_community.vectorstores.utils import filter_complex_metadata\n",
        "data = filter_complex_metadata(data)\n",
        "# ベクトルデータベースを作る\n",
        "db = Chroma.from_documents(data, embeddings_model)"
      ],
      "metadata": {
        "id": "pHJ00e287reR"
      },
      "execution_count": 14,
      "outputs": []
    },
    {
      "cell_type": "code",
      "source": [
        "# 抽出器を作る\n",
        "retriever = db.as_retriever(search_type=\"similarity\", search_kwargs={\"k\":1})"
      ],
      "metadata": {
        "id": "D2PD3qW4ZcM2"
      },
      "execution_count": 15,
      "outputs": []
    },
    {
      "cell_type": "code",
      "source": [
        "query = \"新旧比較テストは？\"\n",
        "\n",
        "retriever.invoke(query)"
      ],
      "metadata": {
        "id": "5d_eYDmb7-b1",
        "collapsed": true
      },
      "execution_count": null,
      "outputs": []
    },
    {
      "cell_type": "markdown",
      "source": [
        "## Retrieval を活用したチャットモデルの制御"
      ],
      "metadata": {
        "id": "3C5uPDm0_g-u"
      }
    },
    {
      "cell_type": "markdown",
      "source": [
        "### まずはただ聞いてみる"
      ],
      "metadata": {
        "id": "fyAAoeOwXovI"
      }
    },
    {
      "cell_type": "code",
      "source": [
        "from langchain_openai import ChatOpenAI"
      ],
      "metadata": {
        "id": "8fMkwlSZXqkE"
      },
      "execution_count": 17,
      "outputs": []
    },
    {
      "cell_type": "code",
      "source": [
        "gpt4o = ChatOpenAI(model=\"gpt-4o\", temperature=0.1)\n",
        "out = gpt4o.invoke(\"新旧比較テストは？\")\n",
        "print(out.content)"
      ],
      "metadata": {
        "id": "R1J2WySv8UJ2",
        "collapsed": true
      },
      "execution_count": null,
      "outputs": []
    },
    {
      "cell_type": "markdown",
      "source": [
        "### 準備：プロンプトテンプレートを作る"
      ],
      "metadata": {
        "id": "7oLVSlB9X00C"
      }
    },
    {
      "cell_type": "code",
      "source": [
        "from langchain_core.prompts.prompt import PromptTemplate"
      ],
      "metadata": {
        "id": "tGHzi9KVX5CF"
      },
      "execution_count": 28,
      "outputs": []
    },
    {
      "cell_type": "code",
      "source": [
        "prompt_template = PromptTemplate(\n",
        "    input_variables=[\"question\", \"context\"],\n",
        "    template=\"以下を参照して、質問に答えてください。\\n\\n{context}\\n\\n質問：{question}\"\n",
        ")"
      ],
      "metadata": {
        "id": "w_cMRZ2x8dbE"
      },
      "execution_count": 29,
      "outputs": []
    },
    {
      "cell_type": "code",
      "source": [
        "example = {\"question\":\"これは質問です\", \"context\":\"これは外部知識です\"}\n",
        "\n",
        "prompt_template.invoke(example)"
      ],
      "metadata": {
        "id": "jLLxeksvYQDT",
        "outputId": "11c8689e-341e-4e02-fb11-ea8bc9e642b0",
        "colab": {
          "base_uri": "https://localhost:8080/"
        }
      },
      "execution_count": 30,
      "outputs": [
        {
          "output_type": "execute_result",
          "data": {
            "text/plain": [
              "StringPromptValue(text='以下を参照して、質問に答えてください。\\n\\nこれは外部知識です\\n\\n質問：これは質問です')"
            ]
          },
          "metadata": {},
          "execution_count": 30
        }
      ]
    },
    {
      "cell_type": "markdown",
      "source": [
        "### 準備：抽出器を作る"
      ],
      "metadata": {
        "id": "VpBpRx7sZM5P"
      }
    },
    {
      "cell_type": "code",
      "source": [
        "# ベクトルデータベースを作る\n",
        "db = Chroma.from_documents(data, embeddings_model)\n",
        "\n",
        "# 抽出器を作る\n",
        "retriever = db.as_retriever(search_type=\"similarity\", search_kwargs={\"k\": 1})"
      ],
      "metadata": {
        "id": "mMpulwnu_-Fz"
      },
      "execution_count": 19,
      "outputs": []
    },
    {
      "cell_type": "code",
      "source": [
        "retriever.invoke(\"新旧比較テストの進捗は？\")"
      ],
      "metadata": {
        "id": "q2u7nVlUZPtL",
        "collapsed": true
      },
      "execution_count": null,
      "outputs": []
    },
    {
      "cell_type": "code",
      "source": [
        "retrieved = retriever.invoke(\"VESPA お問合せの内容は？\")\n",
        "\n",
        "print(retrieved[0].page_content)"
      ],
      "metadata": {
        "id": "xaPZ33fSZpv1",
        "collapsed": true
      },
      "execution_count": null,
      "outputs": []
    },
    {
      "cell_type": "markdown",
      "source": [
        "### 準備：フォーマッターを作る\n",
        "抽出器の出力を生テキストの形に成形する関数を用意しておく。"
      ],
      "metadata": {
        "id": "zMhVs2VVafL4"
      }
    },
    {
      "cell_type": "code",
      "source": [
        "def text_formatter(retriever_output):\n",
        "  raw_text = retriever_output[0].page_content\n",
        "  raw_text_wo_newline = raw_text.replace(\"\\n\", \"\")\n",
        "  return raw_text_wo_newline"
      ],
      "metadata": {
        "id": "A7es-CZYaqWu"
      },
      "execution_count": 24,
      "outputs": []
    },
    {
      "cell_type": "code",
      "source": [
        "text_formatter(retrieved)"
      ],
      "metadata": {
        "id": "1mtX2rsWbMUp",
        "outputId": "5a71b8c4-fbd2-4f32-fcc5-9b3e3c959c3e",
        "colab": {
          "base_uri": "https://localhost:8080/",
          "height": 71
        }
      },
      "execution_count": 25,
      "outputs": [
        {
          "output_type": "execute_result",
          "data": {
            "text/plain": [
              "'大項目中項目小項目ステータス開始日時終了日時担当コメントXXXアプリ名\\\\nPMO支援資料作成【COSMOS】\\\\n移行リハーサル計画作成12023-10-20 00:00:002023-10-25 00:00:00顧客RV待ちInitiateAS-IS分析_システム構成情報の可視化(ファイル一覧作成)0.82023-10-12 00:00:002023-10-27 00:00:00オンスケInitiateAS-IS分析_システム構成情報の可視化(機能一覧作成)0.62023-10-16 00:00:002023-10-27 00:00:00遅延（遅延原因：XXX）'"
            ],
            "application/vnd.google.colaboratory.intrinsic+json": {
              "type": "string"
            }
          },
          "metadata": {},
          "execution_count": 25
        }
      ]
    },
    {
      "cell_type": "markdown",
      "source": [
        "### 抽出・補完・生成のチェインを作る"
      ],
      "metadata": {
        "id": "NuaPtBVlYzSK"
      }
    },
    {
      "cell_type": "code",
      "source": [
        "from langchain_core.output_parsers import StrOutputParser\n",
        "from langchain_core.runnables import RunnablePassthrough"
      ],
      "metadata": {
        "id": "GSuEft21cmb5"
      },
      "execution_count": 26,
      "outputs": []
    },
    {
      "cell_type": "code",
      "source": [
        "llm = ChatOpenAI(model=\"gpt-4o\")"
      ],
      "metadata": {
        "id": "WSpR9UzcAR7k"
      },
      "execution_count": 22,
      "outputs": []
    },
    {
      "cell_type": "markdown",
      "source": [
        "retriever、prompt_template、llmが用意できたので、これらを組み合わせて、情報の流れを定義する。LangChainでは、これから書いていくような「インプットからアウトプットまでの流れ」をチェイン（chain）と呼ぶ。"
      ],
      "metadata": {
        "id": "iSyBGWYK8iwH"
      }
    },
    {
      "cell_type": "code",
      "source": [
        "\n",
        "chain = ({\"question\":RunnablePassthrough(), \"context\":retriever|text_formatter}\n",
        "         | prompt_template\n",
        "         | llm\n",
        "         )"
      ],
      "metadata": {
        "id": "kQ6Hr0EhAKg6"
      },
      "execution_count": 31,
      "outputs": []
    },
    {
      "cell_type": "code",
      "source": [
        "chain.invoke(\"新旧比較テストの進捗は？\")"
      ],
      "metadata": {
        "id": "IT712hU32vVr",
        "outputId": "9f118aff-47f6-41a3-8e2a-0838a8f9d895",
        "colab": {
          "base_uri": "https://localhost:8080/"
        }
      },
      "execution_count": 32,
      "outputs": [
        {
          "output_type": "execute_result",
          "data": {
            "text/plain": [
              "AIMessage(content='新旧比較テストの進捗は以下の通りです：\\n\\n- **画面系比較**：完了。\\n- **バッチ系比較**：作業中。詳細確認に時間がかかっており、5月31日に完了見込みです。\\n\\n全体としては「テスト実施」が進行中であり、一部遅延が発生しています。', response_metadata={'token_usage': {'completion_tokens': 85, 'prompt_tokens': 748, 'total_tokens': 833}, 'model_name': 'gpt-4o', 'system_fingerprint': 'fp_319be4768e', 'finish_reason': 'stop', 'logprobs': None}, id='run-b27428df-29a4-465c-9ec1-2a2efee72324-0', usage_metadata={'input_tokens': 748, 'output_tokens': 85, 'total_tokens': 833})"
            ]
          },
          "metadata": {},
          "execution_count": 32
        }
      ]
    },
    {
      "cell_type": "code",
      "source": [
        "resp=chain.invoke(\"全体的に問題ポイントを教えて\")"
      ],
      "metadata": {
        "id": "Ta9Y9nOdeNrz"
      },
      "execution_count": 33,
      "outputs": []
    },
    {
      "cell_type": "code",
      "source": [
        "resp.content"
      ],
      "metadata": {
        "id": "6xVm6yhdetdJ",
        "colab": {
          "base_uri": "https://localhost:8080/",
          "height": 196
        },
        "outputId": "153fa869-4602-4c50-8c2b-541d776bc436"
      },
      "execution_count": 34,
      "outputs": [
        {
          "output_type": "execute_result",
          "data": {
            "text/plain": [
              "'このプロジェクトの状況を見ると、以下の問題ポイントが浮かび上がります。\\n\\n1. **移行リハーサル計画作成における顧客レビュー待ち**\\n   - ステータスが「顧客RV待ち」となっており、開始日は2023-10-20ですが、終了予定日が2023-10-25と迫っています。顧客レビューが待たれているため、今後の進捗に影響が出る可能性があります。特に顧客からのフィードバックが遅れると、予定通りに次のステップに進めないリスクがあるため、早急にフォローアップが必要です。\\n\\n2. **AS-IS分析_システム構成情報の可視化(機能一覧作成)の遅延**\\n   - このタスクは遅延しており、遅延の原因が「XXX」と記載されています。具体的な遅延原因が明記されていないため、原因の特定と対応策の策定が急務です。遅延が他のタスクに波及しないよう、早急な対応が求められます。\\n\\n3. **スケジュール管理の必要性**\\n   - 全体的にスケジュールがタイトで、特にAS-IS分析の終了予定日が2023-10-27と近接しています。タスクの進捗状況を綿密にチェックし、遅延が他のタスクに波及しないように管理する必要があります。\\n\\n### 対応策\\n- **顧客レビュー待ちのタスクについて**\\n  - 顧客とコミュニケーションを取り、レビューの進捗状況を確認し、必要に応じてフォローアップミーティングを設定します。\\n  \\n- **遅延タスクについて**\\n  - 遅延の具体的な原因を早急に特定し、対応策を講じます。例えば、リソースの追加やタスクの優先順位の見直しなどが考えられます。\\n\\n- **全体スケジュールの再確認**\\n  - 全体のスケジュールを再確認し、リスク管理を強化します。定期的な進捗確認ミーティングを設定し、問題が早期に発見できるようにします。\\n\\nこれらの対応策を講じることで、プロジェクトの進捗を確実に管理し、予定通りの完了を目指すことができます。'"
            ],
            "application/vnd.google.colaboratory.intrinsic+json": {
              "type": "string"
            }
          },
          "metadata": {},
          "execution_count": 34
        }
      ]
    }
  ]
}