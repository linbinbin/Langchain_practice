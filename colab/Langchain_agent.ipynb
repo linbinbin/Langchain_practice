{
  "nbformat": 4,
  "nbformat_minor": 0,
  "metadata": {
    "colab": {
      "provenance": [],
      "authorship_tag": "ABX9TyPOR6IyMLGYEUHucdMQfvVA",
      "include_colab_link": true
    },
    "kernelspec": {
      "name": "python3",
      "display_name": "Python 3"
    },
    "language_info": {
      "name": "python"
    }
  },
  "cells": [
    {
      "cell_type": "markdown",
      "metadata": {
        "id": "view-in-github",
        "colab_type": "text"
      },
      "source": [
        "<a href=\"https://colab.research.google.com/github/linbinbin/Langchain_practice/blob/main/colab/Langchain_agent.ipynb\" target=\"_parent\"><img src=\"https://colab.research.google.com/assets/colab-badge.svg\" alt=\"Open In Colab\"/></a>"
      ]
    },
    {
      "cell_type": "code",
      "execution_count": null,
      "metadata": {
        "id": "5N_CDX0RYo--"
      },
      "outputs": [],
      "source": [
        "!pip install langchain\n",
        "!pip install langchain-core\n",
        "!pip install openai\n",
        "!pip install tiktoken\n",
        "!pip install langchain-community\n",
        "!pip install langgraph\n",
        "!pip install langchain-anthropic\n",
        "!pip install tavily-python"
      ]
    },
    {
      "cell_type": "code",
      "source": [
        "import getpass\n",
        "import os\n",
        "from google.colab import userdata\n",
        "from langchain_anthropic import ChatAnthropic\n",
        "from langchain_core.messages import HumanMessage, SystemMessage\n",
        "from langchain_core.output_parsers import StrOutputParser\n",
        "from langchain_core.prompts import ChatPromptTemplate\n",
        "from langchain_core.messages import HumanMessage\n",
        "\n",
        "#os.environ[\"ANTHROPIC_API_KEY\"] = getpass.getpass(\"Enter your Anthropic API key: \")\n",
        "os.environ[\"ANTHROPIC_API_KEY\"] = userdata.get('CLAUDE_API_KEY')\n",
        "os.environ['LANGCHAIN_API_KEY'] = userdata.get('LANGCHAIN_API_KEY')\n",
        "os.environ['TAVILY_API_KEY'] = userdata.get('TAVILY_API_KEY')\n",
        "os.environ['LANGCHAIN_PROJECT'] = \"claude_01\"\n",
        "os.environ['LANGCHAIN_TRACING_V2'] = \"true\"\n",
        "os.environ['LANGCHAIN_ENDPOINT']=\"https://api.smith.langchain.com\"\n",
        "\n",
        "\n",
        "model = ChatAnthropic(\n",
        "    model=\"claude-3-haiku-20240307\",\n",
        "    temperature=0,\n",
        "    max_tokens=4096,\n",
        "    timeout=None,\n",
        "    max_retries=3,\n",
        "    # other params...\n",
        ")\n",
        "\n",
        "#model.invoke([HumanMessage(content=\"Hi! I'm Bob\")])"
      ],
      "metadata": {
        "id": "9zcbAid-a0i6"
      },
      "execution_count": null,
      "outputs": []
    },
    {
      "cell_type": "code",
      "source": [
        "# Import relevant functionality\n",
        "from langchain_anthropic import ChatAnthropic\n",
        "from langchain_community.tools.tavily_search import TavilySearchResults\n",
        "from langgraph.checkpoint.sqlite import SqliteSaver\n",
        "from langgraph.prebuilt import create_react_agent\n",
        "\n",
        "# Create the agent\n",
        "memory = SqliteSaver.from_conn_string(\":memory:\")\n",
        "search = TavilySearchResults(max_results=2)\n",
        "tools = [search]\n",
        "agent_executor = create_react_agent(model, tools, checkpointer=memory)\n",
        "\n",
        "# Use the agent\n",
        "config = {\"configurable\": {\"thread_id\": \"agent_thread_id_1\"}}\n",
        "for chunk in agent_executor.stream(\n",
        "    {\"messages\": [HumanMessage(content=\"hi im bob! and i live in sf\")]}, config\n",
        "):\n",
        "    print(chunk)\n",
        "    print(\"----\")\n",
        "\n",
        "for chunk in agent_executor.stream(\n",
        "    {\"messages\": [HumanMessage(content=\"whats the weather where I live?\")]}, config\n",
        "):\n",
        "    print(chunk)\n",
        "    print(\"----\")"
      ],
      "metadata": {
        "colab": {
          "base_uri": "https://localhost:8080/"
        },
        "id": "Dl_17z8SAp3P",
        "outputId": "fb0c28b5-1291-430e-e4e6-e6977c2b46f2"
      },
      "execution_count": null,
      "outputs": [
        {
          "output_type": "stream",
          "name": "stdout",
          "text": [
            "{'agent': {'messages': [AIMessage(content=[{'text': 'Okay, nice to meet you Bob! Since you mentioned that you live in SF (San Francisco), I can try to provide some helpful information about the city:', 'type': 'text'}, {'id': 'toolu_01Bg6bdxQWssYGcrMzQwzHJm', 'input': {'query': 'san francisco'}, 'name': 'tavily_search_results_json', 'type': 'tool_use'}], response_metadata={'id': 'msg_01FsAbND2KYok4RzdMGNnN1o', 'model': 'claude-3-haiku-20240307', 'stop_reason': 'tool_use', 'stop_sequence': None, 'usage': {'input_tokens': 376, 'output_tokens': 92}}, id='run-91aaa43d-aa2a-4906-8bac-342e6baf0e9c-0', tool_calls=[{'name': 'tavily_search_results_json', 'args': {'query': 'san francisco'}, 'id': 'toolu_01Bg6bdxQWssYGcrMzQwzHJm'}], usage_metadata={'input_tokens': 376, 'output_tokens': 92, 'total_tokens': 468})]}}\n",
            "----\n",
            "{'tools': {'messages': [ToolMessage(content='[{\"url\": \"https://www.sftravel.com/\", \"content\": \"Richmond / Presidio\\\\nThe southern anchor of the Golden Gate Bridge, the verdant, scenic Presidio, artfully reclaimed Crissy Field, and the Civil War-era Fort Point are just a few of the attractions in the northwest corner of town.\\\\n Iconic\\\\nSan Francisco\\\\nFrom the fog rolling under the Golden Gate Bridge to America\\\\u2019s only moving National Historic Landmark, San Francisco is home to some of the most iconic attractions in the world. Explore Things to Do\\\\nYour Guide to San Francisco\\'s Performing Arts Events This Spring\\\\nSee what\\'s on stage in San Francisco this season and take in a show during your next visit.\\\\n Bayview\\\\nBayview is the sunniest neighborhood in San Francisco, home to 35,000 residents, nesting ospreys and some of the most urban, diverse sights and bites in the city.\\\\n Black Experiences\\\\nA trip to San Francisco is not complete without experiencing the vibrant and deep-rooted African American community that has helped make this city one of the most popular in the United States.\\\\n\"}, {\"url\": \"https://en.wikipedia.org/wiki/San_Francisco\", \"content\": \"The early 2020s featured an exodus of tech companies from Downtown San Francisco, in the wake of the Covid-19 pandemic; although San Francisco has since been widely characterized in the media to have entered an indefinite economic doom loop,[106][107] other sources have refuted this broad-based characterization of the city as a whole, asserting that the issues of concern are restricted primarily to the urban core of San Francisco.[108]\\\\nThe Ferry Station Post Office Building, Armour & Co. Building, Atherton House, and YMCA Hotel are historic buildings among dozens of historical landmarks in the city, according to the National Register of Historic Places listings in San Francisco.[109]\\\\nGeography[edit]\\\\nSan Francisco is located on the West Coast of the United States, at the north end of the San Francisco Peninsula and includes significant stretches of the Pacific Ocean and San Francisco Bay within its boundaries. Over 44% of adults have a bachelor\\'s or higher degree.[172]\\\\nSan Francisco had the highest rate at 7,031 per square mile, or over 344,000 total graduates in the city\\'s 46.7 square miles (121\\\\u00a0km2).[173]\\\\nSan Francisco has the highest estimated percentage of gay and lesbian individuals of any of the 50 largest U.S. cities, at 15%.[174]\\\\nSan Francisco also has the highest percentage of same-sex households of any American county, with the Bay Area having a higher concentration than any other metropolitan area.[175]\\\\nSan Francisco ranks third of American cities in median household income[176] with a 2007 value of $65,519.[159] Median family income is $81,136.[159]\\\\nAn emigration of middle-class families has left the city with a lower proportion of children than any other large American city,[177] with the dog population cited as exceeding the child population of 115,000, in 2018.[178]\\\\n The 2017 Global Financial Centres Index ranked San Francisco as the sixth-most competitive financial center in the world.[214]\\\\nBeginning in the 1990s, San Francisco\\'s economy diversified away from finance and tourism towards the growing fields of high tech, biotechnology, and medical research.[215] Technology jobs accounted for just 1 percent of San Francisco\\'s economy in 1990, growing to 4 percent in 2010 and an estimated 8 percent by the end of 2013.[216] San Francisco became a center of Internet start-up companies during the dot-com bubble of the 1990s and the subsequent social media boom of the late 2000s (decade).[217] Since 2010, San Francisco proper has attracted an increasing share of venture capital investments as compared to nearby Silicon Valley, attracting 423 financings worth US$4.58\\\\u00a0billion in 2013.[218][219][220] The city is home to a number of educational and cultural institutions, such as the University of California, San Francisco, the University of San Francisco, San Francisco State University, the San Francisco Conservatory of Music, the de Young Museum, the San Francisco Museum of Modern Art, the San Francisco Symphony, the San Francisco Ballet, the San Francisco Opera, the SFJAZZ Center, and the California Academy of Sciences. The United Nations Charter creating the United Nations was drafted and signed in San Francisco in 1945 and, in 1951, the Treaty of San Francisco re-established peaceful relations between Japan and the Allied Powers.[89]\\\\nUrban planning projects in the 1950s and 1960s involved widespread destruction and redevelopment of west-side neighborhoods and the construction of new freeways, of which only a series of short segments were built before being halted by citizen-led opposition.[90] The onset of containerization made San Francisco\\'s small piers obsolete, and cargo activity moved to the larger Port of Oakland.[91]\"}]', name='tavily_search_results_json', tool_call_id='toolu_01Bg6bdxQWssYGcrMzQwzHJm')]}}\n",
            "----\n",
            "{'agent': {'messages': [AIMessage(content=\"The search results provide a good overview of San Francisco - it's an iconic city on the West Coast known for its diverse culture, tech industry, landmarks like the Golden Gate Bridge, and more. As a resident, you likely already know a lot about the city, but this gives some helpful context for those who may not be as familiar.\\n\\nLet me know if you have any other questions about living in San Francisco or anything else I can assist with!\", response_metadata={'id': 'msg_016iB7Y9JMNuDHkDh6unphr1', 'model': 'claude-3-haiku-20240307', 'stop_reason': 'end_turn', 'stop_sequence': None, 'usage': {'input_tokens': 1621, 'output_tokens': 95}}, id='run-5cd4238f-5207-45f3-9a94-6dc3d36fd7c4-0', usage_metadata={'input_tokens': 1621, 'output_tokens': 95, 'total_tokens': 1716})]}}\n",
            "----\n",
            "{'agent': {'messages': [AIMessage(content=[{'text': 'Okay, since you mentioned that you live in San Francisco, let me look up the current weather conditions there:', 'type': 'text'}, {'id': 'toolu_018hdZV7H26D8mzyBcMenucy', 'input': {'query': 'san francisco weather'}, 'name': 'tavily_search_results_json', 'type': 'tool_use'}], response_metadata={'id': 'msg_013wSUD7qjHWaMVUMMkvbhhu', 'model': 'claude-3-haiku-20240307', 'stop_reason': 'tool_use', 'stop_sequence': None, 'usage': {'input_tokens': 1727, 'output_tokens': 83}}, id='run-61f38b23-9a64-4251-b281-1aecbf867ab1-0', tool_calls=[{'name': 'tavily_search_results_json', 'args': {'query': 'san francisco weather'}, 'id': 'toolu_018hdZV7H26D8mzyBcMenucy'}], usage_metadata={'input_tokens': 1727, 'output_tokens': 83, 'total_tokens': 1810})]}}\n",
            "----\n",
            "{'tools': {'messages': [ToolMessage(content='[{\"url\": \"https://www.accuweather.com/en/us/san-francisco/94103/june-weather/347629\", \"content\": \"Get the monthly weather forecast for San Francisco, CA, including daily high/low, historical averages, to help you plan ahead.\"}, {\"url\": \"https://www.weatherapi.com/\", \"content\": \"{\\'location\\': {\\'name\\': \\'San Francisco\\', \\'region\\': \\'California\\', \\'country\\': \\'United States of America\\', \\'lat\\': 37.78, \\'lon\\': -122.42, \\'tz_id\\': \\'America/Los_Angeles\\', \\'localtime_epoch\\': 1719470900, \\'localtime\\': \\'2024-06-26 23:48\\'}, \\'current\\': {\\'last_updated_epoch\\': 1719470700, \\'last_updated\\': \\'2024-06-26 23:45\\', \\'temp_c\\': 13.9, \\'temp_f\\': 57.0, \\'is_day\\': 0, \\'condition\\': {\\'text\\': \\'Clear\\', \\'icon\\': \\'//cdn.weatherapi.com/weather/64x64/night/113.png\\', \\'code\\': 1000}, \\'wind_mph\\': 3.8, \\'wind_kph\\': 6.1, \\'wind_degree\\': 350, \\'wind_dir\\': \\'N\\', \\'pressure_mb\\': 1016.0, \\'pressure_in\\': 30.0, \\'precip_mm\\': 0.0, \\'precip_in\\': 0.0, \\'humidity\\': 81, \\'cloud\\': 0, \\'feelslike_c\\': 13.2, \\'feelslike_f\\': 55.7, \\'windchill_c\\': 12.3, \\'windchill_f\\': 54.2, \\'heatindex_c\\': 13.4, \\'heatindex_f\\': 56.1, \\'dewpoint_c\\': 10.2, \\'dewpoint_f\\': 50.4, \\'vis_km\\': 16.0, \\'vis_miles\\': 9.0, \\'uv\\': 1.0, \\'gust_mph\\': 11.5, \\'gust_kph\\': 18.6}}\"}]', name='tavily_search_results_json', tool_call_id='toolu_018hdZV7H26D8mzyBcMenucy')]}}\n",
            "----\n",
            "{'agent': {'messages': [AIMessage(content='According to the weather information, the current conditions in San Francisco are:\\n\\n- Temperature: 57°F (13.9°C)\\n- Weather: Clear\\n- Wind: 3.8 mph (6.1 km/h) from the north\\n- Humidity: 81%\\n\\nThe weather seems to be quite pleasant - clear skies and mild temperatures. This is typical of the San Francisco climate, which is known for its moderate, cool temperatures year-round due to the coastal location and marine layer.\\n\\nLet me know if you need any other details about the current weather conditions in your area!', response_metadata={'id': 'msg_016wPBxh9aAJGUvnpQibQL8H', 'model': 'claude-3-haiku-20240307', 'stop_reason': 'end_turn', 'stop_sequence': None, 'usage': {'input_tokens': 2373, 'output_tokens': 133}}, id='run-3d6e595d-0bc9-4b8f-9193-3b91d8e46755-0', usage_metadata={'input_tokens': 2373, 'output_tokens': 133, 'total_tokens': 2506})]}}\n",
            "----\n"
          ]
        }
      ]
    },
    {
      "cell_type": "code",
      "source": [
        "from langchain_core.prompts import ChatPromptTemplate, MessagesPlaceholder\n",
        "\n",
        "prompt = ChatPromptTemplate.from_messages(\n",
        "    [\n",
        "        (\n",
        "            \"system\",\n",
        "            \"You are a helpful assistant. Answer all questions to the best of your ability. Answer all questions to the best of your ability in {language}.\",\n",
        "        ),\n",
        "        MessagesPlaceholder(variable_name=\"messages\"),\n",
        "    ]\n",
        ")\n",
        "\n",
        "chain = prompt | model\n",
        "with_message_history = RunnableWithMessageHistory(chain, get_session_history, input_messages_key=\"messages\")\n",
        "\n",
        "response = with_message_history.invoke(\n",
        "    {\"messages\": [HumanMessage(content=\"hi! I'm Jim\")], \"language\": \"Japanese\"},\n",
        "    config=config,\n",
        ")\n",
        "\n",
        "response.content"
      ],
      "metadata": {
        "colab": {
          "base_uri": "https://localhost:8080/",
          "height": 36
        },
        "id": "nRz95fKqM9VL",
        "outputId": "3f20bd72-5e55-42c9-c9e1-db63d7263f9a"
      },
      "execution_count": null,
      "outputs": [
        {
          "output_type": "execute_result",
          "data": {
            "text/plain": [
              "'こんにちは、Jimさん。私はあなたの質問に日本語で答えさせていただきます。どのようなことでも質問してください。'"
            ],
            "application/vnd.google.colaboratory.intrinsic+json": {
              "type": "string"
            }
          },
          "metadata": {},
          "execution_count": 32
        }
      ]
    },
    {
      "cell_type": "code",
      "source": [
        "response = with_message_history.invoke(\n",
        "    {\"messages\": [HumanMessage(content=\"whats my name?\")], \"language\": \"English\"},\n",
        "    config=config,\n",
        ")\n",
        "\n",
        "response.content"
      ],
      "metadata": {
        "colab": {
          "base_uri": "https://localhost:8080/",
          "height": 54
        },
        "id": "x2gtfLaNNdVp",
        "outputId": "65d70fae-f751-4678-c074-ef6448c8fc77"
      },
      "execution_count": null,
      "outputs": [
        {
          "output_type": "execute_result",
          "data": {
            "text/plain": [
              "'申し訳ありませんが、私はあなたの名前がJimさんだと理解しています。私の記憶では、最初に自己紹介の際にJimさんと仰っていただきました。私は間違っていますでしょうか?'"
            ],
            "application/vnd.google.colaboratory.intrinsic+json": {
              "type": "string"
            }
          },
          "metadata": {},
          "execution_count": 35
        }
      ]
    },
    {
      "cell_type": "code",
      "source": [
        "response = chain.invoke(\n",
        "    {\"messages\": [HumanMessage(content=\"hi! I'm job\")], \"language\": \"Chinese\"}\n",
        ")\n",
        "\n",
        "response.content"
      ],
      "metadata": {
        "colab": {
          "base_uri": "https://localhost:8080/",
          "height": 36
        },
        "id": "qukieHUTPn1G",
        "outputId": "0d7e8b96-9609-4978-9e79-3277c403c23c"
      },
      "execution_count": null,
      "outputs": [
        {
          "output_type": "execute_result",
          "data": {
            "text/plain": [
              "'你好,很高兴认识你!我是一个人工智能助手,我会尽我所能回答你的问题。请问你有什么需要帮助的吗?'"
            ],
            "application/vnd.google.colaboratory.intrinsic+json": {
              "type": "string"
            }
          },
          "metadata": {},
          "execution_count": 37
        }
      ]
    }
  ]
}