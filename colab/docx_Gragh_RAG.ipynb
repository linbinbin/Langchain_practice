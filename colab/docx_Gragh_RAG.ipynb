{
  "nbformat": 4,
  "nbformat_minor": 0,
  "metadata": {
    "colab": {
      "provenance": [],
      "include_colab_link": true
    },
    "kernelspec": {
      "name": "python3",
      "display_name": "Python 3"
    },
    "language_info": {
      "name": "python"
    }
  },
  "cells": [
    {
      "cell_type": "markdown",
      "metadata": {
        "id": "view-in-github",
        "colab_type": "text"
      },
      "source": [
        "<a href=\"https://colab.research.google.com/github/linbinbin/Langchain_practice/blob/main/colab/docx_Gragh_RAG.ipynb\" target=\"_parent\"><img src=\"https://colab.research.google.com/assets/colab-badge.svg\" alt=\"Open In Colab\"/></a>"
      ]
    },
    {
      "cell_type": "markdown",
      "source": [
        "- このノートブックの内容は2024年5月時点の [LangChain 公式ドキュメント](https://python.langchain.com/v0.1/docs/get_started/introduction)に依拠しています。\n",
        "- 事前に社内規定PDFを概要欄リンクからダウンロードし、動画内の説明に従ってアップロードしておいてください。"
      ],
      "metadata": {
        "id": "8nqG8pJV5yVP"
      }
    },
    {
      "cell_type": "markdown",
      "source": [
        "## 準備：API キーの設定"
      ],
      "metadata": {
        "id": "gL0NPf97v8i3"
      }
    },
    {
      "cell_type": "code",
      "source": [
        "!pip install -q openai\n",
        "!pip install -q pypdf\n",
        "!pip install -q langchain\n",
        "!pip install -q langchain-openai\n",
        "!pip install -q langchain-chroma\n",
        "!pip install -q docx2txt\n",
        "!pip install -q langchain_community\n",
        "!pip install -q unstructured\n",
        "!pip install -q langchain-experimental\n",
        "!pip install -q neo4j\n",
        "!pip install -q tiktoken\n",
        "!pip install -q yfiles_jupyter_graphs"
      ],
      "metadata": {
        "id": "ywggm4O7BvxP"
      },
      "execution_count": null,
      "outputs": []
    },
    {
      "cell_type": "code",
      "source": [],
      "metadata": {
        "id": "pF-3kIJqXaAU"
      },
      "execution_count": null,
      "outputs": []
    },
    {
      "cell_type": "code",
      "source": [
        "import os\n",
        "from neo4j import GraphDatabase\n",
        "from yfiles_jupyter_graphs import GraphWidget\n",
        "from langchain_core.runnables import RunnableLambda, RunnableParallel, RunnablePassthrough, ConfigurableField\n",
        "from langchain_core.prompts import ChatPromptTemplate\n",
        "from langchain_core.prompts.prompt import PromptTemplate\n",
        "from langchain_core.pydantic_v1 import BaseModel, Field\n",
        "from typing import List\n",
        "from langchain_core.output_parsers import StrOutputParser\n",
        "from langchain_community.graphs import Neo4jGraph\n",
        "from langchain.document_loaders import TextLoader\n",
        "from langchain.text_splitter import TokenTextSplitter\n",
        "from langchain_openai import ChatOpenAI\n",
        "from langchain_experimental.graph_transformers import LLMGraphTransformer\n",
        "from langchain_community.vectorstores import Neo4jVector\n",
        "from langchain_openai import OpenAIEmbeddings\n",
        "from langchain_community.vectorstores.neo4j_vector import remove_lucene_chars\n",
        "from google.colab import userdata\n",
        "import openai\n",
        "#from langchain_community.document_loaders import PyPDFDirectoryLoader\n",
        "from langchain_community.document_loaders import UnstructuredWordDocumentLoader\n",
        "from langchain_community.document_loaders import Docx2txtLoader\n",
        "from langchain.docstore.document import Document\n",
        "#loader = Docx2txtLoader(\"example.docx\")\n",
        "files = [\"週報_（5月27日-31日_石岡）_IB3内製支援AA.docx\", \"週報_（6月3日-7日_石岡）_IB3内製支援AA.docx\"]\n",
        "\n",
        "try:\n",
        "    import google.colab\n",
        "    from google.colab import output\n",
        "    output.enable_custom_widget_manager()\n",
        "except:\n",
        "    pass"
      ],
      "metadata": {
        "id": "e4CJ4P8_wnpB"
      },
      "execution_count": null,
      "outputs": []
    },
    {
      "cell_type": "code",
      "source": [
        "# OPENAI_API_KEY を取得\n",
        "openai.api_key = userdata.get('OPENAI_API_KEY')\n",
        "os.environ['OPENAI_API_KEY'] = openai.api_key\n",
        "os.environ['LANGCHAIN_PROJECT'] = \"docx_RAG\"\n",
        "os.environ[\"LANGCHAIN_API_KEY\"] = userdata.get('LANGCHAIN_API_KEY')\n",
        "os.environ['LANGCHAIN_TRACING_V2'] = \"true\"\n",
        "os.environ['LANGCHAIN_ENDPOINT']=\"https://api.smith.langchain.com\"\n",
        "os.environ[\"NEO4J_URI\"] = userdata.get('NEO4J_URI')\n",
        "os.environ[\"NEO4J_USERNAME\"] = \"neo4j\"\n",
        "os.environ[\"NEO4J_PASSWORD\"] = userdata.get('NEO4J_PSWD')\n",
        "\n",
        "graph = Neo4jGraph()"
      ],
      "metadata": {
        "id": "Wge3R3gh0G3p"
      },
      "execution_count": null,
      "outputs": []
    },
    {
      "cell_type": "markdown",
      "source": [
        "# RAG（LLM の知識拡張）\n",
        "RAG を活用することで、LLM は学習データに含まれない知識を得ることができます。\n",
        "\n",
        "参照用データとしては、現在 LangChain は以下に対応しています：\n",
        "- .txt\n",
        "- .csv\n",
        "- .html\n",
        "- .json\n",
        "- .md\n",
        "- .pdf\n",
        "- MS Office ファイル\n",
        "\n",
        "今回は PDF からの知識抽出を試してみましょう。"
      ],
      "metadata": {
        "id": "oOPYy7ZF4ecR"
      }
    },
    {
      "cell_type": "code",
      "source": [
        "\n",
        "# 各ファイルをロード\n",
        "loaders = [Docx2txtLoader(file) for file in files]\n",
        "\n",
        "# 各ファイルからデータをロード\n",
        "raw_data = []\n",
        "for loader in loaders:\n",
        "    for result in loader.load():\n",
        "        if isinstance(result, Document):\n",
        "            # loader.load()がDocumentオブジェクトを返した場合\n",
        "            raw_data.append(result)\n",
        "        elif isinstance(result, tuple):\n",
        "            # loader.load()がタプルを返した場合\n",
        "            content, metadata = result\n",
        "            raw_data.append(Document(page_content=content, metadata=metadata))\n",
        "        else:\n",
        "            # その他の場合はエラーを出力する\n",
        "            print(f\"Unsupported result type from loader: {type(result)}\")\n",
        "\n",
        "# テキストスプリッターの初期化\n",
        "text_splitter = TokenTextSplitter(chunk_size=512, chunk_overlap=125)\n",
        "\n",
        "# 各ドキュメントを分割\n",
        "data = [text_splitter.split_documents([doc]) for doc in raw_data]  # Pass a list of Document objects to split_documents\n"
      ],
      "metadata": {
        "id": "MtbYvExb4eFF"
      },
      "execution_count": null,
      "outputs": []
    },
    {
      "cell_type": "code",
      "source": [
        "llm=ChatOpenAI(temperature=0, model_name=\"gpt-3.5-turbo\")\n",
        "llm_transformer = LLMGraphTransformer(llm=llm)\n",
        "#graph_documents = llm_transformer.convert_to_graph_documents(data)\n",
        "# Convert the list of lists into a flat list\n",
        "flat_data = [item for sublist in data for item in sublist]\n",
        "\n",
        "# Convert the documents to graph documents\n",
        "graph_documents = llm_transformer.convert_to_graph_documents(flat_data)\n"
      ],
      "metadata": {
        "id": "wNtjSwV26Mp9"
      },
      "execution_count": null,
      "outputs": []
    },
    {
      "cell_type": "code",
      "source": [
        "# 保存された出力を取得\n",
        "graph = Neo4jGraph()\n",
        "graph.add_graph_documents(\n",
        "    graph_documents,\n",
        "    baseEntityLabel=True,\n",
        "    include_source=True\n",
        ")"
      ],
      "metadata": {
        "id": "ohU9Xb0e6NC0"
      },
      "execution_count": null,
      "outputs": []
    },
    {
      "cell_type": "code",
      "source": [
        "#graph_documents\n",
        "# directly show the graph resulting from the given Cypher query\n",
        "default_cypher = \"MATCH (s)-[r:!START]->(t) RETURN s,r,t LIMIT 50\"\n",
        "\n",
        "def showGraph(cypher: str = default_cypher):\n",
        "    # create a neo4j session to run queries\n",
        "    driver = GraphDatabase.driver(\n",
        "        uri = os.environ[\"NEO4J_URI\"],\n",
        "        auth = (os.environ[\"NEO4J_USERNAME\"],\n",
        "                os.environ[\"NEO4J_PASSWORD\"]))\n",
        "    session = driver.session()\n",
        "    widget = GraphWidget(graph = session.run(cypher).graph())\n",
        "    widget.node_label_mapping = 'id'\n",
        "    #display(widget)\n",
        "    return widget\n",
        "showGraph()"
      ],
      "metadata": {
        "id": "MkDGobJsl2wR"
      },
      "execution_count": null,
      "outputs": []
    },
    {
      "cell_type": "code",
      "source": [
        "vector_index = Neo4jVector.from_existing_graph(\n",
        "    OpenAIEmbeddings(),\n",
        "    search_type=\"hybrid\",\n",
        "    node_label=\"Document\",\n",
        "    text_node_properties=[\"text\"],\n",
        "    embedding_node_property=\"embedding\"\n",
        ")"
      ],
      "metadata": {
        "id": "6ZSX8NVV4DJy",
        "colab": {
          "base_uri": "https://localhost:8080/"
        },
        "outputId": "b63cd697-2605-4c15-abff-a6b204ae6abc"
      },
      "execution_count": null,
      "outputs": [
        {
          "output_type": "stream",
          "name": "stderr",
          "text": [
            "WARNING:neo4j.notifications:Received notification from DBMS server: {severity: WARNING} {code: Neo.ClientNotification.Statement.FeatureDeprecationWarning} {category: DEPRECATION} {title: This feature is deprecated and will be removed in future versions.} {description: The query used a deprecated procedure. ('db.create.setVectorProperty' has been replaced by 'db.create.setNodeVectorProperty')} {position: line: 1, column: 70, offset: 69} for query: \"UNWIND $data AS row MATCH (n:`Document`) WHERE elementId(n) = row.id CALL db.create.setVectorProperty(n, 'embedding', row.embedding) YIELD node RETURN count(*)\"\n"
          ]
        }
      ]
    },
    {
      "cell_type": "code",
      "source": [
        "graph.query(\"CREATE FULLTEXT INDEX entity IF NOT EXISTS FOR (e:__Entity__) ON EACH [e.id]\")"
      ],
      "metadata": {
        "colab": {
          "base_uri": "https://localhost:8080/"
        },
        "id": "-xSJHB6-tXwt",
        "outputId": "b59def50-ff8a-4166-a4fa-49d4e0bd07b3"
      },
      "execution_count": null,
      "outputs": [
        {
          "output_type": "execute_result",
          "data": {
            "text/plain": [
              "[]"
            ]
          },
          "metadata": {},
          "execution_count": 69
        }
      ]
    },
    {
      "cell_type": "code",
      "source": [
        "# Extract entities from text\n",
        "class Entities(BaseModel):\n",
        "    \"\"\"Identifying information about entities.\"\"\"\n",
        "\n",
        "    names: List[str] = Field(\n",
        "        ...,\n",
        "        description=\"All the person, organization, or business entities that \"\n",
        "        \"appear in the text\",\n",
        "    )"
      ],
      "metadata": {
        "id": "SVRIkn4O5P8O"
      },
      "execution_count": null,
      "outputs": []
    },
    {
      "cell_type": "code",
      "source": [
        "prompt = ChatPromptTemplate.from_messages(\n",
        "    [\n",
        "        (\n",
        "            \"system\",\n",
        "            \"You are extracting organization and person entities from the text.\",\n",
        "        ),\n",
        "        (\n",
        "            \"human\",\n",
        "            \"Use the given format to extract information from the following \"\n",
        "            \"input: {question}\",\n",
        "        ),\n",
        "    ]\n",
        ")\n",
        "\n",
        "entity_chain = prompt | llm.with_structured_output(Entities)"
      ],
      "metadata": {
        "id": "urncS3gg0eCG"
      },
      "execution_count": null,
      "outputs": []
    },
    {
      "cell_type": "code",
      "source": [
        "entity_chain.invoke({\"question\": \"Amoがテスト結果を確認中\"}).names"
      ],
      "metadata": {
        "colab": {
          "base_uri": "https://localhost:8080/"
        },
        "id": "gGc946qB0XMl",
        "outputId": "99e5060c-0023-43f0-ea1a-1d935a784a0e"
      },
      "execution_count": null,
      "outputs": [
        {
          "output_type": "execute_result",
          "data": {
            "text/plain": [
              "['Amo']"
            ]
          },
          "metadata": {},
          "execution_count": 72
        }
      ]
    },
    {
      "cell_type": "code",
      "source": [
        "def generate_full_text_query(input: str) -> str:\n",
        "    \"\"\"\n",
        "    Generate a full-text search query for a given input string.\n",
        "\n",
        "    This function constructs a query string suitable for a full-text search.\n",
        "    It processes the input string by splitting it into words and appending a\n",
        "    similarity threshold (~2 changed characters) to each word, then combines\n",
        "    them using the AND operator. Useful for mapping entities from user questions\n",
        "    to database values, and allows for some misspelings.\n",
        "    \"\"\"\n",
        "    full_text_query = \"\"\n",
        "    words = [el for el in remove_lucene_chars(input).split() if el]\n",
        "    for word in words[:-1]:\n",
        "        full_text_query += f\" {word}~2 AND\"\n",
        "    full_text_query += f\" {words[-1]}~2\"\n",
        "    return full_text_query.strip()\n",
        "\n",
        "# Fulltext index query\n",
        "def structured_retriever(question: str) -> str:\n",
        "    \"\"\"\n",
        "    Collects the neighborhood of entities mentioned\n",
        "    in the question\n",
        "    \"\"\"\n",
        "    result = \"\"\n",
        "    entities = entity_chain.invoke({\"question\": question})\n",
        "    for entity in entities.names:\n",
        "        response = graph.query(\n",
        "            \"\"\"CALL db.index.fulltext.queryNodes('entity', $query, {limit:20})\n",
        "            YIELD node,score\n",
        "            CALL {\n",
        "              WITH node\n",
        "              MATCH (node)-[r:!MENTIONS]->(neighbor)\n",
        "              RETURN node.id + ' - ' + type(r) + ' -> ' + neighbor.id AS output\n",
        "              UNION ALL\n",
        "              WITH node\n",
        "              MATCH (node)<-[r:!MENTIONS]-(neighbor)\n",
        "              RETURN neighbor.id + ' - ' + type(r) + ' -> ' +  node.id AS output\n",
        "            }\n",
        "            RETURN output LIMIT 1000\n",
        "            \"\"\",\n",
        "            {\"query\": generate_full_text_query(entity)},\n",
        "        )\n",
        "        result += \"\\n\".join([el['output'] for el in response])\n",
        "    return result"
      ],
      "metadata": {
        "id": "T3meEmsX5hCU"
      },
      "execution_count": null,
      "outputs": []
    },
    {
      "cell_type": "code",
      "source": [
        "print(structured_retriever(\"Amoのタスクを知りたい\"))"
      ],
      "metadata": {
        "id": "JFiZV9kg1FBI"
      },
      "execution_count": null,
      "outputs": []
    },
    {
      "cell_type": "code",
      "source": [
        "def retriever(question: str):\n",
        "    print(f\"Search query: {question}\")\n",
        "    structured_data = structured_retriever(question)\n",
        "    unstructured_data = [el.page_content for el in vector_index.similarity_search(question)]\n",
        "    final_data = f\"\"\"Structured data:\n",
        "    {structured_data}\n",
        "    Unstructured data:\n",
        "    {\"#Document \". join(unstructured_data)}\n",
        "    \"\"\"\n",
        "    # print(final_data)\n",
        "    return final_data\n",
        "\n",
        "_search_query = RunnableLambda(lambda x: x[\"question\"])\n",
        "\n",
        "template = \"\"\"あなたは優秀なAIです。下記のコンテキストを利用してユーザーの質問に丁寧に答えてください。\n",
        "必ず文脈からわかる情報のみを使用して回答を生成してください。\n",
        "{context}\n",
        "\n",
        "ユーザーの質問: {question}\"\"\"\n",
        "prompt = ChatPromptTemplate.from_template(template)\n",
        "\n",
        "chain = (\n",
        "    RunnableParallel(\n",
        "        {\n",
        "            \"context\": _search_query | retriever,\n",
        "            \"question\": RunnablePassthrough(),\n",
        "        }\n",
        "    )\n",
        "    | prompt\n",
        "    | llm\n",
        "    | StrOutputParser()\n",
        ")"
      ],
      "metadata": {
        "id": "UjvFxY9L5QFY"
      },
      "execution_count": null,
      "outputs": []
    },
    {
      "cell_type": "code",
      "source": [
        "chain.invoke({\"question\": \"[GASより追加で質問あり。明日の返答とさせていただく]どこのタスク？\"})"
      ],
      "metadata": {
        "colab": {
          "base_uri": "https://localhost:8080/",
          "height": 53
        },
        "id": "CAlRUDIr3WKx",
        "outputId": "bcd7919f-b053-488a-e077-f0922a7b879c"
      },
      "execution_count": null,
      "outputs": [
        {
          "output_type": "stream",
          "name": "stdout",
          "text": [
            "Search query: [GASより追加で質問あり。明日の返答とさせていただく]どこのタスク？\n"
          ]
        },
        {
          "output_type": "execute_result",
          "data": {
            "text/plain": [
              "'回答: タスクはGasからの追加質問に関連しており、Gasのタスクになります。Gasは明日の返答を予定しています。'"
            ],
            "application/vnd.google.colaboratory.intrinsic+json": {
              "type": "string"
            }
          },
          "metadata": {},
          "execution_count": 53
        }
      ]
    },
    {
      "cell_type": "code",
      "source": [
        "chain.invoke({\"question\": \"石岡関連のタスクを出力して\"})"
      ],
      "metadata": {
        "colab": {
          "base_uri": "https://localhost:8080/",
          "height": 88
        },
        "id": "AngoCkEc0jXv",
        "outputId": "6ec32f99-4919-4e9b-b487-8f7f4feff7b5"
      },
      "execution_count": null,
      "outputs": [
        {
          "output_type": "stream",
          "name": "stdout",
          "text": [
            "Search query: 石岡関連のタスクを出力して\n"
          ]
        },
        {
          "output_type": "execute_result",
          "data": {
            "text/plain": [
              "'石岡関連のタスクを出力します。\\n\\n1. Sdr - CREATOR -> 石岡雅紀\\n2. Vda - CREATOR -> 石岡雅紀\\n3. Mac - CREATOR -> 石岡雅紀\\n4. Sdr、Vda、Pspm, Dtc PriorityのAa担当 - RESPONSIBLE_FOR -> Sdr、Vda、Pspm, Dtc Priority\\n5. Gas展開、Adt Nissan Team週次会議 - SUBSEQUENT_TO -> Rhel7.9へアップデート案内にPspmが対象リストに含まれていなかった理由はAmoで問い合わせ中'"
            ],
            "application/vnd.google.colaboratory.intrinsic+json": {
              "type": "string"
            }
          },
          "metadata": {},
          "execution_count": 88
        }
      ]
    },
    {
      "cell_type": "markdown",
      "source": [
        "## 文埋め込みと類似文書検索"
      ],
      "metadata": {
        "id": "NLmZnZxe7Ok4"
      }
    },
    {
      "cell_type": "code",
      "source": [
        "from langchain_openai import OpenAIEmbeddings"
      ],
      "metadata": {
        "id": "XWZhha6C681D"
      },
      "execution_count": null,
      "outputs": []
    },
    {
      "cell_type": "code",
      "source": [
        "embeddings_model = OpenAIEmbeddings(model=\"text-embedding-3-small\")"
      ],
      "metadata": {
        "id": "bYX0gWez8QPW"
      },
      "execution_count": null,
      "outputs": []
    },
    {
      "cell_type": "code",
      "source": [
        "from langchain_chroma import Chroma"
      ],
      "metadata": {
        "id": "PjGafeoL7YzJ"
      },
      "execution_count": null,
      "outputs": []
    },
    {
      "cell_type": "code",
      "source": [
        "# ベクトルデータベースを作る\n",
        "db = Chroma.from_documents(data, embeddings_model)"
      ],
      "metadata": {
        "id": "pHJ00e287reR"
      },
      "execution_count": null,
      "outputs": []
    },
    {
      "cell_type": "code",
      "source": [
        "# 抽出器を作る\n",
        "retriever = db.as_retriever(search_type=\"similarity\", search_kwargs={\"k\":1})"
      ],
      "metadata": {
        "id": "D2PD3qW4ZcM2"
      },
      "execution_count": null,
      "outputs": []
    },
    {
      "cell_type": "code",
      "source": [
        "query = \"VESPA お問合せの内容は？\"\n",
        "\n",
        "retriever.invoke(query)"
      ],
      "metadata": {
        "colab": {
          "base_uri": "https://localhost:8080/"
        },
        "id": "5d_eYDmb7-b1",
        "outputId": "08077923-0c7b-4ca0-d447-02c81f80aeeb",
        "collapsed": true
      },
      "execution_count": null,
      "outputs": [
        {
          "output_type": "execute_result",
          "data": {
            "text/plain": [
              "[Document(page_content='進 捗 状 況 報 告 書（週報）\\n\\nシステム名\\n\\n\\t\\t\\t\\t\\t\\t\\t\\t\\t\\t\\t\\t\\t\\t\\t\\tSDR、VDA、MAC\\n\\n\\n\\n2024年6月11\\n\\n日\\n\\n報 告 期 間\\n\\n2024年6月03日 ～ 2024年6月07\\n\\n日\\n\\n作 成 者\\n\\n石岡雅紀\\n\\n当\\n\\n\\n\\n期\\n\\n\\n\\n作\\n\\n\\n\\n業\\n\\n\\n\\n実\\n\\n\\n\\n施\\n\\n工程\\n\\nSDR、VDA、PSPM, DTC Priority\\n\\n作業項目\\n\\nSDR、VDA、PSPM, DTC PriorityのAA担当\\n\\n\\n\\n赤字：待ち\\n\\n緑字：対応予定\\n\\n---------------------------------------------------------------------------------------------------\\n\\n□\\u3000業務部署（GAS／XX6等）問合せ／周知\\u3000\\u3000\\n\\n\\u3000\\u3000□05/28) OperationStaffMeeting（6件）\\n\\n\\u3000\\u3000\\u3000\\u3000\\u3000⇒■05/31) GAS展開、ADT Nissan team週次会議\\u3000\\n\\n\\u3000\\u3000\\u3000\\u3000\\u3000※RHEL7.9へアップデート案内にPSPMが対象リストに含まれていなかった理由はAMOで問い合わせ中\\n\\n\\u3000\\u3000\\u300006/04) OperationStaffMeeting（1件）\\n\\n\\u3000\\u3000\\u3000\\u3000\\u3000⇒\\u3000AMO確認待ち \\n\\n\\u3000\\u3000□GAS問合せ（依頼：証明書期限一覧の作成）\\n\\n\\u3000\\u3000\\u3000\\u3000⇒\\u3000■04/01) 松ケ野さん、正英さんレビュー\\u3000内部向けの資料としては完了\\n\\n\\u3000\\u3000\\u3000\\u3000⇒\\u3000GAS展開用の資料作成中\\n\\n\\u3000\\u3000□VESPA問合せ（依頼：VESPAの認証方式変更\\u3000IDP⇒OKTA）\\n\\n\\u3000\\u3000\\u3000\\u3000⇒\\u3000■04/24) 保守定例内で開発案件となる方向であると確認。またIBXの他部署とも対応方針をそろえた方が良いので、情報収集が必要。\\n\\n\\u3000\\u3000\\u3000\\u3000⇒\\u3000■04/25）VESPAよりアンケートフォーム形式で対応状況の聞き取り調査のメール受領\\n\\n\\u3000\\u3000\\u3000\\u3000⇒\\u3000■05/09）IB1伊藤-3より、既に1月にOKTAに変更されている旨回答有り\\n\\n\\u3000\\u3000\\u3000\\u3000⇒\\u3000AMOにてIB3も対応不要で問題ないか確認中\\u3000configの修正対応？\\n\\n\\u3000\\u3000\\u3000\\u3000⇒\\u3000保守開発間で返答内容を取りまとめてアンケート回答が必要\\n\\n\\u3000\\u3000\\u3000\\u3000※接続テストの経費が必要になりそう\\n\\n\\u3000\\u3000□XX6問合せ（依頼：CDGのレスポンスの遅れにより、CONSULT側でタイムアウトする）\\n\\n\\u3000\\u3000\\u3000⇒\\u3000■05/17)\\u3000AMOと対応方針を確認：CDG側での改善は大掛かりになる、処理自体は行えているので、CONSULTのタイムアウト上限値を上げていただく方針\\n\\n\\u3000\\u3000\\u3000\\u3000 ⇒\\u3000■05/17)\\u3000AMOでファイル準備中\\n\\n\\u3000\\u3000\\u3000\\u3000 ⇒\\u3000■05/20)\\u3000GASより追加で質問あり。明日の返答とさせていただく。\\n\\n\\u3000\\u3000\\u3000\\u3000 ⇒\\u3000■05/20)\\u3000CPUの高騰が確認でき、レスポンス遅延の原因の可能性が高い旨返信。AMOよりインフラチーム問い合わせ。\\n\\n\\u3000\\u3000 \\u3000\\u3000⇒\\u3000■05/21)\\u3000CPU高騰とエラーの分布図をGASに共有\\u30004月以前は問題が無い旨説明\\u3000またCPU高騰はアラート設定がない事を回答\\n\\n\\u3000\\u3000\\u3000\\u3000 ⇒\\u3000■05/22)\\u3000インフラチームの回答をGAS共有\"ログ削除済みで調査不可。証明書更新に伴うサーバの再起動でキャッシュクリアされたため、パフォーマンスが低下した可能性\"\\n\\n\\u3000\\u3000\\u3000\\u3000 ⇒\\u3000■05/29) \\u3000AMOで証明書期限の確認⇒2121年まで有効なため、インフラ環境に変更が無ければ、サンセットまで証明書更新にともなうサーバ再起動は行われない想定\\n\\n\\u3000\\u3000\\u3000\\u3000 ⇒\\u3000SDRでエラー検知可能かをAMOで確認中\\n\\n\\u3000\\u3000\\u3000■ジヤトコ問合せ（依頼：データ不備のリカバリのため、大量データ送信）\\n\\n\\u3000\\u3000\\u3000\\u3000⇒\\u3000■05/16)\\u3000約2週間かけて115万件を送信(一日の上限は10万件)する旨連絡有\\u300020日より開始\\n\\n\\u3000\\u3000\\u3000\\u3000\\u3000\\u3000⇒\\u3000■05/27)\\u3000AMOより先週の結果報告\\u3000エラーなく全件更新完了\\n\\n\\u3000\\u3000\\u3000\\u3000\\u3000\\u3000⇒\\u3000■06/03)\\u3000AMOより先週の結果報告\\u3000エラーなく全件更新完了。ジヤトコに結果報告済み。\\n\\n\\u3000\\u3000\\u3000□05/21)\\u3000SDRでのH15 Key登録エラー\\n\\n\\u3000\\u3000\\u3000\\u3000\\u3000\\u3000\\u3000⇒■05/21)\\u3000キーが使用済みという旨のエラーがログ確認されたため(5/15のログ)、AMOよりDaimlerチームに問い合わせ\\n\\n\\u3000\\u3000\\u3000\\u3000\\u3000\\u3000\\u3000⇒■05/21)\\u3000Daimlerチームより回答\"以前既にプログラミングされ、車両にリンクしたため使用済みとなっている。新しい空のキー取得が必要\"\\n\\n\\u3000\\u3000\\u3000\\u3000\\u3000\\u3000\\u3000⇒■05/21)\\u3000AMOより、Daimlerチームに新しいキーで再トライされているが、応答がなくエラー画面になっている旨説明\\n\\n\\u3000\\u3000\\u3000\\u3000\\u3000\\u3000\\u3000⇒■05/27)\\u3000Daimlerチームより詳細の聞き取りがあり、AMOより回答\\n\\n\\u3000\\u3000\\u3000\\u3000\\u3000\\u3000\\u3000⇒■05/28)\\u3000Daimlerチームより、一時的なエラーであり5/15以降問題ないため、再度試していただくよう返信あり\\n\\n\\u3000\\u3000\\u3000\\u3000\\u3000\\u3000\\u3000⇒■05/28)\\u3000GASよりDaimlerに再度試すように案内済み\\n\\n\\u3000\\u3000\\u3000\\u3000\\u3000\\u3000\\u3000⇒\\u3000Daimlerからの返信待ち\\n\\n□\\u3000障害\\n\\n      □\\u3000TLS1.0無効化対応\\n\\n\\u3000\\u3000\\u3000\\u3000\\u3000⇒\\u3000■05/15) XX6よりC4分のQA動確完了の連絡あり。\\n\\n\\u3000\\u3000\\u3000\\u3000\\u3000⇒\\u3000■05/15) IT0にQAの動確完了の連絡実施。\\n\\n\\u3000\\u3000\\u3000\\u3000\\u3000⇒\\u3000■05/21) オペレーションスタッフミーティングで本番日程の周知あり：6月10日(月)00:00-05:00\\n\\n\\u3000\\u3000\\u3000\\u3000\\u3000⇒\\u3000■05/21) XX6に当日の動確を依頼\\n\\n\\u3000\\u3000\\u3000\\u3000\\u3000⇒\\u3000■05/31)\\u3000XX6小林-3に担当より返信がないため回答を依頼\\n\\n\\u3000\\u3000\\u3000\\u3000\\u3000⇒\\u3000■05/31)\\u3000XX6佐藤さんより、C3P分はCITSで対応しますが、9時までは難しく少しずれこみますの返答。\\n\\n\\u3000\\u3000\\u3000\\u3000\\u3000⇒\\u30006/10の動確完了連絡待ち\\u3000\\u3000\\n\\n\\u3000\\u3000\\u3000□\\u300011/10_PSPMユーザ情報管理画面でのGD不具合\\u3000・・・暫定対応中\\n\\n\\u3000\\u3000\\u3000\\u3000\\u3000⇒\\u3000■04/25）IT0藤沢さんから返信\"PSPMアプリ側内部でいじるCookieは自アプリのCookie Nameの範囲とし、GDのCookieはそのまま返すようにする修正を検討いただけますか\"\\n\\n\\u3000\\u3000\\u3000\\u3000\\u3000⇒\\u3000■05/08）松ケ野さんより費用についてはIT0から出してもらえるか返信\\n\\n\\u3000\\u3000\\u3000\\u3000\\u3000⇒\\u3000■05/08）IT0藤沢さんより返信\"数十万円程度なら可能であるが、まずは保守業連枠で対応してください”\\n\\n\\u3000\\u3000\\u3000\\u3000\\u3000⇒\\u3000■05/10）IT0藤沢さんより14日にミーティング設定される\\n\\n\\u3000\\u3000\\u3000\\u3000\\u3000⇒\\u3000■05/14）IB3で修正を行う方向。調査についてはIB3で業連枠で実施、AMOからの見積もりが出たらIT0藤沢さんに連絡。\\n\\n\\u3000\\u3000\\u3000\\u3000\\u3000⇒\\u3000■05/14）業連発行\\n\\n\\u3000\\u3000\\u3000\\u3000\\u3000⇒\\u3000■05/30）QA環境を検証のためにIB3で一日占有したい旨を週次ミーティングで議題として確認⇒タイミングや手段を要件等\\n\\n\\u3000\\u3000\\u3000\\u3000\\u3000⇒\\u3000QA確認実施のタイミングや手段を要件等\\n\\n\\u3000\\u3000\\u3000\\u3000\\u3000※IS0がOKを出している以上、IB3側は問題ない認識。修正が必要な場合はIT0から費用を出してもらう方向。\\u3000\\u3000\\u3000\\u3000\\u3000\\n\\n\\u3000\\u3000\\u3000□3/14)VDA search検索不可\\u300011:45~15:30(03:45)\\u3000※検索中を示すプログレスバーが停止し、画面が遷移しない現象\\n\\n\\u3000\\u3000\\u3000\\u3000 ⇒\\u3000■05/08) AMO木村さん確認完了\\n\\n\\u3000\\u3000\\u3000 \\u3000⇒\\u3000■05/08) GASに対応完了報告\\n\\n\\u3000\\u3000\\u3000\\u3000 ⇒\\u3000■05/09) GAS安西さんより検索上限100件に設定されると困る旨返信あり、必要な設定である旨背景を説明\\n\\n\\u3000\\u3000\\u3000\\u3000 ⇒\\u3000■05/10) ADT Nissan team週次会議内で再度説明、検索に時間がかかっても上限を外すような修正はできないかリクエストいただく。\\n\\n\\u3000\\u3000\\u3000\\u3000 ⇒\\u3000■05/13) IB3任さんに相談\\n\\n\\u3000\\u3000\\u3000\\u3000 ⇒\\u3000■05/13) GAS安西さんに検索上限を引き上げる方向で修正を検討している旨説明、現実的な上限値について聞き取り。\\n\\n\\u3000\\u3000\\u3000\\u3000 ⇒\\u3000■05/14) GAS安西さんより上限値1,000でよいと回答を頂く。\\n\\n\\u3000\\u3000\\u3000\\u3000 ⇒\\u3000■05/14) IB3任さんで設定変更完了、AMOに動作確認依頼。\\n\\n\\u3000\\u3000\\u3000\\u3000 ⇒\\u3000■05/24) ミーティングで状況確認。1,000件で実施した場合にsnowflake(DBサーバー)でSQLが長すぎてコンパイルエラーが発生。任さんに上限の件数を確認いただく。\\n\\n\\u3000\\u3000\\u3000\\u3000 ⇒\\u3000■05/27) 任さんより回答有。ECU条件ありの場合、500件。ECU条件なしの場合、200件。\\n\\n\\u3000\\u3000\\u3000\\u3000 ⇒\\u3000■05/27) 任さんに上記の上限で検索上限値を設定可能か確認\\n\\n\\u3000\\u3000\\u3000\\u3000 ⇒\\u3000■05/28) IE0衛藤さんにSnowFlakeのリソース増強は可能か相談\\n\\n\\u3000\\u3000\\u3000\\u3000 ⇒\\u3000■05/29) 任さんより回答\"ECU条件ありの場合、500件。ECU条件なしの場合、200件。での件数制限は可能\"\\n\\n\\u3000\\u3000\\u3000\\u3000 ⇒\\u3000■05/29) IE0衛藤さんよりフォームから問い合わせるよう指示。問い合わせ実施。\\n\\n\\u3000\\u3000\\u3000\\u3000 ⇒\\u3000■05/30) さらに別のフォームから問い合わせるように返信あり。再問合せ。\\n\\n\\u3000\\u3000\\u3000\\u3000 ⇒\\u3000■05/31) ”ラボスタ”で問い合わせのスレッドが作成される\\n\\n\\u3000\\u3000\\u3000\\u3000 ⇒\\u3000担当からの回答待ち\\n\\n\\u3000\\u3000\\u3000□05/13)PSPM SQL 本番サーバーのアラート発報 (SQL Fail Over)\\n\\n\\u3000\\u3000\\u3000\\u3000\\u3000\\u3000⇒■05/13) AMOよりASP3サポートデスク問い合わせ\\n\\n\\u3000\\u3000\\u3000\\u3000\\u3000\\u3000⇒■05/13) ASP3サポートデスクより異常なしの回答\\n\\n\\u3000\\u3000\\u3000\\u3000\\u3000\\u3000⇒■05/13) AMOよりIT0木屋さんにPSPMのアプリ側のログでも特に異常がないため、無視できるか確認\\n\\n\\u3000\\u3000\\u3000\\u3000\\u3000\\u3000⇒■05/13) IT0木屋さんより、AMOに動作に異常が出るものではないので無視できると回答\\n\\n\\u3000\\u3000\\u3000\\u3000\\u3000\\u3000⇒■05/13) CPUの高負荷アラートも発生し、IT0木屋さんに再度問い合わせ\\n\\n\\u3000\\u3000\\u3000\\u3000\\u3000\\u3000⇒■05/13) IT0木屋さんより高負荷の要因となっているプロセスの確認を依頼される\\n\\n            ⇒■05/13) IT0木屋さんとミーティング\\u3000\\n\\n\\u3000\\u3000\\u3000\\u3000\\u3000\\u3000\\u3000\\u3000\\u3000\\u3000\\u3000\\u3000\\u3000\\u3000\\u3000⇒負荷は一時的なものであるが、CPUのログを取っていないため詳細の調査は行えない状況。⇒14日よりログ取得開始。再発時はログ内容を調査する。\\n\\n\\u3000\\u3000\\u3000\\u3000\\u3000\\u3000⇒■05/14)\\u3000保守ミーティング内で今月末までログ生成し、内容を精査。問題なければ以降ログ生成は停止する方向とした。\\n\\n\\u3000\\u3000\\u3000\\u3000\\u3000\\u3000⇒■05/22)\\u3000アラート再発。時間がかかっているクエリをAMOで調査。\\n\\n\\u3000\\u3000\\u3000\\u3000\\u3000\\u3000 ⇒\\u3000AMOからの連絡待ち(月末にログ確認)\\n\\n\\u3000\\u3000\\u3000\\u3000□05/23)\\u3000PSPMユーザー登録ページのエラー\\n\\n\\u3000\\u3000\\u3000\\u3000\\u3000\\u3000\\u3000⇒■05/23)XX6よりPSPMのユーザー登録において、ファイルからデータ登録を行う際にエラーのアラートが出て登録できないと申告あり\\n\\n\\u3000\\u3000\\u3000\\u3000\\u3000\\u3000\\u3000⇒■05/23)AMOで確認し、ユーザーリクエストのチェックバッチが止まっていたため手動で再開させ登録成功を確認\\n\\n\\u3000\\u3000\\u3000\\u3000\\u3000\\u3000\\u3000⇒■05/23)XX6に対応完了を報告\\n\\n\\u3000\\u3000\\u3000\\u3000\\u3000\\u3000\\u3000⇒\\u3000AMOからの原因調査、再発防止策の返答待ち\\n\\n\\u3000□\\u3000保守関連（富士通：SDR／VDA／PSPM／DTC Priority）\\n\\n\\u3000\\u3000□Server Monitoring\\n\\n\\u3000\\u3000\\u3000\\u3000\\u3000\\u3000\\u3000なし\\n\\n\\u3000\\u3000\\u3000\\u3000\\u3000\\u3000□Server Monitoringのエラー対応\\u3000(CONSULT User Loginのエラーが頻出する\\u3000※実害なし)\\n\\n\\u3000\\u3000\\u3000\\u3000\\u3000⇒\\u3000■04/24)保守定例内で開発T石川さんより状況説明あり。2回連続検知で初めてメール送信されるような改修はプロジェクト対応になる。\\n\\n\\u3000\\u3000\\u3000\\u3000\\u3000⇒\\u3000RNTBCIのサポート開始には運用で対処する（引継ぎ時に経緯を理解してもらう）\\n\\n\\u3000\\u3000\\u3000\\u3000\\u3000・費用の扱いは？⇒12月リリース時点から発生している現象\\u3000設定変更レベルなら問題ないが、改修レベルになると要相談\\n\\n\\u3000\\u3000□RNTBCI24時間サポート依頼\\n\\n\\u3000\\u3000\\u3000\\u3000\\u3000⇒\\u3000■05/09)\\u3000RNTBCIにファイルにが2.0人月と書いてあるのでどちらが正しいのか確認\\n\\n\\u3000\\u3000\\u3000\\u3000\\u3000⇒\\u3000■05/09)\\u3000RNTBCIより1.25人月が正しい旨返信あり\\n\\n\\u3000\\u3000\\u3000\\u3000\\u3000⇒\\u3000■05/10)\\u30000.75人月で対応いただけないか返信\\n\\n\\u3000\\u3000\\u3000\\u3000\\u3000⇒\\u3000■05/14)\\u3000RNTBCIより、0.75人月で対応いただける旨返信あり\\n\\n\\u3000\\u3000\\u3000\\u3000\\u3000⇒\\u3000■05/24)\\u3000塩野さんにプロジェクト番号取得いただく\\n\\n\\u3000\\u3000\\u3000\\u3000\\u3000⇒\\u3000■05/24-27)\\u3000DR資料作成\\n\\n\\u3000\\u3000\\u3000\\u3000\\u3000⇒\\u3000■05/27)\\u3000松ケ野さんレビュー実施\\n\\n\\u3000\\u3000\\u3000\\u3000\\u3000⇒\\u3000■05/28)\\u3000根門さんレビュー実施\\n\\n\\u3000\\u3000\\u3000\\u3000\\u3000⇒\\u3000■05/30)\\u3000藤田さんレビュー実施\\n\\n\\u3000\\u3000\\u3000\\u3000\\u3000⇒\\u3000■05/30)\\u3000RNTBCIにKTについて確認。7月一週に担当のChakradharさんとミーティングで引継ぎ実施。\\n\\n\\u3000\\u3000\\u3000\\u3000\\u3000⇒\\u3000■06/05)\\u3000DR実施\\n\\n\\u3000\\u3000\\u3000\\u3000\\u3000⇒\\u30006/11\\u3000再DR予定\\n\\n\\u3000\\u3000\\u3000\\u3000\\u3000⇒\\u3000メール連絡先一覧のファイル作成\\n\\n\\u3000\\u3000\\u3000\\u3000\\u3000⇒\\u3000KT準備(AMOと内容確認、資料準備)⇒富士通側の費用は業連\\n\\n\\u3000\\u3000□\\u3000BCVデータ重複（BCVからのデータにECU Mnemonicの重複があり、VDA側でデータ登録エラー発生）※2/16から発生\\n\\n\\u3000\\u3000\\u3000\\u3000\\u3000※RenaultフォーマットとAllianceフォーマットが混在している⇒Renaultフォーマットに戻してもらうが、再発\\n\\n\\u3000\\u3000\\u3000\\u3000\\u3000⇒恒久対応\\u3000※対応費用をRenaultへ提示済\\n\\n\\u3000\\u3000\\u3000\\u3000□\\u3000重複パターン\\n\\n\\u3000\\u3000\\u3000\\u3000\\u3000⇒\\u3000■05/16)\\u3000AMOより見積もり回答いただく。ソースコード修正に16時間取っている為、詳細をミーティング設定し確認\\n\\n\\u3000\\u3000\\u3000\\u3000\\u3000⇒\\u3000■05/16)\\u3000ミーティング内で想定より多くの時間を取っている為見直しをお願い\\n\\n\\u3000\\u3000\\u3000\\u3000\\u3000⇒\\u3000■05/22)\\u3000AMOより再見積もり回答あり。(16→4時間)GASに回答し、了承いただく。\\n\\n\\u3000\\u3000\\u3000\\u3000\\u3000⇒\\u3000■05/23)\\u3000GASとミーティング実施\\u3000別業連対応中のため6月からの着手になる旨説明\\n\\n\\u3000\\u3000\\u3000\\u3000\\u3000⇒\\u3000業連が複数あるため調整中\\n\\n\\u3000\\u3000\\u3000\\u3000□\\u3000XDD不正文字ありパタ\\n\\n\\u3000\\u3000\\u3000\\u3000\\u3000⇒\\u3000■05/08）保守定例ミーティング内で開発石川さんより、\"バイト数で判断して対応する項目に入れる仕組みのため、文字化け時点でバイト数が狂う可能性”を指摘される\\n\\n\\u3000\\u3000\\u3000\\u3000\\u3000⇒\\u3000■05/23)\\u3000GASとミーティング実施\\u3000不正文字の置き換えでの対応は、バイト数で部分参照を行っているため、エラーとなり置き換えできない事がある旨説明。\\n\\n\\u3000\\u3000\\u3000\\u3000\\u3000\\u3000\\u3000\\u3000\\u3000\\u3000\\u3000\\u3000\\u3000\\u3000\\u3000→取り込み実績のあるファイルに@など置き換えの文字追加し、バイト数が変わったときにエラーで拾えるかの確認をAMOで実施\\n\\n\\u3000\\u3000\\u3000\\u3000\\u3000⇒\\u3000AMOからの調査結果待ち(現時点の過去実績を確認中)\\n\\n\\u3000\\u3000\\u3000\\u3000□\\u3000VDAとVDA Searchの不一致(品質チームがVDA Searchでエンジンナンバー参照不可）\\n\\n\\u3000\\u3000\\u3000\\u3000\\u3000⇒\\u3000■04/04\\u3000正英さんより以下状況引継ぎ\\n\\n\\u3000\\u3000\\u3000\\u3000\\u3000①BCV→VDA間でEV車用のマッピングが対応されていないため、エンジンナンバーがVDA上でNULLになる問題がある\\n\\n\\u3000\\u3000\\u3000\\u3000\\u3000②しかしICE車のエンジンナンバーも参照できない状態と判明（VDAには反映有）\\n\\n\\u3000\\u3000\\u3000\\u3000\\u3000③VDA SearchのエンジンナンバーはQIDEA経由で連携されるため、ここが原因の可能性有\\n\\n\\u3000\\u3000\\u3000\\u3000\\u3000\\u3000⇒\\u3000VDA Search操作確認\\u3000ファイルを分析し、それぞれの現象を整理\\n\\n\\u3000\\u3000\\u3000■\\u3000VDAのMMC/AWSサーバー増強依頼\\n\\n\\u3000\\u3000\\u3000\\u3000⇒\\u3000■05/16)\\u3000AMOよりMMC部分の残サイズが少なくなっている旨報告を受ける\\n\\n\\u3000\\u3000\\u3000\\u3000\\u3000\\u3000⇒\\u3000■05/16)\\u3000根門さんに承認依頼(32GB増量して、計70GB＝3年稼働できる見込み)\\n\\n\\u3000\\u3000\\u3000\\u3000⇒\\u3000■05/16)\\u3000根門さんより承認いただく\\n\\n\\u3000\\u3000\\u3000\\u3000\\u3000\\u3000⇒\\u3000■05/29)\\u3000拡張完了\\n\\n\\u3000\\u3000\\u3000□\\u3000X360\\xa0不正文字によるエラー\\n\\n\\u3000\\u3000\\u3000\\u3000\\u3000⇒\\u3000予算と日程の調整\\n\\n\\u3000\\u3000\\u3000□\\u3000SDR\\xa0ログ容量増加対応\\n\\n\\u3000\\u3000\\u3000\\u3000\\u3000⇒\\u3000■03/05）富士通AMOより連絡あり（暫定：Zip化、恒久：検討中）\\n\\n\\u3000\\u3000\\u3000\\u3000\\u3000⇒\\u3000富士通AMOからの連絡待ち\\n\\n\\u3000\\u3000\\u3000□\\u3000VDAデータ（IE0）\\u3000※X360データとしして、利用許諾を前提にユーザ利用を進めることを検討している\\n\\n\\u3000\\u3000\\u3000\\u3000\\u3000⇒IE0からの連絡待ち\\n\\n\\u3000\\u3000\\u3000■\\u3000中国ADT-RT MetaデータのIdPサービス利用申請 ・・・荻野さんよりAMOに引継ぎ\\n\\n\\u3000\\u3000\\u3000\\u3000⇒\\u3000■04/24)\\u3000リンさんとミーティング実施、状況聞き取り\\n\\n\\u3000\\u3000\\u3000\\u3000⇒\\u3000■04/24)\\u3000Boschチームにて403エラーが解消され、正しいメタデータを用意できたら、再申請についてはIB3で行う旨返信\\n\\n\\u3000\\u3000\\u3000\\u3000⇒\\u3000■04/26)\\u3000Boschチームより別件対応で現在調査がストップ中との事\\n\\n\\u3000\\u3000\\u3000\\u3000⇒\\u3000■06/04)\\u3000Boschチームより返信あり、403エラーは解消。ProdでIDP接続できないため、確認してほしい。\\n\\n\\u3000\\u3000\\u3000\\u3000⇒\\u3000■06/04)\\u3000新しいメタデータが添付されていたため、前回申請を確認し、異なるメタデータである事を確認。GDサポートデスクに修正依頼を送信。\\n\\n\\u3000\\u3000\\u3000\\u3000⇒\\u3000■06/04)\\u3000GDサポートデスクより返信、今夜対応いただけるとの事。\\n\\n\\u3000\\u3000\\u3000\\u3000⇒\\u3000■06/05)\\u3000対応完了をBoschに連絡\\n\\n\\u3000\\u3000\\u3000\\u3000□\\u3000POSTMAN対策(XX6がアプリケーション用のIDでVDAに直接アクセスしていた問題)\\n\\n\\u3000\\u3000\\u3000\\u3000\\u3000⇒\\u3000状況確認(APIGEEチームの回答確認)\\n\\n□\\u3000業連FY24\\n\\n\\u3000\\u3000□\\u3000＜IS業連＞FY24\\u3000VESPA REPROサポート\\n\\n\\u3000\\u3000\\u3000\\u3000□\\u3000FY24\\u30006月分(6/25頃にAMOに確認)\\n\\n\\u3000\\u3000□\\u3000＜IS業連＞FY24\\u3000CGW情報開示ベンダー登録＆保守\\n\\n\\u3000\\u3000\\u3000\\u3000□\\u3000FY24\\u30006月分(6/25頃にAMOに確認)\\u3000\\u3000\\n\\n\\u3000\\u3000□\\u3000＜IS業連＞IP特性チェック追加（２バッチ修正）\\u3000※工数：63.0h予定\\n\\n\\u3000\\u3000\\u3000\\u3000⇒\\u3000FY24対応\\n\\n\\u3000  □\\u3000＜IS業連＞\\u3000PSPM Cookie影響調査\\n\\n\\u3000\\u3000\\u3000\\u3000⇒\\u3000■05/16）見積もり、作業実施依頼\\n\\n\\u3000\\u3000\\u3000\\u3000⇒\\u3000富士通AMOからの連絡待ち（対応完了待ち）\\n\\n\\u3000\\u3000□\\u3000＜IS業連＞\\u3000BCVデータ重複対応(VIN2件)\\u3000\\n\\n\\u3000\\u3000\\u3000\\u3000\\u3000⇒\\u3000■05/23）GASより業連発行\\n\\n\\u3000\\u3000\\u3000\\u3000\\u3000⇒\\u3000■05/24）進捗確認\\u300027日作業\\u300028日のバッチ確認予定\\n\\n\\u3000\\u3000\\u3000\\u3000\\u3000⇒\\u3000■05/30）業連対象の2件は対応済み。追加発生分をどのように進めるか要調整。\\n\\n\\u3000\\u3000\\u3000\\u3000\\u3000⇒\\u3000恒久対応後に対象ファイルを取り込むよう進めたい。6月の業連のスケジュールをAMOと確認後にGASとミーティング。\\n\\n\\u3000\\u3000□\\u3000＜IS業連＞\\u3000BCVデータ重複対応(VIN3件)\\u3000\\n\\n\\u3000\\u3000\\u3000\\u3000\\u3000⇒\\u3000■05/27）GASより業連発行\\n\\n\\u3000\\u3000\\u3000\\u3000\\u3000⇒\\u3000■05/30）業連対象の3件は対応済み。追加発生分をどのように進めるか要調整。\\n\\n\\u3000\\u3000\\u3000\\u3000\\u3000⇒\\u3000恒久対応後に対象ファイルを取り込むよう進めたい。6月の業連のスケジュールをAMOと確認後にGASとミーティング。\\n\\n\\u3000\\u3000\\u3000\\u3000\\u3000⇒\\u3000富士通AMOからの完了連絡待ち\\n\\n\\u3000\\u3000■\\u3000＜IS業連＞\\u3000部品交換に伴うIASS更新※現地対応 \\n\\n\\u3000\\u3000\\u3000\\u3000\\u3000⇒\\u3000■05/27)\\u3000XX6より実施計画がある旨事前連絡有\\n\\n\\u3000\\u3000\\u3000\\u3000\\u3000⇒\\u3000■05/28)\\u300031日実施\\n\\n\\u3000\\u3000\\u3000\\u3000\\u3000⇒\\u3000■05/31)\\u3000対応完了\\n\\n\\u3000\\u3000■\\u3000＜IS業連＞\\u3000DTC優先度データ（JPN ALL/NAE J12）リリース\\u300005/27依頼\\n\\n\\u3000\\u3000\\u3000\\u3000\\u3000⇒\\u3000■05/27)\\u3000GASよりファイル着。業連発行。31日締め切り。\\n\\n\\u3000\\u3000\\u3000\\u3000\\u3000⇒\\u3000■05/30)\\u3000別件(下記)優先のため、GAS月曜対応に同意いただく。\\n\\n\\u3000\\u3000\\u3000\\u3000\\u3000⇒\\u3000■06/03)\\u3000リリース完了\\n\\n\\u3000\\u3000■\\u3000＜IS業連＞\\u3000XDDのFamily Code等のVDA更新 5/30依頼\\n\\n\\u3000\\u3000\\u3000\\u3000\\u3000⇒\\u3000■05/30)\\u3000GASより依頼。テストが止まっているので緊急で本日対応⇒DTC Priorityは月曜に延期に同意いただく。\\n\\n\\u3000\\u3000\\u3000\\u3000\\u3000⇒\\u3000■05/30)\\u3000対応完了\\n\\n\\u3000\\u3000■\\u3000＜IS業連＞\\u3000部品交換に伴うIASS更新※現地対応 日程未定\\n\\n\\u3000\\u3000\\u3000\\u3000\\u3000⇒\\u3000■06/3)\\u3000XX6より実施計画がある旨事前連絡有。GASで業連発行\\n\\n\\u3000□\\u3000業連FY23残対応\\n\\n\\u3000\\u3000■\\u3000＜IS業連＞VESPAリプロチェック\\u3000Config対応\\u3000※工数：40.5h\\n\\n\\u3000\\u3000\\u3000\\u3000⇒\\u3000■03/11）富士通AMOに連絡（業連実施依頼）\\n\\n\\u3000\\u3000\\u3000\\u3000⇒\\u3000■04/17）富士通AMOより保守定例ミーティング内で着手した連絡有\\n\\n\\u3000\\u3000\\u3000\\u3000⇒\\u3000■05/29）リリース前レビュー\\n\\n\\u3000\\u3000\\u3000\\u3000⇒\\u3000■06/04）本番リリース\\n\\n\\u3000\\u3000\\u3000\\u3000⇒\\u3000■06/10）リリース後の動確完了\\u3000AMOよりGAS報告\\n\\n□\\u3000その他\\n\\n\\u3000\\u3000□\\u300004/03) オペレーションスタッフミーティング内で周知のあった組織変更に伴う担当変更を実施\\n\\n\\u3000\\u3000\\u3000\\u3000・監視アラートの連絡先変更（正英さん⇒石岡への変更）\\n\\n\\u3000\\u3000\\u3000\\u3000⇒\\u3000AMO依頼済み\\n\\n\\u3000\\u3000\\u3000\\u3000⇒\\u3000■04/23）AMOに状況確認、未対応のため本日実施との事\\n\\n\\u3000\\u3000\\u3000\\u3000⇒\\u3000■05/13）正英さんよりAMOに未だにメールが届く旨連絡\\n\\n\\u3000\\u3000\\u3000\\u3000⇒\\u3000■05/14）AMOより木屋さんにフォローアップ\\n\\n\\u3000\\u3000\\u3000\\u3000⇒\\u3000富士通AMOからの連絡待ち\\n\\n\\xa0\\n\\n\\u3000\\u3000\\u3000□ABSOLのAMO追加\\n\\n\\u3000\\u3000\\u3000\\u3000\\u3000⇒\\u3000■06/06）申請のExcelを埋めて依頼メール送信\\n\\n\\u3000\\u3000\\u3000\\u3000\\u3000⇒反映待ち\\n\\n\\u3000\\u3000\\u3000\\u3000\\u3000\\u3000\\u3000\\u3000\\n\\n＊連絡事項＊\\n\\n\\u3000\\u3000\\u3000\\u3000なし\\n\\n\\n\\n\\n\\n\\n\\n連絡：（自社へ）\\n\\nなし\\n\\nVer1.0', metadata={'source': 'docx/example.docx'})]"
            ]
          },
          "metadata": {},
          "execution_count": 34
        }
      ]
    },
    {
      "cell_type": "markdown",
      "source": [
        "## Retrieval を活用したチャットモデルの制御"
      ],
      "metadata": {
        "id": "3C5uPDm0_g-u"
      }
    },
    {
      "cell_type": "markdown",
      "source": [
        "### まずはただ聞いてみる"
      ],
      "metadata": {
        "id": "fyAAoeOwXovI"
      }
    },
    {
      "cell_type": "code",
      "source": [
        "from langchain_openai import ChatOpenAI"
      ],
      "metadata": {
        "id": "8fMkwlSZXqkE"
      },
      "execution_count": null,
      "outputs": []
    },
    {
      "cell_type": "code",
      "source": [
        "gpt4o = ChatOpenAI(model=\"gpt-4o\", temperature=0.1)\n",
        "out = gpt4o.invoke(\"VESPAお問合せの内容は？\")\n",
        "print(out.content)"
      ],
      "metadata": {
        "colab": {
          "base_uri": "https://localhost:8080/"
        },
        "id": "R1J2WySv8UJ2",
        "outputId": "e45997dd-eea6-4d82-f0d6-f3f619fdff50",
        "collapsed": true
      },
      "execution_count": null,
      "outputs": [
        {
          "output_type": "stream",
          "name": "stdout",
          "text": [
            "「VESPAお問合せの内容は？」という質問に対して、具体的な情報が不足しているため、一般的な回答を提供します。VESPAに関するお問い合わせ内容は多岐にわたる可能性があります。以下は、一般的な問い合わせ内容の例です：\n",
            "\n",
            "1. **製品情報**:\n",
            "   - 新しいモデルの詳細\n",
            "   - 技術仕様\n",
            "   - カラーバリエーション\n",
            "   - 価格\n",
            "\n",
            "2. **購入に関する質問**:\n",
            "   - 購入方法\n",
            "   - 支払いオプション\n",
            "   - ディーラーの所在地\n",
            "   - 試乗の予約\n",
            "\n",
            "3. **アフターサービス**:\n",
            "   - 保証期間と内容\n",
            "   - メンテナンスサービス\n",
            "   - 修理の予約\n",
            "   - 部品の取り寄せ\n",
            "\n",
            "4. **カスタマイズ**:\n",
            "   - アクセサリーのオプション\n",
            "   - カスタムペイントやデザイン\n",
            "\n",
            "5. **技術サポート**:\n",
            "   - トラブルシューティング\n",
            "   - 使用方法のガイド\n",
            "   - ソフトウェアアップデート（電動モデルの場合）\n",
            "\n",
            "6. **その他**:\n",
            "   - イベント情報\n",
            "   - プロモーションやキャンペーン\n",
            "   - 環境への取り組み\n",
            "\n",
            "具体的な問い合わせ内容に応じて、VESPAの公式ウェブサイトやカスタマーサポートに連絡することをお勧めします。\n"
          ]
        }
      ]
    },
    {
      "cell_type": "markdown",
      "source": [
        "### 準備：プロンプトテンプレートを作る"
      ],
      "metadata": {
        "id": "7oLVSlB9X00C"
      }
    },
    {
      "cell_type": "code",
      "source": [
        "from langchain_core.prompts.prompt import PromptTemplate"
      ],
      "metadata": {
        "id": "tGHzi9KVX5CF"
      },
      "execution_count": null,
      "outputs": []
    },
    {
      "cell_type": "code",
      "source": [
        "prompt_template = PromptTemplate(\n",
        "    input_variables=[\"question\", \"context\"],\n",
        "    template=\"以下を参照して、質問に答えてください。\\n\\n{context}\\n\\n質問：{question}\"\n",
        ")"
      ],
      "metadata": {
        "id": "w_cMRZ2x8dbE"
      },
      "execution_count": null,
      "outputs": []
    },
    {
      "cell_type": "code",
      "source": [
        "example = {\"question\":\"これは質問です\", \"context\":\"これは外部知識です\"}\n",
        "\n",
        "prompt_template.invoke(example)"
      ],
      "metadata": {
        "id": "jLLxeksvYQDT",
        "outputId": "975bc04d-5459-47d8-c67e-cab38bcd2466",
        "colab": {
          "base_uri": "https://localhost:8080/"
        }
      },
      "execution_count": null,
      "outputs": [
        {
          "output_type": "execute_result",
          "data": {
            "text/plain": [
              "StringPromptValue(text='以下を参照して、質問に答えてください。\\n\\nこれは外部知識です\\n\\n質問：これは質問です')"
            ]
          },
          "metadata": {},
          "execution_count": 40
        }
      ]
    },
    {
      "cell_type": "markdown",
      "source": [
        "### 準備：抽出器を作る"
      ],
      "metadata": {
        "id": "VpBpRx7sZM5P"
      }
    },
    {
      "cell_type": "code",
      "source": [
        "# ベクトルデータベースを作る\n",
        "db = Chroma.from_documents(data, embeddings_model)\n",
        "\n",
        "# 抽出器を作る\n",
        "retriever = db.as_retriever(search_type=\"similarity\", search_kwargs={\"k\": 1})"
      ],
      "metadata": {
        "id": "mMpulwnu_-Fz"
      },
      "execution_count": null,
      "outputs": []
    },
    {
      "cell_type": "code",
      "source": [
        "retriever.invoke(\"VESPA お問合せの内容は？\")"
      ],
      "metadata": {
        "id": "q2u7nVlUZPtL",
        "outputId": "6a915fa9-9d6e-48b1-ebb0-d74819514df8",
        "colab": {
          "base_uri": "https://localhost:8080/"
        },
        "collapsed": true
      },
      "execution_count": null,
      "outputs": [
        {
          "output_type": "execute_result",
          "data": {
            "text/plain": [
              "[Document(page_content='進 捗 状 況 報 告 書（週報）\\n\\nシステム名\\n\\n\\t\\t\\t\\t\\t\\t\\t\\t\\t\\t\\t\\t\\t\\t\\t\\tSDR、VDA、MAC\\n\\n\\n\\n2024年6月11\\n\\n日\\n\\n報 告 期 間\\n\\n2024年6月03日 ～ 2024年6月07\\n\\n日\\n\\n作 成 者\\n\\n石岡雅紀\\n\\n当\\n\\n\\n\\n期\\n\\n\\n\\n作\\n\\n\\n\\n業\\n\\n\\n\\n実\\n\\n\\n\\n施\\n\\n工程\\n\\nSDR、VDA、PSPM, DTC Priority\\n\\n作業項目\\n\\nSDR、VDA、PSPM, DTC PriorityのAA担当\\n\\n\\n\\n赤字：待ち\\n\\n緑字：対応予定\\n\\n---------------------------------------------------------------------------------------------------\\n\\n□\\u3000業務部署（GAS／XX6等）問合せ／周知\\u3000\\u3000\\n\\n\\u3000\\u3000□05/28) OperationStaffMeeting（6件）\\n\\n\\u3000\\u3000\\u3000\\u3000\\u3000⇒■05/31) GAS展開、ADT Nissan team週次会議\\u3000\\n\\n\\u3000\\u3000\\u3000\\u3000\\u3000※RHEL7.9へアップデート案内にPSPMが対象リストに含まれていなかった理由はAMOで問い合わせ中\\n\\n\\u3000\\u3000\\u300006/04) OperationStaffMeeting（1件）\\n\\n\\u3000\\u3000\\u3000\\u3000\\u3000⇒\\u3000AMO確認待ち \\n\\n\\u3000\\u3000□GAS問合せ（依頼：証明書期限一覧の作成）\\n\\n\\u3000\\u3000\\u3000\\u3000⇒\\u3000■04/01) 松ケ野さん、正英さんレビュー\\u3000内部向けの資料としては完了\\n\\n\\u3000\\u3000\\u3000\\u3000⇒\\u3000GAS展開用の資料作成中\\n\\n\\u3000\\u3000□VESPA問合せ（依頼：VESPAの認証方式変更\\u3000IDP⇒OKTA）\\n\\n\\u3000\\u3000\\u3000\\u3000⇒\\u3000■04/24) 保守定例内で開発案件となる方向であると確認。またIBXの他部署とも対応方針をそろえた方が良いので、情報収集が必要。\\n\\n\\u3000\\u3000\\u3000\\u3000⇒\\u3000■04/25）VESPAよりアンケートフォーム形式で対応状況の聞き取り調査のメール受領\\n\\n\\u3000\\u3000\\u3000\\u3000⇒\\u3000■05/09）IB1伊藤-3より、既に1月にOKTAに変更されている旨回答有り\\n\\n\\u3000\\u3000\\u3000\\u3000⇒\\u3000AMOにてIB3も対応不要で問題ないか確認中\\u3000configの修正対応？\\n\\n\\u3000\\u3000\\u3000\\u3000⇒\\u3000保守開発間で返答内容を取りまとめてアンケート回答が必要\\n\\n\\u3000\\u3000\\u3000\\u3000※接続テストの経費が必要になりそう\\n\\n\\u3000\\u3000□XX6問合せ（依頼：CDGのレスポンスの遅れにより、CONSULT側でタイムアウトする）\\n\\n\\u3000\\u3000\\u3000⇒\\u3000■05/17)\\u3000AMOと対応方針を確認：CDG側での改善は大掛かりになる、処理自体は行えているので、CONSULTのタイムアウト上限値を上げていただく方針\\n\\n\\u3000\\u3000\\u3000\\u3000 ⇒\\u3000■05/17)\\u3000AMOでファイル準備中\\n\\n\\u3000\\u3000\\u3000\\u3000 ⇒\\u3000■05/20)\\u3000GASより追加で質問あり。明日の返答とさせていただく。\\n\\n\\u3000\\u3000\\u3000\\u3000 ⇒\\u3000■05/20)\\u3000CPUの高騰が確認でき、レスポンス遅延の原因の可能性が高い旨返信。AMOよりインフラチーム問い合わせ。\\n\\n\\u3000\\u3000 \\u3000\\u3000⇒\\u3000■05/21)\\u3000CPU高騰とエラーの分布図をGASに共有\\u30004月以前は問題が無い旨説明\\u3000またCPU高騰はアラート設定がない事を回答\\n\\n\\u3000\\u3000\\u3000\\u3000 ⇒\\u3000■05/22)\\u3000インフラチームの回答をGAS共有\"ログ削除済みで調査不可。証明書更新に伴うサーバの再起動でキャッシュクリアされたため、パフォーマンスが低下した可能性\"\\n\\n\\u3000\\u3000\\u3000\\u3000 ⇒\\u3000■05/29) \\u3000AMOで証明書期限の確認⇒2121年まで有効なため、インフラ環境に変更が無ければ、サンセットまで証明書更新にともなうサーバ再起動は行われない想定\\n\\n\\u3000\\u3000\\u3000\\u3000 ⇒\\u3000SDRでエラー検知可能かをAMOで確認中\\n\\n\\u3000\\u3000\\u3000■ジヤトコ問合せ（依頼：データ不備のリカバリのため、大量データ送信）\\n\\n\\u3000\\u3000\\u3000\\u3000⇒\\u3000■05/16)\\u3000約2週間かけて115万件を送信(一日の上限は10万件)する旨連絡有\\u300020日より開始\\n\\n\\u3000\\u3000\\u3000\\u3000\\u3000\\u3000⇒\\u3000■05/27)\\u3000AMOより先週の結果報告\\u3000エラーなく全件更新完了\\n\\n\\u3000\\u3000\\u3000\\u3000\\u3000\\u3000⇒\\u3000■06/03)\\u3000AMOより先週の結果報告\\u3000エラーなく全件更新完了。ジヤトコに結果報告済み。\\n\\n\\u3000\\u3000\\u3000□05/21)\\u3000SDRでのH15 Key登録エラー\\n\\n\\u3000\\u3000\\u3000\\u3000\\u3000\\u3000\\u3000⇒■05/21)\\u3000キーが使用済みという旨のエラーがログ確認されたため(5/15のログ)、AMOよりDaimlerチームに問い合わせ\\n\\n\\u3000\\u3000\\u3000\\u3000\\u3000\\u3000\\u3000⇒■05/21)\\u3000Daimlerチームより回答\"以前既にプログラミングされ、車両にリンクしたため使用済みとなっている。新しい空のキー取得が必要\"\\n\\n\\u3000\\u3000\\u3000\\u3000\\u3000\\u3000\\u3000⇒■05/21)\\u3000AMOより、Daimlerチームに新しいキーで再トライされているが、応答がなくエラー画面になっている旨説明\\n\\n\\u3000\\u3000\\u3000\\u3000\\u3000\\u3000\\u3000⇒■05/27)\\u3000Daimlerチームより詳細の聞き取りがあり、AMOより回答\\n\\n\\u3000\\u3000\\u3000\\u3000\\u3000\\u3000\\u3000⇒■05/28)\\u3000Daimlerチームより、一時的なエラーであり5/15以降問題ないため、再度試していただくよう返信あり\\n\\n\\u3000\\u3000\\u3000\\u3000\\u3000\\u3000\\u3000⇒■05/28)\\u3000GASよりDaimlerに再度試すように案内済み\\n\\n\\u3000\\u3000\\u3000\\u3000\\u3000\\u3000\\u3000⇒\\u3000Daimlerからの返信待ち\\n\\n□\\u3000障害\\n\\n      □\\u3000TLS1.0無効化対応\\n\\n\\u3000\\u3000\\u3000\\u3000\\u3000⇒\\u3000■05/15) XX6よりC4分のQA動確完了の連絡あり。\\n\\n\\u3000\\u3000\\u3000\\u3000\\u3000⇒\\u3000■05/15) IT0にQAの動確完了の連絡実施。\\n\\n\\u3000\\u3000\\u3000\\u3000\\u3000⇒\\u3000■05/21) オペレーションスタッフミーティングで本番日程の周知あり：6月10日(月)00:00-05:00\\n\\n\\u3000\\u3000\\u3000\\u3000\\u3000⇒\\u3000■05/21) XX6に当日の動確を依頼\\n\\n\\u3000\\u3000\\u3000\\u3000\\u3000⇒\\u3000■05/31)\\u3000XX6小林-3に担当より返信がないため回答を依頼\\n\\n\\u3000\\u3000\\u3000\\u3000\\u3000⇒\\u3000■05/31)\\u3000XX6佐藤さんより、C3P分はCITSで対応しますが、9時までは難しく少しずれこみますの返答。\\n\\n\\u3000\\u3000\\u3000\\u3000\\u3000⇒\\u30006/10の動確完了連絡待ち\\u3000\\u3000\\n\\n\\u3000\\u3000\\u3000□\\u300011/10_PSPMユーザ情報管理画面でのGD不具合\\u3000・・・暫定対応中\\n\\n\\u3000\\u3000\\u3000\\u3000\\u3000⇒\\u3000■04/25）IT0藤沢さんから返信\"PSPMアプリ側内部でいじるCookieは自アプリのCookie Nameの範囲とし、GDのCookieはそのまま返すようにする修正を検討いただけますか\"\\n\\n\\u3000\\u3000\\u3000\\u3000\\u3000⇒\\u3000■05/08）松ケ野さんより費用についてはIT0から出してもらえるか返信\\n\\n\\u3000\\u3000\\u3000\\u3000\\u3000⇒\\u3000■05/08）IT0藤沢さんより返信\"数十万円程度なら可能であるが、まずは保守業連枠で対応してください”\\n\\n\\u3000\\u3000\\u3000\\u3000\\u3000⇒\\u3000■05/10）IT0藤沢さんより14日にミーティング設定される\\n\\n\\u3000\\u3000\\u3000\\u3000\\u3000⇒\\u3000■05/14）IB3で修正を行う方向。調査についてはIB3で業連枠で実施、AMOからの見積もりが出たらIT0藤沢さんに連絡。\\n\\n\\u3000\\u3000\\u3000\\u3000\\u3000⇒\\u3000■05/14）業連発行\\n\\n\\u3000\\u3000\\u3000\\u3000\\u3000⇒\\u3000■05/30）QA環境を検証のためにIB3で一日占有したい旨を週次ミーティングで議題として確認⇒タイミングや手段を要件等\\n\\n\\u3000\\u3000\\u3000\\u3000\\u3000⇒\\u3000QA確認実施のタイミングや手段を要件等\\n\\n\\u3000\\u3000\\u3000\\u3000\\u3000※IS0がOKを出している以上、IB3側は問題ない認識。修正が必要な場合はIT0から費用を出してもらう方向。\\u3000\\u3000\\u3000\\u3000\\u3000\\n\\n\\u3000\\u3000\\u3000□3/14)VDA search検索不可\\u300011:45~15:30(03:45)\\u3000※検索中を示すプログレスバーが停止し、画面が遷移しない現象\\n\\n\\u3000\\u3000\\u3000\\u3000 ⇒\\u3000■05/08) AMO木村さん確認完了\\n\\n\\u3000\\u3000\\u3000 \\u3000⇒\\u3000■05/08) GASに対応完了報告\\n\\n\\u3000\\u3000\\u3000\\u3000 ⇒\\u3000■05/09) GAS安西さんより検索上限100件に設定されると困る旨返信あり、必要な設定である旨背景を説明\\n\\n\\u3000\\u3000\\u3000\\u3000 ⇒\\u3000■05/10) ADT Nissan team週次会議内で再度説明、検索に時間がかかっても上限を外すような修正はできないかリクエストいただく。\\n\\n\\u3000\\u3000\\u3000\\u3000 ⇒\\u3000■05/13) IB3任さんに相談\\n\\n\\u3000\\u3000\\u3000\\u3000 ⇒\\u3000■05/13) GAS安西さんに検索上限を引き上げる方向で修正を検討している旨説明、現実的な上限値について聞き取り。\\n\\n\\u3000\\u3000\\u3000\\u3000 ⇒\\u3000■05/14) GAS安西さんより上限値1,000でよいと回答を頂く。\\n\\n\\u3000\\u3000\\u3000\\u3000 ⇒\\u3000■05/14) IB3任さんで設定変更完了、AMOに動作確認依頼。\\n\\n\\u3000\\u3000\\u3000\\u3000 ⇒\\u3000■05/24) ミーティングで状況確認。1,000件で実施した場合にsnowflake(DBサーバー)でSQLが長すぎてコンパイルエラーが発生。任さんに上限の件数を確認いただく。\\n\\n\\u3000\\u3000\\u3000\\u3000 ⇒\\u3000■05/27) 任さんより回答有。ECU条件ありの場合、500件。ECU条件なしの場合、200件。\\n\\n\\u3000\\u3000\\u3000\\u3000 ⇒\\u3000■05/27) 任さんに上記の上限で検索上限値を設定可能か確認\\n\\n\\u3000\\u3000\\u3000\\u3000 ⇒\\u3000■05/28) IE0衛藤さんにSnowFlakeのリソース増強は可能か相談\\n\\n\\u3000\\u3000\\u3000\\u3000 ⇒\\u3000■05/29) 任さんより回答\"ECU条件ありの場合、500件。ECU条件なしの場合、200件。での件数制限は可能\"\\n\\n\\u3000\\u3000\\u3000\\u3000 ⇒\\u3000■05/29) IE0衛藤さんよりフォームから問い合わせるよう指示。問い合わせ実施。\\n\\n\\u3000\\u3000\\u3000\\u3000 ⇒\\u3000■05/30) さらに別のフォームから問い合わせるように返信あり。再問合せ。\\n\\n\\u3000\\u3000\\u3000\\u3000 ⇒\\u3000■05/31) ”ラボスタ”で問い合わせのスレッドが作成される\\n\\n\\u3000\\u3000\\u3000\\u3000 ⇒\\u3000担当からの回答待ち\\n\\n\\u3000\\u3000\\u3000□05/13)PSPM SQL 本番サーバーのアラート発報 (SQL Fail Over)\\n\\n\\u3000\\u3000\\u3000\\u3000\\u3000\\u3000⇒■05/13) AMOよりASP3サポートデスク問い合わせ\\n\\n\\u3000\\u3000\\u3000\\u3000\\u3000\\u3000⇒■05/13) ASP3サポートデスクより異常なしの回答\\n\\n\\u3000\\u3000\\u3000\\u3000\\u3000\\u3000⇒■05/13) AMOよりIT0木屋さんにPSPMのアプリ側のログでも特に異常がないため、無視できるか確認\\n\\n\\u3000\\u3000\\u3000\\u3000\\u3000\\u3000⇒■05/13) IT0木屋さんより、AMOに動作に異常が出るものではないので無視できると回答\\n\\n\\u3000\\u3000\\u3000\\u3000\\u3000\\u3000⇒■05/13) CPUの高負荷アラートも発生し、IT0木屋さんに再度問い合わせ\\n\\n\\u3000\\u3000\\u3000\\u3000\\u3000\\u3000⇒■05/13) IT0木屋さんより高負荷の要因となっているプロセスの確認を依頼される\\n\\n            ⇒■05/13) IT0木屋さんとミーティング\\u3000\\n\\n\\u3000\\u3000\\u3000\\u3000\\u3000\\u3000\\u3000\\u3000\\u3000\\u3000\\u3000\\u3000\\u3000\\u3000\\u3000⇒負荷は一時的なものであるが、CPUのログを取っていないため詳細の調査は行えない状況。⇒14日よりログ取得開始。再発時はログ内容を調査する。\\n\\n\\u3000\\u3000\\u3000\\u3000\\u3000\\u3000⇒■05/14)\\u3000保守ミーティング内で今月末までログ生成し、内容を精査。問題なければ以降ログ生成は停止する方向とした。\\n\\n\\u3000\\u3000\\u3000\\u3000\\u3000\\u3000⇒■05/22)\\u3000アラート再発。時間がかかっているクエリをAMOで調査。\\n\\n\\u3000\\u3000\\u3000\\u3000\\u3000\\u3000 ⇒\\u3000AMOからの連絡待ち(月末にログ確認)\\n\\n\\u3000\\u3000\\u3000\\u3000□05/23)\\u3000PSPMユーザー登録ページのエラー\\n\\n\\u3000\\u3000\\u3000\\u3000\\u3000\\u3000\\u3000⇒■05/23)XX6よりPSPMのユーザー登録において、ファイルからデータ登録を行う際にエラーのアラートが出て登録できないと申告あり\\n\\n\\u3000\\u3000\\u3000\\u3000\\u3000\\u3000\\u3000⇒■05/23)AMOで確認し、ユーザーリクエストのチェックバッチが止まっていたため手動で再開させ登録成功を確認\\n\\n\\u3000\\u3000\\u3000\\u3000\\u3000\\u3000\\u3000⇒■05/23)XX6に対応完了を報告\\n\\n\\u3000\\u3000\\u3000\\u3000\\u3000\\u3000\\u3000⇒\\u3000AMOからの原因調査、再発防止策の返答待ち\\n\\n\\u3000□\\u3000保守関連（富士通：SDR／VDA／PSPM／DTC Priority）\\n\\n\\u3000\\u3000□Server Monitoring\\n\\n\\u3000\\u3000\\u3000\\u3000\\u3000\\u3000\\u3000なし\\n\\n\\u3000\\u3000\\u3000\\u3000\\u3000\\u3000□Server Monitoringのエラー対応\\u3000(CONSULT User Loginのエラーが頻出する\\u3000※実害なし)\\n\\n\\u3000\\u3000\\u3000\\u3000\\u3000⇒\\u3000■04/24)保守定例内で開発T石川さんより状況説明あり。2回連続検知で初めてメール送信されるような改修はプロジェクト対応になる。\\n\\n\\u3000\\u3000\\u3000\\u3000\\u3000⇒\\u3000RNTBCIのサポート開始には運用で対処する（引継ぎ時に経緯を理解してもらう）\\n\\n\\u3000\\u3000\\u3000\\u3000\\u3000・費用の扱いは？⇒12月リリース時点から発生している現象\\u3000設定変更レベルなら問題ないが、改修レベルになると要相談\\n\\n\\u3000\\u3000□RNTBCI24時間サポート依頼\\n\\n\\u3000\\u3000\\u3000\\u3000\\u3000⇒\\u3000■05/09)\\u3000RNTBCIにファイルにが2.0人月と書いてあるのでどちらが正しいのか確認\\n\\n\\u3000\\u3000\\u3000\\u3000\\u3000⇒\\u3000■05/09)\\u3000RNTBCIより1.25人月が正しい旨返信あり\\n\\n\\u3000\\u3000\\u3000\\u3000\\u3000⇒\\u3000■05/10)\\u30000.75人月で対応いただけないか返信\\n\\n\\u3000\\u3000\\u3000\\u3000\\u3000⇒\\u3000■05/14)\\u3000RNTBCIより、0.75人月で対応いただける旨返信あり\\n\\n\\u3000\\u3000\\u3000\\u3000\\u3000⇒\\u3000■05/24)\\u3000塩野さんにプロジェクト番号取得いただく\\n\\n\\u3000\\u3000\\u3000\\u3000\\u3000⇒\\u3000■05/24-27)\\u3000DR資料作成\\n\\n\\u3000\\u3000\\u3000\\u3000\\u3000⇒\\u3000■05/27)\\u3000松ケ野さんレビュー実施\\n\\n\\u3000\\u3000\\u3000\\u3000\\u3000⇒\\u3000■05/28)\\u3000根門さんレビュー実施\\n\\n\\u3000\\u3000\\u3000\\u3000\\u3000⇒\\u3000■05/30)\\u3000藤田さんレビュー実施\\n\\n\\u3000\\u3000\\u3000\\u3000\\u3000⇒\\u3000■05/30)\\u3000RNTBCIにKTについて確認。7月一週に担当のChakradharさんとミーティングで引継ぎ実施。\\n\\n\\u3000\\u3000\\u3000\\u3000\\u3000⇒\\u3000■06/05)\\u3000DR実施\\n\\n\\u3000\\u3000\\u3000\\u3000\\u3000⇒\\u30006/11\\u3000再DR予定\\n\\n\\u3000\\u3000\\u3000\\u3000\\u3000⇒\\u3000メール連絡先一覧のファイル作成\\n\\n\\u3000\\u3000\\u3000\\u3000\\u3000⇒\\u3000KT準備(AMOと内容確認、資料準備)⇒富士通側の費用は業連\\n\\n\\u3000\\u3000□\\u3000BCVデータ重複（BCVからのデータにECU Mnemonicの重複があり、VDA側でデータ登録エラー発生）※2/16から発生\\n\\n\\u3000\\u3000\\u3000\\u3000\\u3000※RenaultフォーマットとAllianceフォーマットが混在している⇒Renaultフォーマットに戻してもらうが、再発\\n\\n\\u3000\\u3000\\u3000\\u3000\\u3000⇒恒久対応\\u3000※対応費用をRenaultへ提示済\\n\\n\\u3000\\u3000\\u3000\\u3000□\\u3000重複パターン\\n\\n\\u3000\\u3000\\u3000\\u3000\\u3000⇒\\u3000■05/16)\\u3000AMOより見積もり回答いただく。ソースコード修正に16時間取っている為、詳細をミーティング設定し確認\\n\\n\\u3000\\u3000\\u3000\\u3000\\u3000⇒\\u3000■05/16)\\u3000ミーティング内で想定より多くの時間を取っている為見直しをお願い\\n\\n\\u3000\\u3000\\u3000\\u3000\\u3000⇒\\u3000■05/22)\\u3000AMOより再見積もり回答あり。(16→4時間)GASに回答し、了承いただく。\\n\\n\\u3000\\u3000\\u3000\\u3000\\u3000⇒\\u3000■05/23)\\u3000GASとミーティング実施\\u3000別業連対応中のため6月からの着手になる旨説明\\n\\n\\u3000\\u3000\\u3000\\u3000\\u3000⇒\\u3000業連が複数あるため調整中\\n\\n\\u3000\\u3000\\u3000\\u3000□\\u3000XDD不正文字ありパタ\\n\\n\\u3000\\u3000\\u3000\\u3000\\u3000⇒\\u3000■05/08）保守定例ミーティング内で開発石川さんより、\"バイト数で判断して対応する項目に入れる仕組みのため、文字化け時点でバイト数が狂う可能性”を指摘される\\n\\n\\u3000\\u3000\\u3000\\u3000\\u3000⇒\\u3000■05/23)\\u3000GASとミーティング実施\\u3000不正文字の置き換えでの対応は、バイト数で部分参照を行っているため、エラーとなり置き換えできない事がある旨説明。\\n\\n\\u3000\\u3000\\u3000\\u3000\\u3000\\u3000\\u3000\\u3000\\u3000\\u3000\\u3000\\u3000\\u3000\\u3000\\u3000→取り込み実績のあるファイルに@など置き換えの文字追加し、バイト数が変わったときにエラーで拾えるかの確認をAMOで実施\\n\\n\\u3000\\u3000\\u3000\\u3000\\u3000⇒\\u3000AMOからの調査結果待ち(現時点の過去実績を確認中)\\n\\n\\u3000\\u3000\\u3000\\u3000□\\u3000VDAとVDA Searchの不一致(品質チームがVDA Searchでエンジンナンバー参照不可）\\n\\n\\u3000\\u3000\\u3000\\u3000\\u3000⇒\\u3000■04/04\\u3000正英さんより以下状況引継ぎ\\n\\n\\u3000\\u3000\\u3000\\u3000\\u3000①BCV→VDA間でEV車用のマッピングが対応されていないため、エンジンナンバーがVDA上でNULLになる問題がある\\n\\n\\u3000\\u3000\\u3000\\u3000\\u3000②しかしICE車のエンジンナンバーも参照できない状態と判明（VDAには反映有）\\n\\n\\u3000\\u3000\\u3000\\u3000\\u3000③VDA SearchのエンジンナンバーはQIDEA経由で連携されるため、ここが原因の可能性有\\n\\n\\u3000\\u3000\\u3000\\u3000\\u3000\\u3000⇒\\u3000VDA Search操作確認\\u3000ファイルを分析し、それぞれの現象を整理\\n\\n\\u3000\\u3000\\u3000■\\u3000VDAのMMC/AWSサーバー増強依頼\\n\\n\\u3000\\u3000\\u3000\\u3000⇒\\u3000■05/16)\\u3000AMOよりMMC部分の残サイズが少なくなっている旨報告を受ける\\n\\n\\u3000\\u3000\\u3000\\u3000\\u3000\\u3000⇒\\u3000■05/16)\\u3000根門さんに承認依頼(32GB増量して、計70GB＝3年稼働できる見込み)\\n\\n\\u3000\\u3000\\u3000\\u3000⇒\\u3000■05/16)\\u3000根門さんより承認いただく\\n\\n\\u3000\\u3000\\u3000\\u3000\\u3000\\u3000⇒\\u3000■05/29)\\u3000拡張完了\\n\\n\\u3000\\u3000\\u3000□\\u3000X360\\xa0不正文字によるエラー\\n\\n\\u3000\\u3000\\u3000\\u3000\\u3000⇒\\u3000予算と日程の調整\\n\\n\\u3000\\u3000\\u3000□\\u3000SDR\\xa0ログ容量増加対応\\n\\n\\u3000\\u3000\\u3000\\u3000\\u3000⇒\\u3000■03/05）富士通AMOより連絡あり（暫定：Zip化、恒久：検討中）\\n\\n\\u3000\\u3000\\u3000\\u3000\\u3000⇒\\u3000富士通AMOからの連絡待ち\\n\\n\\u3000\\u3000\\u3000□\\u3000VDAデータ（IE0）\\u3000※X360データとしして、利用許諾を前提にユーザ利用を進めることを検討している\\n\\n\\u3000\\u3000\\u3000\\u3000\\u3000⇒IE0からの連絡待ち\\n\\n\\u3000\\u3000\\u3000■\\u3000中国ADT-RT MetaデータのIdPサービス利用申請 ・・・荻野さんよりAMOに引継ぎ\\n\\n\\u3000\\u3000\\u3000\\u3000⇒\\u3000■04/24)\\u3000リンさんとミーティング実施、状況聞き取り\\n\\n\\u3000\\u3000\\u3000\\u3000⇒\\u3000■04/24)\\u3000Boschチームにて403エラーが解消され、正しいメタデータを用意できたら、再申請についてはIB3で行う旨返信\\n\\n\\u3000\\u3000\\u3000\\u3000⇒\\u3000■04/26)\\u3000Boschチームより別件対応で現在調査がストップ中との事\\n\\n\\u3000\\u3000\\u3000\\u3000⇒\\u3000■06/04)\\u3000Boschチームより返信あり、403エラーは解消。ProdでIDP接続できないため、確認してほしい。\\n\\n\\u3000\\u3000\\u3000\\u3000⇒\\u3000■06/04)\\u3000新しいメタデータが添付されていたため、前回申請を確認し、異なるメタデータである事を確認。GDサポートデスクに修正依頼を送信。\\n\\n\\u3000\\u3000\\u3000\\u3000⇒\\u3000■06/04)\\u3000GDサポートデスクより返信、今夜対応いただけるとの事。\\n\\n\\u3000\\u3000\\u3000\\u3000⇒\\u3000■06/05)\\u3000対応完了をBoschに連絡\\n\\n\\u3000\\u3000\\u3000\\u3000□\\u3000POSTMAN対策(XX6がアプリケーション用のIDでVDAに直接アクセスしていた問題)\\n\\n\\u3000\\u3000\\u3000\\u3000\\u3000⇒\\u3000状況確認(APIGEEチームの回答確認)\\n\\n□\\u3000業連FY24\\n\\n\\u3000\\u3000□\\u3000＜IS業連＞FY24\\u3000VESPA REPROサポート\\n\\n\\u3000\\u3000\\u3000\\u3000□\\u3000FY24\\u30006月分(6/25頃にAMOに確認)\\n\\n\\u3000\\u3000□\\u3000＜IS業連＞FY24\\u3000CGW情報開示ベンダー登録＆保守\\n\\n\\u3000\\u3000\\u3000\\u3000□\\u3000FY24\\u30006月分(6/25頃にAMOに確認)\\u3000\\u3000\\n\\n\\u3000\\u3000□\\u3000＜IS業連＞IP特性チェック追加（２バッチ修正）\\u3000※工数：63.0h予定\\n\\n\\u3000\\u3000\\u3000\\u3000⇒\\u3000FY24対応\\n\\n\\u3000  □\\u3000＜IS業連＞\\u3000PSPM Cookie影響調査\\n\\n\\u3000\\u3000\\u3000\\u3000⇒\\u3000■05/16）見積もり、作業実施依頼\\n\\n\\u3000\\u3000\\u3000\\u3000⇒\\u3000富士通AMOからの連絡待ち（対応完了待ち）\\n\\n\\u3000\\u3000□\\u3000＜IS業連＞\\u3000BCVデータ重複対応(VIN2件)\\u3000\\n\\n\\u3000\\u3000\\u3000\\u3000\\u3000⇒\\u3000■05/23）GASより業連発行\\n\\n\\u3000\\u3000\\u3000\\u3000\\u3000⇒\\u3000■05/24）進捗確認\\u300027日作業\\u300028日のバッチ確認予定\\n\\n\\u3000\\u3000\\u3000\\u3000\\u3000⇒\\u3000■05/30）業連対象の2件は対応済み。追加発生分をどのように進めるか要調整。\\n\\n\\u3000\\u3000\\u3000\\u3000\\u3000⇒\\u3000恒久対応後に対象ファイルを取り込むよう進めたい。6月の業連のスケジュールをAMOと確認後にGASとミーティング。\\n\\n\\u3000\\u3000□\\u3000＜IS業連＞\\u3000BCVデータ重複対応(VIN3件)\\u3000\\n\\n\\u3000\\u3000\\u3000\\u3000\\u3000⇒\\u3000■05/27）GASより業連発行\\n\\n\\u3000\\u3000\\u3000\\u3000\\u3000⇒\\u3000■05/30）業連対象の3件は対応済み。追加発生分をどのように進めるか要調整。\\n\\n\\u3000\\u3000\\u3000\\u3000\\u3000⇒\\u3000恒久対応後に対象ファイルを取り込むよう進めたい。6月の業連のスケジュールをAMOと確認後にGASとミーティング。\\n\\n\\u3000\\u3000\\u3000\\u3000\\u3000⇒\\u3000富士通AMOからの完了連絡待ち\\n\\n\\u3000\\u3000■\\u3000＜IS業連＞\\u3000部品交換に伴うIASS更新※現地対応 \\n\\n\\u3000\\u3000\\u3000\\u3000\\u3000⇒\\u3000■05/27)\\u3000XX6より実施計画がある旨事前連絡有\\n\\n\\u3000\\u3000\\u3000\\u3000\\u3000⇒\\u3000■05/28)\\u300031日実施\\n\\n\\u3000\\u3000\\u3000\\u3000\\u3000⇒\\u3000■05/31)\\u3000対応完了\\n\\n\\u3000\\u3000■\\u3000＜IS業連＞\\u3000DTC優先度データ（JPN ALL/NAE J12）リリース\\u300005/27依頼\\n\\n\\u3000\\u3000\\u3000\\u3000\\u3000⇒\\u3000■05/27)\\u3000GASよりファイル着。業連発行。31日締め切り。\\n\\n\\u3000\\u3000\\u3000\\u3000\\u3000⇒\\u3000■05/30)\\u3000別件(下記)優先のため、GAS月曜対応に同意いただく。\\n\\n\\u3000\\u3000\\u3000\\u3000\\u3000⇒\\u3000■06/03)\\u3000リリース完了\\n\\n\\u3000\\u3000■\\u3000＜IS業連＞\\u3000XDDのFamily Code等のVDA更新 5/30依頼\\n\\n\\u3000\\u3000\\u3000\\u3000\\u3000⇒\\u3000■05/30)\\u3000GASより依頼。テストが止まっているので緊急で本日対応⇒DTC Priorityは月曜に延期に同意いただく。\\n\\n\\u3000\\u3000\\u3000\\u3000\\u3000⇒\\u3000■05/30)\\u3000対応完了\\n\\n\\u3000\\u3000■\\u3000＜IS業連＞\\u3000部品交換に伴うIASS更新※現地対応 日程未定\\n\\n\\u3000\\u3000\\u3000\\u3000\\u3000⇒\\u3000■06/3)\\u3000XX6より実施計画がある旨事前連絡有。GASで業連発行\\n\\n\\u3000□\\u3000業連FY23残対応\\n\\n\\u3000\\u3000■\\u3000＜IS業連＞VESPAリプロチェック\\u3000Config対応\\u3000※工数：40.5h\\n\\n\\u3000\\u3000\\u3000\\u3000⇒\\u3000■03/11）富士通AMOに連絡（業連実施依頼）\\n\\n\\u3000\\u3000\\u3000\\u3000⇒\\u3000■04/17）富士通AMOより保守定例ミーティング内で着手した連絡有\\n\\n\\u3000\\u3000\\u3000\\u3000⇒\\u3000■05/29）リリース前レビュー\\n\\n\\u3000\\u3000\\u3000\\u3000⇒\\u3000■06/04）本番リリース\\n\\n\\u3000\\u3000\\u3000\\u3000⇒\\u3000■06/10）リリース後の動確完了\\u3000AMOよりGAS報告\\n\\n□\\u3000その他\\n\\n\\u3000\\u3000□\\u300004/03) オペレーションスタッフミーティング内で周知のあった組織変更に伴う担当変更を実施\\n\\n\\u3000\\u3000\\u3000\\u3000・監視アラートの連絡先変更（正英さん⇒石岡への変更）\\n\\n\\u3000\\u3000\\u3000\\u3000⇒\\u3000AMO依頼済み\\n\\n\\u3000\\u3000\\u3000\\u3000⇒\\u3000■04/23）AMOに状況確認、未対応のため本日実施との事\\n\\n\\u3000\\u3000\\u3000\\u3000⇒\\u3000■05/13）正英さんよりAMOに未だにメールが届く旨連絡\\n\\n\\u3000\\u3000\\u3000\\u3000⇒\\u3000■05/14）AMOより木屋さんにフォローアップ\\n\\n\\u3000\\u3000\\u3000\\u3000⇒\\u3000富士通AMOからの連絡待ち\\n\\n\\xa0\\n\\n\\u3000\\u3000\\u3000□ABSOLのAMO追加\\n\\n\\u3000\\u3000\\u3000\\u3000\\u3000⇒\\u3000■06/06）申請のExcelを埋めて依頼メール送信\\n\\n\\u3000\\u3000\\u3000\\u3000\\u3000⇒反映待ち\\n\\n\\u3000\\u3000\\u3000\\u3000\\u3000\\u3000\\u3000\\u3000\\n\\n＊連絡事項＊\\n\\n\\u3000\\u3000\\u3000\\u3000なし\\n\\n\\n\\n\\n\\n\\n\\n連絡：（自社へ）\\n\\nなし\\n\\nVer1.0', metadata={'source': 'docx/example.docx'})]"
            ]
          },
          "metadata": {},
          "execution_count": 42
        }
      ]
    },
    {
      "cell_type": "code",
      "source": [
        "retrieved = retriever.invoke(\"VESPA お問合せの内容は？\")\n",
        "\n",
        "print(retrieved[0].page_content)"
      ],
      "metadata": {
        "id": "xaPZ33fSZpv1",
        "outputId": "062fe0f7-5fcb-44a7-b5aa-6a88f477aa26",
        "colab": {
          "base_uri": "https://localhost:8080/"
        },
        "collapsed": true
      },
      "execution_count": null,
      "outputs": [
        {
          "output_type": "stream",
          "name": "stdout",
          "text": [
            "進 捗 状 況 報 告 書（週報）\n",
            "\n",
            "システム名\n",
            "\n",
            "\t\t\t\t\t\t\t\t\t\t\t\t\t\t\t\tSDR、VDA、MAC\n",
            "\n",
            "\n",
            "\n",
            "2024年6月11\n",
            "\n",
            "日\n",
            "\n",
            "報 告 期 間\n",
            "\n",
            "2024年6月03日 ～ 2024年6月07\n",
            "\n",
            "日\n",
            "\n",
            "作 成 者\n",
            "\n",
            "石岡雅紀\n",
            "\n",
            "当\n",
            "\n",
            "\n",
            "\n",
            "期\n",
            "\n",
            "\n",
            "\n",
            "作\n",
            "\n",
            "\n",
            "\n",
            "業\n",
            "\n",
            "\n",
            "\n",
            "実\n",
            "\n",
            "\n",
            "\n",
            "施\n",
            "\n",
            "工程\n",
            "\n",
            "SDR、VDA、PSPM, DTC Priority\n",
            "\n",
            "作業項目\n",
            "\n",
            "SDR、VDA、PSPM, DTC PriorityのAA担当\n",
            "\n",
            "\n",
            "\n",
            "赤字：待ち\n",
            "\n",
            "緑字：対応予定\n",
            "\n",
            "---------------------------------------------------------------------------------------------------\n",
            "\n",
            "□　業務部署（GAS／XX6等）問合せ／周知　　\n",
            "\n",
            "　　□05/28) OperationStaffMeeting（6件）\n",
            "\n",
            "　　　　　⇒■05/31) GAS展開、ADT Nissan team週次会議　\n",
            "\n",
            "　　　　　※RHEL7.9へアップデート案内にPSPMが対象リストに含まれていなかった理由はAMOで問い合わせ中\n",
            "\n",
            "　　　06/04) OperationStaffMeeting（1件）\n",
            "\n",
            "　　　　　⇒　AMO確認待ち \n",
            "\n",
            "　　□GAS問合せ（依頼：証明書期限一覧の作成）\n",
            "\n",
            "　　　　⇒　■04/01) 松ケ野さん、正英さんレビュー　内部向けの資料としては完了\n",
            "\n",
            "　　　　⇒　GAS展開用の資料作成中\n",
            "\n",
            "　　□VESPA問合せ（依頼：VESPAの認証方式変更　IDP⇒OKTA）\n",
            "\n",
            "　　　　⇒　■04/24) 保守定例内で開発案件となる方向であると確認。またIBXの他部署とも対応方針をそろえた方が良いので、情報収集が必要。\n",
            "\n",
            "　　　　⇒　■04/25）VESPAよりアンケートフォーム形式で対応状況の聞き取り調査のメール受領\n",
            "\n",
            "　　　　⇒　■05/09）IB1伊藤-3より、既に1月にOKTAに変更されている旨回答有り\n",
            "\n",
            "　　　　⇒　AMOにてIB3も対応不要で問題ないか確認中　configの修正対応？\n",
            "\n",
            "　　　　⇒　保守開発間で返答内容を取りまとめてアンケート回答が必要\n",
            "\n",
            "　　　　※接続テストの経費が必要になりそう\n",
            "\n",
            "　　□XX6問合せ（依頼：CDGのレスポンスの遅れにより、CONSULT側でタイムアウトする）\n",
            "\n",
            "　　　⇒　■05/17)　AMOと対応方針を確認：CDG側での改善は大掛かりになる、処理自体は行えているので、CONSULTのタイムアウト上限値を上げていただく方針\n",
            "\n",
            "　　　　 ⇒　■05/17)　AMOでファイル準備中\n",
            "\n",
            "　　　　 ⇒　■05/20)　GASより追加で質問あり。明日の返答とさせていただく。\n",
            "\n",
            "　　　　 ⇒　■05/20)　CPUの高騰が確認でき、レスポンス遅延の原因の可能性が高い旨返信。AMOよりインフラチーム問い合わせ。\n",
            "\n",
            "　　 　　⇒　■05/21)　CPU高騰とエラーの分布図をGASに共有　4月以前は問題が無い旨説明　またCPU高騰はアラート設定がない事を回答\n",
            "\n",
            "　　　　 ⇒　■05/22)　インフラチームの回答をGAS共有\"ログ削除済みで調査不可。証明書更新に伴うサーバの再起動でキャッシュクリアされたため、パフォーマンスが低下した可能性\"\n",
            "\n",
            "　　　　 ⇒　■05/29) 　AMOで証明書期限の確認⇒2121年まで有効なため、インフラ環境に変更が無ければ、サンセットまで証明書更新にともなうサーバ再起動は行われない想定\n",
            "\n",
            "　　　　 ⇒　SDRでエラー検知可能かをAMOで確認中\n",
            "\n",
            "　　　■ジヤトコ問合せ（依頼：データ不備のリカバリのため、大量データ送信）\n",
            "\n",
            "　　　　⇒　■05/16)　約2週間かけて115万件を送信(一日の上限は10万件)する旨連絡有　20日より開始\n",
            "\n",
            "　　　　　　⇒　■05/27)　AMOより先週の結果報告　エラーなく全件更新完了\n",
            "\n",
            "　　　　　　⇒　■06/03)　AMOより先週の結果報告　エラーなく全件更新完了。ジヤトコに結果報告済み。\n",
            "\n",
            "　　　□05/21)　SDRでのH15 Key登録エラー\n",
            "\n",
            "　　　　　　　⇒■05/21)　キーが使用済みという旨のエラーがログ確認されたため(5/15のログ)、AMOよりDaimlerチームに問い合わせ\n",
            "\n",
            "　　　　　　　⇒■05/21)　Daimlerチームより回答\"以前既にプログラミングされ、車両にリンクしたため使用済みとなっている。新しい空のキー取得が必要\"\n",
            "\n",
            "　　　　　　　⇒■05/21)　AMOより、Daimlerチームに新しいキーで再トライされているが、応答がなくエラー画面になっている旨説明\n",
            "\n",
            "　　　　　　　⇒■05/27)　Daimlerチームより詳細の聞き取りがあり、AMOより回答\n",
            "\n",
            "　　　　　　　⇒■05/28)　Daimlerチームより、一時的なエラーであり5/15以降問題ないため、再度試していただくよう返信あり\n",
            "\n",
            "　　　　　　　⇒■05/28)　GASよりDaimlerに再度試すように案内済み\n",
            "\n",
            "　　　　　　　⇒　Daimlerからの返信待ち\n",
            "\n",
            "□　障害\n",
            "\n",
            "      □　TLS1.0無効化対応\n",
            "\n",
            "　　　　　⇒　■05/15) XX6よりC4分のQA動確完了の連絡あり。\n",
            "\n",
            "　　　　　⇒　■05/15) IT0にQAの動確完了の連絡実施。\n",
            "\n",
            "　　　　　⇒　■05/21) オペレーションスタッフミーティングで本番日程の周知あり：6月10日(月)00:00-05:00\n",
            "\n",
            "　　　　　⇒　■05/21) XX6に当日の動確を依頼\n",
            "\n",
            "　　　　　⇒　■05/31)　XX6小林-3に担当より返信がないため回答を依頼\n",
            "\n",
            "　　　　　⇒　■05/31)　XX6佐藤さんより、C3P分はCITSで対応しますが、9時までは難しく少しずれこみますの返答。\n",
            "\n",
            "　　　　　⇒　6/10の動確完了連絡待ち　　\n",
            "\n",
            "　　　□　11/10_PSPMユーザ情報管理画面でのGD不具合　・・・暫定対応中\n",
            "\n",
            "　　　　　⇒　■04/25）IT0藤沢さんから返信\"PSPMアプリ側内部でいじるCookieは自アプリのCookie Nameの範囲とし、GDのCookieはそのまま返すようにする修正を検討いただけますか\"\n",
            "\n",
            "　　　　　⇒　■05/08）松ケ野さんより費用についてはIT0から出してもらえるか返信\n",
            "\n",
            "　　　　　⇒　■05/08）IT0藤沢さんより返信\"数十万円程度なら可能であるが、まずは保守業連枠で対応してください”\n",
            "\n",
            "　　　　　⇒　■05/10）IT0藤沢さんより14日にミーティング設定される\n",
            "\n",
            "　　　　　⇒　■05/14）IB3で修正を行う方向。調査についてはIB3で業連枠で実施、AMOからの見積もりが出たらIT0藤沢さんに連絡。\n",
            "\n",
            "　　　　　⇒　■05/14）業連発行\n",
            "\n",
            "　　　　　⇒　■05/30）QA環境を検証のためにIB3で一日占有したい旨を週次ミーティングで議題として確認⇒タイミングや手段を要件等\n",
            "\n",
            "　　　　　⇒　QA確認実施のタイミングや手段を要件等\n",
            "\n",
            "　　　　　※IS0がOKを出している以上、IB3側は問題ない認識。修正が必要な場合はIT0から費用を出してもらう方向。　　　　　\n",
            "\n",
            "　　　□3/14)VDA search検索不可　11:45~15:30(03:45)　※検索中を示すプログレスバーが停止し、画面が遷移しない現象\n",
            "\n",
            "　　　　 ⇒　■05/08) AMO木村さん確認完了\n",
            "\n",
            "　　　 　⇒　■05/08) GASに対応完了報告\n",
            "\n",
            "　　　　 ⇒　■05/09) GAS安西さんより検索上限100件に設定されると困る旨返信あり、必要な設定である旨背景を説明\n",
            "\n",
            "　　　　 ⇒　■05/10) ADT Nissan team週次会議内で再度説明、検索に時間がかかっても上限を外すような修正はできないかリクエストいただく。\n",
            "\n",
            "　　　　 ⇒　■05/13) IB3任さんに相談\n",
            "\n",
            "　　　　 ⇒　■05/13) GAS安西さんに検索上限を引き上げる方向で修正を検討している旨説明、現実的な上限値について聞き取り。\n",
            "\n",
            "　　　　 ⇒　■05/14) GAS安西さんより上限値1,000でよいと回答を頂く。\n",
            "\n",
            "　　　　 ⇒　■05/14) IB3任さんで設定変更完了、AMOに動作確認依頼。\n",
            "\n",
            "　　　　 ⇒　■05/24) ミーティングで状況確認。1,000件で実施した場合にsnowflake(DBサーバー)でSQLが長すぎてコンパイルエラーが発生。任さんに上限の件数を確認いただく。\n",
            "\n",
            "　　　　 ⇒　■05/27) 任さんより回答有。ECU条件ありの場合、500件。ECU条件なしの場合、200件。\n",
            "\n",
            "　　　　 ⇒　■05/27) 任さんに上記の上限で検索上限値を設定可能か確認\n",
            "\n",
            "　　　　 ⇒　■05/28) IE0衛藤さんにSnowFlakeのリソース増強は可能か相談\n",
            "\n",
            "　　　　 ⇒　■05/29) 任さんより回答\"ECU条件ありの場合、500件。ECU条件なしの場合、200件。での件数制限は可能\"\n",
            "\n",
            "　　　　 ⇒　■05/29) IE0衛藤さんよりフォームから問い合わせるよう指示。問い合わせ実施。\n",
            "\n",
            "　　　　 ⇒　■05/30) さらに別のフォームから問い合わせるように返信あり。再問合せ。\n",
            "\n",
            "　　　　 ⇒　■05/31) ”ラボスタ”で問い合わせのスレッドが作成される\n",
            "\n",
            "　　　　 ⇒　担当からの回答待ち\n",
            "\n",
            "　　　□05/13)PSPM SQL 本番サーバーのアラート発報 (SQL Fail Over)\n",
            "\n",
            "　　　　　　⇒■05/13) AMOよりASP3サポートデスク問い合わせ\n",
            "\n",
            "　　　　　　⇒■05/13) ASP3サポートデスクより異常なしの回答\n",
            "\n",
            "　　　　　　⇒■05/13) AMOよりIT0木屋さんにPSPMのアプリ側のログでも特に異常がないため、無視できるか確認\n",
            "\n",
            "　　　　　　⇒■05/13) IT0木屋さんより、AMOに動作に異常が出るものではないので無視できると回答\n",
            "\n",
            "　　　　　　⇒■05/13) CPUの高負荷アラートも発生し、IT0木屋さんに再度問い合わせ\n",
            "\n",
            "　　　　　　⇒■05/13) IT0木屋さんより高負荷の要因となっているプロセスの確認を依頼される\n",
            "\n",
            "            ⇒■05/13) IT0木屋さんとミーティング　\n",
            "\n",
            "　　　　　　　　　　　　　　　⇒負荷は一時的なものであるが、CPUのログを取っていないため詳細の調査は行えない状況。⇒14日よりログ取得開始。再発時はログ内容を調査する。\n",
            "\n",
            "　　　　　　⇒■05/14)　保守ミーティング内で今月末までログ生成し、内容を精査。問題なければ以降ログ生成は停止する方向とした。\n",
            "\n",
            "　　　　　　⇒■05/22)　アラート再発。時間がかかっているクエリをAMOで調査。\n",
            "\n",
            "　　　　　　 ⇒　AMOからの連絡待ち(月末にログ確認)\n",
            "\n",
            "　　　　□05/23)　PSPMユーザー登録ページのエラー\n",
            "\n",
            "　　　　　　　⇒■05/23)XX6よりPSPMのユーザー登録において、ファイルからデータ登録を行う際にエラーのアラートが出て登録できないと申告あり\n",
            "\n",
            "　　　　　　　⇒■05/23)AMOで確認し、ユーザーリクエストのチェックバッチが止まっていたため手動で再開させ登録成功を確認\n",
            "\n",
            "　　　　　　　⇒■05/23)XX6に対応完了を報告\n",
            "\n",
            "　　　　　　　⇒　AMOからの原因調査、再発防止策の返答待ち\n",
            "\n",
            "　□　保守関連（富士通：SDR／VDA／PSPM／DTC Priority）\n",
            "\n",
            "　　□Server Monitoring\n",
            "\n",
            "　　　　　　　なし\n",
            "\n",
            "　　　　　　□Server Monitoringのエラー対応　(CONSULT User Loginのエラーが頻出する　※実害なし)\n",
            "\n",
            "　　　　　⇒　■04/24)保守定例内で開発T石川さんより状況説明あり。2回連続検知で初めてメール送信されるような改修はプロジェクト対応になる。\n",
            "\n",
            "　　　　　⇒　RNTBCIのサポート開始には運用で対処する（引継ぎ時に経緯を理解してもらう）\n",
            "\n",
            "　　　　　・費用の扱いは？⇒12月リリース時点から発生している現象　設定変更レベルなら問題ないが、改修レベルになると要相談\n",
            "\n",
            "　　□RNTBCI24時間サポート依頼\n",
            "\n",
            "　　　　　⇒　■05/09)　RNTBCIにファイルにが2.0人月と書いてあるのでどちらが正しいのか確認\n",
            "\n",
            "　　　　　⇒　■05/09)　RNTBCIより1.25人月が正しい旨返信あり\n",
            "\n",
            "　　　　　⇒　■05/10)　0.75人月で対応いただけないか返信\n",
            "\n",
            "　　　　　⇒　■05/14)　RNTBCIより、0.75人月で対応いただける旨返信あり\n",
            "\n",
            "　　　　　⇒　■05/24)　塩野さんにプロジェクト番号取得いただく\n",
            "\n",
            "　　　　　⇒　■05/24-27)　DR資料作成\n",
            "\n",
            "　　　　　⇒　■05/27)　松ケ野さんレビュー実施\n",
            "\n",
            "　　　　　⇒　■05/28)　根門さんレビュー実施\n",
            "\n",
            "　　　　　⇒　■05/30)　藤田さんレビュー実施\n",
            "\n",
            "　　　　　⇒　■05/30)　RNTBCIにKTについて確認。7月一週に担当のChakradharさんとミーティングで引継ぎ実施。\n",
            "\n",
            "　　　　　⇒　■06/05)　DR実施\n",
            "\n",
            "　　　　　⇒　6/11　再DR予定\n",
            "\n",
            "　　　　　⇒　メール連絡先一覧のファイル作成\n",
            "\n",
            "　　　　　⇒　KT準備(AMOと内容確認、資料準備)⇒富士通側の費用は業連\n",
            "\n",
            "　　□　BCVデータ重複（BCVからのデータにECU Mnemonicの重複があり、VDA側でデータ登録エラー発生）※2/16から発生\n",
            "\n",
            "　　　　　※RenaultフォーマットとAllianceフォーマットが混在している⇒Renaultフォーマットに戻してもらうが、再発\n",
            "\n",
            "　　　　　⇒恒久対応　※対応費用をRenaultへ提示済\n",
            "\n",
            "　　　　□　重複パターン\n",
            "\n",
            "　　　　　⇒　■05/16)　AMOより見積もり回答いただく。ソースコード修正に16時間取っている為、詳細をミーティング設定し確認\n",
            "\n",
            "　　　　　⇒　■05/16)　ミーティング内で想定より多くの時間を取っている為見直しをお願い\n",
            "\n",
            "　　　　　⇒　■05/22)　AMOより再見積もり回答あり。(16→4時間)GASに回答し、了承いただく。\n",
            "\n",
            "　　　　　⇒　■05/23)　GASとミーティング実施　別業連対応中のため6月からの着手になる旨説明\n",
            "\n",
            "　　　　　⇒　業連が複数あるため調整中\n",
            "\n",
            "　　　　□　XDD不正文字ありパタ\n",
            "\n",
            "　　　　　⇒　■05/08）保守定例ミーティング内で開発石川さんより、\"バイト数で判断して対応する項目に入れる仕組みのため、文字化け時点でバイト数が狂う可能性”を指摘される\n",
            "\n",
            "　　　　　⇒　■05/23)　GASとミーティング実施　不正文字の置き換えでの対応は、バイト数で部分参照を行っているため、エラーとなり置き換えできない事がある旨説明。\n",
            "\n",
            "　　　　　　　　　　　　　　　→取り込み実績のあるファイルに@など置き換えの文字追加し、バイト数が変わったときにエラーで拾えるかの確認をAMOで実施\n",
            "\n",
            "　　　　　⇒　AMOからの調査結果待ち(現時点の過去実績を確認中)\n",
            "\n",
            "　　　　□　VDAとVDA Searchの不一致(品質チームがVDA Searchでエンジンナンバー参照不可）\n",
            "\n",
            "　　　　　⇒　■04/04　正英さんより以下状況引継ぎ\n",
            "\n",
            "　　　　　①BCV→VDA間でEV車用のマッピングが対応されていないため、エンジンナンバーがVDA上でNULLになる問題がある\n",
            "\n",
            "　　　　　②しかしICE車のエンジンナンバーも参照できない状態と判明（VDAには反映有）\n",
            "\n",
            "　　　　　③VDA SearchのエンジンナンバーはQIDEA経由で連携されるため、ここが原因の可能性有\n",
            "\n",
            "　　　　　　⇒　VDA Search操作確認　ファイルを分析し、それぞれの現象を整理\n",
            "\n",
            "　　　■　VDAのMMC/AWSサーバー増強依頼\n",
            "\n",
            "　　　　⇒　■05/16)　AMOよりMMC部分の残サイズが少なくなっている旨報告を受ける\n",
            "\n",
            "　　　　　　⇒　■05/16)　根門さんに承認依頼(32GB増量して、計70GB＝3年稼働できる見込み)\n",
            "\n",
            "　　　　⇒　■05/16)　根門さんより承認いただく\n",
            "\n",
            "　　　　　　⇒　■05/29)　拡張完了\n",
            "\n",
            "　　　□　X360 不正文字によるエラー\n",
            "\n",
            "　　　　　⇒　予算と日程の調整\n",
            "\n",
            "　　　□　SDR ログ容量増加対応\n",
            "\n",
            "　　　　　⇒　■03/05）富士通AMOより連絡あり（暫定：Zip化、恒久：検討中）\n",
            "\n",
            "　　　　　⇒　富士通AMOからの連絡待ち\n",
            "\n",
            "　　　□　VDAデータ（IE0）　※X360データとしして、利用許諾を前提にユーザ利用を進めることを検討している\n",
            "\n",
            "　　　　　⇒IE0からの連絡待ち\n",
            "\n",
            "　　　■　中国ADT-RT MetaデータのIdPサービス利用申請 ・・・荻野さんよりAMOに引継ぎ\n",
            "\n",
            "　　　　⇒　■04/24)　リンさんとミーティング実施、状況聞き取り\n",
            "\n",
            "　　　　⇒　■04/24)　Boschチームにて403エラーが解消され、正しいメタデータを用意できたら、再申請についてはIB3で行う旨返信\n",
            "\n",
            "　　　　⇒　■04/26)　Boschチームより別件対応で現在調査がストップ中との事\n",
            "\n",
            "　　　　⇒　■06/04)　Boschチームより返信あり、403エラーは解消。ProdでIDP接続できないため、確認してほしい。\n",
            "\n",
            "　　　　⇒　■06/04)　新しいメタデータが添付されていたため、前回申請を確認し、異なるメタデータである事を確認。GDサポートデスクに修正依頼を送信。\n",
            "\n",
            "　　　　⇒　■06/04)　GDサポートデスクより返信、今夜対応いただけるとの事。\n",
            "\n",
            "　　　　⇒　■06/05)　対応完了をBoschに連絡\n",
            "\n",
            "　　　　□　POSTMAN対策(XX6がアプリケーション用のIDでVDAに直接アクセスしていた問題)\n",
            "\n",
            "　　　　　⇒　状況確認(APIGEEチームの回答確認)\n",
            "\n",
            "□　業連FY24\n",
            "\n",
            "　　□　＜IS業連＞FY24　VESPA REPROサポート\n",
            "\n",
            "　　　　□　FY24　6月分(6/25頃にAMOに確認)\n",
            "\n",
            "　　□　＜IS業連＞FY24　CGW情報開示ベンダー登録＆保守\n",
            "\n",
            "　　　　□　FY24　6月分(6/25頃にAMOに確認)　　\n",
            "\n",
            "　　□　＜IS業連＞IP特性チェック追加（２バッチ修正）　※工数：63.0h予定\n",
            "\n",
            "　　　　⇒　FY24対応\n",
            "\n",
            "　  □　＜IS業連＞　PSPM Cookie影響調査\n",
            "\n",
            "　　　　⇒　■05/16）見積もり、作業実施依頼\n",
            "\n",
            "　　　　⇒　富士通AMOからの連絡待ち（対応完了待ち）\n",
            "\n",
            "　　□　＜IS業連＞　BCVデータ重複対応(VIN2件)　\n",
            "\n",
            "　　　　　⇒　■05/23）GASより業連発行\n",
            "\n",
            "　　　　　⇒　■05/24）進捗確認　27日作業　28日のバッチ確認予定\n",
            "\n",
            "　　　　　⇒　■05/30）業連対象の2件は対応済み。追加発生分をどのように進めるか要調整。\n",
            "\n",
            "　　　　　⇒　恒久対応後に対象ファイルを取り込むよう進めたい。6月の業連のスケジュールをAMOと確認後にGASとミーティング。\n",
            "\n",
            "　　□　＜IS業連＞　BCVデータ重複対応(VIN3件)　\n",
            "\n",
            "　　　　　⇒　■05/27）GASより業連発行\n",
            "\n",
            "　　　　　⇒　■05/30）業連対象の3件は対応済み。追加発生分をどのように進めるか要調整。\n",
            "\n",
            "　　　　　⇒　恒久対応後に対象ファイルを取り込むよう進めたい。6月の業連のスケジュールをAMOと確認後にGASとミーティング。\n",
            "\n",
            "　　　　　⇒　富士通AMOからの完了連絡待ち\n",
            "\n",
            "　　■　＜IS業連＞　部品交換に伴うIASS更新※現地対応 \n",
            "\n",
            "　　　　　⇒　■05/27)　XX6より実施計画がある旨事前連絡有\n",
            "\n",
            "　　　　　⇒　■05/28)　31日実施\n",
            "\n",
            "　　　　　⇒　■05/31)　対応完了\n",
            "\n",
            "　　■　＜IS業連＞　DTC優先度データ（JPN ALL/NAE J12）リリース　05/27依頼\n",
            "\n",
            "　　　　　⇒　■05/27)　GASよりファイル着。業連発行。31日締め切り。\n",
            "\n",
            "　　　　　⇒　■05/30)　別件(下記)優先のため、GAS月曜対応に同意いただく。\n",
            "\n",
            "　　　　　⇒　■06/03)　リリース完了\n",
            "\n",
            "　　■　＜IS業連＞　XDDのFamily Code等のVDA更新 5/30依頼\n",
            "\n",
            "　　　　　⇒　■05/30)　GASより依頼。テストが止まっているので緊急で本日対応⇒DTC Priorityは月曜に延期に同意いただく。\n",
            "\n",
            "　　　　　⇒　■05/30)　対応完了\n",
            "\n",
            "　　■　＜IS業連＞　部品交換に伴うIASS更新※現地対応 日程未定\n",
            "\n",
            "　　　　　⇒　■06/3)　XX6より実施計画がある旨事前連絡有。GASで業連発行\n",
            "\n",
            "　□　業連FY23残対応\n",
            "\n",
            "　　■　＜IS業連＞VESPAリプロチェック　Config対応　※工数：40.5h\n",
            "\n",
            "　　　　⇒　■03/11）富士通AMOに連絡（業連実施依頼）\n",
            "\n",
            "　　　　⇒　■04/17）富士通AMOより保守定例ミーティング内で着手した連絡有\n",
            "\n",
            "　　　　⇒　■05/29）リリース前レビュー\n",
            "\n",
            "　　　　⇒　■06/04）本番リリース\n",
            "\n",
            "　　　　⇒　■06/10）リリース後の動確完了　AMOよりGAS報告\n",
            "\n",
            "□　その他\n",
            "\n",
            "　　□　04/03) オペレーションスタッフミーティング内で周知のあった組織変更に伴う担当変更を実施\n",
            "\n",
            "　　　　・監視アラートの連絡先変更（正英さん⇒石岡への変更）\n",
            "\n",
            "　　　　⇒　AMO依頼済み\n",
            "\n",
            "　　　　⇒　■04/23）AMOに状況確認、未対応のため本日実施との事\n",
            "\n",
            "　　　　⇒　■05/13）正英さんよりAMOに未だにメールが届く旨連絡\n",
            "\n",
            "　　　　⇒　■05/14）AMOより木屋さんにフォローアップ\n",
            "\n",
            "　　　　⇒　富士通AMOからの連絡待ち\n",
            "\n",
            " \n",
            "\n",
            "　　　□ABSOLのAMO追加\n",
            "\n",
            "　　　　　⇒　■06/06）申請のExcelを埋めて依頼メール送信\n",
            "\n",
            "　　　　　⇒反映待ち\n",
            "\n",
            "　　　　　　　　\n",
            "\n",
            "＊連絡事項＊\n",
            "\n",
            "　　　　なし\n",
            "\n",
            "\n",
            "\n",
            "\n",
            "\n",
            "\n",
            "\n",
            "連絡：（自社へ）\n",
            "\n",
            "なし\n",
            "\n",
            "Ver1.0\n"
          ]
        }
      ]
    },
    {
      "cell_type": "markdown",
      "source": [
        "### 準備：フォーマッターを作る\n",
        "抽出器の出力を生テキストの形に成形する関数を用意しておく。"
      ],
      "metadata": {
        "id": "zMhVs2VVafL4"
      }
    },
    {
      "cell_type": "code",
      "source": [
        "def text_formatter(retriever_output):\n",
        "  raw_text = retriever_output[0].page_content\n",
        "  raw_text_wo_newline = raw_text.replace(\"\\n\", \"\")\n",
        "  return raw_text_wo_newline"
      ],
      "metadata": {
        "id": "A7es-CZYaqWu"
      },
      "execution_count": null,
      "outputs": []
    },
    {
      "cell_type": "code",
      "source": [
        "text_formatter(retrieved)"
      ],
      "metadata": {
        "id": "1mtX2rsWbMUp",
        "outputId": "cd902863-75ac-4cb8-f0cb-780aa020820f",
        "colab": {
          "base_uri": "https://localhost:8080/",
          "height": 196
        }
      },
      "execution_count": null,
      "outputs": [
        {
          "output_type": "execute_result",
          "data": {
            "text/plain": [
              "'進 捗 状 況 報 告 書（週報）システム名\\t\\t\\t\\t\\t\\t\\t\\t\\t\\t\\t\\t\\t\\t\\t\\tSDR、VDA、MAC2024年6月11日報 告 期 間2024年6月03日 ～ 2024年6月07日作 成 者石岡雅紀当期作業実施工程SDR、VDA、PSPM, DTC Priority作業項目SDR、VDA、PSPM, DTC PriorityのAA担当赤字：待ち緑字：対応予定---------------------------------------------------------------------------------------------------□\\u3000業務部署（GAS／XX6等）問合せ／周知\\u3000\\u3000\\u3000\\u3000□05/28) OperationStaffMeeting（6件）\\u3000\\u3000\\u3000\\u3000\\u3000⇒■05/31) GAS展開、ADT Nissan team週次会議\\u3000\\u3000\\u3000\\u3000\\u3000\\u3000※RHEL7.9へアップデート案内にPSPMが対象リストに含まれていなかった理由はAMOで問い合わせ中\\u3000\\u3000\\u300006/04) OperationStaffMeeting（1件）\\u3000\\u3000\\u3000\\u3000\\u3000⇒\\u3000AMO確認待ち \\u3000\\u3000□GAS問合せ（依頼：証明書期限一覧の作成）\\u3000\\u3000\\u3000\\u3000⇒\\u3000■04/01) 松ケ野さん、正英さんレビュー\\u3000内部向けの資料としては完了\\u3000\\u3000\\u3000\\u3000⇒\\u3000GAS展開用の資料作成中\\u3000\\u3000□VESPA問合せ（依頼：VESPAの認証方式変更\\u3000IDP⇒OKTA）\\u3000\\u3000\\u3000\\u3000⇒\\u3000■04/24) 保守定例内で開発案件となる方向であると確認。またIBXの他部署とも対応方針をそろえた方が良いので、情報収集が必要。\\u3000\\u3000\\u3000\\u3000⇒\\u3000■04/25）VESPAよりアンケートフォーム形式で対応状況の聞き取り調査のメール受領\\u3000\\u3000\\u3000\\u3000⇒\\u3000■05/09）IB1伊藤-3より、既に1月にOKTAに変更されている旨回答有り\\u3000\\u3000\\u3000\\u3000⇒\\u3000AMOにてIB3も対応不要で問題ないか確認中\\u3000configの修正対応？\\u3000\\u3000\\u3000\\u3000⇒\\u3000保守開発間で返答内容を取りまとめてアンケート回答が必要\\u3000\\u3000\\u3000\\u3000※接続テストの経費が必要になりそう\\u3000\\u3000□XX6問合せ（依頼：CDGのレスポンスの遅れにより、CONSULT側でタイムアウトする）\\u3000\\u3000\\u3000⇒\\u3000■05/17)\\u3000AMOと対応方針を確認：CDG側での改善は大掛かりになる、処理自体は行えているので、CONSULTのタイムアウト上限値を上げていただく方針\\u3000\\u3000\\u3000\\u3000 ⇒\\u3000■05/17)\\u3000AMOでファイル準備中\\u3000\\u3000\\u3000\\u3000 ⇒\\u3000■05/20)\\u3000GASより追加で質問あり。明日の返答とさせていただく。\\u3000\\u3000\\u3000\\u3000 ⇒\\u3000■05/20)\\u3000CPUの高騰が確認でき、レスポンス遅延の原因の可能性が高い旨返信。AMOよりインフラチーム問い合わせ。\\u3000\\u3000 \\u3000\\u3000⇒\\u3000■05/21)\\u3000CPU高騰とエラーの分布図をGASに共有\\u30004月以前は問題が無い旨説明\\u3000またCPU高騰はアラート設定がない事を回答\\u3000\\u3000\\u3000\\u3000 ⇒\\u3000■05/22)\\u3000インフラチームの回答をGAS共有\"ログ削除済みで調査不可。証明書更新に伴うサーバの再起動でキャッシュクリアされたため、パフォーマンスが低下した可能性\"\\u3000\\u3000\\u3000\\u3000 ⇒\\u3000■05/29) \\u3000AMOで証明書期限の確認⇒2121年まで有効なため、インフラ環境に変更が無ければ、サンセットまで証明書更新にともなうサーバ再起動は行われない想定\\u3000\\u3000\\u3000\\u3000 ⇒\\u3000SDRでエラー検知可能かをAMOで確認中\\u3000\\u3000\\u3000■ジヤトコ問合せ（依頼：データ不備のリカバリのため、大量データ送信）\\u3000\\u3000\\u3000\\u3000⇒\\u3000■05/16)\\u3000約2週間かけて115万件を送信(一日の上限は10万件)する旨連絡有\\u300020日より開始\\u3000\\u3000\\u3000\\u3000\\u3000\\u3000⇒\\u3000■05/27)\\u3000AMOより先週の結果報告\\u3000エラーなく全件更新完了\\u3000\\u3000\\u3000\\u3000\\u3000\\u3000⇒\\u3000■06/03)\\u3000AMOより先週の結果報告\\u3000エラーなく全件更新完了。ジヤトコに結果報告済み。\\u3000\\u3000\\u3000□05/21)\\u3000SDRでのH15 Key登録エラー\\u3000\\u3000\\u3000\\u3000\\u3000\\u3000\\u3000⇒■05/21)\\u3000キーが使用済みという旨のエラーがログ確認されたため(5/15のログ)、AMOよりDaimlerチームに問い合わせ\\u3000\\u3000\\u3000\\u3000\\u3000\\u3000\\u3000⇒■05/21)\\u3000Daimlerチームより回答\"以前既にプログラミングされ、車両にリンクしたため使用済みとなっている。新しい空のキー取得が必要\"\\u3000\\u3000\\u3000\\u3000\\u3000\\u3000\\u3000⇒■05/21)\\u3000AMOより、Daimlerチームに新しいキーで再トライされているが、応答がなくエラー画面になっている旨説明\\u3000\\u3000\\u3000\\u3000\\u3000\\u3000\\u3000⇒■05/27)\\u3000Daimlerチームより詳細の聞き取りがあり、AMOより回答\\u3000\\u3000\\u3000\\u3000\\u3000\\u3000\\u3000⇒■05/28)\\u3000Daimlerチームより、一時的なエラーであり5/15以降問題ないため、再度試していただくよう返信あり\\u3000\\u3000\\u3000\\u3000\\u3000\\u3000\\u3000⇒■05/28)\\u3000GASよりDaimlerに再度試すように案内済み\\u3000\\u3000\\u3000\\u3000\\u3000\\u3000\\u3000⇒\\u3000Daimlerからの返信待ち□\\u3000障害      □\\u3000TLS1.0無効化対応\\u3000\\u3000\\u3000\\u3000\\u3000⇒\\u3000■05/15) XX6よりC4分のQA動確完了の連絡あり。\\u3000\\u3000\\u3000\\u3000\\u3000⇒\\u3000■05/15) IT0にQAの動確完了の連絡実施。\\u3000\\u3000\\u3000\\u3000\\u3000⇒\\u3000■05/21) オペレーションスタッフミーティングで本番日程の周知あり：6月10日(月)00:00-05:00\\u3000\\u3000\\u3000\\u3000\\u3000⇒\\u3000■05/21) XX6に当日の動確を依頼\\u3000\\u3000\\u3000\\u3000\\u3000⇒\\u3000■05/31)\\u3000XX6小林-3に担当より返信がないため回答を依頼\\u3000\\u3000\\u3000\\u3000\\u3000⇒\\u3000■05/31)\\u3000XX6佐藤さんより、C3P分はCITSで対応しますが、9時までは難しく少しずれこみますの返答。\\u3000\\u3000\\u3000\\u3000\\u3000⇒\\u30006/10の動確完了連絡待ち\\u3000\\u3000\\u3000\\u3000\\u3000□\\u300011/10_PSPMユーザ情報管理画面でのGD不具合\\u3000・・・暫定対応中\\u3000\\u3000\\u3000\\u3000\\u3000⇒\\u3000■04/25）IT0藤沢さんから返信\"PSPMアプリ側内部でいじるCookieは自アプリのCookie Nameの範囲とし、GDのCookieはそのまま返すようにする修正を検討いただけますか\"\\u3000\\u3000\\u3000\\u3000\\u3000⇒\\u3000■05/08）松ケ野さんより費用についてはIT0から出してもらえるか返信\\u3000\\u3000\\u3000\\u3000\\u3000⇒\\u3000■05/08）IT0藤沢さんより返信\"数十万円程度なら可能であるが、まずは保守業連枠で対応してください”\\u3000\\u3000\\u3000\\u3000\\u3000⇒\\u3000■05/10）IT0藤沢さんより14日にミーティング設定される\\u3000\\u3000\\u3000\\u3000\\u3000⇒\\u3000■05/14）IB3で修正を行う方向。調査についてはIB3で業連枠で実施、AMOからの見積もりが出たらIT0藤沢さんに連絡。\\u3000\\u3000\\u3000\\u3000\\u3000⇒\\u3000■05/14）業連発行\\u3000\\u3000\\u3000\\u3000\\u3000⇒\\u3000■05/30）QA環境を検証のためにIB3で一日占有したい旨を週次ミーティングで議題として確認⇒タイミングや手段を要件等\\u3000\\u3000\\u3000\\u3000\\u3000⇒\\u3000QA確認実施のタイミングや手段を要件等\\u3000\\u3000\\u3000\\u3000\\u3000※IS0がOKを出している以上、IB3側は問題ない認識。修正が必要な場合はIT0から費用を出してもらう方向。\\u3000\\u3000\\u3000\\u3000\\u3000\\u3000\\u3000\\u3000□3/14)VDA search検索不可\\u300011:45~15:30(03:45)\\u3000※検索中を示すプログレスバーが停止し、画面が遷移しない現象\\u3000\\u3000\\u3000\\u3000 ⇒\\u3000■05/08) AMO木村さん確認完了\\u3000\\u3000\\u3000 \\u3000⇒\\u3000■05/08) GASに対応完了報告\\u3000\\u3000\\u3000\\u3000 ⇒\\u3000■05/09) GAS安西さんより検索上限100件に設定されると困る旨返信あり、必要な設定である旨背景を説明\\u3000\\u3000\\u3000\\u3000 ⇒\\u3000■05/10) ADT Nissan team週次会議内で再度説明、検索に時間がかかっても上限を外すような修正はできないかリクエストいただく。\\u3000\\u3000\\u3000\\u3000 ⇒\\u3000■05/13) IB3任さんに相談\\u3000\\u3000\\u3000\\u3000 ⇒\\u3000■05/13) GAS安西さんに検索上限を引き上げる方向で修正を検討している旨説明、現実的な上限値について聞き取り。\\u3000\\u3000\\u3000\\u3000 ⇒\\u3000■05/14) GAS安西さんより上限値1,000でよいと回答を頂く。\\u3000\\u3000\\u3000\\u3000 ⇒\\u3000■05/14) IB3任さんで設定変更完了、AMOに動作確認依頼。\\u3000\\u3000\\u3000\\u3000 ⇒\\u3000■05/24) ミーティングで状況確認。1,000件で実施した場合にsnowflake(DBサーバー)でSQLが長すぎてコンパイルエラーが発生。任さんに上限の件数を確認いただく。\\u3000\\u3000\\u3000\\u3000 ⇒\\u3000■05/27) 任さんより回答有。ECU条件ありの場合、500件。ECU条件なしの場合、200件。\\u3000\\u3000\\u3000\\u3000 ⇒\\u3000■05/27) 任さんに上記の上限で検索上限値を設定可能か確認\\u3000\\u3000\\u3000\\u3000 ⇒\\u3000■05/28) IE0衛藤さんにSnowFlakeのリソース増強は可能か相談\\u3000\\u3000\\u3000\\u3000 ⇒\\u3000■05/29) 任さんより回答\"ECU条件ありの場合、500件。ECU条件なしの場合、200件。での件数制限は可能\"\\u3000\\u3000\\u3000\\u3000 ⇒\\u3000■05/29) IE0衛藤さんよりフォームから問い合わせるよう指示。問い合わせ実施。\\u3000\\u3000\\u3000\\u3000 ⇒\\u3000■05/30) さらに別のフォームから問い合わせるように返信あり。再問合せ。\\u3000\\u3000\\u3000\\u3000 ⇒\\u3000■05/31) ”ラボスタ”で問い合わせのスレッドが作成される\\u3000\\u3000\\u3000\\u3000 ⇒\\u3000担当からの回答待ち\\u3000\\u3000\\u3000□05/13)PSPM SQL 本番サーバーのアラート発報 (SQL Fail Over)\\u3000\\u3000\\u3000\\u3000\\u3000\\u3000⇒■05/13) AMOよりASP3サポートデスク問い合わせ\\u3000\\u3000\\u3000\\u3000\\u3000\\u3000⇒■05/13) ASP3サポートデスクより異常なしの回答\\u3000\\u3000\\u3000\\u3000\\u3000\\u3000⇒■05/13) AMOよりIT0木屋さんにPSPMのアプリ側のログでも特に異常がないため、無視できるか確認\\u3000\\u3000\\u3000\\u3000\\u3000\\u3000⇒■05/13) IT0木屋さんより、AMOに動作に異常が出るものではないので無視できると回答\\u3000\\u3000\\u3000\\u3000\\u3000\\u3000⇒■05/13) CPUの高負荷アラートも発生し、IT0木屋さんに再度問い合わせ\\u3000\\u3000\\u3000\\u3000\\u3000\\u3000⇒■05/13) IT0木屋さんより高負荷の要因となっているプロセスの確認を依頼される            ⇒■05/13) IT0木屋さんとミーティング\\u3000\\u3000\\u3000\\u3000\\u3000\\u3000\\u3000\\u3000\\u3000\\u3000\\u3000\\u3000\\u3000\\u3000\\u3000\\u3000⇒負荷は一時的なものであるが、CPUのログを取っていないため詳細の調査は行えない状況。⇒14日よりログ取得開始。再発時はログ内容を調査する。\\u3000\\u3000\\u3000\\u3000\\u3000\\u3000⇒■05/14)\\u3000保守ミーティング内で今月末までログ生成し、内容を精査。問題なければ以降ログ生成は停止する方向とした。\\u3000\\u3000\\u3000\\u3000\\u3000\\u3000⇒■05/22)\\u3000アラート再発。時間がかかっているクエリをAMOで調査。\\u3000\\u3000\\u3000\\u3000\\u3000\\u3000 ⇒\\u3000AMOからの連絡待ち(月末にログ確認)\\u3000\\u3000\\u3000\\u3000□05/23)\\u3000PSPMユーザー登録ページのエラー\\u3000\\u3000\\u3000\\u3000\\u3000\\u3000\\u3000⇒■05/23)XX6よりPSPMのユーザー登録において、ファイルからデータ登録を行う際にエラーのアラートが出て登録できないと申告あり\\u3000\\u3000\\u3000\\u3000\\u3000\\u3000\\u3000⇒■05/23)AMOで確認し、ユーザーリクエストのチェックバッチが止まっていたため手動で再開させ登録成功を確認\\u3000\\u3000\\u3000\\u3000\\u3000\\u3000\\u3000⇒■05/23)XX6に対応完了を報告\\u3000\\u3000\\u3000\\u3000\\u3000\\u3000\\u3000⇒\\u3000AMOからの原因調査、再発防止策の返答待ち\\u3000□\\u3000保守関連（富士通：SDR／VDA／PSPM／DTC Priority）\\u3000\\u3000□Server Monitoring\\u3000\\u3000\\u3000\\u3000\\u3000\\u3000\\u3000なし\\u3000\\u3000\\u3000\\u3000\\u3000\\u3000□Server Monitoringのエラー対応\\u3000(CONSULT User Loginのエラーが頻出する\\u3000※実害なし)\\u3000\\u3000\\u3000\\u3000\\u3000⇒\\u3000■04/24)保守定例内で開発T石川さんより状況説明あり。2回連続検知で初めてメール送信されるような改修はプロジェクト対応になる。\\u3000\\u3000\\u3000\\u3000\\u3000⇒\\u3000RNTBCIのサポート開始には運用で対処する（引継ぎ時に経緯を理解してもらう）\\u3000\\u3000\\u3000\\u3000\\u3000・費用の扱いは？⇒12月リリース時点から発生している現象\\u3000設定変更レベルなら問題ないが、改修レベルになると要相談\\u3000\\u3000□RNTBCI24時間サポート依頼\\u3000\\u3000\\u3000\\u3000\\u3000⇒\\u3000■05/09)\\u3000RNTBCIにファイルにが2.0人月と書いてあるのでどちらが正しいのか確認\\u3000\\u3000\\u3000\\u3000\\u3000⇒\\u3000■05/09)\\u3000RNTBCIより1.25人月が正しい旨返信あり\\u3000\\u3000\\u3000\\u3000\\u3000⇒\\u3000■05/10)\\u30000.75人月で対応いただけないか返信\\u3000\\u3000\\u3000\\u3000\\u3000⇒\\u3000■05/14)\\u3000RNTBCIより、0.75人月で対応いただける旨返信あり\\u3000\\u3000\\u3000\\u3000\\u3000⇒\\u3000■05/24)\\u3000塩野さんにプロジェクト番号取得いただく\\u3000\\u3000\\u3000\\u3000\\u3000⇒\\u3000■05/24-27)\\u3000DR資料作成\\u3000\\u3000\\u3000\\u3000\\u3000⇒\\u3000■05/27)\\u3000松ケ野さんレビュー実施\\u3000\\u3000\\u3000\\u3000\\u3000⇒\\u3000■05/28)\\u3000根門さんレビュー実施\\u3000\\u3000\\u3000\\u3000\\u3000⇒\\u3000■05/30)\\u3000藤田さんレビュー実施\\u3000\\u3000\\u3000\\u3000\\u3000⇒\\u3000■05/30)\\u3000RNTBCIにKTについて確認。7月一週に担当のChakradharさんとミーティングで引継ぎ実施。\\u3000\\u3000\\u3000\\u3000\\u3000⇒\\u3000■06/05)\\u3000DR実施\\u3000\\u3000\\u3000\\u3000\\u3000⇒\\u30006/11\\u3000再DR予定\\u3000\\u3000\\u3000\\u3000\\u3000⇒\\u3000メール連絡先一覧のファイル作成\\u3000\\u3000\\u3000\\u3000\\u3000⇒\\u3000KT準備(AMOと内容確認、資料準備)⇒富士通側の費用は業連\\u3000\\u3000□\\u3000BCVデータ重複（BCVからのデータにECU Mnemonicの重複があり、VDA側でデータ登録エラー発生）※2/16から発生\\u3000\\u3000\\u3000\\u3000\\u3000※RenaultフォーマットとAllianceフォーマットが混在している⇒Renaultフォーマットに戻してもらうが、再発\\u3000\\u3000\\u3000\\u3000\\u3000⇒恒久対応\\u3000※対応費用をRenaultへ提示済\\u3000\\u3000\\u3000\\u3000□\\u3000重複パターン\\u3000\\u3000\\u3000\\u3000\\u3000⇒\\u3000■05/16)\\u3000AMOより見積もり回答いただく。ソースコード修正に16時間取っている為、詳細をミーティング設定し確認\\u3000\\u3000\\u3000\\u3000\\u3000⇒\\u3000■05/16)\\u3000ミーティング内で想定より多くの時間を取っている為見直しをお願い\\u3000\\u3000\\u3000\\u3000\\u3000⇒\\u3000■05/22)\\u3000AMOより再見積もり回答あり。(16→4時間)GASに回答し、了承いただく。\\u3000\\u3000\\u3000\\u3000\\u3000⇒\\u3000■05/23)\\u3000GASとミーティング実施\\u3000別業連対応中のため6月からの着手になる旨説明\\u3000\\u3000\\u3000\\u3000\\u3000⇒\\u3000業連が複数あるため調整中\\u3000\\u3000\\u3000\\u3000□\\u3000XDD不正文字ありパタ\\u3000\\u3000\\u3000\\u3000\\u3000⇒\\u3000■05/08）保守定例ミーティング内で開発石川さんより、\"バイト数で判断して対応する項目に入れる仕組みのため、文字化け時点でバイト数が狂う可能性”を指摘される\\u3000\\u3000\\u3000\\u3000\\u3000⇒\\u3000■05/23)\\u3000GASとミーティング実施\\u3000不正文字の置き換えでの対応は、バイト数で部分参照を行っているため、エラーとなり置き換えできない事がある旨説明。\\u3000\\u3000\\u3000\\u3000\\u3000\\u3000\\u3000\\u3000\\u3000\\u3000\\u3000\\u3000\\u3000\\u3000\\u3000→取り込み実績のあるファイルに@など置き換えの文字追加し、バイト数が変わったときにエラーで拾えるかの確認をAMOで実施\\u3000\\u3000\\u3000\\u3000\\u3000⇒\\u3000AMOからの調査結果待ち(現時点の過去実績を確認中)\\u3000\\u3000\\u3000\\u3000□\\u3000VDAとVDA Searchの不一致(品質チームがVDA Searchでエンジンナンバー参照不可）\\u3000\\u3000\\u3000\\u3000\\u3000⇒\\u3000■04/04\\u3000正英さんより以下状況引継ぎ\\u3000\\u3000\\u3000\\u3000\\u3000①BCV→VDA間でEV車用のマッピングが対応されていないため、エンジンナンバーがVDA上でNULLになる問題がある\\u3000\\u3000\\u3000\\u3000\\u3000②しかしICE車のエンジンナンバーも参照できない状態と判明（VDAには反映有）\\u3000\\u3000\\u3000\\u3000\\u3000③VDA SearchのエンジンナンバーはQIDEA経由で連携されるため、ここが原因の可能性有\\u3000\\u3000\\u3000\\u3000\\u3000\\u3000⇒\\u3000VDA Search操作確認\\u3000ファイルを分析し、それぞれの現象を整理\\u3000\\u3000\\u3000■\\u3000VDAのMMC/AWSサーバー増強依頼\\u3000\\u3000\\u3000\\u3000⇒\\u3000■05/16)\\u3000AMOよりMMC部分の残サイズが少なくなっている旨報告を受ける\\u3000\\u3000\\u3000\\u3000\\u3000\\u3000⇒\\u3000■05/16)\\u3000根門さんに承認依頼(32GB増量して、計70GB＝3年稼働できる見込み)\\u3000\\u3000\\u3000\\u3000⇒\\u3000■05/16)\\u3000根門さんより承認いただく\\u3000\\u3000\\u3000\\u3000\\u3000\\u3000⇒\\u3000■05/29)\\u3000拡張完了\\u3000\\u3000\\u3000□\\u3000X360\\xa0不正文字によるエラー\\u3000\\u3000\\u3000\\u3000\\u3000⇒\\u3000予算と日程の調整\\u3000\\u3000\\u3000□\\u3000SDR\\xa0ログ容量増加対応\\u3000\\u3000\\u3000\\u3000\\u3000⇒\\u3000■03/05）富士通AMOより連絡あり（暫定：Zip化、恒久：検討中）\\u3000\\u3000\\u3000\\u3000\\u3000⇒\\u3000富士通AMOからの連絡待ち\\u3000\\u3000\\u3000□\\u3000VDAデータ（IE0）\\u3000※X360データとしして、利用許諾を前提にユーザ利用を進めることを検討している\\u3000\\u3000\\u3000\\u3000\\u3000⇒IE0からの連絡待ち\\u3000\\u3000\\u3000■\\u3000中国ADT-RT MetaデータのIdPサービス利用申請 ・・・荻野さんよりAMOに引継ぎ\\u3000\\u3000\\u3000\\u3000⇒\\u3000■04/24)\\u3000リンさんとミーティング実施、状況聞き取り\\u3000\\u3000\\u3000\\u3000⇒\\u3000■04/24)\\u3000Boschチームにて403エラーが解消され、正しいメタデータを用意できたら、再申請についてはIB3で行う旨返信\\u3000\\u3000\\u3000\\u3000⇒\\u3000■04/26)\\u3000Boschチームより別件対応で現在調査がストップ中との事\\u3000\\u3000\\u3000\\u3000⇒\\u3000■06/04)\\u3000Boschチームより返信あり、403エラーは解消。ProdでIDP接続できないため、確認してほしい。\\u3000\\u3000\\u3000\\u3000⇒\\u3000■06/04)\\u3000新しいメタデータが添付されていたため、前回申請を確認し、異なるメタデータである事を確認。GDサポートデスクに修正依頼を送信。\\u3000\\u3000\\u3000\\u3000⇒\\u3000■06/04)\\u3000GDサポートデスクより返信、今夜対応いただけるとの事。\\u3000\\u3000\\u3000\\u3000⇒\\u3000■06/05)\\u3000対応完了をBoschに連絡\\u3000\\u3000\\u3000\\u3000□\\u3000POSTMAN対策(XX6がアプリケーション用のIDでVDAに直接アクセスしていた問題)\\u3000\\u3000\\u3000\\u3000\\u3000⇒\\u3000状況確認(APIGEEチームの回答確認)□\\u3000業連FY24\\u3000\\u3000□\\u3000＜IS業連＞FY24\\u3000VESPA REPROサポート\\u3000\\u3000\\u3000\\u3000□\\u3000FY24\\u30006月分(6/25頃にAMOに確認)\\u3000\\u3000□\\u3000＜IS業連＞FY24\\u3000CGW情報開示ベンダー登録＆保守\\u3000\\u3000\\u3000\\u3000□\\u3000FY24\\u30006月分(6/25頃にAMOに確認)\\u3000\\u3000\\u3000\\u3000□\\u3000＜IS業連＞IP特性チェック追加（２バッチ修正）\\u3000※工数：63.0h予定\\u3000\\u3000\\u3000\\u3000⇒\\u3000FY24対応\\u3000  □\\u3000＜IS業連＞\\u3000PSPM Cookie影響調査\\u3000\\u3000\\u3000\\u3000⇒\\u3000■05/16）見積もり、作業実施依頼\\u3000\\u3000\\u3000\\u3000⇒\\u3000富士通AMOからの連絡待ち（対応完了待ち）\\u3000\\u3000□\\u3000＜IS業連＞\\u3000BCVデータ重複対応(VIN2件)\\u3000\\u3000\\u3000\\u3000\\u3000\\u3000⇒\\u3000■05/23）GASより業連発行\\u3000\\u3000\\u3000\\u3000\\u3000⇒\\u3000■05/24）進捗確認\\u300027日作業\\u300028日のバッチ確認予定\\u3000\\u3000\\u3000\\u3000\\u3000⇒\\u3000■05/30）業連対象の2件は対応済み。追加発生分をどのように進めるか要調整。\\u3000\\u3000\\u3000\\u3000\\u3000⇒\\u3000恒久対応後に対象ファイルを取り込むよう進めたい。6月の業連のスケジュールをAMOと確認後にGASとミーティング。\\u3000\\u3000□\\u3000＜IS業連＞\\u3000BCVデータ重複対応(VIN3件)\\u3000\\u3000\\u3000\\u3000\\u3000\\u3000⇒\\u3000■05/27）GASより業連発行\\u3000\\u3000\\u3000\\u3000\\u3000⇒\\u3000■05/30）業連対象の3件は対応済み。追加発生分をどのように進めるか要調整。\\u3000\\u3000\\u3000\\u3000\\u3000⇒\\u3000恒久対応後に対象ファイルを取り込むよう進めたい。6月の業連のスケジュールをAMOと確認後にGASとミーティング。\\u3000\\u3000\\u3000\\u3000\\u3000⇒\\u3000富士通AMOからの完了連絡待ち\\u3000\\u3000■\\u3000＜IS業連＞\\u3000部品交換に伴うIASS更新※現地対応 \\u3000\\u3000\\u3000\\u3000\\u3000⇒\\u3000■05/27)\\u3000XX6より実施計画がある旨事前連絡有\\u3000\\u3000\\u3000\\u3000\\u3000⇒\\u3000■05/28)\\u300031日実施\\u3000\\u3000\\u3000\\u3000\\u3000⇒\\u3000■05/31)\\u3000対応完了\\u3000\\u3000■\\u3000＜IS業連＞\\u3000DTC優先度データ（JPN ALL/NAE J12）リリース\\u300005/27依頼\\u3000\\u3000\\u3000\\u3000\\u3000⇒\\u3000■05/27)\\u3000GASよりファイル着。業連発行。31日締め切り。\\u3000\\u3000\\u3000\\u3000\\u3000⇒\\u3000■05/30)\\u3000別件(下記)優先のため、GAS月曜対応に同意いただく。\\u3000\\u3000\\u3000\\u3000\\u3000⇒\\u3000■06/03)\\u3000リリース完了\\u3000\\u3000■\\u3000＜IS業連＞\\u3000XDDのFamily Code等のVDA更新 5/30依頼\\u3000\\u3000\\u3000\\u3000\\u3000⇒\\u3000■05/30)\\u3000GASより依頼。テストが止まっているので緊急で本日対応⇒DTC Priorityは月曜に延期に同意いただく。\\u3000\\u3000\\u3000\\u3000\\u3000⇒\\u3000■05/30)\\u3000対応完了\\u3000\\u3000■\\u3000＜IS業連＞\\u3000部品交換に伴うIASS更新※現地対応 日程未定\\u3000\\u3000\\u3000\\u3000\\u3000⇒\\u3000■06/3)\\u3000XX6より実施計画がある旨事前連絡有。GASで業連発行\\u3000□\\u3000業連FY23残対応\\u3000\\u3000■\\u3000＜IS業連＞VESPAリプロチェック\\u3000Config対応\\u3000※工数：40.5h\\u3000\\u3000\\u3000\\u3000⇒\\u3000■03/11）富士通AMOに連絡（業連実施依頼）\\u3000\\u3000\\u3000\\u3000⇒\\u3000■04/17）富士通AMOより保守定例ミーティング内で着手した連絡有\\u3000\\u3000\\u3000\\u3000⇒\\u3000■05/29）リリース前レビュー\\u3000\\u3000\\u3000\\u3000⇒\\u3000■06/04）本番リリース\\u3000\\u3000\\u3000\\u3000⇒\\u3000■06/10）リリース後の動確完了\\u3000AMOよりGAS報告□\\u3000その他\\u3000\\u3000□\\u300004/03) オペレーションスタッフミーティング内で周知のあった組織変更に伴う担当変更を実施\\u3000\\u3000\\u3000\\u3000・監視アラートの連絡先変更（正英さん⇒石岡への変更）\\u3000\\u3000\\u3000\\u3000⇒\\u3000AMO依頼済み\\u3000\\u3000\\u3000\\u3000⇒\\u3000■04/23）AMOに状況確認、未対応のため本日実施との事\\u3000\\u3000\\u3000\\u3000⇒\\u3000■05/13）正英さんよりAMOに未だにメールが届く旨連絡\\u3000\\u3000\\u3000\\u3000⇒\\u3000■05/14）AMOより木屋さんにフォローアップ\\u3000\\u3000\\u3000\\u3000⇒\\u3000富士通AMOからの連絡待ち\\xa0\\u3000\\u3000\\u3000□ABSOLのAMO追加\\u3000\\u3000\\u3000\\u3000\\u3000⇒\\u3000■06/06）申請のExcelを埋めて依頼メール送信\\u3000\\u3000\\u3000\\u3000\\u3000⇒反映待ち\\u3000\\u3000\\u3000\\u3000\\u3000\\u3000\\u3000\\u3000＊連絡事項＊\\u3000\\u3000\\u3000\\u3000なし連絡：（自社へ）なしVer1.0'"
            ],
            "application/vnd.google.colaboratory.intrinsic+json": {
              "type": "string"
            }
          },
          "metadata": {},
          "execution_count": 45
        }
      ]
    },
    {
      "cell_type": "markdown",
      "source": [
        "### 抽出・補完・生成のチェインを作る"
      ],
      "metadata": {
        "id": "NuaPtBVlYzSK"
      }
    },
    {
      "cell_type": "code",
      "source": [
        "from langchain_core.output_parsers import StrOutputParser\n",
        "from langchain_core.runnables import RunnablePassthrough"
      ],
      "metadata": {
        "id": "GSuEft21cmb5"
      },
      "execution_count": null,
      "outputs": []
    },
    {
      "cell_type": "code",
      "source": [
        "llm = ChatOpenAI(model=\"gpt-4o\")"
      ],
      "metadata": {
        "id": "WSpR9UzcAR7k"
      },
      "execution_count": null,
      "outputs": []
    },
    {
      "cell_type": "markdown",
      "source": [
        "retriever、prompt_template、llmが用意できたので、これらを組み合わせて、情報の流れを定義する。LangChainでは、これから書いていくような「インプットからアウトプットまでの流れ」をチェイン（chain）と呼ぶ。"
      ],
      "metadata": {
        "id": "iSyBGWYK8iwH"
      }
    },
    {
      "cell_type": "code",
      "source": [
        "\n",
        "chain = ({\"question\":RunnablePassthrough(), \"context\":retriever|text_formatter}\n",
        "         | prompt_template\n",
        "         | llm\n",
        "         )"
      ],
      "metadata": {
        "id": "kQ6Hr0EhAKg6"
      },
      "execution_count": null,
      "outputs": []
    },
    {
      "cell_type": "code",
      "source": [
        "chain.invoke(\"VESPA お問合せの内容は？\")"
      ],
      "metadata": {
        "id": "IT712hU32vVr",
        "outputId": "37b924bb-c513-4b59-a4ef-ddfc0a4e3c35",
        "colab": {
          "base_uri": "https://localhost:8080/"
        }
      },
      "execution_count": null,
      "outputs": [
        {
          "output_type": "execute_result",
          "data": {
            "text/plain": [
              "AIMessage(content='VESPAに関する問い合わせの内容は以下の通りです：\\n\\n1. **VESPAの認証方式変更 (IDP⇒OKTA)**\\n   - **04/24**: 保守定例内で開発案件となる方向で確認。また、IBXの他部署とも対応方針をそろえた方が良いので情報収集が必要。\\n   - **04/25**: VESPAよりアンケートフォーム形式で対応状況の聞き取り調査のメールを受領。\\n   - **05/09**: IB1伊藤-3より、既に1月にOKTAに変更されている旨の回答あり。\\n   - **AMO**にてIB3も対応不要で問題ないか確認中（configの修正対応が必要かどうかも含む）。\\n   - **保守開発間**で返答内容を取りまとめてアンケート回答が必要。\\n   - **接続テストの経費**が必要になりそう。\\n\\nこれらの内容から、VESPAの認証方式をIDPからOKTAに変更する件についての問い合わせが行われており、それに伴う対応状況の確認や調整が必要であることが記載されています。', response_metadata={'token_usage': {'completion_tokens': 277, 'prompt_tokens': 5891, 'total_tokens': 6168}, 'model_name': 'gpt-4o', 'system_fingerprint': 'fp_319be4768e', 'finish_reason': 'stop', 'logprobs': None}, id='run-48b06527-8bb7-4b4f-b624-52d7ee0b65b4-0')"
            ]
          },
          "metadata": {},
          "execution_count": 49
        }
      ]
    },
    {
      "cell_type": "code",
      "source": [
        "resp=chain.invoke(\"全体的に問題ポイントを教えて\")"
      ],
      "metadata": {
        "id": "Ta9Y9nOdeNrz"
      },
      "execution_count": null,
      "outputs": []
    },
    {
      "cell_type": "code",
      "source": [
        "resp.content"
      ],
      "metadata": {
        "id": "6xVm6yhdetdJ",
        "colab": {
          "base_uri": "https://localhost:8080/",
          "height": 286
        },
        "outputId": "daf0e488-fe90-4608-95e4-f04f3e2c0433"
      },
      "execution_count": null,
      "outputs": [
        {
          "output_type": "execute_result",
          "data": {
            "text/plain": [
              "'進捗状況報告書の内容から、問題点や改善が必要なポイントを以下に整理します：\\n\\n### 1. **未解決の課題や対応待ちが多い**\\n- **GAS問合せ**：PSPMが対象リストに含まれていなかった理由が未確認（AMO確認待ち）。\\n- **VESPA問合せ**：アンケートの返答が未完了（AMO確認待ち）。\\n- **XX6問合せ**：CPU高騰の原因調査が未完了（AMO確認待ち）。\\n- **SDRでのH15 Key登録エラー**：Daimlerからの返信待ち。\\n- **TLS1.0無効化対応**：6/10の動確完了連絡待ち。\\n- **BCVデータ重複対応**：恒久対応後の進め方が未確定（業連の調整中）。\\n\\n### 2. **連絡や確認待ちが多い**\\n- **AMO確認待ち**：複数の項目でAMOからの確認や回答待ちが多い。\\n- **富士通AMOからの連絡待ち**：SDRログ容量増加対応、PSPM Cookie影響調査、BCVデータ重複対応など。\\n\\n### 3. **調整や確認に時間がかかっている**\\n- **業連調整**：業連の発行や調整が複数あり、進捗が遅れている。\\n- **VESPAリプロチェック**：リリース後の動確がまだ完了していない。\\n\\n### 4. **明確なスケジュールや期限が不明**\\n- 各タスクや対応の完了予定日が明確に示されていないため、進捗管理が難しい可能性がある。\\n\\n### 5. **重複したタスクや対応の優先順位が不明確**\\n- 複数の重複したタスクが存在し、どのタスクが優先されるべきかが明確ではない。\\n\\n### 6. **コミュニケーション不足**\\n- 幾つかの項目で連絡が遅れていたり、返答がないまま時間が経過している。\\n- 例：監視アラートの連絡先変更が未完了。\\n\\n### 7. **費用の扱いや予算調整が不明確**\\n- 費用の扱いや予算調整に関して、具体的な計画や進捗が見られない。\\n\\n### 8. **障害対応の再発防止策が不明確**\\n- 障害の原因調査や再発防止策についての具体的な対応策が明示されていない。\\n\\n### 改善の提案\\n1. **進捗の可視化**：未解決の課題や対応待ちの項目を一覧化し、進捗状況を定期的に更新・共有する。\\n2. **期限設定**：各タスクや対応に対して明確な期限を設定し、期限内に進捗を報告する。\\n3. **優先順位の明確化**：タスクの優先順位を明確にし、重要度に応じたリソース配分を行う。\\n4. **コミュニケーション強化**：関係者間のコミュニケーションを強化し、定期的なミーティングや確認作業を行う。\\n5. **再発防止策の策定**：障害対応の原因調査結果を基に、具体的な再発防止策を策定し、実行する。\\n6. **予算管理の明確化**：費用や予算に関する計画を明確にし、必要なリソースの確保を行う。\\n\\n以上の点を改善することで、進捗の透明性が高まり、問題の早期解決やタスクの効率的な管理が期待できます。'"
            ],
            "application/vnd.google.colaboratory.intrinsic+json": {
              "type": "string"
            }
          },
          "metadata": {},
          "execution_count": 52
        }
      ]
    },
    {
      "cell_type": "code",
      "source": [
        "resp=chain.invoke(\"VESPAリプロチェック　リリース後の動作確認は完了してますか？\")"
      ],
      "metadata": {
        "id": "9YyRKsUKTiMI"
      },
      "execution_count": null,
      "outputs": []
    },
    {
      "cell_type": "code",
      "source": [
        "resp.content"
      ],
      "metadata": {
        "colab": {
          "base_uri": "https://localhost:8080/",
          "height": 160
        },
        "id": "QZ3tkgmLT0VB",
        "outputId": "b2a04909-ef44-4bbe-c57b-7d5bb3989cec"
      },
      "execution_count": null,
      "outputs": [
        {
          "output_type": "execute_result",
          "data": {
            "text/plain": [
              "'「VESPAリプロチェック\\u3000リリース後の動作確認未完了」という記述は、システムやソフトウェアの変更や更新が行われた後、その変更が正しく機能するかどうかを確認するためのテスト（動作確認）がまだ完了していないことを意味します。具体的には以下のような状況が考えられます：\\n\\n1. **リリース後のテストが未完了**：ソフトウェアの新しいバージョンや修正が本番環境にリリースされた後、その動作が期待通りであるかどうかの検証がまだ行われていない。\\n\\n2. **確認作業の遅延**：動作確認を担当するチームや個人が、他のタスクやスケジュールの都合でまだ確認作業を完了していない。\\n\\n3. **問題発見の可能性**：動作確認が完了していないため、リリースされた変更に何らかの問題や不具合が潜在的に含まれている可能性がある。\\n\\nこのため、「リリース後の動作確認未完了」とは、リリースされたソフトウェア変更が安定して動作することを確認するプロセスがまだ完了していないため、潜在的なリスクが残っている状態を示しています。\\n\\n具体的な進捗状況としては、2024年6月10日に「リリース後の動確完了」となっているため、その時点で動作確認が完了していることが報告されています。したがって、現時点では動作確認が完了し、問題がないことが確認されたことになります。'"
            ],
            "application/vnd.google.colaboratory.intrinsic+json": {
              "type": "string"
            }
          },
          "metadata": {},
          "execution_count": 56
        }
      ]
    },
    {
      "cell_type": "code",
      "source": [
        "resp=chain.invoke(\"全体的に問題ポイントに「VESPAリプロチェック　リリース後の動作確認未完了」はどいう意味でしょうか？\")"
      ],
      "metadata": {
        "id": "agWS6a7UUD0q"
      },
      "execution_count": null,
      "outputs": []
    },
    {
      "cell_type": "code",
      "source": [
        "graph_documents"
      ],
      "metadata": {
        "id": "Vtr_ENN_yj-7",
        "colab": {
          "base_uri": "https://localhost:8080/"
        },
        "outputId": "03871e83-26a9-4ef8-d4d4-7e2a39a5b00f"
      },
      "execution_count": null,
      "outputs": [
        {
          "output_type": "execute_result",
          "data": {
            "text/plain": [
              "[GraphDocument(nodes=[Node(id='Sdr', type='System'), Node(id='Vda', type='System'), Node(id='Mac', type='System'), Node(id='石岡雅紀', type='Person')], relationships=[Relationship(source=Node(id='Sdr', type='System'), target=Node(id='石岡雅紀', type='Person'), type='CONTRIBUTOR'), Relationship(source=Node(id='Vda', type='System'), target=Node(id='石岡雅紀', type='Person'), type='CONTRIBUTOR'), Relationship(source=Node(id='Mac', type='System'), target=Node(id='石岡雅紀', type='Person'), type='CONTRIBUTOR')], source=Document(page_content='進 捗 状 況 報 告 書（週報）\\n\\nシステム名\\n\\n\\t\\t\\t\\t\\t\\t\\t\\t\\t\\t\\t\\t\\t\\t\\t\\tSDR、VDA、MAC\\n\\n\\n\\n2024年6月3\\n\\n日\\n\\n報 告 期 間\\n\\n2024年5月27日 ～ 2024年5月31\\n\\n日\\n\\n作 成 者\\n\\n石岡雅紀\\n\\n当\\n\\n\\n\\n期\\n\\n\\n\\n作\\n\\n\\n\\n業\\n\\n\\n\\n実\\n\\n\\n\\n施\\n\\n工程\\n\\nSDR、VDA、PSPM, DTC Priority\\n\\n作業項目\\n\\nSDR、VDA、PSPM, DTC PriorityのAA担当\\n\\n\\n\\n赤字：待ち\\n\\n緑字：対応予定\\n\\n---------------------------------------------------------------------------------------------------\\n\\n□\\u3000業務部署（GAS／XX6等）問合せ／周知\\u3000\\u3000\\n\\n\\u3000\\u3000■05/28) OperationStaffMeeting（6件）\\n\\n\\u3000\\u3000\\u3000\\u3000\\u3000⇒■05/31) GAS展開、ADT Nissan team週次会議\\n\\n\\u3000\\u3000□GAS問合せ（依頼：証明書期限一覧の作成）\\n\\n\\u3000\\u3000\\u3000\\u3000⇒\\u3000■04/01) 松ケ野さん、正英さんレビュー\\u3000内部向けの資料としては完了\\n\\n\\u3000\\u3000\\u3000\\u3000⇒\\u3000GAS展開用の�', metadata={'source': '週報_（5月27日-31日_石岡）_IB3内製支援AA.docx', 'id': '765b08ff05f3b304812222c00fdbee5b'})),\n",
              " GraphDocument(nodes=[Node(id='松ケ野さん', type='Person'), Node(id='正英さん', type='Person'), Node(id='富士通Amo', type='Organization'), Node(id='石岡', type='Person')], relationships=[Relationship(source=Node(id='松ケ野さん', type='Person'), target=Node(id='正英さん', type='Person'), type='REVIEWED_DOCUMENT'), Relationship(source=Node(id='富士通Amo', type='Organization'), target=Node(id='石岡', type='Person'), type='ASKED_QUESTION')], source=Document(page_content='せ（依頼：証明書期限一覧の作成）\\n\\n\\u3000\\u3000\\u3000\\u3000⇒\\u3000■04/01) 松ケ野さん、正英さんレビュー\\u3000内部向けの資料としては完了\\n\\n\\u3000\\u3000\\u3000\\u3000⇒\\u3000GAS展開用の資料作成中\\n\\n\\u3000\\u3000□GAS問合せ（質問：DTC\\u3000PriorityDB更新依頼）\\n\\n\\u3000\\u3000\\u3000\\u3000⇒\\u3000■05/08) 富士通AMOとミーティング\\u3000不明点を石岡よりGASに質問\\n\\n\\u3000\\u3000\\u3000\\u3000⇒\\u3000■05/09) GASより返信\\u3000新規に項目を追加するリクエストであった。ファイルに不備があったので修正中とのこと。\\n\\n\\u3000\\u3000\\u3000\\u3000⇒\\u3000■05/23) GASと打合せで更新内容を確認\\n\\n\\u3000\\u3000\\u3000\\u3000⇒\\u3000GASからのファイル再送待ち (5/29予定)\\n\\n\\u3000\\u3000■GAS問合せ（依頼：PSPM\\u3000Excelにマクロ入れても問題ないか？）\\n\\n\\u3000\\u3000\\u3000\\u3000⇒■03/25）富士通AMOにて恐らくマクロの影響は受けない旨�', metadata={'source': '週報_（5月27日-31日_石岡）_IB3内製支援AA.docx', 'id': '0dd84c458321358df9355c9ed1976f36'})),\n",
              " GraphDocument(nodes=[Node(id='Gas問合せ', type='Inquiry'), Node(id='Pspm', type='Requester'), Node(id='Excel', type='Software'), Node(id='03/25', type='Date'), Node(id='富士通Amo', type='Company'), Node(id='マクロ', type='Software'), Node(id='サンプルファイル', type='File'), Node(id='Nissanapigee', type='Service'), Node(id='It0工藤', type='Person'), Node(id='Ndi', type='Organization'), Node(id='緊急連絡先リスト', type='List'), Node(id='Ib3', type='Information'), Node(id='05/09', type='Date'), Node(id='05/17', type='Date'), Node(id='Adt Nissan Team', type='Team')], relationships=[Relationship(source=Node(id='Gas問合せ', type='Inquiry'), target=Node(id='Pspm', type='Requester'), type='REQUESTED'), Relationship(source=Node(id='Pspm', type='Requester'), target=Node(id='Excel', type='Software'), type='USES'), Relationship(source=Node(id='Gas問合せ', type='Inquiry'), target=Node(id='03/25', type='Date'), type='CONFIRMATION'), Relationship(source=Node(id='03/25', type='Date'), target=Node(id='富士通Amo', type='Company'), type='CONFIRMED'), Relationship(source=Node(id='富士通Amo', type='Company'), target=Node(id='マクロ', type='Software'), type='AFFECTED'), Relationship(source=Node(id='マクロ', type='Software'), target=Node(id='サンプルファイル', type='File'), type='REQUIRED'), Relationship(source=Node(id='Gas問合せ', type='Inquiry'), target=Node(id='Nissanapigee', type='Service'), type='QUESTION'), Relationship(source=Node(id='Nissanapigee', type='Service'), target=Node(id='It0工藤', type='Person'), type='ACTION_CONFIRMATION'), Relationship(source=Node(id='It0工藤', type='Person'), target=Node(id='Ndi', type='Organization'), type='UPDATE_REQUEST'), Relationship(source=Node(id='It0工藤', type='Person'), target=Node(id='緊急連絡先リスト', type='List'), type='SHARE'), Relationship(source=Node(id='緊急連絡先リスト', type='List'), target=Node(id='Ib3', type='Information'), type='SHARE'), Relationship(source=Node(id='It0工藤', type='Person'), target=Node(id='05/09', type='Date'), type='REPLY'), Relationship(source=Node(id='05/09', type='Date'), target=Node(id='Ndi', type='Organization'), type='UPDATE_REQUEST'), Relationship(source=Node(id='It0工藤', type='Person'), target=Node(id='05/17', type='Date'), type='SHARE'), Relationship(source=Node(id='05/17', type='Date'), target=Node(id='Adt Nissan Team', type='Team'), type='MEETING')], source=Document(page_content='�送待ち (5/29予定)\\n\\n\\u3000\\u3000■GAS問合せ（依頼：PSPM\\u3000Excelにマクロ入れても問題ないか？）\\n\\n\\u3000\\u3000\\u3000\\u3000⇒■03/25）富士通AMOにて恐らくマクロの影響は受けない旨確認→本格的な調査のためには実際に使用するマクロと同じサンプルファイルが必要\\n\\n\\u3000\\u3000\\u3000\\u3000⇒※連絡ないため一旦クローズとする\\n\\n\\u3000\\u3000■GAS問合せ（質問：NissanAPIGEE障害の改善アクション確認）\\n\\n\\u3000\\u3000\\u3000\\u3000⇒\\u3000■05/09) IT0工藤さんより返信24*365については現時点ではNDI側では実施体制は確立されておらず、時期未定。合わせてNDIが管理している緊急連絡先リストを共有いただく。\\n\\n\\u3000\\u3000\\u3000\\u3000⇒\\u3000■05/09) IT0工藤さんに緊急連絡先リストのIB3内の最新情報を共有、NDIに更新をお願い。\\n\\n\\u3000\\u3000\\u3000\\u3000⇒\\u3000■05/17) ADT Nissan team週次会�', metadata={'source': '週報_（5月27日-31日_石岡）_IB3内製支援AA.docx', 'id': 'a8636f999f8240c77d736b607844b1ee'})),\n",
              " GraphDocument(nodes=[Node(id='It0工藤さん', type='Person'), Node(id='Ib3', type='Information'), Node(id='Ndi', type='Information'), Node(id='Adt Nissan Team', type='Team'), Node(id='Gas', type='Document'), Node(id='Vespa', type='Inquiry'), Node(id='Idp', type='Authentication system'), Node(id='Okta', type='Authentication system'), Node(id='Ibx', type='Department')], relationships=[Relationship(source=Node(id='It0工藤さん', type='Person'), target=Node(id='Ib3', type='Information'), type='SHARE_LATEST_INFORMATION'), Relationship(source=Node(id='It0工藤さん', type='Person'), target=Node(id='Ndi', type='Information'), type='REQUEST_UPDATE'), Relationship(source=Node(id='Adt Nissan Team', type='Team'), target=Node(id='Gas', type='Document'), type='REQUEST_WRITTEN_STATUS'), Relationship(source=Node(id='It0工藤さん', type='Person'), target=Node(id='Ib3', type='Information'), type='CONFIRM_CONTENTS'), Relationship(source=Node(id='Gas', type='Document'), target=Node(id='It0工藤さん', type='Person'), type='SEND_DOCUMENT'), Relationship(source=Node(id='Gas', type='Document'), target=Node(id='It0工藤さん', type='Person'), type='FOLLOW_UP_REQUIRED'), Relationship(source=Node(id='Vespa', type='Inquiry'), target=Node(id='Ibx', type='Department'), type='CONFIRM_DEVELOPMENT_PROJECT'), Relationship(source=Node(id='Vespa', type='Inquiry'), target=Node(id='Ibx', type='Department'), type='ALIGN_RESPONSE_STRATEGY')], source=Document(page_content='�先リストを共有いただく。\\n\\n\\u3000\\u3000\\u3000\\u3000⇒\\u3000■05/09) IT0工藤さんに緊急連絡先リストのIB3内の最新情報を共有、NDIに更新をお願い。\\n\\n\\u3000\\u3000\\u3000\\u3000⇒\\u3000■05/17) ADT Nissan team週次会議でGASに回答→現状を書面で頂きたい。\\n\\n\\u3000\\u3000\\u3000\\u3000⇒\\u3000■05/17) 現状と将来の体制予定のファイルを作成、IT0工藤さんに確認\\n\\n\\u3000\\u3000\\u3000\\u3000⇒\\u3000■05/20) IT0工藤さんより返信、ファイルの内容に相違なし\\n\\n\\u3000\\u3000\\u3000\\u3000⇒\\u3000■05/23) GAS連絡会内で回答、ドキュメントをメール送信\\u3000一旦クローズするが今後もフォローアップ必要\\n\\n\\u3000\\u3000□VESPA問合せ（依頼：VESPAの認証方式変更\\u3000IDP⇒OKTA）\\n\\n\\u3000\\u3000\\u3000\\u3000⇒\\u3000■04/24) 保守定例内で開発案件となる方向であると確認。またIBXの他部署とも対応方針をそろえた方が良いので、情報収集が必', metadata={'source': '週報_（5月27日-31日_石岡）_IB3内製支援AA.docx', 'id': '9990a18ae37b9835cbd5c7d0cb133368'})),\n",
              " GraphDocument(nodes=[Node(id='Idp', type='System'), Node(id='Okta', type='System'), Node(id='Vespa', type='System'), Node(id='Ib1伊藤-3', type='Person'), Node(id='Ib3', type='Person'), Node(id='Amo', type='Person'), Node(id='Cdg', type='Person'), Node(id='Consult', type='Person')], relationships=[Relationship(source=Node(id='Idp', type='System'), target=Node(id='Okta', type='System'), type='SYSTEM_CHANGE'), Relationship(source=Node(id='Vespa', type='System'), target=Node(id='Ib1伊藤-3', type='Person'), type='INQUIRY_RECEIVED'), Relationship(source=Node(id='Ib1伊藤-3', type='Person'), target=Node(id='Okta', type='System'), type='SYSTEM_CHANGE'), Relationship(source=Node(id='Ib3', type='Person'), target=Node(id='Amo', type='Person'), type='INQUIRY'), Relationship(source=Node(id='Cdg', type='Person'), target=Node(id='Consult', type='Person'), type='INQUIRY')], source=Document(page_content='変更\\u3000IDP⇒OKTA）\\n\\n\\u3000\\u3000\\u3000\\u3000⇒\\u3000■04/24) 保守定例内で開発案件となる方向であると確認。またIBXの他部署とも対応方針をそろえた方が良いので、情報収集が必要。\\n\\n\\u3000\\u3000\\u3000\\u3000⇒\\u3000■04/25）VESPAよりアンケートフォーム形式で対応状況の聞き取り調査のメール受領\\n\\n\\u3000\\u3000\\u3000\\u3000⇒\\u3000■05/09）IB1伊藤-3より、既に1月にOKTAに変更されている旨回答有り\\n\\n\\u3000\\u3000\\u3000\\u3000⇒\\u3000AMOにてIB3も対応不要で問題ないか確認中\\u3000configの修正対応？\\n\\n\\u3000\\u3000\\u3000\\u3000⇒\\u3000保守開発間で返答内容を取りまとめてアンケート回答が必要\\n\\n\\u3000\\u3000\\u3000\\u3000※接続テストの経費が必要になりそう\\n\\n\\u3000\\u3000□XX6問合せ（依頼：CDGのレスポンスの遅れにより、CONSULT側でタイムアウトする）\\n\\n\\u3000\\u3000\\u3000⇒\\u3000■05/17)\\u3000AMOと対応方針を確認', metadata={'source': '週報_（5月27日-31日_石岡）_IB3内製支援AA.docx', 'id': '7730fd157acb2346a1070b5f5dbe2d84'})),\n",
              " GraphDocument(nodes=[Node(id='接続テスト', type='Expense'), Node(id='Xx6問合せ', type='Inquiry'), Node(id='Cdg', type='Company'), Node(id='Consult', type='Company'), Node(id='Amo', type='Person'), Node(id='Gas', type='Person'), Node(id='Cpu', type='Component'), Node(id='インフラチーム', type='Team')], relationships=[Relationship(source=Node(id='接続テスト', type='Expense'), target=Node(id='Xx6問合せ', type='Inquiry'), type='REQUIRES'), Relationship(source=Node(id='Xx6問合せ', type='Inquiry'), target=Node(id='Cdg', type='Company'), type='RELATED_TO'), Relationship(source=Node(id='Xx6問合せ', type='Inquiry'), target=Node(id='Consult', type='Company'), type='RELATED_TO'), Relationship(source=Node(id='Xx6問合せ', type='Inquiry'), target=Node(id='Amo', type='Person'), type='RELATED_TO'), Relationship(source=Node(id='Xx6問合せ', type='Inquiry'), target=Node(id='Gas', type='Person'), type='RELATED_TO'), Relationship(source=Node(id='Xx6問合せ', type='Inquiry'), target=Node(id='Cpu', type='Component'), type='RELATED_TO'), Relationship(source=Node(id='Xx6問合せ', type='Inquiry'), target=Node(id='インフラチーム', type='Team'), type='RELATED_TO')], source=Document(page_content='�接続テストの経費が必要になりそう\\n\\n\\u3000\\u3000□XX6問合せ（依頼：CDGのレスポンスの遅れにより、CONSULT側でタイムアウトする）\\n\\n\\u3000\\u3000\\u3000⇒\\u3000■05/17)\\u3000AMOと対応方針を確認：CDG側での改善は大掛かりになる、処理自体は行えているので、CONSULTのタイムアウト上限値を上げていただく方針\\n\\n\\u3000\\u3000\\u3000\\u3000 ⇒\\u3000■05/17)\\u3000AMOでファイル準備中\\n\\n\\u3000\\u3000\\u3000\\u3000 ⇒\\u3000■05/20)\\u3000GASより追加で質問あり。明日の返答とさせていただく。\\n\\n\\u3000\\u3000\\u3000\\u3000 ⇒\\u3000■05/20)\\u3000CPUの高騰が確認でき、レスポンス遅延の原因の可能性が高い旨返信。AMOよりインフラチーム問い合わせ。\\n\\n\\u3000\\u3000 \\u3000\\u3000⇒\\u3000■05/21)\\u3000CPU高騰とエラーの分布図をGASに共有\\u30004月以前は問題が無い旨説明\\u3000またCPU高騰はアラート設定がない事を回答\\n\\n\\u3000\\u3000\\u3000\\u3000 ⇒\\u3000■05/22)\\u3000インフラチームの�', metadata={'source': '週報_（5月27日-31日_石岡）_IB3内製支援AA.docx', 'id': 'ab2d8669dfc51fd1378b6ac4f26306fb'})),\n",
              " GraphDocument(nodes=[Node(id='Cpu高騰', type='Issue'), Node(id='エラーの分布図', type='Issue'), Node(id='Gas', type='Platform'), Node(id='アラート設定', type='Setting'), Node(id='インフラチーム', type='Team'), Node(id='ログ削除', type='Action'), Node(id='調査不可', type='Issue'), Node(id='証明書更新', type='Action'), Node(id='サーバ', type='System'), Node(id='再起動', type='Action'), Node(id='キャッシュクリア', type='Action'), Node(id='パフォーマンス低下', type='Issue'), Node(id='Amo', type='System'), Node(id='Sdr', type='System'), Node(id='Bosch', type='Company'), Node(id='Idp設定', type='Action'), Node(id='中国Adt-Rt案件', type='Project'), Node(id='Amoリンさん', type='Person'), Node(id='石岡', type='Location'), Node(id='申請方法', type='Action')], relationships=[Relationship(source=Node(id='Cpu高騰', type='Issue'), target=Node(id='Gas', type='Platform'), type='SHARED_WITH'), Relationship(source=Node(id='エラーの分布図', type='Issue'), target=Node(id='Gas', type='Platform'), type='SHARED_WITH'), Relationship(source=Node(id='Cpu高騰', type='Issue'), target=Node(id='アラート設定', type='Setting'), type='NO_ALERT_SETTING'), Relationship(source=Node(id='インフラチーム', type='Team'), target=Node(id='Gas', type='Platform'), type='RESPONSE_SHARED'), Relationship(source=Node(id='ログ削除', type='Action'), target=Node(id='調査不可', type='Issue'), type='INVESTIGATION_NOT_POSSIBLE'), Relationship(source=Node(id='証明書更新', type='Action'), target=Node(id='サーバ', type='System'), type='SERVER_RESTARTED'), Relationship(source=Node(id='サーバ', type='System'), target=Node(id='キャッシュクリア', type='Action'), type='CACHE_CLEARED'), Relationship(source=Node(id='キャッシュクリア', type='Action'), target=Node(id='パフォーマンス低下', type='Issue'), type='POTENTIAL_PERFORMANCE_IMPACT'), Relationship(source=Node(id='Amo', type='System'), target=Node(id='証明書更新', type='Action'), type='CERTIFICATE_UPDATE'), Relationship(source=Node(id='Sdr', type='System'), target=Node(id='Amo', type='System'), type='ERROR_DETECTION_CHECK'), Relationship(source=Node(id='Bosch', type='Company'), target=Node(id='Idp設定', type='Action'), type='REQUEST_FOR_IDP_SETUP'), Relationship(source=Node(id='中国Adt-Rt案件', type='Project'), target=Node(id='Amoリンさん', type='Person'), type='CONFIRMATION_WITH_AMOリN'), Relationship(source=Node(id='Amoリンさん', type='Person'), target=Node(id='別件', type='Issue'), type='CONFIRMATION_OF_SEPARATE_MATTER'), Relationship(source=Node(id='Bosch', type='Company'), target=Node(id='石岡', type='Location'), type='RESPONSIBILITY_ASSIGNED_TO_ISHIOKA'), Relationship(source=Node(id='Amoリンさん', type='Person'), target=Node(id='申請方法', type='Action'), type='INQUIRY_ON_APPLICATION_PROCESS')], source=Document(page_content=' \\u3000\\u3000⇒\\u3000■05/21)\\u3000CPU高騰とエラーの分布図をGASに共有\\u30004月以前は問題が無い旨説明\\u3000またCPU高騰はアラート設定がない事を回答\\n\\n\\u3000\\u3000\\u3000\\u3000 ⇒\\u3000■05/22)\\u3000インフラチームの回答をGAS共有\"ログ削除済みで調査不可。証明書更新に伴うサーバの再起動でキャッシュクリアされたため、パフォーマンスが低下した可能性\"\\n\\n\\u3000\\u3000\\u3000\\u3000 ⇒\\u3000AMOに証明書更新期限を確認中\\n\\n\\u3000\\u3000\\u3000\\u3000 ⇒\\u3000SDRでエラー検知可能かをAMO確認\\n\\n\\u3000\\u3000□Bosch問合せ（依頼：Bosch AWSのIDP設定依頼）\\n\\n\\u3000\\u3000\\u3000⇒\\u3000■05/16)\\u3000以前の中国ADT-RT案件かAMOリンさんに確認\\n\\n\\u3000\\u3000\\u3000\\u3000 ⇒\\u3000■05/16)\\u3000別件と確認\\n\\n\\u3000\\u3000\\u3000\\u3000 ⇒\\u3000■05/17)\\u3000石岡で担当する旨Boschに返信\\n\\n\\u3000\\u3000\\u3000\\u3000 ⇒\\u3000■05/21)  AMOリンさんに申請方法につ', metadata={'source': '週報_（5月27日-31日_石岡）_IB3内製支援AA.docx', 'id': '88e00d867a96e0eb212de3808d2b7bfc'})),\n",
              " GraphDocument(nodes=[Node(id='Amoリンさん', type='Person'), Node(id='Bosch', type='Person'), Node(id='Gdサポートデスク', type='Organization'), Node(id='Ib2南里さん', type='Person'), Node(id='G-Qute', type='Organization')], relationships=[Relationship(source=Node(id='Amoリンさん', type='Person'), target=Node(id='Bosch', type='Person'), type='COLLABORATION'), Relationship(source=Node(id='Amoリンさん', type='Person'), target=Node(id='Gdサポートデスク', type='Organization'), type='INQUIRY'), Relationship(source=Node(id='Bosch', type='Person'), target=Node(id='Gdサポートデスク', type='Organization'), type='MEETING'), Relationship(source=Node(id='Gdサポートデスク', type='Organization'), target=Node(id='Bosch', type='Person'), type='COMMUNICATION'), Relationship(source=Node(id='Gdサポートデスク', type='Organization'), target=Node(id='Bosch', type='Person'), type='INFORMATION_SHARING'), Relationship(source=Node(id='Ib2南里さん', type='Person'), target=Node(id='G-Qute', type='Organization'), type='COMMUNICATION')], source=Document(page_content='�かAMOリンさんに確認\\n\\n\\u3000\\u3000\\u3000\\u3000 ⇒\\u3000■05/16)\\u3000別件と確認\\n\\n\\u3000\\u3000\\u3000\\u3000 ⇒\\u3000■05/17)\\u3000石岡で担当する旨Boschに返信\\n\\n\\u3000\\u3000\\u3000\\u3000 ⇒\\u3000■05/21)  AMOリンさんに申請方法について確認\\n\\n\\u3000\\u3000\\u3000\\u3000 ⇒\\u3000■05/21)  Boschチームとミーティングですり合わせ\\n\\n\\u3000\\u3000\\u3000\\u3000 ⇒\\u3000■05/21)  IDP設定依頼(Prod,PreProd)をGDサポートデスクに送信、優先で対応いただくようお願い。\\n\\n         ⇒\\u3000■05/22)  IDP設定依頼(QA)をGDサポートデスクに送信。※通常リードタイム\\n\\n\\u3000\\u3000\\u3000\\u3000 ⇒\\u3000■05/23)  GDサポートデスクより(Prod,PreProd)登録完了連絡あり。Boschチームに共有。\\n\\n\\u3000\\u3000\\u3000\\u3000 ⇒\\u3000QA環境の設定完了連絡待ち\\n\\n\\u3000\\u3000■IB2問合せ（依頼：G-QUTEからのテストファイルの受信確認）\\n\\n\\u3000\\u3000\\u3000⇒\\u3000■05/15) IB2南里さんよりG-QUTE経由', metadata={'source': '週報_（5月27日-31日_石岡）_IB3内製支援AA.docx', 'id': '9566b751954c02034ab94aa7f6eeae73'})),\n",
              " GraphDocument(nodes=[Node(id='Ib2問合せ', type='Inquiry'), Node(id='G-Qute', type='Test file'), Node(id='05/15', type='Date'), Node(id='南里さん', type='Person'), Node(id='Vda', type='Confirmation'), Node(id='05/16', type='Date'), Node(id='正英さん', type='Person'), Node(id='05/17', type='Date'), Node(id='05/20', type='Date'), Node(id='05/21', type='Date'), Node(id='05/22', type='Date'), Node(id='ジヤトコ問合せ', type='Inquiry'), Node(id='データ不備のリカバリ', type='Data recovery'), Node(id='大量デ', type='Data')], relationships=[Relationship(source=Node(id='Ib2問合せ', type='Inquiry'), target=Node(id='G-Qute', type='Test file'), type='TEST_FILE_RECEPTION'), Relationship(source=Node(id='05/15', type='Date'), target=Node(id='Ib2南里さん', type='Person'), type='TEST_FILE_TRANSMISSION'), Relationship(source=Node(id='Ib2南里さん', type='Person'), target=Node(id='Vda', type='Confirmation'), type='RECEPTION_CONFIRMATION_REQUEST'), Relationship(source=Node(id='05/16', type='Date'), target=Node(id='南里さん', type='Person'), type='CHANGE_OF_RESPONSIBLE_PERSON_NOTIFICATION'), Relationship(source=Node(id='05/17', type='Date'), target=Node(id='Ib2南里さん', type='Person'), type='RECEPTION_CONFIRMATION_REQUEST_(2ND_TIME)'), Relationship(source=Node(id='05/17', type='Date'), target=Node(id='南里さん', type='Person'), type='RECEPTION_CONFIRMATION_RESPONSE'), Relationship(source=Node(id='05/20', type='Date'), target=Node(id='Ib2南里さん', type='Person'), type='RECEPTION_CONFIRMATION_REQUEST_(3RD_TIME)'), Relationship(source=Node(id='05/21', type='Date'), target=Node(id='南里さん', type='Person'), type='RECEPTION_CONFIRMATION_RESPONSE'), Relationship(source=Node(id='05/21', type='Date'), target=Node(id='Ib2南里さん', type='Person'), type='RECEPTION_CONFIRMATION_REQUEST_(4TH_TIME)'), Relationship(source=Node(id='05/22', type='Date'), target=Node(id='南里さん', type='Person'), type='RECEPTION_CONFIRMATION_RESPONSE_-_COMPLETION'), Relationship(source=Node(id='ジヤトコ問合せ', type='Inquiry'), target=Node(id='データ不備のリカバリ', type='Data recovery'), type='DATA_RECOVERY_INQUIRY')], source=Document(page_content='�\\u3000\\u3000 ⇒\\u3000QA環境の設定完了連絡待ち\\n\\n\\u3000\\u3000■IB2問合せ（依頼：G-QUTEからのテストファイルの受信確認）\\n\\n\\u3000\\u3000\\u3000⇒\\u3000■05/15) IB2南里さんよりG-QUTE経由で送信したテストファイルのVDA受信確認依頼\\n\\n\\u3000\\u3000\\u3000⇒\\u3000■05/16)\\u3000確認結果回答、正英さんより担当者変更を連絡\\n\\n\\u3000\\u3000\\u3000\\u3000 ⇒\\u3000■05/17)\\u3000受信確認依頼(2回目)\\n\\n\\u3000\\u3000\\u3000⇒\\u3000■05/17)\\u3000確認結果回答\\n\\n\\u3000\\u3000\\u3000\\u3000 ⇒\\u3000■05/20)\\u3000受信確認依頼(3回目)\\n\\n\\u3000\\u3000\\u3000\\u3000 ⇒\\u3000■05/21)\\u3000確認結果回答\\n\\n         ⇒\\u3000■05/21)\\u3000受信確認依頼(4回目)\\n\\n\\u3000\\u3000\\u3000\\u3000\\u3000⇒\\u3000■05/22)\\u3000確認結果回答\\u3000対応完了\\n\\n\\u3000\\u3000\\u3000□ジヤトコ問合せ（依頼：データ不備のリカバリのため、大量デ', metadata={'source': '週報_（5月27日-31日_石岡）_IB3内製支援AA.docx', 'id': '5fd637ba1fbfd390eb9db1eec0d29055'})),\n",
              " GraphDocument(nodes=[Node(id='ジヤトコ', type='Company'), Node(id='Amo', type='Company')], relationships=[Relationship(source=Node(id='ジヤトコ', type='Company'), target=Node(id='Amo', type='Company'), type='CONTACTED'), Relationship(source=Node(id='ジヤトコ', type='Company'), target=Node(id='Amo', type='Company'), type='CONTACTED')], source=Document(page_content=')\\u3000受信確認依頼(4回目)\\n\\n\\u3000\\u3000\\u3000\\u3000\\u3000⇒\\u3000■05/22)\\u3000確認結果回答\\u3000対応完了\\n\\n\\u3000\\u3000\\u3000□ジヤトコ問合せ（依頼：データ不備のリカバリのため、大量データ送信）\\n\\n\\u3000\\u3000\\u3000\\u3000⇒\\u3000■05/16)\\u3000約2週間かけて115万件を送信(一日の上限は10万件)する旨連絡有\\u300020日より開始\\n\\n\\u3000\\u3000\\u3000\\u3000\\u3000\\u3000⇒\\u3000■05/27)\\u3000AMOより先週の結果報告\\u3000エラーなく全件更新完了\\n\\n\\u3000\\u3000\\u3000\\u3000\\u3000\\u3000⇒\\u30006/3\\u3000結果確認後にｼﾞﾔﾄｺの担当に報告予定\\n\\n\\u3000\\u3000\\u3000\\u3000■XX6問合せ（依頼：VDA更新時のエラー）\\n\\n\\u3000\\u3000\\u3000\\u3000⇒\\u3000■05/22)\\u3000①データ更新がされない②更新中のエラーの2パターンの問題について問い合わせ\\n\\n\\u3000\\u3000\\u3000\\u3000\\u3000\\u3000⇒\\u3000■05/24)\\u3000AMOより回答①調査', metadata={'source': '週報_（5月27日-31日_石岡）_IB3内製支援AA.docx', 'id': 'f26ad4c0457a70bee9cc2e2b5f30d230'})),\n",
              " GraphDocument(nodes=[Node(id='データ更新', type='Issue'), Node(id='更新中のエラー', type='Issue'), Node(id='Amo', type='Response'), Node(id='調査中', type='Status'), Node(id='エラー内容', type='Description'), Node(id='Xx6', type='Response'), Node(id='同一ユーザー', type='User'), Node(id='Vda', type='Status'), Node(id='Pspmのユーザーロール', type='Issue'), Node(id='Gas', type='Tool'), Node(id='Excel', type='Tool'), Node(id='C3P', type='User role'), Node(id='C4', type='User role')], relationships=[Relationship(source=Node(id='データ更新', type='Issue'), target=Node(id='更新中のエラー', type='Issue'), type='PROBLEM'), Relationship(source=Node(id='Amo', type='Response'), target=Node(id='調査中', type='Status'), type='RESPONSE_STATUS'), Relationship(source=Node(id='Amo', type='Response'), target=Node(id='エラー内容', type='Description'), type='RESPONSE_DESCRIPTION'), Relationship(source=Node(id='Xx6', type='Response'), target=Node(id='エラー内容', type='Description'), type='RESPONSE_DESCRIPTION'), Relationship(source=Node(id='Xx6', type='Response'), target=Node(id='Amo', type='Response'), type='MISUNDERSTANDING'), Relationship(source=Node(id='Amo', type='Response'), target=Node(id='同一ユーザー', type='User'), type='EXPLANATION'), Relationship(source=Node(id='同一ユーザー', type='User'), target=Node(id='Vda', type='Status'), type='STATUS_UPDATE'), Relationship(source=Node(id='データ更新', type='Issue'), target=Node(id='同一ユーザー', type='User'), type='ISSUE_USER'), Relationship(source=Node(id='Pspmのユーザーロール', type='Issue'), target=Node(id='Xx6', type='Response'), type='ISSUE_EXPLANATION'), Relationship(source=Node(id='Gas', type='Tool'), target=Node(id='Excel', type='Tool'), type='TOOL_USAGE'), Relationship(source=Node(id='Excel', type='Tool'), target=Node(id='C3P', type='User role'), type='USER_ROLE_SETTING'), Relationship(source=Node(id='Excel', type='Tool'), target=Node(id='C4', type='User role'), type='USER_ROLE_SETTING')], source=Document(page_content='のエラー）\\n\\n\\u3000\\u3000\\u3000\\u3000⇒\\u3000■05/22)\\u3000①データ更新がされない②更新中のエラーの2パターンの問題について問い合わせ\\n\\n\\u3000\\u3000\\u3000\\u3000\\u3000\\u3000⇒\\u3000■05/24)\\u3000AMOより回答①調査中②エラー内容を説明\\n\\n\\u3000\\u3000\\u3000\\u3000\\u3000\\u3000⇒\\u3000■05/24)\\u3000XX6より②についてAMOの回答がXX6の理解と違う旨返信あり\\n\\n\\u3000\\u3000\\u3000\\u3000\\u3000\\u3000⇒\\u3000■05/27)\\u3000AMOより再回答\\u3000①同一ユーザーにより短時間で二度更新されているため、後者がVDAとしては正になる。②\\uf8fdエラー内容について再説明。\\n\\n\\u3000\\u3000\\u3000■XX6問い合わせ（依頼：PSPMのユーザーロールが正しくない）\\n\\n\\u3000\\u3000\\u3000\\u3000⇒\\u3000■05/22)\\u3000GASを通じてアップロードしたExcelではC3PとC4でユーザーロールを分けたのに、同一で設定されていると調査依頼が来る\\n\\n\\u3000\\u3000\\u3000\\u3000\\u3000\\u3000⇒\\u3000■05/22)\\u3000AMOに調査依頼', metadata={'source': '週報_（5月27日-31日_石岡）_IB3内製支援AA.docx', 'id': '6965b70445340402a726b59095bed108'})),\n",
              " GraphDocument(nodes=[Node(id='Gas', type='Tool'), Node(id='Excel', type='Tool'), Node(id='C3P', type='User role'), Node(id='C4', type='User role'), Node(id='Amo', type='Tool'), Node(id='Xx6', type='Error'), Node(id='H15 Key', type='Error'), Node(id='Daimlerチーム', type='Team')], relationships=[Relationship(source=Node(id='Excel', type='Tool'), target=Node(id='C3P', type='User role'), type='USER_ROLE_SETTING'), Relationship(source=Node(id='Excel', type='Tool'), target=Node(id='C4', type='User role'), type='USER_ROLE_SETTING'), Relationship(source=Node(id='Gas', type='Tool'), target=Node(id='Excel', type='Tool'), type='UPLOAD'), Relationship(source=Node(id='Amo', type='Tool'), target=Node(id='Gas', type='Tool'), type='INVESTIGATION_REQUEST'), Relationship(source=Node(id='Amo', type='Tool'), target=Node(id='Daimlerチーム', type='Team'), type='INQUIRY'), Relationship(source=Node(id='Xx6', type='Error'), target=Node(id='Amo', type='Tool'), type='REPLY'), Relationship(source=Node(id='H15 Key', type='Error'), target=Node(id='Amo', type='Tool'), type='INQUIRY')], source=Document(page_content='�⇒\\u3000■05/22)\\u3000GASを通じてアップロードしたExcelではC3PとC4でユーザーロールを分けたのに、同一で設定されていると調査依頼が来る\\n\\n\\u3000\\u3000\\u3000\\u3000\\u3000\\u3000⇒\\u3000■05/22)\\u3000AMOに調査依頼\\n\\n\\u3000\\u3000\\u3000\\u3000\\u3000\\u3000⇒\\u3000■05/23)\\u3000調査結果回答(ご申告の更新の20分後に別のファイルで上書き更新された旨説明）\\n\\n\\u3000\\u3000\\u3000\\u3000\\u3000\\u3000⇒\\u3000■05/23)\\u3000XX6よりヒューマンエラーであった旨返信あり。クローズ。\\n\\n\\u3000\\u3000\\u3000\\u3000\\u3000\\u3000※関連して発生した登録エラーは障害の項で記載\\u3000\\n\\n\\u3000\\u3000\\u3000□05/21)\\u3000SDRでのH15 Key登録エラー\\n\\n\\u3000\\u3000\\u3000\\u3000\\u3000\\u3000\\u3000⇒■05/21)\\u3000キーが使用済みという旨のエラーがログ確認されたため(5/15のログ)、AMOよりDaimlerチームに問い合わせ\\n\\n\\u3000\\u3000\\u3000\\u3000\\u3000\\u3000\\u3000⇒■05/21)\\u3000Daimlerチームより回答\"以前既にプログラミングされ、車両にリンクしたた�', metadata={'source': '週報_（5月27日-31日_石岡）_IB3内製支援AA.docx', 'id': 'a5a5aec0445cec6800f59bd9d9eff836'})),\n",
              " GraphDocument(nodes=[Node(id='Amo', type='Organization'), Node(id='Daimler', type='Organization')], relationships=[Relationship(source=Node(id='Amo', type='Organization'), target=Node(id='Daimler', type='Organization'), type='COMMUNICATION')], source=Document(page_content='�みという旨のエラーがログ確認されたため(5/15のログ)、AMOよりDaimlerチームに問い合わせ\\n\\n\\u3000\\u3000\\u3000\\u3000\\u3000\\u3000\\u3000⇒■05/21)\\u3000Daimlerチームより回答\"以前既にプログラミングされ、車両にリンクしたため使用済みとなっている。新しい空のキー取得が必要\"\\n\\n\\u3000\\u3000\\u3000\\u3000\\u3000\\u3000\\u3000⇒■05/21)\\u3000AMOより、Daimlerチームに新しいキーで再トライされているが、応答がなくエラー画面になっている旨説明\\n\\n\\u3000\\u3000\\u3000\\u3000\\u3000\\u3000\\u3000⇒■05/27)\\u3000Daimlerチームより詳細の聞き取りがあり、AMOより回答\\n\\n\\u3000\\u3000\\u3000\\u3000\\u3000\\u3000\\u3000⇒■05/28)\\u3000Daimlerチームより、一時的なエラーであり5/15以降問題ないため、再度試していただくよう返信あり\\n\\n\\u3000\\u3000\\u3000\\u3000\\u3000\\u3000\\u3000⇒\\u3000内容把握のためAMOに確認\\u3000\\n\\n\\u3000\\u3000\\u3000\\u3000\\u3000\\u3000\\u3000⇒\\u3000Daimlerからの返信待ち\\n\\n□\\u3000障害\\n\\n      □\\u3000TLS1.0無効化対応\\n\\n\\u3000\\u3000', metadata={'source': '週報_（5月27日-31日_石岡）_IB3内製支援AA.docx', 'id': '883f3b15661dcf4c4e4d20b0d82bfeb4'})),\n",
              " GraphDocument(nodes=[Node(id='障害', type='Issue'), Node(id='Tls1.0無効化対応', type='Issue'), Node(id='05/15) Xx6よりC4分のQa動確完了の連絡あり。', type='Update'), Node(id='05/15) It0にQaの動確完了の連絡実施。', type='Update'), Node(id='05/21) オペレーションスタッフミーティングで本番日程の周知あり：6月10日(月)00:00-05:00', type='Update'), Node(id='05/21) Xx6に当日の動確を依頼', type='Update'), Node(id='6/10の動確完了連絡待ち', type='Update'), Node(id='11/10_Pspmユーザ情報管理画面でのGd不具合\\u3000・・・暫定対応中', type='Issue'), Node(id='04/25）It0藤沢さんから返信\"Pspmアプリ側内部でいじるCookieは自アプリのCookie Nameの範�', type='Update')], relationships=[Relationship(source=Node(id='障害', type='Issue'), target=Node(id='Tls1.0無効化対応', type='Issue'), type='RELATED_TO'), Relationship(source=Node(id='障害', type='Issue'), target=Node(id='11/10_Pspmユーザ情報管理画面でのGd不具合\\u3000・・・暫定対応中', type='Issue'), type='RELATED_TO'), Relationship(source=Node(id='Tls1.0無効化対応', type='Issue'), target=Node(id='05/15) Xx6よりC4分のQa動確完了の連絡あり。', type='Update'), type='UPDATE_NOTIFICATION'), Relationship(source=Node(id='Tls1.0無効化対応', type='Issue'), target=Node(id='05/15) It0にQaの動確完了の連絡実施。', type='Update'), type='UPDATE_NOTIFICATION'), Relationship(source=Node(id='Tls1.0無効化対応', type='Issue'), target=Node(id='05/21) Xx6に当日の動確を依頼', type='Update'), type='UPDATE_REQUEST'), Relationship(source=Node(id='Tls1.0無効化対応', type='Issue'), target=Node(id='6/10の動確完了連絡待ち', type='Update'), type='UPDATE_PENDING'), Relationship(source=Node(id='11/10_Pspmユーザ情報管理画面でのGd不具合\\u3000・・・暫定対応中', type='Issue'), target=Node(id='04/25）It0藤沢さんから返信\"Pspmアプリ側内部でいじるCookieは自アプリのCookie Nameの範�', type='Update'), type='UPDATE_NOTIFICATION')], source=Document(page_content='う返信あり\\n\\n\\u3000\\u3000\\u3000\\u3000\\u3000\\u3000\\u3000⇒\\u3000内容把握のためAMOに確認\\u3000\\n\\n\\u3000\\u3000\\u3000\\u3000\\u3000\\u3000\\u3000⇒\\u3000Daimlerからの返信待ち\\n\\n□\\u3000障害\\n\\n      □\\u3000TLS1.0無効化対応\\n\\n\\u3000\\u3000\\u3000\\u3000\\u3000⇒\\u3000■05/15) XX6よりC4分のQA動確完了の連絡あり。\\n\\n\\u3000\\u3000\\u3000\\u3000\\u3000⇒\\u3000■05/15) IT0にQAの動確完了の連絡実施。\\n\\n\\u3000\\u3000\\u3000\\u3000\\u3000⇒\\u3000■05/21) オペレーションスタッフミーティングで本番日程の周知あり：6月10日(月)00:00-05:00\\n\\n\\u3000\\u3000\\u3000\\u3000\\u3000⇒\\u3000■05/21) XX6に当日の動確を依頼\\n\\n\\u3000\\u3000\\u3000\\u3000\\u3000⇒\\u30006/10の動確完了連絡待ち\\u3000\\u3000\\n\\n\\u3000\\u3000\\u3000□\\u300011/10_PSPMユーザ情報管理画面でのGD不具合\\u3000・・・暫定対応中\\n\\n\\u3000\\u3000\\u3000\\u3000\\u3000⇒\\u3000■04/25）IT0藤沢さんから返信\"PSPMアプリ側内部でいじるCookieは自アプリのCookie Nameの範�', metadata={'source': '週報_（5月27日-31日_石岡）_IB3内製支援AA.docx', 'id': '7578ee1aff6adeaacbeb97fda5232a8c'})),\n",
              " GraphDocument(nodes=[Node(id='Pspm', type='System'), Node(id='It0 藤沢', type='Person'), Node(id='松ケ野', type='Person'), Node(id='Ib3', type='System'), Node(id='Amo', type='System')], relationships=[Relationship(source=Node(id='Pspm', type='System'), target=Node(id='It0 藤沢', type='Person'), type='COMMUNICATION'), Relationship(source=Node(id='松ケ野', type='Person'), target=Node(id='It0 藤沢', type='Person'), type='COMMUNICATION'), Relationship(source=Node(id='It0 藤沢', type='Person'), target=Node(id='Ib3', type='System'), type='ACTION'), Relationship(source=Node(id='Ib3', type='System'), target=Node(id='It0 藤沢', type='Person'), type='INFORMATION'), Relationship(source=Node(id='Amo', type='System'), target=Node(id='It0 藤沢', type='Person'), type='COMMUNICATION')], source=Document(page_content='\\u300011/10_PSPMユーザ情報管理画面でのGD不具合\\u3000・・・暫定対応中\\n\\n\\u3000\\u3000\\u3000\\u3000\\u3000⇒\\u3000■04/25）IT0藤沢さんから返信\"PSPMアプリ側内部でいじるCookieは自アプリのCookie Nameの範囲とし、GDのCookieはそのまま返すようにする修正を検討いただけますか\"\\n\\n\\u3000\\u3000\\u3000\\u3000\\u3000⇒\\u3000■05/08）松ケ野さんより費用についてはIT0から出してもらえるか返信\\n\\n\\u3000\\u3000\\u3000\\u3000\\u3000⇒\\u3000■05/08）IT0藤沢さんより返信\"数十万円程度なら可能であるが、まずは保守業連枠で対応してください”\\n\\n\\u3000\\u3000\\u3000\\u3000\\u3000⇒\\u3000■05/10）IT0藤沢さんより14日にミーティング設定される\\n\\n\\u3000\\u3000\\u3000\\u3000\\u3000⇒\\u3000■05/14）IB3で修正を行う方向。調査についてはIB3で業連枠で実施、AMOからの見積もりが出たらIT0藤沢さんに連絡。\\n\\n\\u3000\\u3000\\u3000\\u3000\\u3000⇒\\u3000■05/14）業連発行\\n\\n\\u3000', metadata={'source': '週報_（5月27日-31日_石岡）_IB3内製支援AA.docx', 'id': 'dec948e1bdff70f787f7593aba55ce37'})),\n",
              " GraphDocument(nodes=[Node(id='Ib3', type='System'), Node(id='Amo', type='System'), Node(id='It0', type='Person'), Node(id='Is0', type='System'), Node(id='Vda', type='System'), Node(id='Gas', type='System'), Node(id='木村', type='Person'), Node(id='安西', type='Person')], relationships=[Relationship(source=Node(id='Ib3', type='System'), target=Node(id='It0', type='Person'), type='REQUEST_MODIFICATION'), Relationship(source=Node(id='Ib3', type='System'), target=Node(id='Amo', type='System'), type='CONDUCTS_INVESTIGATION'), Relationship(source=Node(id='Amo', type='System'), target=Node(id='It0', type='Person'), type='CONTACT_PERSON'), Relationship(source=Node(id='Is0', type='System'), target=Node(id='Ib3', type='System'), type='NO_ISSUES_IDENTIFIED'), Relationship(source=Node(id='It0', type='Person'), target=Node(id='Gas', type='System'), type='REQUEST_COST_ESTIMATE'), Relationship(source=Node(id='Amo', type='System'), target=Node(id='木村', type='Person'), type='CONFIRMATION_COMPLETED'), Relationship(source=Node(id='Gas', type='System'), target=Node(id='安西', type='Person'), type='RESPONSE_RECEIVED')], source=Document(page_content='⇒\\u3000■05/14）IB3で修正を行う方向。調査についてはIB3で業連枠で実施、AMOからの見積もりが出たらIT0藤沢さんに連絡。\\n\\n\\u3000\\u3000\\u3000\\u3000\\u3000⇒\\u3000■05/14）業連発行\\n\\n\\u3000\\u3000\\u3000\\u3000\\u3000⇒\\u3000AMOの調査結果待ち\\n\\n\\u3000\\u3000\\u3000\\u3000\\u3000※IS0がOKを出している以上、IB3側は問題ない認識。修正が必要な場合はIT0から費用を出してもらう方向。\\u3000\\u3000\\u3000\\u3000\\u3000\\n\\n\\u3000\\u3000\\u3000□3/14)VDA search検索不可\\u300011:45~15:30(03:45)\\u3000※検索中を示すプログレスバーが停止し、画面が遷移しない現象\\n\\n\\u3000\\u3000\\u3000\\u3000 ⇒\\u3000■05/08) AMO木村さん確認完了\\n\\n\\u3000\\u3000\\u3000 \\u3000⇒\\u3000■05/08) GASに対応完了報告\\n\\n\\u3000\\u3000\\u3000\\u3000 ⇒\\u3000■05/09) GAS安西さんより検索上限100件に設定されると困る旨返信あり、必要な設定である旨背景を説明\\n\\n\\u3000\\u3000\\u3000\\u3000 �', metadata={'source': '週報_（5月27日-31日_石岡）_IB3内製支援AA.docx', 'id': 'ce4ab64fc41bba0119d3151921253943'})),\n",
              " GraphDocument(nodes=[Node(id='Gas', type='System'), Node(id='安西さん', type='Person'), Node(id='Adt Nissan Team', type='Team'), Node(id='Ib3任さん', type='Person'), Node(id='Amo', type='System'), Node(id='Snowflake(Dbサーバー)', type='System')], relationships=[Relationship(source=Node(id='Gas', type='System'), target=Node(id='安西さん', type='Person'), type='COMMUNICATION'), Relationship(source=Node(id='安西さん', type='Person'), target=Node(id='Adt Nissan Team', type='Team'), type='COMMUNICATION'), Relationship(source=Node(id='Adt Nissan Team', type='Team'), target=Node(id='Ib3任さん', type='Person'), type='COMMUNICATION'), Relationship(source=Node(id='Gas', type='System'), target=Node(id='安西さん', type='Person'), type='COMMUNICATION'), Relationship(source=Node(id='安西さん', type='Person'), target=Node(id='Ib3任さん', type='Person'), type='COMMUNICATION'), Relationship(source=Node(id='Gas', type='System'), target=Node(id='安西さん', type='Person'), type='COMMUNICATION'), Relationship(source=Node(id='安西さん', type='Person'), target=Node(id='Ib3任さん', type='Person'), type='COMMUNICATION'), Relationship(source=Node(id='安西さん', type='Person'), target=Node(id='Gas', type='System'), type='COMMUNICATION'), Relationship(source=Node(id='Ib3任さん', type='Person'), target=Node(id='Gas', type='System'), type='COMMUNICATION'), Relationship(source=Node(id='安西さん', type='Person'), target=Node(id='Amo', type='System'), type='ACTION'), Relationship(source=Node(id='Ib3任さん', type='Person'), target=Node(id='Amo', type='System'), type='ACTION'), Relationship(source=Node(id='Gas', type='System'), target=Node(id='Snowflake(Dbサーバー)', type='System'), type='ACTION')], source=Document(page_content='��\\u3000■05/08) GASに対応完了報告\\n\\n\\u3000\\u3000\\u3000\\u3000 ⇒\\u3000■05/09) GAS安西さんより検索上限100件に設定されると困る旨返信あり、必要な設定である旨背景を説明\\n\\n\\u3000\\u3000\\u3000\\u3000 ⇒\\u3000■05/10) ADT Nissan team週次会議内で再度説明、検索に時間がかかっても上限を外すような修正はできないかリクエストいただく。\\n\\n\\u3000\\u3000\\u3000\\u3000 ⇒\\u3000■05/13) IB3任さんに相談\\n\\n\\u3000\\u3000\\u3000\\u3000 ⇒\\u3000■05/13) GAS安西さんに検索上限を引き上げる方向で修正を検討している旨説明、現実的な上限値について聞き取り。\\n\\n\\u3000\\u3000\\u3000\\u3000 ⇒\\u3000■05/14) GAS安西さんより上限値1,000でよいと回答を頂く。\\n\\n\\u3000\\u3000\\u3000\\u3000 ⇒\\u3000■05/14) IB3任さんで設定変更完了、AMOに動作確認依頼。\\n\\n\\u3000\\u3000\\u3000\\u3000 ⇒\\u3000■05/24) ミーティングで状況確認。1,000件で実施した場合にsnowflake(DBサーバー)', metadata={'source': '週報_（5月27日-31日_石岡）_IB3内製支援AA.docx', 'id': '59d7df87260d06553a02f7bfcd081489'})),\n",
              " GraphDocument(nodes=[Node(id='Ib3任さん', type='Person'), Node(id='Amo', type='Software'), Node(id='Snowflake(Dbサーバー)', type='Database'), Node(id='Sql', type='Programming language')], relationships=[Relationship(source=Node(id='Ib3任さん', type='Person'), target=Node(id='Amo', type='Software'), type='CONFIGURATION_CHANGE'), Relationship(source=Node(id='Ib3任さん', type='Person'), target=Node(id='Amo', type='Software'), type='OPERATIONAL_CONFIRMATION_REQUEST'), Relationship(source=Node(id='Ib3任さん', type='Person'), target=Node(id='Snowflake(Dbサーバー)', type='Database'), type='SQL_COMPILE_ERROR'), Relationship(source=Node(id='Ib3任さん', type='Person'), target=Node(id='Snowflake(Dbサーバー)', type='Database'), type='LIMIT_CHECK'), Relationship(source=Node(id='Ib3任さん', type='Person'), target=Node(id='Snowflake(Dbサーバー)', type='Database'), type='SEARCH_LIMIT_CONFIGURATION'), Relationship(source=Node(id='Ib3任さん', type='Person'), target=Node(id='Sql', type='Programming language'), type='LONG_SQL_ERROR')], source=Document(page_content='��く。\\n\\n\\u3000\\u3000\\u3000\\u3000 ⇒\\u3000■05/14) IB3任さんで設定変更完了、AMOに動作確認依頼。\\n\\n\\u3000\\u3000\\u3000\\u3000 ⇒\\u3000■05/24) ミーティングで状況確認。1,000件で実施した場合にsnowflake(DBサーバー)でSQLが長すぎてコンパイルエラーが発生。任さんに上限の件数を確認いただく。\\n\\n\\u3000\\u3000\\u3000\\u3000 ⇒\\u3000■05/27) 任さんより回答有。ECU条件ありの場合、500件。ECU条件なしの場合、200件。\\n\\n\\u3000\\u3000\\u3000\\u3000 ⇒\\u3000■05/27) 任さんに上記の上限で検索上限値を設定可能か確認\\n\\n\\u3000\\u3000\\u3000\\u3000 ⇒\\u3000任さんの回答待ち\\n\\n\\u3000\\u3000\\u3000□05/01)モニタリング用のIDでNEログイン不可\\u300002:20～\\u3000※業務影響なし\\u3000\\n\\n\\u3000\\u3000\\u3000\\u3000\\u3000 ⇒■05/07) 富士通AMOで状況確認し、モニタリング用のID固有の問題と判明⇒業務影響なし\\n\\n\\u3000\\u3000\\u3000\\u3000\\u3000 ⇒■05/07) 富士通AMOで暫定対応として別IDを', metadata={'source': '週報_（5月27日-31日_石岡）_IB3内製支援AA.docx', 'id': '917af93380f3ac17a9e40b663ea1bc62'})),\n",
              " GraphDocument(nodes=[Node(id='富士通Amo', type='Organization'), Node(id='Gdサポートデスク', type='Organization'), Node(id='Nissan Global Service Desk', type='Organization')], relationships=[Relationship(source=Node(id='富士通Amo', type='Organization'), target=Node(id='Gdサポートデスク', type='Organization'), type='CONTACTED'), Relationship(source=Node(id='富士通Amo', type='Organization'), target=Node(id='Nissan Global Service Desk', type='Organization'), type='CONTACTED'), Relationship(source=Node(id='Gdサポートデスク', type='Organization'), target=Node(id='Nissan Global Service Desk', type='Organization'), type='CONTACTED')], source=Document(page_content='し\\u3000\\n\\n\\u3000\\u3000\\u3000\\u3000\\u3000 ⇒■05/07) 富士通AMOで状況確認し、モニタリング用のID固有の問題と判明⇒業務影響なし\\n\\n\\u3000\\u3000\\u3000\\u3000\\u3000 ⇒■05/07) 富士通AMOで暫定対応として別IDをモニタリング用に設定\\n\\n\\u3000\\u3000\\u3000\\u3000\\u3000 ⇒■05/07) 富士通AMOよりGDサポートデスクに問い合わせ\\n\\n\\u3000\\u3000\\u3000\\u3000\\u3000 ⇒■05/09) 富士通AMOよりGDサポートデスクにIDとパスワード連携\\n\\n\\u3000\\u3000\\u3000\\u3000\\u3000 ⇒■05/09) GDサポートデスクより、NEのB2B Portalの問題と回答有\\n\\n\\u3000\\u3000\\u3000\\u3000\\u3000 ⇒■05/09) 富士通AMOよりNissan Global Service Deskに問い合わせ\\n\\n\\u3000\\u3000\\u3000\\u3000\\u3000 ⇒■05/09) Nissan Global Service DeskでIDに対してパスワードリセット実施\\n\\n\\u3000\\u3000\\u3000\\u3000\\u3000 ⇒■05/10) 富士通AMOよりGDサポートデスクに新しいパスワード連携\\n\\n\\u3000\\u3000\\u3000\\u3000\\u3000 ⇒■05/10) GDサポートデスクより新しいパスワードでログインした際の、SAML Responseのテキスト情報の返信あり\\n\\n\\u3000\\u3000\\u3000\\u3000\\u3000 ⇒■05', metadata={'source': '週報_（5月27日-31日_石岡）_IB3内製支援AA.docx', 'id': '8980fa4c910385e387a34b26d4995515'})),\n",
              " GraphDocument(nodes=[Node(id='富士通Amo', type='Organization'), Node(id='Gdサポートデスク', type='Organization'), Node(id='Nissan Global Service Desk', type='Organization'), Node(id='Saml Response', type='Information'), Node(id='Pspm Sql 本番サーバー', type='Server'), Node(id='Asp3サポートデスク', type='Organization'), Node(id='It0木屋さん', type='Person')], relationships=[Relationship(source=Node(id='富士通Amo', type='Organization'), target=Node(id='Gdサポートデスク', type='Organization'), type='SUPPORT'), Relationship(source=Node(id='Gdサポートデスク', type='Organization'), target=Node(id='Saml Response', type='Information'), type='CONTAINS'), Relationship(source=Node(id='富士通Amo', type='Organization'), target=Node(id='Gdサポートデスク', type='Organization'), type='SUPPORT'), Relationship(source=Node(id='Gdサポートデスク', type='Organization'), target=Node(id='Nissan Global Service Desk', type='Organization'), type='SUPPORT'), Relationship(source=Node(id='富士通Amo', type='Organization'), target=Node(id='Gdサポートデスク', type='Organization'), type='SUPPORT'), Relationship(source=Node(id='Gdサポートデスク', type='Organization'), target=Node(id='富士通Amo', type='Organization'), type='RESPONSE'), Relationship(source=Node(id='富士通Amo', type='Organization'), target=Node(id='Gdサポートデスク', type='Organization'), type='RESPONSE'), Relationship(source=Node(id='Gdサポートデスク', type='Organization'), target=Node(id='富士通Amo', type='Organization'), type='RESPONSE'), Relationship(source=Node(id='Gdサポートデスク', type='Organization'), target=Node(id='Saml Response', type='Information'), type='CONTAINS'), Relationship(source=Node(id='Pspm Sql 本番サーバー', type='Server'), target=Node(id='Asp3サポートデスク', type='Organization'), type='SUPPORT'), Relationship(source=Node(id='Asp3サポートデスク', type='Organization'), target=Node(id='Pspm Sql 本番サーバー', type='Server'), type='SUPPORT'), Relationship(source=Node(id='Asp3サポートデスク', type='Organization'), target=Node(id='It0木屋さん', type='Person'), type='CONTACT')], source=Document(page_content='�■05/10) 富士通AMOよりGDサポートデスクに新しいパスワード連携\\n\\n\\u3000\\u3000\\u3000\\u3000\\u3000 ⇒■05/10) GDサポートデスクより新しいパスワードでログインした際の、SAML Responseのテキスト情報の返信あり\\n\\n\\u3000\\u3000\\u3000\\u3000\\u3000 ⇒■05/10) 上記ファイルをNissan Global Service Deskに連携、調査依頼\\n\\n\\u3000\\u3000\\u3000\\u3000\\u3000 ⇒■05/15) 富士通AMOよりGDサポートデスクに回答を催促\\n\\n\\u3000\\u3000\\u3000\\u3000\\u3000 ⇒■05/17) 富士通AMOよりGDサポートデスクに回答を催促\\n\\n           ⇒■05/28) 富士通AMOよりGDサポートデスクに回答を催促\\n\\n\\u3000\\u3000\\u3000\\u3000\\u3000 ⇒\\u3000GDサポートデスクからの返信待ち\\n\\n\\u3000\\u3000\\u3000□05/13)PSPM SQL 本番サーバーのアラート発報 (SQL Fail Over)\\n\\n\\u3000\\u3000\\u3000\\u3000\\u3000\\u3000⇒■05/13) AMOよりASP3サポートデスク問い合わせ\\n\\n\\u3000\\u3000\\u3000\\u3000\\u3000\\u3000⇒■05/13) ASP3サポートデスクより異常なしの回答\\n\\n\\u3000\\u3000\\u3000\\u3000\\u3000\\u3000⇒■05/13) AMOよりIT0木屋さんにPSPMのアプ', metadata={'source': '週報_（5月27日-31日_石岡）_IB3内製支援AA.docx', 'id': '3d88c40cb7e70843400e3b0ef0b59ff5'})),\n",
              " GraphDocument(nodes=[Node(id='Amo', type='Supportdesk'), Node(id='Asp3', type='Supportdesk'), Node(id='It0木屋', type='Person')], relationships=[Relationship(source=Node(id='Amo', type='Supportdesk'), target=Node(id='Asp3', type='Supportdesk'), type='COMMUNICATION'), Relationship(source=Node(id='Asp3', type='Supportdesk'), target=Node(id='Amo', type='Supportdesk'), type='COMMUNICATION'), Relationship(source=Node(id='Amo', type='Supportdesk'), target=Node(id='It0木屋', type='Person'), type='COMMUNICATION'), Relationship(source=Node(id='It0木屋', type='Person'), target=Node(id='Amo', type='Supportdesk'), type='COMMUNICATION'), Relationship(source=Node(id='It0木屋', type='Person'), target=Node(id='It0木屋', type='Person'), type='MEETING')], source=Document(page_content='�\\u3000\\u3000⇒■05/13) AMOよりASP3サポートデスク問い合わせ\\n\\n\\u3000\\u3000\\u3000\\u3000\\u3000\\u3000⇒■05/13) ASP3サポートデスクより異常なしの回答\\n\\n\\u3000\\u3000\\u3000\\u3000\\u3000\\u3000⇒■05/13) AMOよりIT0木屋さんにPSPMのアプリ側のログでも特に異常がないため、無視できるか確認\\n\\n\\u3000\\u3000\\u3000\\u3000\\u3000\\u3000⇒■05/13) IT0木屋さんより、AMOに動作に異常が出るものではないので無視できると回答\\n\\n\\u3000\\u3000\\u3000\\u3000\\u3000\\u3000⇒■05/13) CPUの高負荷アラートも発生し、IT0木屋さんに再度問い合わせ\\n\\n\\u3000\\u3000\\u3000\\u3000\\u3000\\u3000⇒■05/13) IT0木屋さんより高負荷の要因となっているプロセスの確認を依頼される\\n\\n            ⇒■05/13) IT0木屋さんとミーティング\\u3000\\n\\n\\u3000\\u3000\\u3000\\u3000\\u3000\\u3000\\u3000\\u3000\\u3000\\u3000\\u3000\\u3000\\u3000\\u3000\\u3000⇒負荷は一時的なものであるが、CPUのログを取っていないため詳細の調査は行えない状況。⇒14日よりログ取得開�', metadata={'source': '週報_（5月27日-31日_石岡）_IB3内製支援AA.docx', 'id': 'bf1e4b5df5c558b3c489854a4b960438'})),\n",
              " GraphDocument(nodes=[Node(id='木屋さん', type='Person'), Node(id='ミーティング', type='Meeting'), Node(id='Cpu', type='Component'), Node(id='ログ', type='Data'), Node(id='05/14', type='Date'), Node(id='保守ミーティング', type='Meeting'), Node(id='Amo', type='System'), Node(id='05/22', type='Date'), Node(id='Pspmユーザー登録ページ', type='Web page'), Node(id='Xx6', type='Code')], relationships=[Relationship(source=Node(id='木屋さん', type='Person'), target=Node(id='ミーティング', type='Meeting'), type='ATTENDED'), Relationship(source=Node(id='木屋さん', type='Person'), target=Node(id='Cpu', type='Component'), type='EXPERIENCED_ISSUE'), Relationship(source=Node(id='Cpu', type='Component'), target=Node(id='ログ', type='Data'), type='RECORDS'), Relationship(source=Node(id='木屋さん', type='Person'), target=Node(id='ログ', type='Data'), type='RECORDS'), Relationship(source=Node(id='05/14', type='Date'), target=Node(id='保守ミーティング', type='Meeting'), type='SCHEDULED'), Relationship(source=Node(id='保守ミーティング', type='Meeting'), target=Node(id='ログ', type='Data'), type='REVIEWED'), Relationship(source=Node(id='木屋さん', type='Person'), target=Node(id='Amo', type='System'), type='INVESTIGATED'), Relationship(source=Node(id='05/22', type='Date'), target=Node(id='Amo', type='System'), type='INVESTIGATED'), Relationship(source=Node(id='Amo', type='System'), target=Node(id='Pspmユーザー登録ページ', type='Web page'), type='ANALYZED'), Relationship(source=Node(id='Xx6', type='Code'), target=Node(id='Pspmユーザー登録ページ', type='Web page'), type='ERROR_REPORTED')], source=Document(page_content='木屋さんとミーティング\\u3000\\n\\n\\u3000\\u3000\\u3000\\u3000\\u3000\\u3000\\u3000\\u3000\\u3000\\u3000\\u3000\\u3000\\u3000\\u3000\\u3000⇒負荷は一時的なものであるが、CPUのログを取っていないため詳細の調査は行えない状況。⇒14日よりログ取得開始。再発時はログ内容を調査する。\\n\\n\\u3000\\u3000\\u3000\\u3000\\u3000\\u3000⇒■05/14)\\u3000保守ミーティング内で今月末までログ生成し、内容を精査。問題なければ以降ログ生成は停止する方向とした。\\n\\n\\u3000\\u3000\\u3000\\u3000\\u3000\\u3000⇒■05/22)\\u3000アラート再発。時間がかかっているクエリをAMOで調査。\\n\\n\\u3000\\u3000\\u3000\\u3000\\u3000\\u3000 ⇒\\u3000AMOからの連絡待ち(月末にログ確認)\\n\\n\\u3000\\u3000\\u3000\\u3000□05/23)\\u3000PSPMユーザー登録ページのエラー\\n\\n\\u3000\\u3000\\u3000\\u3000\\u3000\\u3000\\u3000⇒■05/23)XX6よりPSPMのユーザー登録において、ファイルからデータ登録を行う際にエラーのアラートが出て登録できないと申告あり\\n\\n\\u3000\\u3000\\u3000\\u3000\\u3000\\u3000\\u3000⇒■05/23)AMOで�', metadata={'source': '週報_（5月27日-31日_石岡）_IB3内製支援AA.docx', 'id': 'bfee94ebd62464c4cafd4b227cb4b6f7'})),\n",
              " GraphDocument(nodes=[Node(id='Pspm', type='System'), Node(id='Amo', type='System'), Node(id='Amo', type='System'), Node(id='Amo', type='System'), Node(id='Server Monitoring', type='System'), Node(id='Vespa', type='System')], relationships=[Relationship(source=Node(id='Pspm', type='System'), target=Node(id='Amo', type='System'), type='USER_REGISTRATION'), Relationship(source=Node(id='Amo', type='System'), target=Node(id='User Request Check Batch', type='System'), type='MANUAL_RESTART'), Relationship(source=Node(id='Amo', type='System'), target=Node(id='User Request Check Batch', type='System'), type='USER_REQUEST_CHECK_BATCH_STOPPED'), Relationship(source=Node(id='Amo', type='System'), target=Node(id='User Request Check Batch', type='System'), type='REGISTRATION_SUCCESS_CONFIRMATION'), Relationship(source=Node(id='Amo', type='System'), target=Node(id='User Request Check Batch', type='System'), type='RESPONSE_AWAITED_FOR_CAUSE_INVESTIGATION_AND_PREVENTIVE_MEASURES'), Relationship(source=Node(id='Server Monitoring', type='System'), target=Node(id='Error: Configuration (Other Than H15)', type='Issue'), type='ERROR_DETECTED'), Relationship(source=Node(id='Server Monitoring', type='System'), target=Node(id='Error: Programming/Reprogramming', type='Issue'), type='ERROR_DETECTED'), Relationship(source=Node(id='Vespa', type='System'), target=Node(id='Request', type='System'), type='ERROR_DETECTED')], source=Document(page_content='\\n\\n\\u3000\\u3000\\u3000\\u3000\\u3000\\u3000\\u3000⇒■05/23)XX6よりPSPMのユーザー登録において、ファイルからデータ登録を行う際にエラーのアラートが出て登録できないと申告あり\\n\\n\\u3000\\u3000\\u3000\\u3000\\u3000\\u3000\\u3000⇒■05/23)AMOで確認し、ユーザーリクエストのチェックバッチが止まっていたため手動で再開させ登録成功を確認\\n\\n\\u3000\\u3000\\u3000\\u3000\\u3000\\u3000\\u3000⇒■05/23)XX6に対応完了を報告\\n\\n\\u3000\\u3000\\u3000\\u3000\\u3000\\u3000\\u3000⇒\\u3000AMOからの原因調査、再発防止策の返答待ち\\n\\n\\u3000□\\u3000保守関連（富士通：SDR／VDA／PSPM／DTC Priority）\\n\\n\\u3000\\u3000□Server Monitoring\\n\\n\\u3000\\u3000\\u3000\\u3000\\u3000\\u3000\\u3000\\u3000■05/21(火) 16:36 ~ 16:45(00:09)\\u3000Error：Configuration (Other than H15)\\n\\n\\u3000\\u3000\\u3000  ■05/21(火) 17:41 ~ 17:50(00:09)\\u3000Error：Programming/Reprogramming\\n\\n※VESPAへアクセス中に一部のリクエストがエラーになりましたが、再送されて成功したため業務影響なし。\\n\\n\\u3000\\u3000□Server Monitoringのエラー対応\\u3000', metadata={'source': '週報_（5月27日-31日_石岡）_IB3内製支援AA.docx', 'id': 'c700909d9465e6863b5cafb42af602c4'})),\n",
              " GraphDocument(nodes=[Node(id='Vespa', type='System'), Node(id='Server Monitoring', type='System'), Node(id='User Login', type='Feature'), Node(id='T石川', type='Person'), Node(id='Rntbci', type='System')], relationships=[Relationship(source=Node(id='Vespa', type='System'), target=Node(id='Server Monitoring', type='System'), type='MONITORS'), Relationship(source=Node(id='Server Monitoring', type='System'), target=Node(id='User Login', type='Feature'), type='ERROR_HANDLING'), Relationship(source=Node(id='T石川', type='Person'), target=Node(id='Server Monitoring', type='System'), type='PROVIDES_INFORMATION'), Relationship(source=Node(id='Rntbci', type='System'), target=Node(id='Server Monitoring', type='System'), type='SUPPORT')], source=Document(page_content='15)\\n\\n\\u3000\\u3000\\u3000  ■05/21(火) 17:41 ~ 17:50(00:09)\\u3000Error：Programming/Reprogramming\\n\\n※VESPAへアクセス中に一部のリクエストがエラーになりましたが、再送されて成功したため業務影響なし。\\n\\n\\u3000\\u3000□Server Monitoringのエラー対応\\u3000(CONSULT User Loginのエラーが頻出する\\u3000※実害なし)\\n\\n\\u3000\\u3000\\u3000\\u3000\\u3000⇒\\u3000■04/24)保守定例内で開発T石川さんより状況説明あり。2回連続検知で初めてメール送信されるような改修はプロジェクト対応になる。\\n\\n\\u3000\\u3000\\u3000\\u3000\\u3000⇒\\u3000RNTBCIのサポート開始には運用で対処する（引継ぎ時に経緯を理解してもらう）\\n\\n\\u3000\\u3000\\u3000\\u3000\\u3000・費用の扱いは？⇒12月リリース時点から発生している現象\\u3000設定変更レベルなら問題ないが、改修レベルになると要相談\\n\\n\\u3000\\u3000□RNTBCI24時間サポート依頼\\n\\n\\u3000\\u3000\\u3000\\u3000\\u3000⇒\\u3000■05/09)\\u3000RNTBCIにファイルにが2.0人月と', metadata={'source': '週報_（5月27日-31日_石岡）_IB3内製支援AA.docx', 'id': '1100d1f83ef2c80b62f88adff8cc5e10'})),\n",
              " GraphDocument(nodes=[Node(id='Rntbci24時間サポート依頼', type='Request'), Node(id='05/09', type='Date'), Node(id='05/10', type='Date'), Node(id='05/14', type='Date'), Node(id='05/24', type='Date'), Node(id='05/27', type='Date'), Node(id='05/28', type='Date'), Node(id='05/30', type='Date')], relationships=[Relationship(source=Node(id='Rntbci24時間サポート依頼', type='Request'), target=Node(id='05/09', type='Date'), type='SUPPORT_CONFIRMATION'), Relationship(source=Node(id='Rntbci24時間サポート依頼', type='Request'), target=Node(id='05/09', type='Date'), type='CONFIRMATION_CORRECTION'), Relationship(source=Node(id='Rntbci24時間サポート依頼', type='Request'), target=Node(id='05/10', type='Date'), type='SUPPORT_REQUEST'), Relationship(source=Node(id='Rntbci24時間サポート依頼', type='Request'), target=Node(id='05/14', type='Date'), type='SUPPORT_CONFIRMATION'), Relationship(source=Node(id='Rntbci24時間サポート依頼', type='Request'), target=Node(id='05/24', type='Date'), type='PROJECT_NUMBER_ACQUISITION'), Relationship(source=Node(id='Rntbci24時間サポート依頼', type='Request'), target=Node(id='05/24', type='Date'), type='DOCUMENT_CREATION'), Relationship(source=Node(id='Rntbci24時間サポート依頼', type='Request'), target=Node(id='05/27', type='Date'), type='REVIEW_IMPLEMENTATION'), Relationship(source=Node(id='Rntbci24時間サポート依頼', type='Request'), target=Node(id='05/28', type='Date'), type='REVIEW_IMPLEMENTATION'), Relationship(source=Node(id='Rntbci24時間サポート依頼', type='Request'), target=Node(id='05/30', type='Date'), type='REVIEW_IMPLEMENTATION')], source=Document(page_content='�生している現象\\u3000設定変更レベルなら問題ないが、改修レベルになると要相談\\n\\n\\u3000\\u3000□RNTBCI24時間サポート依頼\\n\\n\\u3000\\u3000\\u3000\\u3000\\u3000⇒\\u3000■05/09)\\u3000RNTBCIにファイルにが2.0人月と書いてあるのでどちらが正しいのか確認\\n\\n\\u3000\\u3000\\u3000\\u3000\\u3000⇒\\u3000■05/09)\\u3000RNTBCIより1.25人月が正しい旨返信あり\\n\\n\\u3000\\u3000\\u3000\\u3000\\u3000⇒\\u3000■05/10)\\u30000.75人月で対応いただけないか返信\\n\\n\\u3000\\u3000\\u3000\\u3000\\u3000⇒\\u3000■05/14)\\u3000RNTBCIより、0.75人月で対応いただける旨返信あり\\n\\n\\u3000\\u3000\\u3000\\u3000\\u3000⇒\\u3000■05/24)\\u3000塩野さんにプロジェクト番号取得いただく\\n\\n\\u3000\\u3000\\u3000\\u3000\\u3000⇒\\u3000■05/24-27)\\u3000DR資料作成\\n\\n\\u3000\\u3000\\u3000\\u3000\\u3000⇒\\u3000■05/27)\\u3000松ケ野さんレビュー実施\\n\\n\\u3000\\u3000\\u3000\\u3000\\u3000⇒\\u3000■05/28)\\u3000根門さんレビュー実施\\n\\n\\u3000\\u3000\\u3000\\u3000\\u3000⇒\\u3000■05/30)\\u3000藤田さんレビュー実施\\n\\n\\u3000\\u3000\\u3000\\u3000\\u3000⇒�', metadata={'source': '週報_（5月27日-31日_石岡）_IB3内製支援AA.docx', 'id': 'c119aca5cc73f6ac579654100aed59b0'})),\n",
              " GraphDocument(nodes=[Node(id='松ケ野さん', type='Person'), Node(id='根門さん', type='Person'), Node(id='藤田さん', type='Person'), Node(id='Dr', type='Event'), Node(id='メール連絡先一覧のファイル', type='File'), Node(id='Kt準備', type='Task'), Node(id='Bcvデータ重複', type='Issue'), Node(id='Renault', type='Company'), Node(id='Alliance', type='Company'), Node(id='Amo', type='Company'), Node(id='Vda', type='Company')], relationships=[Relationship(source=Node(id='松ケ野さん', type='Person'), target=Node(id='レビュー実施', type='Task'), type='REVIEW'), Relationship(source=Node(id='根門さん', type='Person'), target=Node(id='レビュー実施', type='Task'), type='REVIEW'), Relationship(source=Node(id='藤田さん', type='Person'), target=Node(id='レビュー実施', type='Task'), type='REVIEW'), Relationship(source=Node(id='Dr', type='Event'), target=Node(id='予定', type='Task'), type='SCHEDULED'), Relationship(source=Node(id='メール連絡先一覧のファイル', type='File'), target=Node(id='作成', type='Task'), type='CREATE'), Relationship(source=Node(id='Kt準備', type='Task'), target=Node(id='Amoと内容確認', type='Task'), type='PREPARATION'), Relationship(source=Node(id='Kt準備', type='Task'), target=Node(id='資料準備', type='Task'), type='PREPARATION'), Relationship(source=Node(id='Bcvデータ重複', type='Issue'), target=Node(id='BcvからのデータにEcu Mnemonicの重複があり、Vda側でデータ登録エラー発生', type='Problem'), type='DUPLICATION'), Relationship(source=Node(id='Bcvデータ重複', type='Issue'), target=Node(id='RenaultフォーマットとAllianceフォーマットが混在している', type='Problem'), type='MIXED_FORMATS'), Relationship(source=Node(id='Bcvデータ重複', type='Issue'), target=Node(id='恒久対応', type='Task'), type='PERMANENT_SOLUTION'), Relationship(source=Node(id='Bcvデータ重複', type='Issue'), target=Node(id='対応費用をRenaultへ提示済', type='Task'), type='COST_PRESENTED'), Relationship(source=Node(id='重複パターン', type='Issue'), target=Node(id='Amoより見積もり回答いただく。ソースコード修正に16時間取っている為、詳細をミーティング', type='Task'), type='ESTIMATE')], source=Document(page_content='�\\u3000\\u3000\\u3000\\u3000⇒\\u3000■05/27)\\u3000松ケ野さんレビュー実施\\n\\n\\u3000\\u3000\\u3000\\u3000\\u3000⇒\\u3000■05/28)\\u3000根門さんレビュー実施\\n\\n\\u3000\\u3000\\u3000\\u3000\\u3000⇒\\u3000■05/30)\\u3000藤田さんレビュー実施\\n\\n\\u3000\\u3000\\u3000\\u3000\\u3000⇒\\u30006/5\\u3000DR予定\\n\\n\\u3000\\u3000\\u3000\\u3000\\u3000⇒\\u3000メール連絡先一覧のファイル作成\\n\\n\\u3000\\u3000\\u3000\\u3000\\u3000⇒\\u3000KT準備(AMOと内容確認、資料準備)\\n\\n\\u3000\\u3000□\\u3000BCVデータ重複（BCVからのデータにECU Mnemonicの重複があり、VDA側でデータ登録エラー発生）※2/16から発生\\n\\n\\u3000\\u3000\\u3000\\u3000\\u3000※RenaultフォーマットとAllianceフォーマットが混在している⇒Renaultフォーマットに戻してもらうが、再発\\n\\n\\u3000\\u3000\\u3000\\u3000\\u3000⇒恒久対応\\u3000※対応費用をRenaultへ提示済\\n\\n\\u3000\\u3000\\u3000\\u3000□\\u3000重複パターン\\n\\n\\u3000\\u3000\\u3000\\u3000\\u3000⇒\\u3000■05/16)\\u3000AMOより見積もり回答いただく。ソースコード修正に16時間取っている為、詳細をミーティング�', metadata={'source': '週報_（5月27日-31日_石岡）_IB3内製支援AA.docx', 'id': 'f52fd43a43671e82c508df45f816acaa'})),\n",
              " GraphDocument(nodes=[Node(id='Renault', type='Company'), Node(id='Amo', type='Company'), Node(id='Gas', type='Company'), Node(id='石川', type='Person')], relationships=[Relationship(source=Node(id='Renault', type='Company'), target=Node(id='Amo', type='Company'), type='ESTIMATION_REQUEST'), Relationship(source=Node(id='Amo', type='Company'), target=Node(id='Renault', type='Company'), type='ESTIMATION_RESPONSE'), Relationship(source=Node(id='Amo', type='Company'), target=Node(id='Gas', type='Company'), type='ESTIMATION_RESPONSE'), Relationship(source=Node(id='Gas', type='Company'), target=Node(id='Renault', type='Company'), type='MEETING_SCHEDULED'), Relationship(source=Node(id='Gas', type='Company'), target=Node(id='石川', type='Person'), type='MEETING_SCHEDULED')], source=Document(page_content='�応費用をRenaultへ提示済\\n\\n\\u3000\\u3000\\u3000\\u3000□\\u3000重複パターン\\n\\n\\u3000\\u3000\\u3000\\u3000\\u3000⇒\\u3000■05/16)\\u3000AMOより見積もり回答いただく。ソースコード修正に16時間取っている為、詳細をミーティング設定し確認\\n\\n\\u3000\\u3000\\u3000\\u3000\\u3000⇒\\u3000■05/16)\\u3000ミーティング内で想定より多くの時間を取っている為見直しをお願い\\n\\n\\u3000\\u3000\\u3000\\u3000\\u3000⇒\\u3000■05/22)\\u3000AMOより再見積もり回答あり。(16→4時間)GASに回答し、了承いただく。\\n\\n\\u3000\\u3000\\u3000\\u3000\\u3000⇒\\u3000■05/23)\\u3000GASとミーティング実施\\u3000別業連対応中のため6月からの着手になる旨説明\\n\\n\\u3000\\u3000\\u3000\\u3000\\u3000⇒\\u3000GASからの業連発行待ち\\n\\n\\u3000\\u3000\\u3000\\u3000□\\u3000XDD不正文字ありパターン\\n\\n\\u3000\\u3000\\u3000\\u3000\\u3000⇒\\u3000■05/08）保守定例ミーティング内で開発石川さんより、\"バイト数で判断して対応する項目に入れる仕組みのため、文字化け時点', metadata={'source': '週報_（5月27日-31日_石岡）_IB3内製支援AA.docx', 'id': '9368e9ae3cc5d30750fc6015825d6642'})),\n",
              " GraphDocument(nodes=[Node(id='開発石川さん', type='Person'), Node(id='Gas', type='Technology'), Node(id='Amo', type='Technology'), Node(id='Vda', type='Technology'), Node(id='Vda Search', type='Technology'), Node(id='品質チーム', type='Team'), Node(id='正英さん', type='Person')], relationships=[Relationship(source=Node(id='開発石川さん', type='Person'), target=Node(id='バイト数で判断して対応する項目に入れる仕組み', type='Concept'), type='PROVIDED_FEEDBACK'), Relationship(source=Node(id='Gas', type='Technology'), target=Node(id='ミーティング', type='Activity'), type='PARTICIPATED_IN'), Relationship(source=Node(id='Gas', type='Technology'), target=Node(id='不正文字の置き換えでの対応', type='Activity'), type='EXPLAINED'), Relationship(source=Node(id='バイト数で部分参照を行っている', type='Concept'), target=Node(id='エラー', type='Issue'), type='CAUSED_BY'), Relationship(source=Node(id='Amo', type='Technology'), target=Node(id='取り込み実績のあるファイルに@など置き換えの文字追加', type='Activity'), type='PERFORMED'), Relationship(source=Node(id='Amo', type='Technology'), target=Node(id='バイト数が変わったときにエラーで拾えるかの確認', type='Activity'), type='PLANNED'), Relationship(source=Node(id='Vda', type='Technology'), target=Node(id='Vda Search', type='Technology'), type='RELATED_TO'), Relationship(source=Node(id='品質チーム', type='Team'), target=Node(id='Vda Search', type='Technology'), type='EXPERIENCED_ISSUE'), Relationship(source=Node(id='正英さん', type='Person'), target=Node(id='Vda Searchでエンジンナンバー参照不可', type='Issue'), type='REPORTED')], source=Document(page_content='�\\u3000XDD不正文字ありパターン\\n\\n\\u3000\\u3000\\u3000\\u3000\\u3000⇒\\u3000■05/08）保守定例ミーティング内で開発石川さんより、\"バイト数で判断して対応する項目に入れる仕組みのため、文字化け時点でバイト数が狂う可能性”を指摘される\\n\\n\\u3000\\u3000\\u3000\\u3000\\u3000⇒\\u3000■05/23)\\u3000GASとミーティング実施\\u3000不正文字の置き換えでの対応は、バイト数で部分参照を行っているため、エラーとなり置き換えできない事がある旨説明。\\n\\n\\u3000\\u3000\\u3000\\u3000\\u3000\\u3000\\u3000\\u3000\\u3000\\u3000\\u3000\\u3000\\u3000\\u3000\\u3000→取り込み実績のあるファイルに@など置き換えの文字追加し、バイト数が変わったときにエラーで拾えるかの確認をAMOで実施\\n\\n\\u3000\\u3000\\u3000\\u3000\\u3000⇒\\u3000AMOからの調査結果待ち\\n\\n\\u3000\\u3000\\u3000\\u3000□\\u3000VDAとVDA Searchの不一致(品質チームがVDA Searchでエンジンナンバー参照不可）\\n\\n\\u3000\\u3000\\u3000\\u3000\\u3000⇒\\u3000■04/04\\u3000正英さんより以下', metadata={'source': '週報_（5月27日-31日_石岡）_IB3内製支援AA.docx', 'id': '7544a03fdcfe4e6f0bccbff727f9744b'})),\n",
              " GraphDocument(nodes=[Node(id='Vda', type='System'), Node(id='Vda Search', type='System'), Node(id='Quality Team', type='Team'), Node(id='Ev Vehicle', type='Vehicle'), Node(id='Ice Vehicle', type='Vehicle'), Node(id='Qidea', type='System')], relationships=[Relationship(source=Node(id='Quality Team', type='Team'), target=Node(id='Vda Search', type='System'), type='DISCREPANCY'), Relationship(source=Node(id='Quality Team', type='Team'), target=Node(id='Vda', type='System'), type='DISCREPANCY'), Relationship(source=Node(id='Vda', type='System'), target=Node(id='Vda Search', type='System'), type='OPERATION_CONFIRMATION'), Relationship(source=Node(id='Vda', type='System'), target=Node(id='Qidea', type='System'), type='DATA_TRANSFER'), Relationship(source=Node(id='Ev Vehicle', type='Vehicle'), target=Node(id='Vda', type='System'), type='ISSUE'), Relationship(source=Node(id='Ice Vehicle', type='Vehicle'), target=Node(id='Vda', type='System'), type='ISSUE'), Relationship(source=Node(id='Vda Search', type='System'), target=Node(id='Qidea', type='System'), type='DATA_TRANSFER'), Relationship(source=Node(id='Vda Search', type='System'), target=Node(id='Quality Team', type='Team'), type='OPERATION_CONFIRMATION')], source=Document(page_content='\\u3000\\u3000\\u3000⇒\\u3000AMOからの調査結果待ち\\n\\n\\u3000\\u3000\\u3000\\u3000□\\u3000VDAとVDA Searchの不一致(品質チームがVDA Searchでエンジンナンバー参照不可）\\n\\n\\u3000\\u3000\\u3000\\u3000\\u3000⇒\\u3000■04/04\\u3000正英さんより以下状況引継ぎ\\n\\n\\u3000\\u3000\\u3000\\u3000\\u3000①BCV→VDA間でEV車用のマッピングが対応されていないため、エンジンナンバーがVDA上でNULLになる問題がある\\n\\n\\u3000\\u3000\\u3000\\u3000\\u3000②しかしICE車のエンジンナンバーも参照できない状態と判明（VDAには反映有）\\n\\n\\u3000\\u3000\\u3000\\u3000\\u3000③VDA SearchのエンジンナンバーはQIDEA経由で連携されるため、ここが原因の可能性有\\n\\n\\u3000\\u3000\\u3000\\u3000\\u3000\\u3000⇒\\u3000VDA Search操作確認\\u3000ファイルを分析し、それぞれの現象を整理\\n\\n\\u3000\\u3000\\u3000□\\u3000VDAのMMC/AWSサーバー増強依頼\\n\\n\\u3000\\u3000\\u3000\\u3000⇒\\u3000■05/16)\\u3000AMOよりMMC部分の残サイズが少なくなっている旨報告を受ける\\n\\n\\u3000\\u3000\\u3000\\u3000\\u3000\\u3000⇒\\u3000■05', metadata={'source': '週報_（5月27日-31日_石岡）_IB3内製支援AA.docx', 'id': '41beb1711837cd53d1cce712a34e7134'})),\n",
              " GraphDocument(nodes=[Node(id='Vda', type='Task'), Node(id='Mmc/Awsサーバー増強依頼', type='Subtask'), Node(id='05/16', type='Date'), Node(id='Amo', type='Person'), Node(id='Mmc部分の残サイズ', type='Data'), Node(id='根門さん', type='Person'), Node(id='32Gb増量', type='Data'), Node(id='計70Gb', type='Data'), Node(id='3年稼働', type='Timeframe'), Node(id='X360不正文字によるエラー', type='Subtask'), Node(id='予算と日程の調整', type='Subtask'), Node(id='Sdrログ容量増加対応', type='Subtask'), Node(id='03/05', type='Date'), Node(id='富士通Amo', type='Person'), Node(id='Zip化', type='Action'), Node(id='Vdaデータ（Ie0）', type='Data'), Node(id='X360データ', type='Data'), Node(id='利用許諾', type='Action'), Node(id='ユーザ利', type='User')], relationships=[Relationship(source=Node(id='Vda', type='Task'), target=Node(id='Mmc/Awsサーバー増強依頼', type='Subtask'), type='REQUEST'), Relationship(source=Node(id='05/16', type='Date'), target=Node(id='Amo', type='Person'), type='REPORTED'), Relationship(source=Node(id='根門さん', type='Person'), target=Node(id='Mmc/Awsサーバー増強依頼', type='Subtask'), type='APPROVAL_REQUESTED'), Relationship(source=Node(id='根門さん', type='Person'), target=Node(id='32Gb増量', type='Data'), type='APPROVED'), Relationship(source=Node(id='根門さん', type='Person'), target=Node(id='計70Gb', type='Data'), type='APPROVED'), Relationship(source=Node(id='根門さん', type='Person'), target=Node(id='3年稼働', type='Timeframe'), type='APPROVED'), Relationship(source=Node(id='Vda', type='Task'), target=Node(id='X360不正文字によるエラー', type='Subtask'), type='ERROR_HANDLING'), Relationship(source=Node(id='X360不正文字によるエラー', type='Subtask'), target=Node(id='予算と日程の調整', type='Subtask'), type='ADJUSTMENT'), Relationship(source=Node(id='Vda', type='Task'), target=Node(id='Sdrログ容量増加対応', type='Subtask'), type='DATA_HANDLING'), Relationship(source=Node(id='03/05', type='Date'), target=Node(id='富士通Amo', type='Person'), type='CONTACTED'), Relationship(source=Node(id='富士通Amo', type='Person'), target=Node(id='Sdrログ容量増加対応', type='Subtask'), type='CONTACTED'), Relationship(source=Node(id='Sdrログ容量増加対応', type='Subtask'), target=Node(id='Zip化', type='Action'), type='TEMPORARY_SOLUTION'), Relationship(source=Node(id='Sdrログ容量増加対応', type='Subtask'), target=Node(id='検討中', type='Action'), type='PERMANENT_SOLUTION'), Relationship(source=Node(id='Vdaデータ（Ie0）', type='Data'), target=Node(id='X360データ', type='Data'), type='DATA_CONVERSION'), Relationship(source=Node(id='X360データ', type='Data'), target=Node(id='利用許諾', type='Action'), type='BASED_ON')], source=Document(page_content='��象を整理\\n\\n\\u3000\\u3000\\u3000□\\u3000VDAのMMC/AWSサーバー増強依頼\\n\\n\\u3000\\u3000\\u3000\\u3000⇒\\u3000■05/16)\\u3000AMOよりMMC部分の残サイズが少なくなっている旨報告を受ける\\n\\n\\u3000\\u3000\\u3000\\u3000\\u3000\\u3000⇒\\u3000■05/16)\\u3000根門さんに承認依頼(32GB増量して、計70GB＝3年稼働できる見込み)\\n\\n\\u3000\\u3000\\u3000\\u3000⇒\\u3000■05/16)\\u3000根門さんより承認いただく\\n\\n\\u3000\\u3000\\u3000\\u3000\\u3000\\u3000⇒\\u3000AMOより申請中\\n\\n\\u3000\\u3000\\u3000□\\u3000X360\\xa0不正文字によるエラー\\n\\n\\u3000\\u3000\\u3000\\u3000\\u3000⇒\\u3000予算と日程の調整\\n\\n\\u3000\\u3000\\u3000□\\u3000SDR\\xa0ログ容量増加対応\\n\\n\\u3000\\u3000\\u3000\\u3000\\u3000⇒\\u3000■03/05）富士通AMOより連絡あり（暫定：Zip化、恒久：検討中）\\n\\n\\u3000\\u3000\\u3000\\u3000\\u3000⇒\\u3000富士通AMOからの連絡待ち\\n\\n\\u3000\\u3000\\u3000□\\u3000VDAデータ（IE0）\\u3000※X360データとしして、利用許諾を前提にユーザ利�', metadata={'source': '週報_（5月27日-31日_石岡）_IB3内製支援AA.docx', 'id': '8a8120dda9546e57186e1b50d582cc41'})),\n",
              " GraphDocument(nodes=[Node(id='Zip化', type='Task'), Node(id='検討中', type='Task'), Node(id='富士通Amo', type='Contact'), Node(id='Vdaデータ（Ie0）', type='Data'), Node(id='Ie0', type='Data'), Node(id='Vda_Qa機投入ツール本番環境対応', type='Task'), Node(id='Xx6', type='Meeting'), Node(id='中国Adt-Rt MetaデータのIdpサービス利用申請', type='Data'), Node(id='荻野さん', type='Person'), Node(id='リンさん', type='Person'), Node(id='Boschチーム', type='Team'), Node(id='403エラー', type='Error'), Node(id='正しいメタデータ', type='Data'), Node(id='再申請', type='Task'), Node(id='Ib3', type='Task')], relationships=[Relationship(source=Node(id='Zip化', type='Task'), target=Node(id='検討中', type='Task'), type='PROGRESS'), Relationship(source=Node(id='検討中', type='Task'), target=Node(id='富士通Amo', type='Contact'), type='PENDING_CONTACT'), Relationship(source=Node(id='Vdaデータ（Ie0）', type='Data'), target=Node(id='Ie0', type='Data'), type='RELATED_DATA'), Relationship(source=Node(id='Ie0', type='Data'), target=Node(id='Vdaデータ（Ie0）', type='Data'), type='RELATED_DATA'), Relationship(source=Node(id='Vdaデータ（Ie0）', type='Data'), target=Node(id='富士通Amo', type='Contact'), type='PENDING_CONTACT'), Relationship(source=Node(id='Ie0', type='Data'), target=Node(id='Vdaデータ（Ie0）', type='Data'), type='RELATED_DATA'), Relationship(source=Node(id='Vda_Qa機投入ツール本番環境対応', type='Task'), target=Node(id='Xx6', type='Meeting'), type='MEETING_SCHEDULED'), Relationship(source=Node(id='Xx6', type='Meeting'), target=Node(id='Vda_Qa機投入ツール本番環境対応', type='Task'), type='MEETING_SCHEDULED'), Relationship(source=Node(id='Vda_Qa機投入ツール本番環境対応', type='Task'), target=Node(id='状況確認', type='Task'), type='PROGRESS'), Relationship(source=Node(id='状況確認', type='Task'), target=Node(id='Vda_Qa機投入ツール本番環境対応', type='Task'), type='PROGRESS'), Relationship(source=Node(id='中国Adt-Rt MetaデータのIdpサービス利用申請', type='Data'), target=Node(id='荻野さん', type='Person'), type='HANDOVER'), Relationship(source=Node(id='荻野さん', type='Person'), target=Node(id='中国Adt-Rt MetaデータのIdpサービス利用申請', type='Data'), type='HANDOVER'), Relationship(source=Node(id='リンさん', type='Person'), target=Node(id='中国Adt-Rt MetaデータのIdpサービス利用申請', type='Data'), type='MEETING_SCHEDULED'), Relationship(source=Node(id='中国Adt-Rt MetaデータのIdpサービス利用申請', type='Data'), target=Node(id='リンさん', type='Person'), type='MEETING_SCHEDULED'), Relationship(source=Node(id='リンさん', type='Person'), target=Node(id='状況聞き取り', type='Task'), type='MEETING_OUTCOME'), Relationship(source=Node(id='状況聞き取り', type='Task'), target=Node(id='リンさん', type='Person'), type='MEETING_OUTCOME'), Relationship(source=Node(id='Boschチーム', type='Team'), target=Node(id='403エラー', type='Error'), type='ISSUE_RESOLVED'), Relationship(source=Node(id='403エラー', type='Error'), target=Node(id='Boschチーム', type='Team'), type='ISSUE_RESOLVED'), Relationship(source=Node(id='Boschチーム', type='Team'), target=Node(id='正しいメタデータ', type='Data'), type='DATA_PREPARATION'), Relationship(source=Node(id='正しいメタデータ', type='Data'), target=Node(id='Boschチーム', type='Team'), type='DATA_PREPARATION'), Relationship(source=Node(id='正しいメタデータ', type='Data'), target=Node(id='再申請', type='Task'), type='TASK_ASSIGNMENT'), Relationship(source=Node(id='再申請', type='Task'), target=Node(id='Ib3', type='Task'), type='TASK_ASSIGNMENT')], source=Document(page_content='�定：Zip化、恒久：検討中）\\n\\n\\u3000\\u3000\\u3000\\u3000\\u3000⇒\\u3000富士通AMOからの連絡待ち\\n\\n\\u3000\\u3000\\u3000□\\u3000VDAデータ（IE0）\\u3000※X360データとしして、利用許諾を前提にユーザ利用を進めることを検討している\\n\\n\\u3000\\u3000\\u3000\\u3000\\u3000⇒IE0からの連絡待ち\\n\\n\\u3000\\u3000\\u3000■\\u3000VDA_QA機投入ツール本番環境対応\\n\\n\\u3000\\u3000\\u3000\\u3000\\u3000⇒■04/08）XX6とミーティング実施、状況確認\\n\\n\\u3000\\u3000\\u3000\\u3000\\u3000⇒連絡ないため一旦クローズとします\\n\\n\\u3000\\u3000\\u3000□\\u3000中国ADT-RT MetaデータのIdPサービス利用申請 ・・・荻野さんよりAMOに引継ぎ\\n\\n\\u3000\\u3000\\u3000\\u3000⇒\\u3000■04/24)\\u3000リンさんとミーティング実施、状況聞き取り\\n\\n\\u3000\\u3000\\u3000\\u3000⇒\\u3000■04/24)\\u3000Boschチームにて403エラーが解消され、正しいメタデータを用意できたら、再申請についてはIB3で行う旨返信\\n\\n\\u3000\\u3000\\u3000\\u3000⇒\\u3000■04/26)\\u3000Boschチーム�', metadata={'source': '週報_（5月27日-31日_石岡）_IB3内製支援AA.docx', 'id': 'faedd5510c8d90d6634ed448a630d815'})),\n",
              " GraphDocument(nodes=[Node(id='Boschチーム', type='Team'), Node(id='Ib3', type='Support'), Node(id='Gdサポート', type='Support'), Node(id='Postman対策', type='Issue'), Node(id='Xx6', type='Id'), Node(id='Vda', type='Access'), Node(id='Apigeeチーム', type='Team'), Node(id='業連Fy24', type='Fy24'), Node(id='Vespa Reproサポート', type='Support'), Node(id='Amo', type='Support'), Node(id='Cgw情報開', type='Information')], relationships=[Relationship(source=Node(id='Boschチーム', type='Team'), target=Node(id='Ib3', type='Support'), type='REAPPLICATION'), Relationship(source=Node(id='Boschチーム', type='Team'), target=Node(id='Postman対策', type='Issue'), type='INVESTIGATION'), Relationship(source=Node(id='Xx6', type='Id'), target=Node(id='Vda', type='Access'), type='ACCESS_ISSUE'), Relationship(source=Node(id='Postman対策', type='Issue'), target=Node(id='Apigeeチーム', type='Team'), type='CONFIRMATION'), Relationship(source=Node(id='業連Fy24', type='Fy24'), target=Node(id='Vespa Reproサポート', type='Support'), type='SUPPORT_REQUEST'), Relationship(source=Node(id='Vespa Reproサポート', type='Support'), target=Node(id='Amo', type='Support'), type='RESPONSE')], source=Document(page_content='�況聞き取り\\n\\n\\u3000\\u3000\\u3000\\u3000⇒\\u3000■04/24)\\u3000Boschチームにて403エラーが解消され、正しいメタデータを用意できたら、再申請についてはIB3で行う旨返信\\n\\n\\u3000\\u3000\\u3000\\u3000⇒\\u3000■04/26)\\u3000Boschチームより別件対応で現在調査がストップ中との事\\n\\n\\u3000\\u3000\\u3000\\u3000※IB３ではGDサポートへの申請のみ担当としたい（技術的なサポートはこちらではできない認識）\\n\\n\\u3000\\u3000\\u3000\\u3000⇒\\u3000Boshチームからの返信待ち\\n\\n\\u3000\\u3000\\u3000□\\u3000POSTMAN対策(XX6がアプリケーション用のIDでVDAに直接アクセスしていた問題)\\n\\n\\u3000\\u3000\\u3000\\u3000\\u3000⇒\\u3000状況確認(APIGEEチームの回答確認)\\n\\n□\\u3000業連FY24\\n\\n\\u3000\\u3000□\\u3000＜IS業連＞FY24\\u3000VESPA REPROサポート\\n\\n\\u3000\\u3000\\u3000\\u3000■\\u3000FY24\\u30005月分\\n\\n\\u3000\\u3000\\u3000\\u3000⇒\\u3000■05/27)\\u30005月分なしとAMOより回答有\\u3000\\n\\n\\u3000\\u3000□\\u3000＜IS業連＞FY24\\u3000CGW情報開�', metadata={'source': '週報_（5月27日-31日_石岡）_IB3内製支援AA.docx', 'id': 'baf9f073356875817d1810268d1a928c'})),\n",
              " GraphDocument(nodes=[Node(id='Is業連', type='Organization'), Node(id='Vespa Repro', type='Service'), Node(id='Cgw情報開示ベンダー登録＆保守', type='Service'), Node(id='Ip特性チェック追加（２バッチ修正）', type='Service'), Node(id='Pspm Cookie影響調査', type='Service'), Node(id='木村さん', type='Person'), Node(id='Amo', type='Organization'), Node(id='富士通', type='Organization')], relationships=[Relationship(source=Node(id='Is業連', type='Organization'), target=Node(id='Vespa Repro', type='Service'), type='PROVIDES'), Relationship(source=Node(id='Is業連', type='Organization'), target=Node(id='Cgw情報開示ベンダー登録＆保守', type='Service'), type='PROVIDES'), Relationship(source=Node(id='Is業連', type='Organization'), target=Node(id='Ip特性チェック追加（２バッチ修正）', type='Service'), type='PROVIDES'), Relationship(source=Node(id='Is業連', type='Organization'), target=Node(id='Pspm Cookie影響調査', type='Service'), type='PROVIDES'), Relationship(source=Node(id='Cgw情報開示ベンダー登録＆保守', type='Service'), target=Node(id='木村さん', type='Person'), type='CONTACTS'), Relationship(source=Node(id='Cgw情報開示ベンダー登録＆保守', type='Service'), target=Node(id='Amo', type='Organization'), type='CONTACTS'), Relationship(source=Node(id='Cgw情報開示ベンダー登録＆保守', type='Service'), target=Node(id='業連発行済み', type='Event'), type='COMPLETED'), Relationship(source=Node(id='Cgw情報開示ベンダー登録＆保守', type='Service'), target=Node(id='業連クローズ', type='Event'), type='COMPLETED'), Relationship(source=Node(id='Ip特性チェック追加（２バッチ修正）', type='Service'), target=Node(id='Fy24対応', type='Event'), type='RELATED_TO'), Relationship(source=Node(id='Ip特性チェック追加（２バッチ修正）', type='Service'), target=Node(id='Amo木村さんに内容確認', type='Event'), type='RELATED_TO'), Relationship(source=Node(id='Pspm Cookie影響調査', type='Service'), target=Node(id='05/16', type='Event'), type='REQUESTED'), Relationship(source=Node(id='Pspm Cookie影響調査', type='Service'), target=Node(id='Amo', type='Organization'), type='AWAITING_RESPONSE'), Relationship(source=Node(id='Pspm Cookie影響調査', type='Service'), target=Node(id='対応完了待ち', type='Event'), type='AWAITING_RESPONSE')], source=Document(page_content='＜IS業連＞FY24\\u3000VESPA REPROサポート\\n\\n\\u3000\\u3000\\u3000\\u3000■\\u3000FY24\\u30005月分\\n\\n\\u3000\\u3000\\u3000\\u3000⇒\\u3000■05/27)\\u30005月分なしとAMOより回答有\\u3000\\n\\n\\u3000\\u3000□\\u3000＜IS業連＞FY24\\u3000CGW情報開示ベンダー登録＆保守\\n\\n\\u3000\\u3000\\u3000\\u3000⇒\\u3000■05/27)\\u30005月分10.0hとAMOより回答有\\u3000業連発行済み\\u3000\\n\\n\\u3000\\u3000\\u3000\\u3000⇒\\u3000■05/27)\\u3000業連クローズ\\n\\n\\u3000\\u3000□\\u3000＜IS業連＞IP特性チェック追加（２バッチ修正）\\u3000※工数：63.0h予定\\n\\n\\u3000\\u3000\\u3000\\u3000⇒\\u3000FY24対応\\n\\n\\u3000\\u3000\\u3000\\u3000⇒\\u3000AMO木村さんに内容確認\\n\\n\\u3000  □\\u3000＜IS業連＞\\u3000PSPM Cookie影響調査\\n\\n\\u3000\\u3000\\u3000\\u3000⇒\\u3000■05/16）見積もり、作業実施依頼\\n\\n\\u3000\\u3000\\u3000\\u3000⇒\\u3000富士通AMOからの連絡待ち（対応完了待ち）\\n\\n\\u3000\\u3000□\\u3000＜IS業連＞\\u3000BCVデータ�', metadata={'source': '週報_（5月27日-31日_石岡）_IB3内製支援AA.docx', 'id': '69bcbbf89960dc152c7d3cd663168aea'})),\n",
              " GraphDocument(nodes=[Node(id='05/16', type='Task'), Node(id='05/23', type='Task'), Node(id='05/24', type='Task'), Node(id='05/27', type='Task'), Node(id='Gas', type='Company'), Node(id='富士通Amo', type='Company'), Node(id='Xx6', type='Company'), Node(id='Is業連', type='Department'), Node(id='Bcvデータ重複対応(Vin2件)', type='Task'), Node(id='Bcvデータ重複対応(Vin3件)', type='Task'), Node(id='部品交換に伴うIass更新※現地対応', type='Task')], relationships=[Relationship(source=Node(id='05/16', type='Task'), target=Node(id='富士通Amo', type='Company'), type='CONTACT'), Relationship(source=Node(id='05/23', type='Task'), target=Node(id='Gas', type='Company'), type='ISSUE'), Relationship(source=Node(id='05/24', type='Task'), target=Node(id='Gas', type='Company'), type='PROGRESS_CHECK'), Relationship(source=Node(id='05/24', type='Task'), target=Node(id='富士通Amo', type='Company'), type='COMPLETION_WAIT'), Relationship(source=Node(id='05/27', type='Task'), target=Node(id='Gas', type='Company'), type='ISSUE'), Relationship(source=Node(id='05/27', type='Task'), target=Node(id='富士通Amo', type='Company'), type='COMPLETION_WAIT'), Relationship(source=Node(id='05/27', type='Task'), target=Node(id='Xx6', type='Company'), type='IMPLEMENTATION_PLAN')], source=Document(page_content='��\\n\\n\\u3000\\u3000\\u3000\\u3000⇒\\u3000■05/16）見積もり、作業実施依頼\\n\\n\\u3000\\u3000\\u3000\\u3000⇒\\u3000富士通AMOからの連絡待ち（対応完了待ち）\\n\\n\\u3000\\u3000□\\u3000＜IS業連＞\\u3000BCVデータ重複対応(VIN2件)\\u3000\\n\\n\\u3000\\u3000\\u3000\\u3000\\u3000⇒\\u3000■05/23）GASより業連発行\\n\\n\\u3000\\u3000\\u3000\\u3000\\u3000⇒\\u3000■05/24）進捗確認\\u300027日作業\\u300028日のバッチ確認予定\\n\\n\\u3000\\u3000\\u3000\\u3000\\u3000⇒\\u3000富士通AMOからの完了連絡待ち\\n\\n\\u3000\\u3000□\\u3000＜IS業連＞\\u3000BCVデータ重複対応(VIN3件)\\u3000\\n\\n\\u3000\\u3000\\u3000\\u3000\\u3000⇒\\u3000■05/27）GASより業連発行\\n\\n\\u3000\\u3000\\u3000\\u3000\\u3000⇒\\u3000富士通AMOからの完了連絡待ち\\n\\n\\u3000\\u3000□\\u3000＜IS業連＞\\u3000部品交換に伴うIASS更新※現地対応 実施日未定\\n\\n\\u3000\\u3000\\u3000\\u3000\\u3000⇒\\u3000■05/27)\\u3000XX6より実施計画がある旨事前', metadata={'source': '週報_（5月27日-31日_石岡）_IB3内製支援AA.docx', 'id': 'c93a569dc28451de758fbaf01b2d5660'})),\n",
              " GraphDocument(nodes=[Node(id='Is業連', type='Task'), Node(id='Vespaリプロチェック', type='Task'), Node(id='Iass更新', type='Task'), Node(id='Fy23残対応', type='Task'), Node(id='部品交換', type='Task'), Node(id='Config対応', type='Task'), Node(id='富士通Amo', type='Company'), Node(id='Xx6', type='Company'), Node(id='オペレーションスタッフミーティング', type='Meeting'), Node(id='組織変更', type='Task'), Node(id='担当変更', type='Task'), Node(id='リリース前レビュー', type='Meeting')], relationships=[Relationship(source=Node(id='Is業連', type='Task'), target=Node(id='Iass更新', type='Task'), type='TASK_UPDATE'), Relationship(source=Node(id='Is業連', type='Task'), target=Node(id='Vespaリプロチェック', type='Task'), type='TASK_UPDATE'), Relationship(source=Node(id='Is業連', type='Task'), target=Node(id='Fy23残対応', type='Task'), type='TASK_UPDATE'), Relationship(source=Node(id='Is業連', type='Task'), target=Node(id='部品交換', type='Task'), type='TASK_UPDATE'), Relationship(source=Node(id='Vespaリプロチェック', type='Task'), target=Node(id='Config対応', type='Task'), type='TASK_UPDATE'), Relationship(source=Node(id='Vespaリプロチェック', type='Task'), target=Node(id='富士通Amo', type='Company'), type='CONTACTED_AMO_FOR_TASK_IMPLEMENTATION'), Relationship(source=Node(id='Vespaリプロチェック', type='Task'), target=Node(id='リリース前レビュー', type='Meeting'), type='SCHEDULED_REVIEW'), Relationship(source=Node(id='Vespaリプロチェック', type='Task'), target=Node(id='Xx6', type='Company'), type='RECEIVED_PLAN_FROM_XX6'), Relationship(source=Node(id='Vespaリプロチェック', type='Task'), target=Node(id='富士通Amo', type='Company'), type='STARTED_TASK_IN_MAINTENANCE_MEETING'), Relationship(source=Node(id='オペレーションスタッフミーティング', type='Meeting'), target=Node(id='組織変更', type='Task'), type='ANNOUNCED_ORGANIZATIONAL_CHANGE'), Relationship(source=Node(id='オペレーションスタッフミーティング', type='Meeting'), target=Node(id='担当変更', type='Task'), type='IMPLEMENTED_CHANGE_IN_CHARGE')], source=Document(page_content='の完了連絡待ち\\n\\n\\u3000\\u3000□\\u3000＜IS業連＞\\u3000部品交換に伴うIASS更新※現地対応 実施日未定\\n\\n\\u3000\\u3000\\u3000\\u3000\\u3000⇒\\u3000■05/27)\\u3000XX6より実施計画がある旨事前連絡有\\n\\n\\u3000\\u3000\\u3000\\u3000\\u3000⇒\\u3000XX6からの連絡待ち(日程確定待ち)\\n\\n\\u3000□\\u3000業連FY23残対応\\n\\n\\u3000\\u3000□\\u3000＜IS業連＞VESPAリプロチェック\\u3000Config対応\\u3000※工数：40.5h\\n\\n\\u3000\\u3000\\u3000\\u3000⇒\\u3000■03/11）富士通AMOに連絡（業連実施依頼）\\n\\n\\u3000\\u3000\\u3000\\u3000⇒\\u3000■04/17）富士通AMOより保守定例ミーティング内で着手した連絡有\\n\\n\\u3000\\u3000\\u3000\\u3000⇒\\u3000□05/29）リリース前レビュー予定\\n\\n□\\u3000その他\\n\\n\\u3000\\u3000□\\u300004/03) オペレーションスタッフミーティング内で周知のあった組織変更に伴う担当変更を実施\\n\\n\\u3000\\u3000\\u3000\\u3000・監視アラートの連絡�', metadata={'source': '週報_（5月27日-31日_石岡）_IB3内製支援AA.docx', 'id': 'a0c4e00d826a8da620772d89db7fc82f'})),\n",
              " GraphDocument(nodes=[Node(id='組織変更', type='Event'), Node(id='担当変更', type='Event'), Node(id='監視アラートの連絡先変更', type='Event'), Node(id='Amo依頼', type='Event'), Node(id='状況確認', type='Event'), Node(id='未対応', type='Event'), Node(id='メール連絡', type='Event'), Node(id='フォローアップ', type='Event'), Node(id='連絡待ち', type='Event'), Node(id='Absolの職制追加', type='Event'), Node(id='申請のExcel', type='Event'), Node(id='依頼メール送信', type='Event'), Node(id='返信待ち', type='Event')], relationships=[Relationship(source=Node(id='組織変更', type='Event'), target=Node(id='担当変更', type='Event'), type='CHANGE'), Relationship(source=Node(id='担当変更', type='Event'), target=Node(id='監視アラートの連絡先変更', type='Event'), type='CHANGE'), Relationship(source=Node(id='監視アラートの連絡先変更', type='Event'), target=Node(id='Amo依頼', type='Event'), type='REQUEST'), Relationship(source=Node(id='Amo依頼', type='Event'), target=Node(id='状況確認', type='Event'), type='REQUEST'), Relationship(source=Node(id='状況確認', type='Event'), target=Node(id='未対応', type='Event'), type='CHECK'), Relationship(source=Node(id='未対応', type='Event'), target=Node(id='メール連絡', type='Event'), type='INFORM'), Relationship(source=Node(id='メール連絡', type='Event'), target=Node(id='フォローアップ', type='Event'), type='ACTION'), Relationship(source=Node(id='フォローアップ', type='Event'), target=Node(id='連絡待ち', type='Event'), type='WAIT'), Relationship(source=Node(id='Absolの職制追加', type='Event'), target=Node(id='申請のExcel', type='Event'), type='ACTION'), Relationship(source=Node(id='申請のExcel', type='Event'), target=Node(id='依頼メール送信', type='Event'), type='ACTION'), Relationship(source=Node(id='依頼メール送信', type='Event'), target=Node(id='返信待ち', type='Event'), type='WAIT')], source=Document(page_content='��リリース前レビュー予定\\n\\n□\\u3000その他\\n\\n\\u3000\\u3000□\\u300004/03) オペレーションスタッフミーティング内で周知のあった組織変更に伴う担当変更を実施\\n\\n\\u3000\\u3000\\u3000\\u3000・監視アラートの連絡先変更（正英さん⇒石岡への変更）\\n\\n\\u3000\\u3000\\u3000\\u3000⇒\\u3000AMO依頼済み\\n\\n\\u3000\\u3000\\u3000\\u3000⇒\\u3000■04/23）AMOに状況確認、未対応のため本日実施との事\\n\\n\\u3000\\u3000\\u3000\\u3000⇒\\u3000■05/13）正英さんよりAMOに未だにメールが届く旨連絡\\n\\n\\u3000\\u3000\\u3000\\u3000⇒\\u3000■05/14）AMOより木屋さんにフォローアップ\\n\\n\\u3000\\u3000\\u3000\\u3000⇒\\u3000富士通AMOからの連絡待ち\\n\\n\\xa0\\n\\n\\u3000\\u3000\\u3000□ABSOLの職制追加\\n\\n\\u3000\\u3000\\u3000\\u3000\\u3000⇒\\u3000■05/23）申請のExcelを埋めて依頼メール送信\\n\\n\\u3000\\u3000\\u3000\\u3000\\u3000⇒\\u3000担当からの返信待ち\\n\\n\\u3000\\u3000\\u3000\\u3000\\u3000\\u3000\\u3000\\u3000\\n\\n＊連絡事項＊\\n\\n', metadata={'source': '週報_（5月27日-31日_石岡）_IB3内製支援AA.docx', 'id': 'fbcba9074def32868fa9db276f66d59b'})),\n",
              " GraphDocument(nodes=[Node(id='Excel', type='Document'), Node(id='Email', type='Document'), Node(id='Reply', type='Document')], relationships=[Relationship(source=Node(id='Excel', type='Document'), target=Node(id='Email', type='Document'), type='FILLED_OUT'), Relationship(source=Node(id='Email', type='Document'), target=Node(id='Reply', type='Document'), type='AWAITING_REPLY')], source=Document(page_content='�制追加\\n\\n\\u3000\\u3000\\u3000\\u3000\\u3000⇒\\u3000■05/23）申請のExcelを埋めて依頼メール送信\\n\\n\\u3000\\u3000\\u3000\\u3000\\u3000⇒\\u3000担当からの返信待ち\\n\\n\\u3000\\u3000\\u3000\\u3000\\u3000\\u3000\\u3000\\u3000\\n\\n＊連絡事項＊\\n\\n\\u3000\\u3000\\u3000\\u3000なし\\n\\n\\xa0\\n\\n\\n\\n\\n\\n連絡：（自社へ）\\n\\nなし\\n\\nVer1.0', metadata={'source': '週報_（5月27日-31日_石岡）_IB3内製支援AA.docx', 'id': 'e9ec160444f51f924ad3a79f56c324cf'})),\n",
              " GraphDocument(nodes=[Node(id='Sdr', type='System'), Node(id='Vda', type='System'), Node(id='Mac', type='System'), Node(id='2024年6月11日', type='Date'), Node(id='2024年6月03日', type='Date'), Node(id='2024年6月07日', type='Date'), Node(id='石岡雅紀', type='Person'), Node(id='Sdr、Vda、Pspm, Dtc Priority', type='Task'), Node(id='Sdr、Vda、Pspm, Dtc PriorityのAa担当', type='Task'), Node(id='業務部署（Gas／Xx6等）問合せ／周知', type='Task'), Node(id='Operationstaffmeeting', type='Meeting'), Node(id='Gas展開、Adt Nissan Team週次会議', type='Meeting'), Node(id='Rhel7.9へアップデート案内にPspmが対象リストに含まれていなかった理由はAmoで問い合わせ中', type='Reason'), Node(id='Amo確認待ち', type='Task'), Node(id='Gas問', type='Task')], relationships=[Relationship(source=Node(id='Sdr、Vda、Pspm, Dtc Priority', type='Task'), target=Node(id='Sdr', type='System'), type='INCLUDES'), Relationship(source=Node(id='Sdr、Vda、Pspm, Dtc Priority', type='Task'), target=Node(id='Vda', type='System'), type='INCLUDES'), Relationship(source=Node(id='Sdr、Vda、Pspm, Dtc Priority', type='Task'), target=Node(id='Pspm', type='System'), type='INCLUDES'), Relationship(source=Node(id='Sdr、Vda、Pspm, Dtc Priority', type='Task'), target=Node(id='Dtc Priority', type='System'), type='INCLUDES'), Relationship(source=Node(id='Sdr、Vda、Pspm, Dtc PriorityのAa担当', type='Task'), target=Node(id='Sdr、Vda、Pspm, Dtc Priority', type='Task'), type='RESPONSIBLE_FOR'), Relationship(source=Node(id='業務部署（Gas／Xx6等）問合せ／周知', type='Task'), target=Node(id='Operationstaffmeeting', type='Meeting'), type='INQUIRY/ANNOUNCEMENT'), Relationship(source=Node(id='Operationstaffmeeting', type='Meeting'), target=Node(id='Gas展開、Adt Nissan Team週次会議', type='Meeting'), type='FOLLOW-UP'), Relationship(source=Node(id='Rhel7.9へアップデート案内にPspmが対象リストに含まれていなかった理由はAmoで問い合わせ中', type='Reason'), target=Node(id='Pspm', type='System'), type='RELATED_TO'), Relationship(source=Node(id='Amo確認待ち', type='Task'), target=Node(id='Amo', type='System'), type='WAITING_FOR_CONFIRMATION')], source=Document(page_content='進 捗 状 況 報 告 書（週報）\\n\\nシステム名\\n\\n\\t\\t\\t\\t\\t\\t\\t\\t\\t\\t\\t\\t\\t\\t\\t\\tSDR、VDA、MAC\\n\\n\\n\\n2024年6月11\\n\\n日\\n\\n報 告 期 間\\n\\n2024年6月03日 ～ 2024年6月07\\n\\n日\\n\\n作 成 者\\n\\n石岡雅紀\\n\\n当\\n\\n\\n\\n期\\n\\n\\n\\n作\\n\\n\\n\\n業\\n\\n\\n\\n実\\n\\n\\n\\n施\\n\\n工程\\n\\nSDR、VDA、PSPM, DTC Priority\\n\\n作業項目\\n\\nSDR、VDA、PSPM, DTC PriorityのAA担当\\n\\n\\n\\n赤字：待ち\\n\\n緑字：対応予定\\n\\n---------------------------------------------------------------------------------------------------\\n\\n□\\u3000業務部署（GAS／XX6等）問合せ／周知\\u3000\\u3000\\n\\n\\u3000\\u3000□05/28) OperationStaffMeeting（6件）\\n\\n\\u3000\\u3000\\u3000\\u3000\\u3000⇒■05/31) GAS展開、ADT Nissan team週次会議\\u3000\\n\\n\\u3000\\u3000\\u3000\\u3000\\u3000※RHEL7.9へアップデート案内にPSPMが対象リストに含まれていなかった理由はAMOで問い合わせ中\\n\\n\\u3000\\u3000\\u300006/04) OperationStaffMeeting（1件）\\n\\n\\u3000\\u3000\\u3000\\u3000\\u3000⇒\\u3000AMO確認待ち \\n\\n\\u3000\\u3000□GAS問', metadata={'source': '週報_（6月3日-7日_石岡）_IB3内製支援AA.docx', 'id': '57aaec63f2879ee5a36935caf9b36a0e'})),\n",
              " GraphDocument(nodes=[Node(id='Rhel7.9', type='Software'), Node(id='Pspm', type='Software'), Node(id='Amo', type='Software'), Node(id='Operationstaffmeeting', type='Meeting'), Node(id='Gas', type='Inquiry'), Node(id='Vespa', type='Inquiry'), Node(id='Okta', type='Software'), Node(id='松ケ野さん', type='Person'), Node(id='正英さん', type='Person'), Node(id='Ibx', type='Department')], relationships=[Relationship(source=Node(id='Rhel7.9', type='Software'), target=Node(id='Pspm', type='Software'), type='UPDATE'), Relationship(source=Node(id='Pspm', type='Software'), target=Node(id='Amo', type='Software'), type='NOT_INCLUDED_REASON'), Relationship(source=Node(id='Amo', type='Software'), target=Node(id='Amo', type='Software'), type='INQUIRY'), Relationship(source=Node(id='Operationstaffmeeting', type='Meeting'), target=Node(id='Amo', type='Software'), type='WAITING_CONFIRMATION'), Relationship(source=Node(id='Gas', type='Inquiry'), target=Node(id='松ケ野さん', type='Person'), type='REVIEW'), Relationship(source=Node(id='Gas', type='Inquiry'), target=Node(id='正英さん', type='Person'), type='REVIEW'), Relationship(source=Node(id='Gas', type='Inquiry'), target=Node(id='Gas', type='Inquiry'), type='DOCUMENT_COMPLETED'), Relationship(source=Node(id='Gas', type='Inquiry'), target=Node(id='Gas', type='Inquiry'), type='DOCUMENT_IN_PROGRESS'), Relationship(source=Node(id='Vespa', type='Inquiry'), target=Node(id='Ibx', type='Department'), type='DEVELOPMENT_CONFIRMATION'), Relationship(source=Node(id='Vespa', type='Inquiry'), target=Node(id='Ibx', type='Department'), type='COORDINATE_WITH_OTHER_DEPARTMENT'), Relationship(source=Node(id='Vespa', type='Inquiry'), target=Node(id='Vespa', type='Inquiry'), type='SURVEY_RECEIPT')], source=Document(page_content='※RHEL7.9へアップデート案内にPSPMが対象リストに含まれていなかった理由はAMOで問い合わせ中\\n\\n\\u3000\\u3000\\u300006/04) OperationStaffMeeting（1件）\\n\\n\\u3000\\u3000\\u3000\\u3000\\u3000⇒\\u3000AMO確認待ち \\n\\n\\u3000\\u3000□GAS問合せ（依頼：証明書期限一覧の作成）\\n\\n\\u3000\\u3000\\u3000\\u3000⇒\\u3000■04/01) 松ケ野さん、正英さんレビュー\\u3000内部向けの資料としては完了\\n\\n\\u3000\\u3000\\u3000\\u3000⇒\\u3000GAS展開用の資料作成中\\n\\n\\u3000\\u3000□VESPA問合せ（依頼：VESPAの認証方式変更\\u3000IDP⇒OKTA）\\n\\n\\u3000\\u3000\\u3000\\u3000⇒\\u3000■04/24) 保守定例内で開発案件となる方向であると確認。またIBXの他部署とも対応方針をそろえた方が良いので、情報収集が必要。\\n\\n\\u3000\\u3000\\u3000\\u3000⇒\\u3000■04/25）VESPAよりアンケートフォーム形式で対応状況の聞き取り調査のメール受領\\n\\n\\u3000\\u3000\\u3000\\u3000⇒�', metadata={'source': '週報_（6月3日-7日_石岡）_IB3内製支援AA.docx', 'id': '7af27034b83b6637cb730196ee0fa4ba'})),\n",
              " GraphDocument(nodes=[Node(id='Vespa', type='Organization'), Node(id='Ib1伊藤-3', type='Person'), Node(id='Okta', type='Organization'), Node(id='Ib3', type='Person'), Node(id='Amo', type='Organization'), Node(id='Cdg', type='Organization'), Node(id='Consult', type='Organization')], relationships=[Relationship(source=Node(id='Vespa', type='Organization'), target=Node(id='Ib1伊藤-3', type='Person'), type='ENQUIRY'), Relationship(source=Node(id='Ib1伊藤-3', type='Person'), target=Node(id='Okta', type='Organization'), type='CHANGE'), Relationship(source=Node(id='Ib3', type='Person'), target=Node(id='Amo', type='Organization'), type='CONFIRMATION'), Relationship(source=Node(id='Amo', type='Organization'), target=Node(id='Ib3', type='Person'), type='CONFIRMATION'), Relationship(source=Node(id='Ib3', type='Person'), target=Node(id='Amo', type='Organization'), type='CONFIRMATION'), Relationship(source=Node(id='Amo', type='Organization'), target=Node(id='Ib3', type='Person'), type='CONFIRMATION'), Relationship(source=Node(id='Ib3', type='Person'), target=Node(id='Cdg', type='Organization'), type='ENQUIRY'), Relationship(source=Node(id='Cdg', type='Organization'), target=Node(id='Consult', type='Organization'), type='ENQUIRY')], source=Document(page_content='�とも対応方針をそろえた方が良いので、情報収集が必要。\\n\\n\\u3000\\u3000\\u3000\\u3000⇒\\u3000■04/25）VESPAよりアンケートフォーム形式で対応状況の聞き取り調査のメール受領\\n\\n\\u3000\\u3000\\u3000\\u3000⇒\\u3000■05/09）IB1伊藤-3より、既に1月にOKTAに変更されている旨回答有り\\n\\n\\u3000\\u3000\\u3000\\u3000⇒\\u3000AMOにてIB3も対応不要で問題ないか確認中\\u3000configの修正対応？\\n\\n\\u3000\\u3000\\u3000\\u3000⇒\\u3000保守開発間で返答内容を取りまとめてアンケート回答が必要\\n\\n\\u3000\\u3000\\u3000\\u3000※接続テストの経費が必要になりそう\\n\\n\\u3000\\u3000□XX6問合せ（依頼：CDGのレスポンスの遅れにより、CONSULT側でタイムアウトする）\\n\\n\\u3000\\u3000\\u3000⇒\\u3000■05/17)\\u3000AMOと対応方針を確認：CDG側での改善は大掛かりになる、処理自体は行えているので、CONSULTのタイムアウト上限値を上げていただく方針\\n\\n\\u3000\\u3000\\u3000\\u3000 ⇒', metadata={'source': '週報_（6月3日-7日_石岡）_IB3内製支援AA.docx', 'id': '854c5deda0a0c59636d831ba709de168'})),\n",
              " GraphDocument(nodes=[Node(id='Amo', type='System'), Node(id='Cdg', type='System'), Node(id='Consult', type='Task'), Node(id='Gas', type='System'), Node(id='Cpu', type='Component'), Node(id='インフラチーム', type='Team')], relationships=[Relationship(source=Node(id='Amo', type='System'), target=Node(id='Cdg', type='System'), type='IMPROVEMENT'), Relationship(source=Node(id='Cdg', type='System'), target=Node(id='Consult', type='Task'), type='TIMEOUT_POLICY'), Relationship(source=Node(id='Amo', type='System'), target=Node(id='Gas', type='System'), type='QUESTION_PREPARATION'), Relationship(source=Node(id='Gas', type='System'), target=Node(id='Gas', type='System'), type='ADDITIONAL_QUESTIONS'), Relationship(source=Node(id='Amo', type='System'), target=Node(id='Cpu', type='Component'), type='RESPONSE_DELAY_CAUSE'), Relationship(source=Node(id='Amo', type='System'), target=Node(id='インフラチーム', type='Team'), type='INQUIRY')], source=Document(page_content='る）\\n\\n\\u3000\\u3000\\u3000⇒\\u3000■05/17)\\u3000AMOと対応方針を確認：CDG側での改善は大掛かりになる、処理自体は行えているので、CONSULTのタイムアウト上限値を上げていただく方針\\n\\n\\u3000\\u3000\\u3000\\u3000 ⇒\\u3000■05/17)\\u3000AMOでファイル準備中\\n\\n\\u3000\\u3000\\u3000\\u3000 ⇒\\u3000■05/20)\\u3000GASより追加で質問あり。明日の返答とさせていただく。\\n\\n\\u3000\\u3000\\u3000\\u3000 ⇒\\u3000■05/20)\\u3000CPUの高騰が確認でき、レスポンス遅延の原因の可能性が高い旨返信。AMOよりインフラチーム問い合わせ。\\n\\n\\u3000\\u3000 \\u3000\\u3000⇒\\u3000■05/21)\\u3000CPU高騰とエラーの分布図をGASに共有\\u30004月以前は問題が無い旨説明\\u3000またCPU高騰はアラート設定がない事を回答\\n\\n\\u3000\\u3000\\u3000\\u3000 ⇒\\u3000■05/22)\\u3000インフラチームの回答をGAS共有\"ログ削除済みで調査不可。証明書更新に伴うサーバの再起動でキャッシュクリアされたため、パフォーマンスが�', metadata={'source': '週報_（6月3日-7日_石岡）_IB3内製支援AA.docx', 'id': '8b5c5bc16c24515b90290e9c852ed4e6'})),\n",
              " GraphDocument(nodes=[Node(id='インフラチーム', type='チーム'), Node(id='Gas', type='システム'), Node(id='証明書', type='ドキュメント'), Node(id='サーバ', type='システム'), Node(id='パフォーマンス', type='概念'), Node(id='Amo', type='システム'), Node(id='Sdr', type='システム'), Node(id='ジヤトコ', type='企業'), Node(id='データ', type='情報'), Node(id='リカバリ', type='プロセス'), Node(id='大量データ', type='情報')], relationships=[Relationship(source=Node(id='インフラチーム', type='チーム'), target=Node(id='Gas', type='システム'), type='共有'), Relationship(source=Node(id='Gas', type='システム'), target=Node(id='ログ', type='ドキュメント'), type='削除'), Relationship(source=Node(id='ログ', type='ドキュメント'), target=Node(id='調査', type='プロセス'), type='不可'), Relationship(source=Node(id='サーバ', type='システム'), target=Node(id='証明書', type='ドキュメント'), type='更新'), Relationship(source=Node(id='サーバ', type='システム'), target=Node(id='パフォーマンス', type='概念'), type='低下'), Relationship(source=Node(id='Amo', type='システム'), target=Node(id='証明書', type='ドキュメント'), type='確認'), Relationship(source=Node(id='証明書', type='ドキュメント'), target=Node(id='サーバ', type='システム'), type='再起動'), Relationship(source=Node(id='Sdr', type='システム'), target=Node(id='エラー', type='情報'), type='検知'), Relationship(source=Node(id='Amo', type='システム'), target=Node(id='エラー', type='情報'), type='検知'), Relationship(source=Node(id='ジヤトコ', type='企業'), target=Node(id='データ', type='情報'), type='不備'), Relationship(source=Node(id='データ', type='情報'), target=Node(id='リカバリ', type='プロセス'), type='依頼'), Relationship(source=Node(id='データ', type='情報'), target=Node(id='大量データ', type='情報'), type='送信')], source=Document(page_content='�がない事を回答\\n\\n\\u3000\\u3000\\u3000\\u3000 ⇒\\u3000■05/22)\\u3000インフラチームの回答をGAS共有\"ログ削除済みで調査不可。証明書更新に伴うサーバの再起動でキャッシュクリアされたため、パフォーマンスが低下した可能性\"\\n\\n\\u3000\\u3000\\u3000\\u3000 ⇒\\u3000■05/29) \\u3000AMOで証明書期限の確認⇒2121年まで有効なため、インフラ環境に変更が無ければ、サンセットまで証明書更新にともなうサーバ再起動は行われない想定\\n\\n\\u3000\\u3000\\u3000\\u3000 ⇒\\u3000SDRでエラー検知可能かをAMOで確認中\\n\\n\\u3000\\u3000\\u3000■ジヤトコ問合せ（依頼：データ不備のリカバリのため、大量データ送信）\\n\\n\\u3000\\u3000\\u3000\\u3000⇒\\u3000■05/16)\\u3000約2週間かけて115万件を送信(一日の上限は10万件)する旨連絡有\\u300020日より開始\\n\\n\\u3000\\u3000\\u3000\\u3000\\u3000\\u3000⇒\\u3000■05/27)\\u3000AMOより先週の結果報告\\u3000エラーなく全件更新完', metadata={'source': '週報_（6月3日-7日_石岡）_IB3内製支援AA.docx', 'id': 'd1a96b84fc379e7b2e2a63057dc33685'})),\n",
              " GraphDocument(nodes=[Node(id='115万件', type='Number'), Node(id='10万件', type='Number'), Node(id='20日', type='Date'), Node(id='05/27', type='Date'), Node(id='06/03', type='Date'), Node(id='05/21', type='Date'), Node(id='H15 Key', type='Key'), Node(id='Amo', type='Organization'), Node(id='ジヤトコ', type='Organization'), Node(id='Sdr', type='Organization'), Node(id='Daimlerチーム', type='Organization')], relationships=[Relationship(source=Node(id='115万件', type='Number'), target=Node(id='10万件', type='Number'), type='SENT_LIMIT'), Relationship(source=Node(id='20日', type='Date'), target=Node(id='115万件', type='Number'), type='STARTED_SENDING'), Relationship(source=Node(id='Amo', type='Organization'), target=Node(id='05/27', type='Date'), type='REPORTED_RESULTS'), Relationship(source=Node(id='Amo', type='Organization'), target=Node(id='06/03', type='Date'), type='REPORTED_RESULTS'), Relationship(source=Node(id='Amo', type='Organization'), target=Node(id='ジヤトコ', type='Organization'), type='REPORTED_RESULTS'), Relationship(source=Node(id='Sdr', type='Organization'), target=Node(id='H15 Key', type='Key'), type='KEY_REGISTRATION_ERROR'), Relationship(source=Node(id='05/21', type='Date'), target=Node(id='Sdr', type='Organization'), type='KEY_REGISTRATION_ERROR'), Relationship(source=Node(id='05/21', type='Date'), target=Node(id='Amo', type='Organization'), type='INQUIRY_SENT'), Relationship(source=Node(id='Daimlerチーム', type='Organization'), target=Node(id='05/21', type='Date'), type='REPLIED'), Relationship(source=Node(id='Amo', type='Organization'), target=Node(id='Daimlerチーム', type='Organization'), type='RETRY_KEY'), Relationship(source=Node(id='Daimlerチーム', type='Organization'), target=Node(id='新しいキー', type='Key'), type='RETRY_WITH_NEW_KEY'), Relationship(source=Node(id='Amo', type='Organization'), target=Node(id='Daimlerチーム', type='Organization'), type='NO_RESPONSE')], source=Document(page_content='\\u3000約2週間かけて115万件を送信(一日の上限は10万件)する旨連絡有\\u300020日より開始\\n\\n\\u3000\\u3000\\u3000\\u3000\\u3000\\u3000⇒\\u3000■05/27)\\u3000AMOより先週の結果報告\\u3000エラーなく全件更新完了\\n\\n\\u3000\\u3000\\u3000\\u3000\\u3000\\u3000⇒\\u3000■06/03)\\u3000AMOより先週の結果報告\\u3000エラーなく全件更新完了。ジヤトコに結果報告済み。\\n\\n\\u3000\\u3000\\u3000□05/21)\\u3000SDRでのH15 Key登録エラー\\n\\n\\u3000\\u3000\\u3000\\u3000\\u3000\\u3000\\u3000⇒■05/21)\\u3000キーが使用済みという旨のエラーがログ確認されたため(5/15のログ)、AMOよりDaimlerチームに問い合わせ\\n\\n\\u3000\\u3000\\u3000\\u3000\\u3000\\u3000\\u3000⇒■05/21)\\u3000Daimlerチームより回答\"以前既にプログラミングされ、車両にリンクしたため使用済みとなっている。新しい空のキー取得が必要\"\\n\\n\\u3000\\u3000\\u3000\\u3000\\u3000\\u3000\\u3000⇒■05/21)\\u3000AMOより、Daimlerチームに新しいキーで再トライされているが、応答がなくエラー画面に', metadata={'source': '週報_（6月3日-7日_石岡）_IB3内製支援AA.docx', 'id': '7e07f6c08262d53f88a83fcc4a6f2659'})),\n",
              " GraphDocument(nodes=[Node(id='Amo', type='Organization'), Node(id='Daimler', type='Organization'), Node(id='Gas', type='Organization'), Node(id='Xx6', type='Organization'), Node(id='C4', type='Organization'), Node(id='It0', type='Organization')], relationships=[Relationship(source=Node(id='Amo', type='Organization'), target=Node(id='Daimler', type='Organization'), type='COMMUNICATION'), Relationship(source=Node(id='Daimler', type='Organization'), target=Node(id='Amo', type='Organization'), type='COMMUNICATION'), Relationship(source=Node(id='Daimler', type='Organization'), target=Node(id='Daimler', type='Organization'), type='COMMUNICATION'), Relationship(source=Node(id='Gas', type='Organization'), target=Node(id='Daimler', type='Organization'), type='COMMUNICATION'), Relationship(source=Node(id='Xx6', type='Organization'), target=Node(id='C4', type='Organization'), type='COMMUNICATION'), Relationship(source=Node(id='It0', type='Organization'), target=Node(id='It0', type='Organization'), type='COMMUNICATION')], source=Document(page_content='グされ、車両にリンクしたため使用済みとなっている。新しい空のキー取得が必要\"\\n\\n\\u3000\\u3000\\u3000\\u3000\\u3000\\u3000\\u3000⇒■05/21)\\u3000AMOより、Daimlerチームに新しいキーで再トライされているが、応答がなくエラー画面になっている旨説明\\n\\n\\u3000\\u3000\\u3000\\u3000\\u3000\\u3000\\u3000⇒■05/27)\\u3000Daimlerチームより詳細の聞き取りがあり、AMOより回答\\n\\n\\u3000\\u3000\\u3000\\u3000\\u3000\\u3000\\u3000⇒■05/28)\\u3000Daimlerチームより、一時的なエラーであり5/15以降問題ないため、再度試していただくよう返信あり\\n\\n\\u3000\\u3000\\u3000\\u3000\\u3000\\u3000\\u3000⇒■05/28)\\u3000GASよりDaimlerに再度試すように案内済み\\n\\n\\u3000\\u3000\\u3000\\u3000\\u3000\\u3000\\u3000⇒\\u3000Daimlerからの返信待ち\\n\\n□\\u3000障害\\n\\n      □\\u3000TLS1.0無効化対応\\n\\n\\u3000\\u3000\\u3000\\u3000\\u3000⇒\\u3000■05/15) XX6よりC4分のQA動確完了の連絡あり。\\n\\n\\u3000\\u3000\\u3000\\u3000\\u3000⇒\\u3000■05/15) IT0にQAの動確完了の連絡実施。\\n\\n\\u3000�', metadata={'source': '週報_（6月3日-7日_石岡）_IB3内製支援AA.docx', 'id': 'f11e0606e331d08978380d51fddf7671'})),\n",
              " GraphDocument(nodes=[Node(id='Tls1.0無効化対応', type='Task'), Node(id='Xx6', type='Task'), Node(id='C4', type='Task'), Node(id='It0', type='Task'), Node(id='オペレーションスタッフミーティング', type='Meeting'), Node(id='小林-3', type='Person'), Node(id='佐藤さん', type='Person'), Node(id='C3P', type='Task'), Node(id='Cits', type='Task'), Node(id='11/10_Pspmユーザ情報管理画面でのGd不具合', type='Issue'), Node(id='It0藤', type='Person')], relationships=[Relationship(source=Node(id='Tls1.0無効化対応', type='Task'), target=Node(id='Xx6', type='Task'), type='COMPLETION_NOTIFICATION'), Relationship(source=Node(id='Xx6', type='Task'), target=Node(id='C4', type='Task'), type='QA_CONFIRMATION'), Relationship(source=Node(id='Xx6', type='Task'), target=Node(id='It0', type='Task'), type='QA_COMPLETION_NOTIFICATION'), Relationship(source=Node(id='オペレーションスタッフミーティング', type='Meeting'), target=Node(id='6月10日(月)00:00-05:00', type='Event'), type='SCHEDULE_NOTIFICATION'), Relationship(source=Node(id='Xx6', type='Task'), target=Node(id='当日の動確', type='Task'), type='CONFIRMATION_REQUEST'), Relationship(source=Node(id='Xx6', type='Task'), target=Node(id='小林-3', type='Person'), type='NO_RESPONSE_REMINDER'), Relationship(source=Node(id='Xx6', type='Task'), target=Node(id='佐藤さん', type='Person'), type='RESPONSE_NOTIFICATION'), Relationship(source=Node(id='佐藤さん', type='Person'), target=Node(id='C3P', type='Task'), type='SUPPORT_NOTIFICATION'), Relationship(source=Node(id='C3P', type='Task'), target=Node(id='Cits', type='Task'), type='HANDLING_NOTIFICATION'), Relationship(source=Node(id='11/10_Pspmユーザ情報管理画面でのGd不具合', type='Issue'), target=Node(id='It0藤', type='Person'), type='HANDLING_NOTIFICATION')], source=Document(page_content='     □\\u3000TLS1.0無効化対応\\n\\n\\u3000\\u3000\\u3000\\u3000\\u3000⇒\\u3000■05/15) XX6よりC4分のQA動確完了の連絡あり。\\n\\n\\u3000\\u3000\\u3000\\u3000\\u3000⇒\\u3000■05/15) IT0にQAの動確完了の連絡実施。\\n\\n\\u3000\\u3000\\u3000\\u3000\\u3000⇒\\u3000■05/21) オペレーションスタッフミーティングで本番日程の周知あり：6月10日(月)00:00-05:00\\n\\n\\u3000\\u3000\\u3000\\u3000\\u3000⇒\\u3000■05/21) XX6に当日の動確を依頼\\n\\n\\u3000\\u3000\\u3000\\u3000\\u3000⇒\\u3000■05/31)\\u3000XX6小林-3に担当より返信がないため回答を依頼\\n\\n\\u3000\\u3000\\u3000\\u3000\\u3000⇒\\u3000■05/31)\\u3000XX6佐藤さんより、C3P分はCITSで対応しますが、9時までは難しく少しずれこみますの返答。\\n\\n\\u3000\\u3000\\u3000\\u3000\\u3000⇒\\u30006/10の動確完了連絡待ち\\u3000\\u3000\\n\\n\\u3000\\u3000\\u3000□\\u300011/10_PSPMユーザ情報管理画面でのGD不具合\\u3000・・・暫定対応中\\n\\n\\u3000\\u3000\\u3000\\u3000\\u3000⇒\\u3000■04/25）IT0藤', metadata={'source': '週報_（6月3日-7日_石岡）_IB3内製支援AA.docx', 'id': 'a6f7df2a4b68c19720a87e3148ba07ce'})),\n",
              " GraphDocument(nodes=[Node(id='11/10_Pspmユーザ情報管理画面でのGd不具合', type='Issue'), Node(id='04/25_It0藤沢さん', type='Person'), Node(id='Pspmアプリ', type='Application'), Node(id='Cookie', type='Data'), Node(id='05/08_松ケ野さん', type='Person'), Node(id='05/08_It0藤沢さん', type='Person'), Node(id='05/10_It0藤沢さん', type='Person'), Node(id='Ib3', type='System'), Node(id='Amo', type='System')], relationships=[Relationship(source=Node(id='11/10_Pspmユーザ情報管理画面でのGd不具合', type='Issue'), target=Node(id='04/25_It0藤沢さん', type='Person'), type='FEEDBACK'), Relationship(source=Node(id='04/25_It0藤沢さん', type='Person'), target=Node(id='Pspmアプリ', type='Application'), type='SUGGESTION'), Relationship(source=Node(id='04/25_It0藤沢さん', type='Person'), target=Node(id='Cookie', type='Data'), type='SUGGESTION'), Relationship(source=Node(id='05/08_松ケ野さん', type='Person'), target=Node(id='It0', type='Organization'), type='REQUEST'), Relationship(source=Node(id='05/08_It0藤沢さん', type='Person'), target=Node(id='It0', type='Organization'), type='REQUEST'), Relationship(source=Node(id='05/10_It0藤沢さん', type='Person'), target=Node(id='It0', type='Organization'), type='MEETING'), Relationship(source=Node(id='05/14_Ib3', type='System'), target=Node(id='Ib3', type='System'), type='DIRECTION'), Relationship(source=Node(id='05/14_Ib3', type='System'), target=Node(id='It0', type='Organization'), type='IMPLEMENTATION'), Relationship(source=Node(id='05/14_Ib3', type='System'), target=Node(id='Amo', type='System'), type='ESTIMATION')], source=Document(page_content='\\u3000\\u3000\\u3000⇒\\u30006/10の動確完了連絡待ち\\u3000\\u3000\\n\\n\\u3000\\u3000\\u3000□\\u300011/10_PSPMユーザ情報管理画面でのGD不具合\\u3000・・・暫定対応中\\n\\n\\u3000\\u3000\\u3000\\u3000\\u3000⇒\\u3000■04/25）IT0藤沢さんから返信\"PSPMアプリ側内部でいじるCookieは自アプリのCookie Nameの範囲とし、GDのCookieはそのまま返すようにする修正を検討いただけますか\"\\n\\n\\u3000\\u3000\\u3000\\u3000\\u3000⇒\\u3000■05/08）松ケ野さんより費用についてはIT0から出してもらえるか返信\\n\\n\\u3000\\u3000\\u3000\\u3000\\u3000⇒\\u3000■05/08）IT0藤沢さんより返信\"数十万円程度なら可能であるが、まずは保守業連枠で対応してください”\\n\\n\\u3000\\u3000\\u3000\\u3000\\u3000⇒\\u3000■05/10）IT0藤沢さんより14日にミーティング設定される\\n\\n\\u3000\\u3000\\u3000\\u3000\\u3000⇒\\u3000■05/14）IB3で修正を行う方向。調査についてはIB3で業連枠で実施、AMOからの見積もりが出たらIT0藤�', metadata={'source': '週報_（6月3日-7日_石岡）_IB3内製支援AA.docx', 'id': 'c901f4f58a76f40792823a3316613d24'})),\n",
              " GraphDocument(nodes=[Node(id='It0藤沢さん', type='Person'), Node(id='Ib3', type='Ib3'), Node(id='Amo', type='Amo'), Node(id='業連', type='業連'), Node(id='Qa環境', type='Qa環境'), Node(id='Is0', type='Is0'), Node(id='Vda Search', type='Vda search')], relationships=[Relationship(source=Node(id='It0藤沢さん', type='Person'), target=Node(id='Ib3', type='Ib3'), type='修正を行う'), Relationship(source=Node(id='Ib3', type='Ib3'), target=Node(id='業連', type='業連'), type='業連発行'), Relationship(source=Node(id='Ib3', type='Ib3'), target=Node(id='Qa環境', type='Qa環境'), type='検証のために一日占有'), Relationship(source=Node(id='Amo', type='Amo'), target=Node(id='It0藤沢さん', type='Person'), type='見積もり連絡'), Relationship(source=Node(id='Is0', type='Is0'), target=Node(id='Ib3', type='Ib3'), type='OKを出している'), Relationship(source=Node(id='It0藤沢さん', type='Person'), target=Node(id='Ib3', type='Ib3'), type='修正が必要な場合の費用提出'), Relationship(source=Node(id='Vda Search', type='Vda search'), target=Node(id='Vda Search', type='Vda search'), type='検索不可')], source=Document(page_content='05/10）IT0藤沢さんより14日にミーティング設定される\\n\\n\\u3000\\u3000\\u3000\\u3000\\u3000⇒\\u3000■05/14）IB3で修正を行う方向。調査についてはIB3で業連枠で実施、AMOからの見積もりが出たらIT0藤沢さんに連絡。\\n\\n\\u3000\\u3000\\u3000\\u3000\\u3000⇒\\u3000■05/14）業連発行\\n\\n\\u3000\\u3000\\u3000\\u3000\\u3000⇒\\u3000■05/30）QA環境を検証のためにIB3で一日占有したい旨を週次ミーティングで議題として確認⇒タイミングや手段を要件等\\n\\n\\u3000\\u3000\\u3000\\u3000\\u3000⇒\\u3000QA確認実施のタイミングや手段を要件等\\n\\n\\u3000\\u3000\\u3000\\u3000\\u3000※IS0がOKを出している以上、IB3側は問題ない認識。修正が必要な場合はIT0から費用を出してもらう方向。\\u3000\\u3000\\u3000\\u3000\\u3000\\n\\n\\u3000\\u3000\\u3000□3/14)VDA search検索不可\\u300011:45~15:30(03:45)\\u3000※検索中を示すプログレスバーが停止し、画面が遷移しない現象\\n\\n\\u3000\\u3000', metadata={'source': '週報_（6月3日-7日_石岡）_IB3内製支援AA.docx', 'id': '1fbb7ba30e1b092cacbd4a77f55bdded'})),\n",
              " GraphDocument(nodes=[Node(id='Vda Search', type='Task'), Node(id='Amo木村さん', type='Person'), Node(id='Gas', type='Task'), Node(id='Gas安西さん', type='Person'), Node(id='Adt Nissan Team', type='Team'), Node(id='Ib3任さん', type='Person')], relationships=[Relationship(source=Node(id='Vda Search', type='Task'), target=Node(id='Amo木村さん', type='Person'), type='CONFIRMATION'), Relationship(source=Node(id='Vda Search', type='Task'), target=Node(id='Gas', type='Task'), type='SUPPORT'), Relationship(source=Node(id='Gas', type='Task'), target=Node(id='Gas安西さん', type='Person'), type='DISCUSSION'), Relationship(source=Node(id='Gas', type='Task'), target=Node(id='Adt Nissan Team', type='Team'), type='REQUEST'), Relationship(source=Node(id='Gas', type='Task'), target=Node(id='Ib3任さん', type='Person'), type='CONSULTATION')], source=Document(page_content='0から費用を出してもらう方向。\\u3000\\u3000\\u3000\\u3000\\u3000\\n\\n\\u3000\\u3000\\u3000□3/14)VDA search検索不可\\u300011:45~15:30(03:45)\\u3000※検索中を示すプログレスバーが停止し、画面が遷移しない現象\\n\\n\\u3000\\u3000\\u3000\\u3000 ⇒\\u3000■05/08) AMO木村さん確認完了\\n\\n\\u3000\\u3000\\u3000 \\u3000⇒\\u3000■05/08) GASに対応完了報告\\n\\n\\u3000\\u3000\\u3000\\u3000 ⇒\\u3000■05/09) GAS安西さんより検索上限100件に設定されると困る旨返信あり、必要な設定である旨背景を説明\\n\\n\\u3000\\u3000\\u3000\\u3000 ⇒\\u3000■05/10) ADT Nissan team週次会議内で再度説明、検索に時間がかかっても上限を外すような修正はできないかリクエストいただく。\\n\\n\\u3000\\u3000\\u3000\\u3000 ⇒\\u3000■05/13) IB3任さんに相談\\n\\n\\u3000\\u3000\\u3000\\u3000 ⇒\\u3000■05/13) GAS安西さんに検索上限を引き上げる方向で修正を検討している旨説明、現実的な上限値について聞き取り。\\n\\n\\u3000\\u3000\\u3000\\u3000 �', metadata={'source': '週報_（6月3日-7日_石岡）_IB3内製支援AA.docx', 'id': '5a592d999d3976c1d3cc28c8ca70a1b3'})),\n",
              " GraphDocument(nodes=[Node(id='Ib3任さん', type='Person'), Node(id='Gas安西さん', type='Person'), Node(id='Amo', type='Person'), Node(id='Snowflake(Dbサーバー)', type='Database')], relationships=[Relationship(source=Node(id='Ib3任さん', type='Person'), target=Node(id='Gas安西さん', type='Person'), type='CONSULTATION'), Relationship(source=Node(id='Gas安西さん', type='Person'), target=Node(id='Ib3任さん', type='Person'), type='RESPONSE'), Relationship(source=Node(id='Ib3任さん', type='Person'), target=Node(id='Amo', type='Person'), type='REQUESTED_ACTION'), Relationship(source=Node(id='Ib3任さん', type='Person'), target=Node(id='Snowflake(Dbサーバー)', type='Database'), type='LIMIT_CHECK'), Relationship(source=Node(id='Snowflake(Dbサーバー)', type='Database'), target=Node(id='Ib3任さん', type='Person'), type='LIMIT_CONFIRMATION')], source=Document(page_content='05/13) IB3任さんに相談\\n\\n\\u3000\\u3000\\u3000\\u3000 ⇒\\u3000■05/13) GAS安西さんに検索上限を引き上げる方向で修正を検討している旨説明、現実的な上限値について聞き取り。\\n\\n\\u3000\\u3000\\u3000\\u3000 ⇒\\u3000■05/14) GAS安西さんより上限値1,000でよいと回答を頂く。\\n\\n\\u3000\\u3000\\u3000\\u3000 ⇒\\u3000■05/14) IB3任さんで設定変更完了、AMOに動作確認依頼。\\n\\n\\u3000\\u3000\\u3000\\u3000 ⇒\\u3000■05/24) ミーティングで状況確認。1,000件で実施した場合にsnowflake(DBサーバー)でSQLが長すぎてコンパイルエラーが発生。任さんに上限の件数を確認いただく。\\n\\n\\u3000\\u3000\\u3000\\u3000 ⇒\\u3000■05/27) 任さんより回答有。ECU条件ありの場合、500件。ECU条件なしの場合、200件。\\n\\n\\u3000\\u3000\\u3000\\u3000 ⇒\\u3000■05/27) 任さんに上記の上限で検索上限値を設定可能か確認\\n\\n\\u3000\\u3000\\u3000\\u3000 ⇒\\u3000■05/28) IE0衛藤さんにSnowFlakeのリソース増�', metadata={'source': '週報_（6月3日-7日_石岡）_IB3内製支援AA.docx', 'id': '5652e283751b3df4edf66fbbc7be9001'})),\n",
              " GraphDocument(nodes=[Node(id='任さん', type='Person'), Node(id='Ie0衛藤さん', type='Person'), Node(id='Snowflake', type='Resource'), Node(id='ラボスタ', type='Thread'), Node(id='Pspm Sql 本番サーバー', type='Server'), Node(id='Amo', type='Support desk')], relationships=[Relationship(source=Node(id='任さん', type='Person'), target=Node(id='任さん', type='Person'), type='SEARCH_LIMIT_CONFIRMATION'), Relationship(source=Node(id='Ie0衛藤さん', type='Person'), target=Node(id='Snowflake', type='Resource'), type='RESOURCE_ENHANCEMENT_CONSULTATION'), Relationship(source=Node(id='任さん', type='Person'), target=Node(id='任さん', type='Person'), type='RESPONSE_ON_SEARCH_LIMIT'), Relationship(source=Node(id='Ie0衛藤さん', type='Person'), target=Node(id='Amo', type='Support desk'), type='INQUIRY_INSTRUCTION'), Relationship(source=Node(id='さらに別のフォーム', type='Form'), target=Node(id='さらに別のフォーム', type='Form'), type='FURTHER_INQUIRY_INSTRUCTION'), Relationship(source=Node(id='ラボスタ', type='Thread'), target=Node(id='ラボスタ', type='Thread'), type='INQUIRY_THREAD_CREATION'), Relationship(source=Node(id='Pspm Sql 本番サーバー', type='Server'), target=Node(id='Amo', type='Support desk'), type='ALERT_REPORT')], source=Document(page_content='500件。ECU条件なしの場合、200件。\\n\\n\\u3000\\u3000\\u3000\\u3000 ⇒\\u3000■05/27) 任さんに上記の上限で検索上限値を設定可能か確認\\n\\n\\u3000\\u3000\\u3000\\u3000 ⇒\\u3000■05/28) IE0衛藤さんにSnowFlakeのリソース増強は可能か相談\\n\\n\\u3000\\u3000\\u3000\\u3000 ⇒\\u3000■05/29) 任さんより回答\"ECU条件ありの場合、500件。ECU条件なしの場合、200件。での件数制限は可能\"\\n\\n\\u3000\\u3000\\u3000\\u3000 ⇒\\u3000■05/29) IE0衛藤さんよりフォームから問い合わせるよう指示。問い合わせ実施。\\n\\n\\u3000\\u3000\\u3000\\u3000 ⇒\\u3000■05/30) さらに別のフォームから問い合わせるように返信あり。再問合せ。\\n\\n\\u3000\\u3000\\u3000\\u3000 ⇒\\u3000■05/31) ”ラボスタ”で問い合わせのスレッドが作成される\\n\\n\\u3000\\u3000\\u3000\\u3000 ⇒\\u3000担当からの回答待ち\\n\\n\\u3000\\u3000\\u3000□05/13)PSPM SQL 本番サーバーのアラート発報 (SQL Fail Over)\\n\\n\\u3000\\u3000\\u3000\\u3000\\u3000\\u3000⇒■05/13) AMOよりASP3サポートデスク問', metadata={'source': '週報_（6月3日-7日_石岡）_IB3内製支援AA.docx', 'id': 'a178cb6d793b1c035139b8834b674b6d'})),\n",
              " GraphDocument(nodes=[Node(id='Pspm Sql 本番サーバーのアラート発報', type='Issue'), Node(id='Amo', type='Supportdesk'), Node(id='Asp3サポートデスク', type='Supportdesk'), Node(id='It0木屋さん', type='Person')], relationships=[Relationship(source=Node(id='Pspm Sql 本番サーバーのアラート発報', type='Issue'), target=Node(id='Amo', type='Supportdesk'), type='SUPPORTREQUEST'), Relationship(source=Node(id='Amo', type='Supportdesk'), target=Node(id='Asp3サポートデスク', type='Supportdesk'), type='SUPPORTREQUEST'), Relationship(source=Node(id='Asp3サポートデスク', type='Supportdesk'), target=Node(id='Amo', type='Supportdesk'), type='RESPONSE'), Relationship(source=Node(id='Amo', type='Supportdesk'), target=Node(id='It0木屋さん', type='Person'), type='INFORMATIONREQUEST'), Relationship(source=Node(id='It0木屋さん', type='Person'), target=Node(id='Amo', type='Supportdesk'), type='RESPONSE'), Relationship(source=Node(id='It0木屋さん', type='Person'), target=Node(id='It0木屋さん', type='Person'), type='MEETING')], source=Document(page_content='�わせのスレッドが作成される\\n\\n\\u3000\\u3000\\u3000\\u3000 ⇒\\u3000担当からの回答待ち\\n\\n\\u3000\\u3000\\u3000□05/13)PSPM SQL 本番サーバーのアラート発報 (SQL Fail Over)\\n\\n\\u3000\\u3000\\u3000\\u3000\\u3000\\u3000⇒■05/13) AMOよりASP3サポートデスク問い合わせ\\n\\n\\u3000\\u3000\\u3000\\u3000\\u3000\\u3000⇒■05/13) ASP3サポートデスクより異常なしの回答\\n\\n\\u3000\\u3000\\u3000\\u3000\\u3000\\u3000⇒■05/13) AMOよりIT0木屋さんにPSPMのアプリ側のログでも特に異常がないため、無視できるか確認\\n\\n\\u3000\\u3000\\u3000\\u3000\\u3000\\u3000⇒■05/13) IT0木屋さんより、AMOに動作に異常が出るものではないので無視できると回答\\n\\n\\u3000\\u3000\\u3000\\u3000\\u3000\\u3000⇒■05/13) CPUの高負荷アラートも発生し、IT0木屋さんに再度問い合わせ\\n\\n\\u3000\\u3000\\u3000\\u3000\\u3000\\u3000⇒■05/13) IT0木屋さんより高負荷の要因となっているプロセスの確認を依頼される\\n\\n            ⇒■05/13) IT0木屋さんとミーティング\\u3000\\n\\n\\u3000\\u3000\\u3000\\u3000\\u3000\\u3000\\u3000\\u3000�', metadata={'source': '週報_（6月3日-7日_石岡）_IB3内製支援AA.docx', 'id': '3cd019f9f266c6cc6e0715b0b5604cf0'})),\n",
              " GraphDocument(nodes=[Node(id='It0木屋さん', type='Person'), Node(id='Cpu', type='Process'), Node(id='ログ', type='Process'), Node(id='保守ミーティング', type='Meeting'), Node(id='Amo', type='Tool'), Node(id='Pspmユーザー登録ページ', type='Page'), Node(id='Xx6', type='Person')], relationships=[Relationship(source=Node(id='It0木屋さん', type='Person'), target=Node(id='Cpu', type='Process'), type='CAUSAL_FACTOR'), Relationship(source=Node(id='It0木屋さん', type='Person'), target=Node(id='ログ', type='Process'), type='REQUESTED_LOGGING'), Relationship(source=Node(id='保守ミーティング', type='Meeting'), target=Node(id='ログ', type='Process'), type='REVIEW_LOG_CONTENTS'), Relationship(source=Node(id='アラート再発', type='Event'), target=Node(id='Amo', type='Tool'), type='INVESTIGATED_BY'), Relationship(source=Node(id='Pspmユーザー登録ページ', type='Page'), target=Node(id='Xx6', type='Person'), type='ERROR_REPORT')], source=Document(page_content='�\\n\\n\\u3000\\u3000\\u3000\\u3000\\u3000\\u3000⇒■05/13) IT0木屋さんより高負荷の要因となっているプロセスの確認を依頼される\\n\\n            ⇒■05/13) IT0木屋さんとミーティング\\u3000\\n\\n\\u3000\\u3000\\u3000\\u3000\\u3000\\u3000\\u3000\\u3000\\u3000\\u3000\\u3000\\u3000\\u3000\\u3000\\u3000⇒負荷は一時的なものであるが、CPUのログを取っていないため詳細の調査は行えない状況。⇒14日よりログ取得開始。再発時はログ内容を調査する。\\n\\n\\u3000\\u3000\\u3000\\u3000\\u3000\\u3000⇒■05/14)\\u3000保守ミーティング内で今月末までログ生成し、内容を精査。問題なければ以降ログ生成は停止する方向とした。\\n\\n\\u3000\\u3000\\u3000\\u3000\\u3000\\u3000⇒■05/22)\\u3000アラート再発。時間がかかっているクエリをAMOで調査。\\n\\n\\u3000\\u3000\\u3000\\u3000\\u3000\\u3000 ⇒\\u3000AMOからの連絡待ち(月末にログ確認)\\n\\n\\u3000\\u3000\\u3000\\u3000□05/23)\\u3000PSPMユーザー登録ページのエラー\\n\\n\\u3000\\u3000\\u3000\\u3000\\u3000\\u3000\\u3000⇒■05/23)XX6よりPSPMの�', metadata={'source': '週報_（6月3日-7日_石岡）_IB3内製支援AA.docx', 'id': 'bb23a95b09e21c78cecb0f9c54d89e08'})),\n",
              " GraphDocument(nodes=[Node(id='Pspmユーザー登録ページのエラー', type='Issue'), Node(id='Xx6', type='Person'), Node(id='Amo', type='System')], relationships=[Relationship(source=Node(id='Pspmユーザー登録ページのエラー', type='Issue'), target=Node(id='Xx6', type='Person'), type='REPORTED_BY'), Relationship(source=Node(id='Pspmユーザー登録ページのエラー', type='Issue'), target=Node(id='Amo', type='System'), type='RESOLVED_BY')], source=Document(page_content='をAMOで調査。\\n\\n\\u3000\\u3000\\u3000\\u3000\\u3000\\u3000 ⇒\\u3000AMOからの連絡待ち(月末にログ確認)\\n\\n\\u3000\\u3000\\u3000\\u3000□05/23)\\u3000PSPMユーザー登録ページのエラー\\n\\n\\u3000\\u3000\\u3000\\u3000\\u3000\\u3000\\u3000⇒■05/23)XX6よりPSPMのユーザー登録において、ファイルからデータ登録を行う際にエラーのアラートが出て登録できないと申告あり\\n\\n\\u3000\\u3000\\u3000\\u3000\\u3000\\u3000\\u3000⇒■05/23)AMOで確認し、ユーザーリクエストのチェックバッチが止まっていたため手動で再開させ登録成功を確認\\n\\n\\u3000\\u3000\\u3000\\u3000\\u3000\\u3000\\u3000⇒■05/23)XX6に対応完了を報告\\n\\n\\u3000\\u3000\\u3000\\u3000\\u3000\\u3000\\u3000⇒\\u3000AMOからの原因調査、再発防止策の返答待ち\\n\\n\\u3000□\\u3000保守関連（富士通：SDR／VDA／PSPM／DTC Priority）\\n\\n\\u3000\\u3000□Server Monitoring\\n\\n\\u3000\\u3000\\u3000\\u3000\\u3000\\u3000\\u3000なし\\n\\n\\u3000\\u3000\\u3000\\u3000\\u3000\\u3000□Server Monitoringのエラー対応\\u3000(CONSULT User Loginのエラーが頻出する\\u3000※実害なし)\\n\\n\\u3000\\u3000\\u3000', metadata={'source': '週報_（6月3日-7日_石岡）_IB3内製支援AA.docx', 'id': 'f4dc11e4c57248f989add38b9b7a16b2'})),\n",
              " GraphDocument(nodes=[Node(id='Server Monitoring', type='Service'), Node(id='Server Monitoringのエラー対応', type='Service'), Node(id='Consult User Loginのエラーが頻出する', type='Issue'), Node(id='04/24)保守定例内で開発T石川さん', type='Person'), Node(id='Rntbciのサポート開始', type='Support'), Node(id='Rntbci24時間サポート依頼', type='Service'), Node(id='05/09)\\u3000Rntbciにファイルにが2.0人月', type='Query')], relationships=[Relationship(source=Node(id='Server Monitoring', type='Service'), target=Node(id='Server Monitoringのエラー対応', type='Service'), type='ERROR_HANDLING'), Relationship(source=Node(id='Server Monitoringのエラー対応', type='Service'), target=Node(id='Consult User Loginのエラーが頻出する', type='Issue'), type='ERROR_OCCURRENCE'), Relationship(source=Node(id='Server Monitoringのエラー対応', type='Service'), target=Node(id='04/24)保守定例内で開発T石川さん', type='Person'), type='SITUATION_EXPLANATION'), Relationship(source=Node(id='Server Monitoringのエラー対応', type='Service'), target=Node(id='Rntbciのサポート開始', type='Support'), type='OPERATIONAL_HANDLING'), Relationship(source=Node(id='Rntbci24時間サポート依頼', type='Service'), target=Node(id='05/09)\\u3000Rntbciにファイルにが2.0人月', type='Query'), type='VERIFICATION')], source=Document(page_content='関連（富士通：SDR／VDA／PSPM／DTC Priority）\\n\\n\\u3000\\u3000□Server Monitoring\\n\\n\\u3000\\u3000\\u3000\\u3000\\u3000\\u3000\\u3000なし\\n\\n\\u3000\\u3000\\u3000\\u3000\\u3000\\u3000□Server Monitoringのエラー対応\\u3000(CONSULT User Loginのエラーが頻出する\\u3000※実害なし)\\n\\n\\u3000\\u3000\\u3000\\u3000\\u3000⇒\\u3000■04/24)保守定例内で開発T石川さんより状況説明あり。2回連続検知で初めてメール送信されるような改修はプロジェクト対応になる。\\n\\n\\u3000\\u3000\\u3000\\u3000\\u3000⇒\\u3000RNTBCIのサポート開始には運用で対処する（引継ぎ時に経緯を理解してもらう）\\n\\n\\u3000\\u3000\\u3000\\u3000\\u3000・費用の扱いは？⇒12月リリース時点から発生している現象\\u3000設定変更レベルなら問題ないが、改修レベルになると要相談\\n\\n\\u3000\\u3000□RNTBCI24時間サポート依頼\\n\\n\\u3000\\u3000\\u3000\\u3000\\u3000⇒\\u3000■05/09)\\u3000RNTBCIにファイルにが2.0人月と書いてあるのでどちらが正しいのか確認\\n\\n\\u3000\\u3000\\u3000\\u3000�', metadata={'source': '週報_（6月3日-7日_石岡）_IB3内製支援AA.docx', 'id': 'e8247dcdeee8187f5971fbadd861af94'})),\n",
              " GraphDocument(nodes=[Node(id='Rntbci24時間サポート依頼', type='Task'), Node(id='05/09', type='Date'), Node(id='05/10', type='Date'), Node(id='05/14', type='Date'), Node(id='05/24', type='Date'), Node(id='05/27', type='Date'), Node(id='05/28', type='Date'), Node(id='05/30', type='Date')], relationships=[Relationship(source=Node(id='Rntbci24時間サポート依頼', type='Task'), target=Node(id='05/09', type='Date'), type='SUPPORT_REQUESTED'), Relationship(source=Node(id='05/09', type='Date'), target=Node(id='Rntbci', type='Task'), type='CONFIRMATION_REQUESTED'), Relationship(source=Node(id='Rntbci', type='Task'), target=Node(id='05/09', type='Date'), type='CONFIRMATION_RECEIVED'), Relationship(source=Node(id='05/09', type='Date'), target=Node(id='Rntbci', type='Task'), type='CORRECTION_REQUESTED'), Relationship(source=Node(id='Rntbci', type='Task'), target=Node(id='05/10', type='Date'), type='CORRECTION_RECEIVED'), Relationship(source=Node(id='05/10', type='Date'), target=Node(id='Rntbci', type='Task'), type='CORRECTION_REQUESTED'), Relationship(source=Node(id='Rntbci', type='Task'), target=Node(id='05/14', type='Date'), type='CORRECTION_RECEIVED'), Relationship(source=Node(id='05/14', type='Date'), target=Node(id='塩野さん', type='Person'), type='PROJECT_NUMBER_REQUESTED'), Relationship(source=Node(id='塩野さん', type='Person'), target=Node(id='05/24', type='Date'), type='PROJECT_NUMBER_RECEIVED'), Relationship(source=Node(id='05/24', type='Date'), target=Node(id='Dr資料', type='Task'), type='DOCUMENT_CREATION'), Relationship(source=Node(id='Dr資料', type='Task'), target=Node(id='05/27', type='Date'), type='REVIEW_BY_松ケ野さん'), Relationship(source=Node(id='05/27', type='Date'), target=Node(id='松ケ野さん', type='Person'), type='REVIEW_COMPLETED'), Relationship(source=Node(id='Dr資料', type='Task'), target=Node(id='05/28', type='Date'), type='REVIEW_BY_根門さん'), Relationship(source=Node(id='05/28', type='Date'), target=Node(id='根門さん', type='Person'), type='REVIEW_COMPLETED'), Relationship(source=Node(id='Dr資料', type='Task'), target=Node(id='05/30', type='Date'), type='REVIEW_BY_藤田さん'), Relationship(source=Node(id='05/30', type='Date'), target=Node(id='藤田さん', type='Person'), type='REVIEW_COMPLETED'), Relationship(source=Node(id='Rntbci', type='Task'), target=Node(id='Kt', type='Task'), type='CONFIRMATION_REQUESTED')], source=Document(page_content='いが、改修レベルになると要相談\\n\\n\\u3000\\u3000□RNTBCI24時間サポート依頼\\n\\n\\u3000\\u3000\\u3000\\u3000\\u3000⇒\\u3000■05/09)\\u3000RNTBCIにファイルにが2.0人月と書いてあるのでどちらが正しいのか確認\\n\\n\\u3000\\u3000\\u3000\\u3000\\u3000⇒\\u3000■05/09)\\u3000RNTBCIより1.25人月が正しい旨返信あり\\n\\n\\u3000\\u3000\\u3000\\u3000\\u3000⇒\\u3000■05/10)\\u30000.75人月で対応いただけないか返信\\n\\n\\u3000\\u3000\\u3000\\u3000\\u3000⇒\\u3000■05/14)\\u3000RNTBCIより、0.75人月で対応いただける旨返信あり\\n\\n\\u3000\\u3000\\u3000\\u3000\\u3000⇒\\u3000■05/24)\\u3000塩野さんにプロジェクト番号取得いただく\\n\\n\\u3000\\u3000\\u3000\\u3000\\u3000⇒\\u3000■05/24-27)\\u3000DR資料作成\\n\\n\\u3000\\u3000\\u3000\\u3000\\u3000⇒\\u3000■05/27)\\u3000松ケ野さんレビュー実施\\n\\n\\u3000\\u3000\\u3000\\u3000\\u3000⇒\\u3000■05/28)\\u3000根門さんレビュー実施\\n\\n\\u3000\\u3000\\u3000\\u3000\\u3000⇒\\u3000■05/30)\\u3000藤田さんレビュー実施\\n\\n\\u3000\\u3000\\u3000\\u3000\\u3000⇒\\u3000■05/30)\\u3000RNTBCIにKTについて確認。7月一週に担�', metadata={'source': '週報_（6月3日-7日_石岡）_IB3内製支援AA.docx', 'id': 'a76e1ec84f8b7aeb1f82be4fc2adc742'})),\n",
              " GraphDocument(nodes=[Node(id='根門さん', type='Person'), Node(id='藤田さん', type='Person'), Node(id='Rntbci', type='Organization'), Node(id='Kt', type='Activity'), Node(id='Chakradharさん', type='Person'), Node(id='Dr', type='Activity'), Node(id='Amo', type='Activity'), Node(id='Bcv', type='Data'), Node(id='Ecu Mnemonic', type='Data'), Node(id='Vda', type='Data'), Node(id='Renault', type='Organization'), Node(id='Alliance', type='Organization')], relationships=[Relationship(source=Node(id='根門さん', type='Person'), target=Node(id='レビュー', type='Activity'), type='実施'), Relationship(source=Node(id='藤田さん', type='Person'), target=Node(id='レビュー', type='Activity'), type='実施'), Relationship(source=Node(id='Rntbci', type='Organization'), target=Node(id='Kt', type='Activity'), type='確認'), Relationship(source=Node(id='Chakradharさん', type='Person'), target=Node(id='ミーティング', type='Activity'), type='引継ぎ実施'), Relationship(source=Node(id='Dr', type='Activity'), target=Node(id='実施', type='Activity'), type='実施'), Relationship(source=Node(id='Bcv', type='Data'), target=Node(id='Ecu Mnemonic', type='Data'), type='重複'), Relationship(source=Node(id='Vda', type='Data'), target=Node(id='データ登録エラー', type='Error'), type='発生'), Relationship(source=Node(id='Renault', type='Organization'), target=Node(id='Bcvデータ', type='Data'), type='対応'), Relationship(source=Node(id='Renault', type='Organization'), target=Node(id='対応費用', type='Cost'), type='提示'), Relationship(source=Node(id='Renault', type='Organization'), target=Node(id='Bcvデータ', type='Data'), type='恒久対応')], source=Document(page_content='\\n\\n\\u3000\\u3000\\u3000\\u3000\\u3000⇒\\u3000■05/28)\\u3000根門さんレビュー実施\\n\\n\\u3000\\u3000\\u3000\\u3000\\u3000⇒\\u3000■05/30)\\u3000藤田さんレビュー実施\\n\\n\\u3000\\u3000\\u3000\\u3000\\u3000⇒\\u3000■05/30)\\u3000RNTBCIにKTについて確認。7月一週に担当のChakradharさんとミーティングで引継ぎ実施。\\n\\n\\u3000\\u3000\\u3000\\u3000\\u3000⇒\\u3000■06/05)\\u3000DR実施\\n\\n\\u3000\\u3000\\u3000\\u3000\\u3000⇒\\u30006/11\\u3000再DR予定\\n\\n\\u3000\\u3000\\u3000\\u3000\\u3000⇒\\u3000メール連絡先一覧のファイル作成\\n\\n\\u3000\\u3000\\u3000\\u3000\\u3000⇒\\u3000KT準備(AMOと内容確認、資料準備)⇒富士通側の費用は業連\\n\\n\\u3000\\u3000□\\u3000BCVデータ重複（BCVからのデータにECU Mnemonicの重複があり、VDA側でデータ登録エラー発生）※2/16から発生\\n\\n\\u3000\\u3000\\u3000\\u3000\\u3000※RenaultフォーマットとAllianceフォーマットが混在している⇒Renaultフォーマットに戻してもらうが、再発\\n\\n\\u3000\\u3000\\u3000\\u3000\\u3000⇒恒久対応\\u3000※対応費用をRenaultへ提示済\\n\\n\\u3000\\u3000\\u3000\\u3000', metadata={'source': '週報_（6月3日-7日_石岡）_IB3内製支援AA.docx', 'id': 'ee8cefce29894cc03c5515a642438aab'})),\n",
              " GraphDocument(nodes=[Node(id='Renault', type='Format'), Node(id='Alliance', type='Format'), Node(id='Amo', type='Company'), Node(id='Gas', type='Company')], relationships=[Relationship(source=Node(id='Renault', type='Format'), target=Node(id='Alliance', type='Format'), type='CONVERSION'), Relationship(source=Node(id='Renault', type='Format'), target=Node(id='Renault', type='Format'), type='REOCCURRENCE'), Relationship(source=Node(id='Renault', type='Format'), target=Node(id='Renault', type='Format'), type='PERMANENT_SOLUTION'), Relationship(source=Node(id='Renault', type='Format'), target=Node(id='Renault', type='Format'), type='COST_PRESENTED'), Relationship(source=Node(id='Renault', type='Format'), target=Node(id='Amo', type='Company'), type='ESTIMATE_REQUEST'), Relationship(source=Node(id='Amo', type='Company'), target=Node(id='Renault', type='Format'), type='MEETING_SCHEDULED'), Relationship(source=Node(id='Amo', type='Company'), target=Node(id='Renault', type='Format'), type='REESTIMATE'), Relationship(source=Node(id='Gas', type='Company'), target=Node(id='Amo', type='Company'), type='REPLY_ACCEPTED'), Relationship(source=Node(id='Gas', type='Company'), target=Node(id='Gas', type='Company'), type='MEETING_SCHEDULED'), Relationship(source=Node(id='Gas', type='Company'), target=Node(id='Gas', type='Company'), type='START_DELAYED'), Relationship(source=Node(id='Gas', type='Company'), target=Node(id='Gas', type='Company'), type='EXPLANATION')], source=Document(page_content='から発生\\n\\n\\u3000\\u3000\\u3000\\u3000\\u3000※RenaultフォーマットとAllianceフォーマットが混在している⇒Renaultフォーマットに戻してもらうが、再発\\n\\n\\u3000\\u3000\\u3000\\u3000\\u3000⇒恒久対応\\u3000※対応費用をRenaultへ提示済\\n\\n\\u3000\\u3000\\u3000\\u3000□\\u3000重複パターン\\n\\n\\u3000\\u3000\\u3000\\u3000\\u3000⇒\\u3000■05/16)\\u3000AMOより見積もり回答いただく。ソースコード修正に16時間取っている為、詳細をミーティング設定し確認\\n\\n\\u3000\\u3000\\u3000\\u3000\\u3000⇒\\u3000■05/16)\\u3000ミーティング内で想定より多くの時間を取っている為見直しをお願い\\n\\n\\u3000\\u3000\\u3000\\u3000\\u3000⇒\\u3000■05/22)\\u3000AMOより再見積もり回答あり。(16→4時間)GASに回答し、了承いただく。\\n\\n\\u3000\\u3000\\u3000\\u3000\\u3000⇒\\u3000■05/23)\\u3000GASとミーティング実施\\u3000別業連対応中のため6月からの着手になる旨説明\\n\\n\\u3000\\u3000\\u3000\\u3000\\u3000⇒\\u3000業連が複数あるため調整中\\n\\n\\u3000\\u3000\\u3000\\u3000□\\u3000XDD不正文字ありパタ\\n\\n\\u3000\\u3000\\u3000\\u3000\\u3000�', metadata={'source': '週報_（6月3日-7日_石岡）_IB3内製支援AA.docx', 'id': '85f86f8b821fd6a492f17298bdf4c8ca'})),\n",
              " GraphDocument(nodes=[Node(id='Gas', type='Activity'), Node(id='ミーティング', type='Activity'), Node(id='業連', type='Activity'), Node(id='Xdd不正文字ありパタ', type='Issue'), Node(id='石川さん', type='Person'), Node(id='Amo', type='System')], relationships=[Relationship(source=Node(id='Gas', type='Activity'), target=Node(id='ミーティング', type='Activity'), type='CONDUCTED'), Relationship(source=Node(id='業連', type='Activity'), target=Node(id='調整中', type='Activity'), type='IN_PROGRESS'), Relationship(source=Node(id='Xdd不正文字ありパタ', type='Issue'), target=Node(id='05/08', type='Date'), type='OBSERVED'), Relationship(source=Node(id='05/08', type='Date'), target=Node(id='石川さん', type='Person'), type='MENTIONED'), Relationship(source=Node(id='石川さん', type='Person'), target=Node(id='Xdd不正文字ありパタ', type='Issue'), type='RAISED_CONCERN'), Relationship(source=Node(id='Gas', type='Activity'), target=Node(id='ミーティング', type='Activity'), type='CONDUCTED'), Relationship(source=Node(id='ミーティング', type='Activity'), target=Node(id='Xdd不正文字ありパタ', type='Issue'), type='OBSERVED'), Relationship(source=Node(id='Xdd不正文字ありパタ', type='Issue'), target=Node(id='05/23', type='Date'), type='OBSERVED'), Relationship(source=Node(id='05/23', type='Date'), target=Node(id='Gas', type='Activity'), type='CONDUCTED'), Relationship(source=Node(id='Xdd不正文字ありパタ', type='Issue'), target=Node(id='バイト数', type='Measure'), type='AFFECTS'), Relationship(source=Node(id='バイト数', type='Measure'), target=Node(id='置き換え', type='Action'), type='CAUSES_ERROR'), Relationship(source=Node(id='置き換え', type='Action'), target=Node(id='バイト数', type='Measure'), type='AFFECTS'), Relationship(source=Node(id='バイト数', type='Measure'), target=Node(id='部分参照', type='Action'), type='AFFECTS'), Relationship(source=Node(id='部分参照', type='Action'), target=Node(id='エラー', type='Issue'), type='CAUSES'), Relationship(source=Node(id='エラー', type='Issue'), target=Node(id='置き換え', type='Action'), type='PREVENTS'), Relationship(source=Node(id='置き換え', type='Action'), target=Node(id='エラー', type='Issue'), type='CAUSES'), Relationship(source=Node(id='ファイル', type='Object'), target=Node(id='@', type='Character'), type='INCLUDES'), Relationship(source=Node(id='@', type='Character'), target=Node(id='ファイル', type='Object'), type='INCLUDED_IN'), Relationship(source=Node(id='ファイル', type='Object'), target=Node(id='Amo', type='System'), type='USED_FOR'), Relationship(source=Node(id='Amo', type='System'), target=Node(id='バイト数', type='Measure'), type='CHECKS'), Relationship(source=Node(id='Amo', type='System'), target=Node(id='調査結果', type='Result'), type='AWAITING')], source=Document(page_content='\\u3000GASとミーティング実施\\u3000別業連対応中のため6月からの着手になる旨説明\\n\\n\\u3000\\u3000\\u3000\\u3000\\u3000⇒\\u3000業連が複数あるため調整中\\n\\n\\u3000\\u3000\\u3000\\u3000□\\u3000XDD不正文字ありパタ\\n\\n\\u3000\\u3000\\u3000\\u3000\\u3000⇒\\u3000■05/08）保守定例ミーティング内で開発石川さんより、\"バイト数で判断して対応する項目に入れる仕組みのため、文字化け時点でバイト数が狂う可能性”を指摘される\\n\\n\\u3000\\u3000\\u3000\\u3000\\u3000⇒\\u3000■05/23)\\u3000GASとミーティング実施\\u3000不正文字の置き換えでの対応は、バイト数で部分参照を行っているため、エラーとなり置き換えできない事がある旨説明。\\n\\n\\u3000\\u3000\\u3000\\u3000\\u3000\\u3000\\u3000\\u3000\\u3000\\u3000\\u3000\\u3000\\u3000\\u3000\\u3000→取り込み実績のあるファイルに@など置き換えの文字追加し、バイト数が変わったときにエラーで拾えるかの確認をAMOで実施\\n\\n\\u3000\\u3000\\u3000\\u3000\\u3000⇒\\u3000AMOからの調査結果待', metadata={'source': '週報_（6月3日-7日_石岡）_IB3内製支援AA.docx', 'id': '1e13e4c131c7e3fb7f619b595f3eb652'})),\n",
              " GraphDocument(nodes=[Node(id='Amo', type='Task'), Node(id='Vda', type='System'), Node(id='Vda Search', type='System'), Node(id='Quality Team', type='Team'), Node(id='Ev Vehicle', type='Vehicle'), Node(id='Ice Vehicle', type='Vehicle'), Node(id='Qidea', type='System')], relationships=[Relationship(source=Node(id='Amo', type='Task'), target=Node(id='Vda', type='System'), type='CONDUCTS'), Relationship(source=Node(id='Quality Team', type='Team'), target=Node(id='Vda Search', type='System'), type='USES'), Relationship(source=Node(id='Vda', type='System'), target=Node(id='Vda Search', type='System'), type='CONNECTS'), Relationship(source=Node(id='Vda', type='System'), target=Node(id='Ev Vehicle', type='Vehicle'), type='MAPS_TO'), Relationship(source=Node(id='Vda', type='System'), target=Node(id='Ice Vehicle', type='Vehicle'), type='MAPS_TO'), Relationship(source=Node(id='Vda Search', type='System'), target=Node(id='Qidea', type='System'), type='USES')], source=Document(page_content='\\u3000\\u3000\\u3000\\u3000→取り込み実績のあるファイルに@など置き換えの文字追加し、バイト数が変わったときにエラーで拾えるかの確認をAMOで実施\\n\\n\\u3000\\u3000\\u3000\\u3000\\u3000⇒\\u3000AMOからの調査結果待ち(現時点の過去実績を確認中)\\n\\n\\u3000\\u3000\\u3000\\u3000□\\u3000VDAとVDA Searchの不一致(品質チームがVDA Searchでエンジンナンバー参照不可）\\n\\n\\u3000\\u3000\\u3000\\u3000\\u3000⇒\\u3000■04/04\\u3000正英さんより以下状況引継ぎ\\n\\n\\u3000\\u3000\\u3000\\u3000\\u3000①BCV→VDA間でEV車用のマッピングが対応されていないため、エンジンナンバーがVDA上でNULLになる問題がある\\n\\n\\u3000\\u3000\\u3000\\u3000\\u3000②しかしICE車のエンジンナンバーも参照できない状態と判明（VDAには反映有）\\n\\n\\u3000\\u3000\\u3000\\u3000\\u3000③VDA SearchのエンジンナンバーはQIDEA経由で連携されるため、ここが原因の可能性有\\n\\n\\u3000\\u3000\\u3000\\u3000\\u3000\\u3000⇒\\u3000VDA Search操作確認\\u3000ファイルを分析し、それぞれの現', metadata={'source': '週報_（6月3日-7日_石岡）_IB3内製支援AA.docx', 'id': 'bdae2e69ec8ea062686920f42904c59b'})),\n",
              " GraphDocument(nodes=[Node(id='Vda Search', type='System'), Node(id='Qidea', type='System'), Node(id='VdaのMmc/Awsサーバー増強依頼', type='Request'), Node(id='Amo', type='Organization'), Node(id='根門さん', type='Person'), Node(id='X360', type='System'), Node(id='Sdr', type='System'), Node(id='富士通Amo', type='Organization')], relationships=[Relationship(source=Node(id='Vda Search', type='System'), target=Node(id='Qidea', type='System'), type='INTEGRATION'), Relationship(source=Node(id='Vda Search', type='System'), target=Node(id='VdaのMmc/Awsサーバー増強依頼', type='Request'), type='TRIGGERED_BY'), Relationship(source=Node(id='VdaのMmc/Awsサーバー増強依頼', type='Request'), target=Node(id='Amo', type='Organization'), type='REPORTED_TO'), Relationship(source=Node(id='VdaのMmc/Awsサーバー増強依頼', type='Request'), target=Node(id='根門さん', type='Person'), type='APPROVAL_REQUESTED'), Relationship(source=Node(id='根門さん', type='Person'), target=Node(id='VdaのMmc/Awsサーバー増強依頼', type='Request'), type='APPROVAL_GIVEN'), Relationship(source=Node(id='VdaのMmc/Awsサーバー増強依頼', type='Request'), target=Node(id='根門さん', type='Person'), type='APPROVAL_RECEIVED'), Relationship(source=Node(id='VdaのMmc/Awsサーバー増強依頼', type='Request'), target=Node(id='拡張完了', type='Event'), type='COMPLETED'), Relationship(source=Node(id='X360', type='System'), target=Node(id='予算と日程の調整', type='Task'), type='ACTION_REQUIRED'), Relationship(source=Node(id='Sdr', type='System'), target=Node(id='富士通Amo', type='Organization'), type='CONTACTED_BY')], source=Document(page_content='は反映有）\\n\\n\\u3000\\u3000\\u3000\\u3000\\u3000③VDA SearchのエンジンナンバーはQIDEA経由で連携されるため、ここが原因の可能性有\\n\\n\\u3000\\u3000\\u3000\\u3000\\u3000\\u3000⇒\\u3000VDA Search操作確認\\u3000ファイルを分析し、それぞれの現象を整理\\n\\n\\u3000\\u3000\\u3000■\\u3000VDAのMMC/AWSサーバー増強依頼\\n\\n\\u3000\\u3000\\u3000\\u3000⇒\\u3000■05/16)\\u3000AMOよりMMC部分の残サイズが少なくなっている旨報告を受ける\\n\\n\\u3000\\u3000\\u3000\\u3000\\u3000\\u3000⇒\\u3000■05/16)\\u3000根門さんに承認依頼(32GB増量して、計70GB＝3年稼働できる見込み)\\n\\n\\u3000\\u3000\\u3000\\u3000⇒\\u3000■05/16)\\u3000根門さんより承認いただく\\n\\n\\u3000\\u3000\\u3000\\u3000\\u3000\\u3000⇒\\u3000■05/29)\\u3000拡張完了\\n\\n\\u3000\\u3000\\u3000□\\u3000X360\\xa0不正文字によるエラー\\n\\n\\u3000\\u3000\\u3000\\u3000\\u3000⇒\\u3000予算と日程の調整\\n\\n\\u3000\\u3000\\u3000□\\u3000SDR\\xa0ログ容量増加対応\\n\\n\\u3000\\u3000\\u3000\\u3000\\u3000⇒\\u3000■03/05）富士通AMOより連絡あり（', metadata={'source': '週報_（6月3日-7日_石岡）_IB3内製支援AA.docx', 'id': 'cffd7eb5f788c724df08981cceea5026'})),\n",
              " GraphDocument(nodes=[Node(id='X360', type='Error'), Node(id='Sdr', type='Log'), Node(id='Vdaデータ（Ie0）', type='Data'), Node(id='中国Adt-Rt MetaデータのIdpサービス利用申請', type='Service')], relationships=[Relationship(source=Node(id='X360', type='Error'), target=Node(id='予算と日程の調整', type='Adjustment'), type='ADJUSTMENT'), Relationship(source=Node(id='Sdr', type='Log'), target=Node(id='■03/05）富士通Amoより連絡あり（暫定：Zip化、恒久：検討中）', type='Contact'), type='CONTACT'), Relationship(source=Node(id='Sdr', type='Log'), target=Node(id='富士通Amoからの連絡待ち', type='Contact'), type='CONTACT'), Relationship(source=Node(id='Vdaデータ（Ie0）', type='Data'), target=Node(id='Ie0からの連絡待ち', type='Contact'), type='CONTACT'), Relationship(source=Node(id='中国Adt-Rt MetaデータのIdpサービス利用申請', type='Service'), target=Node(id='荻野さんよりAmoに引継ぎ', type='Handover'), type='HANDOVER'), Relationship(source=Node(id='荻野さんよりAmoに引継ぎ', type='Handover'), target=Node(id='■04/24)\\u3000リンさんとミーティング実施、状況聞き取り', type='Meeting'), type='MEETING'), Relationship(source=Node(id='荻野さんよりAmoに引継ぎ', type='Handover'), target=Node(id='■04/24)\\u3000Boschチームにて403エラーが解消され、正しいメタデータを用意できたら、再申請についてはIb3で行う旨返信', type='Resolution'), type='RESOLUTION')], source=Document(page_content='□\\u3000X360\\xa0不正文字によるエラー\\n\\n\\u3000\\u3000\\u3000\\u3000\\u3000⇒\\u3000予算と日程の調整\\n\\n\\u3000\\u3000\\u3000□\\u3000SDR\\xa0ログ容量増加対応\\n\\n\\u3000\\u3000\\u3000\\u3000\\u3000⇒\\u3000■03/05）富士通AMOより連絡あり（暫定：Zip化、恒久：検討中）\\n\\n\\u3000\\u3000\\u3000\\u3000\\u3000⇒\\u3000富士通AMOからの連絡待ち\\n\\n\\u3000\\u3000\\u3000□\\u3000VDAデータ（IE0）\\u3000※X360データとしして、利用許諾を前提にユーザ利用を進めることを検討している\\n\\n\\u3000\\u3000\\u3000\\u3000\\u3000⇒IE0からの連絡待ち\\n\\n\\u3000\\u3000\\u3000■\\u3000中国ADT-RT MetaデータのIdPサービス利用申請 ・・・荻野さんよりAMOに引継ぎ\\n\\n\\u3000\\u3000\\u3000\\u3000⇒\\u3000■04/24)\\u3000リンさんとミーティング実施、状況聞き取り\\n\\n\\u3000\\u3000\\u3000\\u3000⇒\\u3000■04/24)\\u3000Boschチームにて403エラーが解消され、正しいメタデータを用意できたら、再申請についてはIB3で行う旨返信\\n\\n\\u3000\\u3000\\u3000\\u3000⇒\\u3000■04/', metadata={'source': '週報_（6月3日-7日_石岡）_IB3内製支援AA.docx', 'id': '9c1cc1c4cfde40d336abdaa24a3dbe7b'})),\n",
              " GraphDocument(nodes=[Node(id='Boschチーム', type='Team'), Node(id='Ib3', type='Team'), Node(id='Gdサポートデスク', type='Team'), Node(id='Postman', type='Application'), Node(id='Xx6', type='Id'), Node(id='Vda', type='Access')], relationships=[Relationship(source=Node(id='Boschチーム', type='Team'), target=Node(id='Ib3', type='Team'), type='COMMUNICATION'), Relationship(source=Node(id='Boschチーム', type='Team'), target=Node(id='Gdサポートデスク', type='Team'), type='COMMUNICATION'), Relationship(source=Node(id='Postman', type='Application'), target=Node(id='Xx6', type='Id'), type='ACCESS'), Relationship(source=Node(id='Xx6', type='Id'), target=Node(id='Vda', type='Access'), type='DIRECTACCESS')], source=Document(page_content='ミーティング実施、状況聞き取り\\n\\n\\u3000\\u3000\\u3000\\u3000⇒\\u3000■04/24)\\u3000Boschチームにて403エラーが解消され、正しいメタデータを用意できたら、再申請についてはIB3で行う旨返信\\n\\n\\u3000\\u3000\\u3000\\u3000⇒\\u3000■04/26)\\u3000Boschチームより別件対応で現在調査がストップ中との事\\n\\n\\u3000\\u3000\\u3000\\u3000⇒\\u3000■06/04)\\u3000Boschチームより返信あり、403エラーは解消。ProdでIDP接続できないため、確認してほしい。\\n\\n\\u3000\\u3000\\u3000\\u3000⇒\\u3000■06/04)\\u3000新しいメタデータが添付されていたため、前回申請を確認し、異なるメタデータである事を確認。GDサポートデスクに修正依頼を送信。\\n\\n\\u3000\\u3000\\u3000\\u3000⇒\\u3000■06/04)\\u3000GDサポートデスクより返信、今夜対応いただけるとの事。\\n\\n\\u3000\\u3000\\u3000\\u3000⇒\\u3000■06/05)\\u3000対応完了をBoschに連絡\\n\\n\\u3000\\u3000\\u3000\\u3000□\\u3000POSTMAN対策(XX6がアプリケーション用のIDでVDAに直接アクセスしていた問題)', metadata={'source': '週報_（6月3日-7日_石岡）_IB3内製支援AA.docx', 'id': '32db0419bfec7e589dfa7bc1ea580b52'})),\n",
              " GraphDocument(nodes=[Node(id='Bosch', type='Company'), Node(id='Postman', type='Application'), Node(id='Xx6', type='Id'), Node(id='Vda', type='Team'), Node(id='Apigee', type='Team'), Node(id='Fy24', type='Year'), Node(id='Vespa Repro', type='Support'), Node(id='Amo', type='Team'), Node(id='Cgw', type='Information'), Node(id='Ip', type='Check'), Node(id='Pspm', type='Investigation')], relationships=[Relationship(source=Node(id='Bosch', type='Company'), target=Node(id='Postman', type='Application'), type='CONTACTED'), Relationship(source=Node(id='Xx6', type='Id'), target=Node(id='Vda', type='Team'), type='DIRECT_ACCESS'), Relationship(source=Node(id='Vda', type='Team'), target=Node(id='Apigee', type='Team'), type='SITUATION_CHECK'), Relationship(source=Node(id='Fy24', type='Year'), target=Node(id='Vespa Repro', type='Support'), type='SUPPORT'), Relationship(source=Node(id='Vespa Repro', type='Support'), target=Node(id='Amo', type='Team'), type='CONFIRMATION'), Relationship(source=Node(id='Fy24', type='Year'), target=Node(id='Cgw', type='Information'), type='REGISTRATION'), Relationship(source=Node(id='Cgw', type='Information'), target=Node(id='Amo', type='Team'), type='CONFIRMATION'), Relationship(source=Node(id='Fy24', type='Year'), target=Node(id='Ip', type='Check'), type='ADDITION'), Relationship(source=Node(id='Ip', type='Check'), target=Node(id='Fy24', type='Year'), type='SUPPORT'), Relationship(source=Node(id='Fy24', type='Year'), target=Node(id='Pspm', type='Investigation'), type='INVESTIGATION')], source=Document(page_content='り返信、今夜対応いただけるとの事。\\n\\n\\u3000\\u3000\\u3000\\u3000⇒\\u3000■06/05)\\u3000対応完了をBoschに連絡\\n\\n\\u3000\\u3000\\u3000\\u3000□\\u3000POSTMAN対策(XX6がアプリケーション用のIDでVDAに直接アクセスしていた問題)\\n\\n\\u3000\\u3000\\u3000\\u3000\\u3000⇒\\u3000状況確認(APIGEEチームの回答確認)\\n\\n□\\u3000業連FY24\\n\\n\\u3000\\u3000□\\u3000＜IS業連＞FY24\\u3000VESPA REPROサポート\\n\\n\\u3000\\u3000\\u3000\\u3000□\\u3000FY24\\u30006月分(6/25頃にAMOに確認)\\n\\n\\u3000\\u3000□\\u3000＜IS業連＞FY24\\u3000CGW情報開示ベンダー登録＆保守\\n\\n\\u3000\\u3000\\u3000\\u3000□\\u3000FY24\\u30006月分(6/25頃にAMOに確認)\\u3000\\u3000\\n\\n\\u3000\\u3000□\\u3000＜IS業連＞IP特性チェック追加（２バッチ修正）\\u3000※工数：63.0h予定\\n\\n\\u3000\\u3000\\u3000\\u3000⇒\\u3000FY24対応\\n\\n\\u3000  □\\u3000＜IS業連＞\\u3000PSPM Cookie影響調査\\n\\n\\u3000\\u3000\\u3000\\u3000⇒\\u3000■05/16）見積もり、作業実�', metadata={'source': '週報_（6月3日-7日_石岡）_IB3内製支援AA.docx', 'id': '16344323125cf369653b39a531bae8b7'})),\n",
              " GraphDocument(nodes=[Node(id='Pspm Cookie影響調査', type='Task'), Node(id='Bcvデータ重複対応(Vin2件)', type='Task')], relationships=[Relationship(source=Node(id='Pspm Cookie影響調査', type='Task'), target=Node(id='Bcvデータ重複対応(Vin2件)', type='Task'), type='RELATED_TASK')], source=Document(page_content='��２バッチ修正）\\u3000※工数：63.0h予定\\n\\n\\u3000\\u3000\\u3000\\u3000⇒\\u3000FY24対応\\n\\n\\u3000  □\\u3000＜IS業連＞\\u3000PSPM Cookie影響調査\\n\\n\\u3000\\u3000\\u3000\\u3000⇒\\u3000■05/16）見積もり、作業実施依頼\\n\\n\\u3000\\u3000\\u3000\\u3000⇒\\u3000富士通AMOからの連絡待ち（対応完了待ち）\\n\\n\\u3000\\u3000□\\u3000＜IS業連＞\\u3000BCVデータ重複対応(VIN2件)\\u3000\\n\\n\\u3000\\u3000\\u3000\\u3000\\u3000⇒\\u3000■05/23）GASより業連発行\\n\\n\\u3000\\u3000\\u3000\\u3000\\u3000⇒\\u3000■05/24）進捗確認\\u300027日作業\\u300028日のバッチ確認予定\\n\\n\\u3000\\u3000\\u3000\\u3000\\u3000⇒\\u3000■05/30）業連対象の2件は対応済み。追加発生分をどのように進めるか要調整。\\n\\n\\u3000\\u3000\\u3000\\u3000\\u3000⇒\\u3000恒久対応後に対象ファイルを取り込むよう進めたい。6月の業連のスケジュールをAMOと確認後にGASとミーティング。\\n\\n\\u3000\\u3000□\\u3000＜IS業�', metadata={'source': '週報_（6月3日-7日_石岡）_IB3内製支援AA.docx', 'id': 'fcff68d2076105a6a13717036f8e1cf2'})),\n",
              " GraphDocument(nodes=[Node(id='Is業連', type='Event'), Node(id='Bcvデータ重複対応(Vin3件)', type='Task'), Node(id='Gas', type='Meeting'), Node(id='Amo', type='Meeting'), Node(id='富士通Amo', type='Meeting'), Node(id='部品交換に伴うIass更新※現地対応', type='Task')], relationships=[Relationship(source=Node(id='Is業連', type='Event'), target=Node(id='Bcvデータ重複対応(Vin3件)', type='Task'), type='TASK'), Relationship(source=Node(id='Is業連', type='Event'), target=Node(id='Gas', type='Meeting'), type='MEETING'), Relationship(source=Node(id='Is業連', type='Event'), target=Node(id='Amo', type='Meeting'), type='MEETING'), Relationship(source=Node(id='Is業連', type='Event'), target=Node(id='富士通Amo', type='Meeting'), type='MEETING'), Relationship(source=Node(id='Is業連', type='Event'), target=Node(id='部品交換に伴うIass更新※現地対応', type='Task'), type='TASK')], source=Document(page_content='�のように進めるか要調整。\\n\\n\\u3000\\u3000\\u3000\\u3000\\u3000⇒\\u3000恒久対応後に対象ファイルを取り込むよう進めたい。6月の業連のスケジュールをAMOと確認後にGASとミーティング。\\n\\n\\u3000\\u3000□\\u3000＜IS業連＞\\u3000BCVデータ重複対応(VIN3件)\\u3000\\n\\n\\u3000\\u3000\\u3000\\u3000\\u3000⇒\\u3000■05/27）GASより業連発行\\n\\n\\u3000\\u3000\\u3000\\u3000\\u3000⇒\\u3000■05/30）業連対象の3件は対応済み。追加発生分をどのように進めるか要調整。\\n\\n\\u3000\\u3000\\u3000\\u3000\\u3000⇒\\u3000恒久対応後に対象ファイルを取り込むよう進めたい。6月の業連のスケジュールをAMOと確認後にGASとミーティング。\\n\\n\\u3000\\u3000\\u3000\\u3000\\u3000⇒\\u3000富士通AMOからの完了連絡待ち\\n\\n\\u3000\\u3000■\\u3000＜IS業連＞\\u3000部品交換に伴うIASS更新※現地対応 \\n\\n\\u3000\\u3000\\u3000\\u3000\\u3000⇒\\u3000■05/27)\\u3000XX6より実施計画がある旨事前連絡有\\n\\n\\u3000\\u3000�', metadata={'source': '週報_（6月3日-7日_石岡）_IB3内製支援AA.docx', 'id': 'd1830a6c655dea5c1506a5dbae9fe44c'})),\n",
              " GraphDocument(nodes=[Node(id='Is業連', type='Department'), Node(id='Iass更新', type='Activity'), Node(id='Xx6', type='Activity'), Node(id='31日', type='Date'), Node(id='05/31', type='Date'), Node(id='Dtc優先度データ', type='Data'), Node(id='Jpn All/Nae J12', type='Data'), Node(id='Gas', type='Department'), Node(id='ファイル', type='Document'), Node(id='XddのFamily Code等のVda更新', type='Activity'), Node(id='5/30', type='Date')], relationships=[Relationship(source=Node(id='Is業連', type='Department'), target=Node(id='Iass更新', type='Activity'), type='UPDATE'), Relationship(source=Node(id='Iass更新', type='Activity'), target=Node(id='Xx6', type='Activity'), type='PLAN'), Relationship(source=Node(id='Xx6', type='Activity'), target=Node(id='31日', type='Date'), type='SCHEDULED'), Relationship(source=Node(id='Xx6', type='Activity'), target=Node(id='05/31', type='Date'), type='SCHEDULED'), Relationship(source=Node(id='Is業連', type='Department'), target=Node(id='Dtc優先度データ', type='Data'), type='RELEASE'), Relationship(source=Node(id='Dtc優先度データ', type='Data'), target=Node(id='Jpn All/Nae J12', type='Data'), type='RELEASE'), Relationship(source=Node(id='Dtc優先度データ', type='Data'), target=Node(id='Gas', type='Department'), type='ISSUE'), Relationship(source=Node(id='Gas', type='Department'), target=Node(id='ファイル', type='Document'), type='RECEIVED'), Relationship(source=Node(id='Gas', type='Department'), target=Node(id='31日', type='Date'), type='DEADLINE'), Relationship(source=Node(id='Dtc優先度データ', type='Data'), target=Node(id='05/30', type='Date'), type='REQUEST'), Relationship(source=Node(id='Dtc優先度データ', type='Data'), target=Node(id='Gas', type='Department'), type='AGREEMENT'), Relationship(source=Node(id='Dtc優先度データ', type='Data'), target=Node(id='06/03', type='Date'), type='COMPLETED'), Relationship(source=Node(id='Is業連', type='Department'), target=Node(id='XddのFamily Code等のVda更新', type='Activity'), type='UPDATE'), Relationship(source=Node(id='XddのFamily Code等のVda更新', type='Activity'), target=Node(id='5/30', type='Date'), type='REQUEST'), Relationship(source=Node(id='XddのFamily Code等のVda更新', type='Activity'), target=Node(id='Gas', type='Department'), type='URGENT')], source=Document(page_content='了連絡待ち\\n\\n\\u3000\\u3000■\\u3000＜IS業連＞\\u3000部品交換に伴うIASS更新※現地対応 \\n\\n\\u3000\\u3000\\u3000\\u3000\\u3000⇒\\u3000■05/27)\\u3000XX6より実施計画がある旨事前連絡有\\n\\n\\u3000\\u3000\\u3000\\u3000\\u3000⇒\\u3000■05/28)\\u300031日実施\\n\\n\\u3000\\u3000\\u3000\\u3000\\u3000⇒\\u3000■05/31)\\u3000対応完了\\n\\n\\u3000\\u3000■\\u3000＜IS業連＞\\u3000DTC優先度データ（JPN ALL/NAE J12）リリース\\u300005/27依頼\\n\\n\\u3000\\u3000\\u3000\\u3000\\u3000⇒\\u3000■05/27)\\u3000GASよりファイル着。業連発行。31日締め切り。\\n\\n\\u3000\\u3000\\u3000\\u3000\\u3000⇒\\u3000■05/30)\\u3000別件(下記)優先のため、GAS月曜対応に同意いただく。\\n\\n\\u3000\\u3000\\u3000\\u3000\\u3000⇒\\u3000■06/03)\\u3000リリース完了\\n\\n\\u3000\\u3000■\\u3000＜IS業連＞\\u3000XDDのFamily Code等のVDA更新 5/30依頼\\n\\n\\u3000\\u3000\\u3000\\u3000\\u3000⇒\\u3000■05/30)\\u3000GASより依頼。テストが止まっているので緊急で本日対応⇒DTC Priorityは月', metadata={'source': '週報_（6月3日-7日_石岡）_IB3内製支援AA.docx', 'id': '70c5f409fc8b0a23c347c9ab700553a0'})),\n",
              " GraphDocument(nodes=[Node(id='Is業連', type='Organization'), Node(id='Xdd', type='Organization'), Node(id='Vda', type='Organization'), Node(id='Gas', type='Organization'), Node(id='Dtc', type='Organization'), Node(id='Xx6', type='Organization'), Node(id='Fy23', type='Organization'), Node(id='Vespa', type='Organization'), Node(id='Config', type='Concept'), Node(id='Amo', type='Organization')], relationships=[Relationship(source=Node(id='Is業連', type='Organization'), target=Node(id='Xdd', type='Organization'), type='VDA更新'), Relationship(source=Node(id='Gas', type='Organization'), target=Node(id='Is業連', type='Organization'), type='REQUEST'), Relationship(source=Node(id='Is業連', type='Organization'), target=Node(id='Vespa', type='Organization'), type='VESPAリプロチェック'), Relationship(source=Node(id='Vespa', type='Organization'), target=Node(id='Amo', type='Organization'), type='CONTACT'), Relationship(source=Node(id='Amo', type='Organization'), target=Node(id='Vespa', type='Organization'), type='INITIATED')], source=Document(page_content='�リリース完了\\n\\n\\u3000\\u3000■\\u3000＜IS業連＞\\u3000XDDのFamily Code等のVDA更新 5/30依頼\\n\\n\\u3000\\u3000\\u3000\\u3000\\u3000⇒\\u3000■05/30)\\u3000GASより依頼。テストが止まっているので緊急で本日対応⇒DTC Priorityは月曜に延期に同意いただく。\\n\\n\\u3000\\u3000\\u3000\\u3000\\u3000⇒\\u3000■05/30)\\u3000対応完了\\n\\n\\u3000\\u3000■\\u3000＜IS業連＞\\u3000部品交換に伴うIASS更新※現地対応 日程未定\\n\\n\\u3000\\u3000\\u3000\\u3000\\u3000⇒\\u3000■06/3)\\u3000XX6より実施計画がある旨事前連絡有。GASで業連発行\\n\\n\\u3000□\\u3000業連FY23残対応\\n\\n\\u3000\\u3000■\\u3000＜IS業連＞VESPAリプロチェック\\u3000Config対応\\u3000※工数：40.5h\\n\\n\\u3000\\u3000\\u3000\\u3000⇒\\u3000■03/11）富士通AMOに連絡（業連実施依頼）\\n\\n\\u3000\\u3000\\u3000\\u3000⇒\\u3000■04/17）富士通AMOより保守定例ミーティング内で着手した連絡有\\n\\n\\u3000\\u3000\\u3000\\u3000⇒\\u3000■05/29', metadata={'source': '週報_（6月3日-7日_石岡）_IB3内製支援AA.docx', 'id': '92f458bd9cd08ab75311ae7c90e55178'})),\n",
              " GraphDocument(nodes=[Node(id='富士通Amo', type='Organization'), Node(id='保守定例ミーティング', type='Meeting'), Node(id='リリース前レビュー', type='Review'), Node(id='本番リリース', type='Release'), Node(id='リリース後の動確完了', type='Confirmation'), Node(id='Gas報告', type='Report'), Node(id='オペレーションスタッフミーティング', type='Meeting'), Node(id='組織変更', type='Change'), Node(id='担当変更', type='Change'), Node(id='監視アラートの連絡先変更', type='Change'), Node(id='正英さん', type='Person'), Node(id='石岡', type='Person'), Node(id='未対応', type='Issue'), Node(id='メール', type='Communication')], relationships=[Relationship(source=Node(id='富士通Amo', type='Organization'), target=Node(id='保守定例ミーティング', type='Meeting'), type='INITIATED'), Relationship(source=Node(id='保守定例ミーティング', type='Meeting'), target=Node(id='リリース前レビュー', type='Review'), type='INITIATED'), Relationship(source=Node(id='リリース前レビュー', type='Review'), target=Node(id='本番リリース', type='Release'), type='INITIATED'), Relationship(source=Node(id='本番リリース', type='Release'), target=Node(id='リリース後の動確完了', type='Confirmation'), type='COMPLETED'), Relationship(source=Node(id='リリース後の動確完了', type='Confirmation'), target=Node(id='Gas報告', type='Report'), type='GENERATED'), Relationship(source=Node(id='オペレーションスタッフミーティング', type='Meeting'), target=Node(id='組織変更', type='Change'), type='ANNOUNCED'), Relationship(source=Node(id='組織変更', type='Change'), target=Node(id='担当変更', type='Change'), type='IMPLEMENTED'), Relationship(source=Node(id='担当変更', type='Change'), target=Node(id='監視アラートの連絡先変更', type='Change'), type='REQUESTED'), Relationship(source=Node(id='監視アラートの連絡先変更', type='Change'), target=Node(id='石岡', type='Person'), type='CHANGED'), Relationship(source=Node(id='富士通Amo', type='Organization'), target=Node(id='状況確認', type='Communication'), type='REQUESTED'), Relationship(source=Node(id='状況確認', type='Communication'), target=Node(id='未対応', type='Issue'), type='CONFIRMED'), Relationship(source=Node(id='未対応', type='Issue'), target=Node(id='本日実施', type='Action'), type='SCHEDULED'), Relationship(source=Node(id='正英さん', type='Person'), target=Node(id='富士通Amo', type='Organization'), type='COMMUNICATION'), Relationship(source=Node(id='正英さん', type='Person'), target=Node(id='メール', type='Communication'), type='REPORTED')], source=Document(page_content='⇒\\u3000■03/11）富士通AMOに連絡（業連実施依頼）\\n\\n\\u3000\\u3000\\u3000\\u3000⇒\\u3000■04/17）富士通AMOより保守定例ミーティング内で着手した連絡有\\n\\n\\u3000\\u3000\\u3000\\u3000⇒\\u3000■05/29）リリース前レビュー\\n\\n\\u3000\\u3000\\u3000\\u3000⇒\\u3000■06/04）本番リリース\\n\\n\\u3000\\u3000\\u3000\\u3000⇒\\u3000■06/10）リリース後の動確完了\\u3000AMOよりGAS報告\\n\\n□\\u3000その他\\n\\n\\u3000\\u3000□\\u300004/03) オペレーションスタッフミーティング内で周知のあった組織変更に伴う担当変更を実施\\n\\n\\u3000\\u3000\\u3000\\u3000・監視アラートの連絡先変更（正英さん⇒石岡への変更）\\n\\n\\u3000\\u3000\\u3000\\u3000⇒\\u3000AMO依頼済み\\n\\n\\u3000\\u3000\\u3000\\u3000⇒\\u3000■04/23）AMOに状況確認、未対応のため本日実施との事\\n\\n\\u3000\\u3000\\u3000\\u3000⇒\\u3000■05/13）正英さんよりAMOに未だにメールが届く旨連絡\\n\\n\\u3000\\u3000\\u3000\\u3000⇒�', metadata={'source': '週報_（6月3日-7日_石岡）_IB3内製支援AA.docx', 'id': '67465599315cbd7160dbeb61e2462a1f'})),\n",
              " GraphDocument(nodes=[Node(id='Amo', type='Entity'), Node(id='正英さん', type='Person'), Node(id='木屋さん', type='Person'), Node(id='富士通Amo', type='Entity'), Node(id='Absol', type='Entity')], relationships=[Relationship(source=Node(id='Amo', type='Entity'), target=Node(id='正英さん', type='Person'), type='CONTACT'), Relationship(source=Node(id='Amo', type='Entity'), target=Node(id='木屋さん', type='Person'), type='FOLLOW_UP'), Relationship(source=Node(id='Amo', type='Entity'), target=Node(id='富士通Amo', type='Entity'), type='CONTACT'), Relationship(source=Node(id='Absol', type='Entity'), target=Node(id='Amo', type='Entity'), type='CONTACT')], source=Document(page_content='�み\\n\\n\\u3000\\u3000\\u3000\\u3000⇒\\u3000■04/23）AMOに状況確認、未対応のため本日実施との事\\n\\n\\u3000\\u3000\\u3000\\u3000⇒\\u3000■05/13）正英さんよりAMOに未だにメールが届く旨連絡\\n\\n\\u3000\\u3000\\u3000\\u3000⇒\\u3000■05/14）AMOより木屋さんにフォローアップ\\n\\n\\u3000\\u3000\\u3000\\u3000⇒\\u3000富士通AMOからの連絡待ち\\n\\n\\xa0\\n\\n\\u3000\\u3000\\u3000□ABSOLのAMO追加\\n\\n\\u3000\\u3000\\u3000\\u3000\\u3000⇒\\u3000■06/06）申請のExcelを埋めて依頼メール送信\\n\\n\\u3000\\u3000\\u3000\\u3000\\u3000⇒反映待ち\\n\\n\\u3000\\u3000\\u3000\\u3000\\u3000\\u3000\\u3000\\u3000\\n\\n＊連絡事項＊\\n\\n\\u3000\\u3000\\u3000\\u3000なし\\n\\n\\n\\n\\n\\n\\n\\n連絡：（自社へ）\\n\\nなし\\n\\nVer1.0', metadata={'source': '週報_（6月3日-7日_石岡）_IB3内製支援AA.docx', 'id': '882ceea923ecaef6be1a35ab465aa226'}))]"
            ]
          },
          "metadata": {},
          "execution_count": 90
        }
      ]
    }
  ]
}